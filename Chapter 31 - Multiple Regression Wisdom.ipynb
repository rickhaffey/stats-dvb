{
 "cells": [
  {
   "cell_type": "markdown",
   "metadata": {},
   "source": [
    "# Chapter 31 - Multiple Regression Wisdom"
   ]
  },
  {
   "cell_type": "markdown",
   "metadata": {},
   "source": [
    "## Indicators\n",
    "\n",
    "* when we have a situation with roughly parallel regressions for cases in and out of a given group, we make a special variable that _indicates_ whether or not a case belongs to the given group, giving it a 1 for inclusion in the group, and 0 for exclusion from the group\n",
    "* such varaibles are called **indicator variables** or _indicators_\n",
    "* also referred to as _dummy variables_"
   ]
  },
  {
   "cell_type": "markdown",
   "metadata": {},
   "source": [
    "## Adjusting for Different Slopes\n",
    "\n",
    "* adjust slopes with a constructed variable\n",
    "* _product_ of an indicator for one group and predictor variable\n",
    "* **interaction term**\n",
    "* provides an adjustment to the slope to be made for the individuals in the indicated group"
   ]
  },
  {
   "cell_type": "markdown",
   "metadata": {},
   "source": [
    "## Diagnosing Regression Models: Looking at the Cases"
   ]
  },
  {
   "cell_type": "markdown",
   "metadata": {},
   "source": [
    "## Leverage\n",
    "\n",
    "* the **leverage** of a case measures its ability to move the regression model all by itself by just moving in the $y$ direction\n",
    "* if we keep everything else the same, change the $y$-value of the case by 1.0, and find a new regression, the leverage of that case is the amount by which the _predicted_ value at that case would change"
   ]
  },
  {
   "cell_type": "markdown",
   "metadata": {},
   "source": [
    "## Residuals and Standardized Residuals"
   ]
  },
  {
   "cell_type": "markdown",
   "metadata": {},
   "source": [
    "## Influential Cases\n",
    "\n",
    "* a case that has both high leverage and large Studentized residuals is likely to have changed the regression model substantially all by itself\n",
    "* such a case is said to be **influential**"
   ]
  },
  {
   "cell_type": "markdown",
   "metadata": {},
   "source": [
    "## Step-by-Step Example: Diagnosing a Multiple Regression\n",
    "\n",
    "* Variables: \n",
    "  - name the variables\n",
    "  - report the W's\n",
    "  - specify the questions of interest\n",
    "* Plot\n",
    "* Plan\n",
    "  - think about the assumptions and check the conditions\n",
    "  - choose your method\n",
    "* Mechanics\n",
    "* Interpretation\n",
    "* Diagnosis\n",
    "* Leverage\n",
    "* Residuals\n",
    "  - consider recomputing the regression model after removing high leverage cases"
   ]
  },
  {
   "cell_type": "markdown",
   "metadata": {},
   "source": [
    "## Diagnosis Wrap-Up"
   ]
  },
  {
   "cell_type": "markdown",
   "metadata": {},
   "source": [
    "## The Best Multiple Regression Model\n",
    "\n",
    "* characteristics:\n",
    "  * relatively few predictors \n",
    "  * relativley high $R^2$\n",
    "  * relatively small $s$\n",
    "  * relativley small P-Values for the $F$- and $t$- statistics\n",
    "  * no cases with extraordinarily high leverage\n",
    "  * no cases with extraordinarily large residuals\n",
    "  * predictors that are reliably measured and relatively unrelated to each other"
   ]
  },
  {
   "cell_type": "markdown",
   "metadata": {},
   "source": [
    "## Seeking Multiple Regression Models Automatically\n",
    "\n",
    "* **stepwise regression**: at each step, a predictor is either added to or removed from the model;\n",
    "  * the predictor chosen to add is the one whose addition increases $R^2$ the most\n",
    "  * the predictor chosen to remove is the one whose removal decreases $R^2$ the least"
   ]
  },
  {
   "cell_type": "markdown",
   "metadata": {},
   "source": [
    "## Building Multiple Regression Models"
   ]
  },
  {
   "cell_type": "markdown",
   "metadata": {},
   "source": [
    "## Step-by-Step Example: Building Multiple Regression Models\n",
    "\n",
    "* Variables: \n",
    "  - name the variables\n",
    "  - report the W's\n",
    "  - specify the questions of interest\n",
    "* Plot\n",
    "* Plan\n",
    "  - think about the assumptions and check the conditions\n",
    "  - choose your method\n",
    "* Mechanics\n",
    "  - for model building, look at the P-values only as general indicators of how much a predictor contributes to the model\n",
    "  - don't remove more than one predictor at a time\n",
    "* Interpretation"
   ]
  },
  {
   "cell_type": "markdown",
   "metadata": {},
   "source": [
    "## Regression Roles\n",
    "\n",
    "* we build regression models for a number of reasons\n",
    "* one reason is to model how variables are related to each other\n",
    "  - simple model is often preferred in this case\n",
    "  - usually focus on $t$-statistics over $R^2$\n",
    "* another is to have a model that can be used to predict values for a response when given a set of predictors\n",
    "  - usually care more about overall $R^2$"
   ]
  },
  {
   "cell_type": "markdown",
   "metadata": {},
   "source": [
    "## *Indicators for Three or More Levels"
   ]
  },
  {
   "cell_type": "markdown",
   "metadata": {},
   "source": [
    "## Collinearity\n",
    "\n",
    "* when two or more predictors are linearly related, they are said to be **collinear**"
   ]
  },
  {
   "cell_type": "markdown",
   "metadata": {},
   "source": [
    "## What Can Go Wrong?\n",
    "\n",
    "* beware of collinearities\n",
    "* don't check for cllinearity only by looking at pairwise correlations\n",
    "* don't be fooled when high-influence points and cllinearity show up together\n",
    "* beware missing data\n",
    "* remember linearity\n",
    "  - the linearity assumptions / straight enough condition\n",
    "* check for parallel regression lines  "
   ]
  }
 ],
 "metadata": {
  "kernelspec": {
   "display_name": "Python 3",
   "language": "python",
   "name": "python3"
  },
  "language_info": {
   "codemirror_mode": {
    "name": "ipython",
    "version": 3
   },
   "file_extension": ".py",
   "mimetype": "text/x-python",
   "name": "python",
   "nbconvert_exporter": "python",
   "pygments_lexer": "ipython3",
   "version": "3.5.2"
  }
 },
 "nbformat": 4,
 "nbformat_minor": 2
}
