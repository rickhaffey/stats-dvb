{
 "cells": [
  {
   "cell_type": "markdown",
   "metadata": {},
   "source": [
    "# Chapter 26 - Comparing Counts"
   ]
  },
  {
   "cell_type": "markdown",
   "metadata": {},
   "source": [
    "## Goodness-of-Fit\n",
    "\n",
    "* How closely do a set of observed numbers (counts) across groups fit a \"null\" model of the expected numbers across those groups.\n",
    "  * e.g. How closely does the set of numbers fit the proposed model that counts are uniformly distributed across groups?\n",
    "* **goodness-of-fit** test: a hypothesis test to adress this question"
   ]
  },
  {
   "cell_type": "markdown",
   "metadata": {},
   "source": [
    "## Assumptions and Conditions\n",
    "\n",
    "* **Counted Data Condition**: data must be _counts_ for the categories of a categorical variable\n",
    "\n",
    "### Independence Assumption\n",
    "\n",
    "* the counts in the cell should be independent of each other\n",
    "* **Randomization Condition**: the individuals who have been counted should be a random sample from the population of interest\n",
    "\n",
    "### Sample Size Assumption\n",
    "\n",
    "* **Expected Cell Frequency Condition**: we should expect to see at least 5 individuals in each cell"
   ]
  },
  {
   "cell_type": "markdown",
   "metadata": {},
   "source": [
    "## Calculations\n",
    "\n",
    "The test statistic, called the **chi-square statistic**, is found by adding up the sum of the squares of the deviations between the observed and expected counts divided by the expected counts:\n",
    "\n",
    "\\begin{equation}\n",
    "\\chi^2 = \\sum_{\\text{all cells}}{\\frac{  (Obs - Exp)^2  }{  Exp }}\n",
    "\\end{equation}\n",
    "\n",
    "* $\\chi^2$ refers to a family of sampling distribution models, **chi-square models**\n",
    "* The family of models differ in the number of degrees of freedom\n",
    "  * For goodness of fit, $df = n - 1$"
   ]
  },
  {
   "cell_type": "markdown",
   "metadata": {},
   "source": [
    "## Chi-Square P-Values"
   ]
  },
  {
   "cell_type": "markdown",
   "metadata": {},
   "source": [
    "## Step-by-Step Example : A Chi-Square Test for Goodness-of-Fit\n",
    "\n",
    "* Plan: \n",
    "  * State what you want to know.\n",
    "  * Identify the variables and check the W's\n",
    "* Hypotheses:\n",
    "  * State the null and alternative hypotheses.  \n",
    "  * For $\\chi^2$ tests, it's usually easier to do that in words than in symbols.\n",
    "* Model:\n",
    "  * Make a picture; a bar chart is a good display\n",
    "  * Think about the assumptions and check the conditions\n",
    "  * Specify the sampling distribution model\n",
    "  * Name the test you will use\n",
    "* Mechanics:\n",
    "  * Each cell contributes an $\\frac{(Obs - Exp)^2}{Exp}$ value to the chi-square sum.\n",
    "  * Add up these components\n",
    "  * Determine the P-value\n",
    "* Conclusion:\n",
    "  * Link the P-value to your decision.\n",
    "  * State your conclusion in terms of what the data mean"
   ]
  },
  {
   "cell_type": "markdown",
   "metadata": {},
   "source": [
    "## The Chi-Square Calculation\n",
    "\n",
    "1. Find the expected value\n",
    "2. Compute the residuals\n",
    "3. Square the residuals\n",
    "4. Compute the components\n",
    "5. Find the sum of components\n",
    "6. Find the degrees of freedom\n",
    "7. Test the hypothesis"
   ]
  },
  {
   "cell_type": "markdown",
   "metadata": {},
   "source": [
    "## But I Believe the Model...\n",
    "\n",
    "* We can never confirm that a theory (i.e. the null hypothesis) is in fact true."
   ]
  },
  {
   "cell_type": "markdown",
   "metadata": {},
   "source": [
    "## Comparing Observed Distributions\n",
    "\n",
    "* **two-way table**\n",
    "* The z-test for two proportions generalizes to a **chi-square test of homogeneity**"
   ]
  },
  {
   "cell_type": "markdown",
   "metadata": {},
   "source": [
    "## Assumptions and Conditions\n",
    "\n",
    "* **Counted Data Condition**: data must be counts\n",
    "* often aren't interested in generalization, so don't need to check **Randomization Condition** or **10% Condition**\n",
    "* **Expected Cell Frequency Condition**: expected count in each cell must be at least 5"
   ]
  },
  {
   "cell_type": "markdown",
   "metadata": {},
   "source": [
    "## Calculations\n",
    "\n",
    "* degrees of freedom: $df = (rowCount - 1)(columnCount - 1)$"
   ]
  },
  {
   "cell_type": "markdown",
   "metadata": {},
   "source": [
    "## Step-by-Step Example: A Chi-Square Test for Homogeneity\n",
    "\n",
    "* Plan: \n",
    "  * State what you want to know.\n",
    "  * Identify the variables and check the W's\n",
    "* Hypotheses:\n",
    "  * State the null and alternative hypotheses.  \n",
    "* Model:\n",
    "  * Make a picture; a side-by-side or split bar chart is a good display\n",
    "  * Think about the assumptions and check the conditions\n",
    "  * Specify the sampling distribution model\n",
    "  * Name the test you will use\n",
    "* Mechanics:\n",
    "  * Show the expected counts for each cell fo the table\n",
    "  * Put both observed and expected counts in each cell of table (or in separate tables)\n",
    "  * Calculate $\\chi^2$\n",
    "* Conclusion:\n",
    "  * State your conclusion in terms of what the data mean\n",
    "  * Specifically talk about whether the distributions for the groups appear to be different"
   ]
  },
  {
   "cell_type": "markdown",
   "metadata": {},
   "source": [
    "## Examining the Residuals\n",
    "\n",
    "* To standardize a cell's residual, we just divide by the square root of its expected value:\n",
    "\n",
    "\\begin{equation}\n",
    "c = \\frac{ (Obs - Exp)  }{ \\sqrt{Exp}  }\n",
    "\\end{equation}\n",
    "\n",
    "* Notice that these **standardized residuals** are just the square root of the **components** we calculated for each cell, and their sign indicates whether we observed more, or fewer, cases than we expected."
   ]
  },
  {
   "cell_type": "markdown",
   "metadata": {},
   "source": [
    "## Independence\n",
    "\n",
    "* looks at data that categorizes subjects from a single group on two categorical variables\n",
    "* **contingency tables** categorize counts on two (or more) variables\n",
    "* calls for a **chi-square test for independence**"
   ]
  },
  {
   "cell_type": "markdown",
   "metadata": {},
   "source": [
    "## Assumptions and Conditions\n",
    "\n",
    "* expected values must be at least 5 in each cell\n",
    "* check that data are representative:\n",
    "  * random sample\n",
    "  * fewer than 10% of population"
   ]
  },
  {
   "cell_type": "markdown",
   "metadata": {},
   "source": [
    "## Step-by-Step Example: A Chi-Square Test for Independence\n",
    "\n",
    "* Plan:\n",
    "  * State what you want to know.\n",
    "  * Identify the variables and check the W's\n",
    "* Hypotheses:\n",
    "  * State the null and alternative hypotheses.\n",
    "* Model:\n",
    "  * Make a picture: simple bar chart\n",
    "  * Think about the assumptions and check the conditions\n",
    "  * Warning: Be wary of proceeding when there are small expected counts.\n",
    "  * Specify the model\n",
    "  * Name the test you will use\n",
    "* Mechanics:\n",
    "  * Calculate $\\chi^2$\n",
    "* Conclusion:\n",
    "  * Link the P-value to your decision\n",
    "  * State your conclusion about the independence of the variables"
   ]
  },
  {
   "cell_type": "markdown",
   "metadata": {
    "collapsed": true
   },
   "source": [
    "## Examine the Residuals"
   ]
  },
  {
   "cell_type": "markdown",
   "metadata": {},
   "source": [
    "## Chi-Square and Causation"
   ]
  },
  {
   "cell_type": "markdown",
   "metadata": {},
   "source": [
    "## What Can Go Wrong?\n",
    "\n",
    "* Don't use chi-square methods unless you have counts\n",
    "* Beware large samples\n",
    "* Don't say that one variable \"depends\" on the other just because they're not independent"
   ]
  },
  {
   "cell_type": "markdown",
   "metadata": {},
   "source": [
    "## What Have We Learned?\n",
    "\n",
    "* [p. 653-5 P]"
   ]
  },
  {
   "cell_type": "code",
   "execution_count": null,
   "metadata": {
    "collapsed": true
   },
   "outputs": [],
   "source": []
  }
 ],
 "metadata": {
  "kernelspec": {
   "display_name": "Python 3",
   "language": "python",
   "name": "python3"
  },
  "language_info": {
   "codemirror_mode": {
    "name": "ipython",
    "version": 3
   },
   "file_extension": ".py",
   "mimetype": "text/x-python",
   "name": "python",
   "nbconvert_exporter": "python",
   "pygments_lexer": "ipython3",
   "version": "3.5.2"
  }
 },
 "nbformat": 4,
 "nbformat_minor": 2
}
