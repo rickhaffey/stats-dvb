{
 "cells": [
  {
   "cell_type": "markdown",
   "metadata": {},
   "source": [
    "# Chapter 17 - Probability Models"
   ]
  },
  {
   "cell_type": "markdown",
   "metadata": {},
   "source": [
    "## Bernoulli Trials\n",
    "\n",
    "* there are only two possible outcomes (e.g. success & failure)\n",
    "* the probability of success (denoted $p$) is the same on every trial\n",
    "* trials are independent"
   ]
  },
  {
   "cell_type": "markdown",
   "metadata": {},
   "source": [
    "## The Geometric Model\n",
    "\n",
    "* **Geometric probability model**: models the number of trials ($X$) it will take to achieve the first success in a series of Bernoulli trials\n",
    "* completely specified by one parameter: $p$, the probability of success\n",
    "  * note that $q$ is the probability of failure, i.e. $1 - p$\n",
    "* denoted $Geom(p)$\n",
    "\n",
    "\\begin{equation}\n",
    "P(X = x) = q^{x-1}p\n",
    "\\end{equation}\n",
    "\n",
    "* Expected Value:\n",
    "\n",
    "\\begin{equation}\n",
    "E(X) = \\mu = \\frac{1}{p}\n",
    "\\end{equation}\n",
    "\n",
    "* Standard Deviation:\n",
    "\n",
    "\\begin{equation}\n",
    "\\sigma = \\sqrt{\\frac{q}{p^2}}\n",
    "\\end{equation}"
   ]
  },
  {
   "cell_type": "markdown",
   "metadata": {},
   "source": [
    "## Independence\n",
    "\n",
    "* The **10% condition**: Benoulli trials must be independent.  If that assumption is violated, it is still okay to proceed as long as the sample is smaller than 10% of the population."
   ]
  },
  {
   "cell_type": "markdown",
   "metadata": {},
   "source": [
    "## Step-by-Step Example: Working with a Geometric Model\n",
    "\n",
    "* Plan: state the question; check to see that the trials are Benoulli trials\n",
    "* Variable: define the random variable\n",
    "* Model: specify the model\n",
    "* Mechanics: find the mean\n",
    "* Conclusion: Interpret your results"
   ]
  },
  {
   "cell_type": "markdown",
   "metadata": {},
   "source": [
    "## The Binomial Model\n",
    "\n",
    "* A **Binomial probability model** models the number of successes ($X$) that will occur in $n$ trials.\n",
    "* It takes two parameters: \n",
    "  * the number of trials, $n$\n",
    "  * the probability of success, $p$\n",
    "    * note that $q$ is the probability of failure, i.e. $1 - p$\n",
    "* Denoted: $Binom(n,p)$  \n",
    "\n",
    "\\begin{equation}\n",
    "P(X = x) = {}_{n}C_xp^xq^{n-x}\\text{, where }{}_{n}C_x = \\frac{n!}{x!(n-x)!}\n",
    "\\end{equation}\n",
    "\n",
    "* Mean:\n",
    "\n",
    "\\begin{equation}\n",
    "\\mu = np\n",
    "\\end{equation}\n",
    "\n",
    "* Standard Deviation:\n",
    "\n",
    "\\begin{equation}\n",
    "\\sigma = \\sqrt{npq}\n",
    "\\end{equation}"
   ]
  },
  {
   "cell_type": "markdown",
   "metadata": {},
   "source": [
    "## Step-by-Step Example: Working with a Binomial Model\n",
    "\n",
    "* Plan: state the question; check to see that the trials are Bernoulli trials\n",
    "* Variable: define the random variable\n",
    "* Model: specify the model\n",
    "* Mechanics: find the expected value and standard deviation\n",
    "* Conclusion: interpret your results in context"
   ]
  },
  {
   "cell_type": "markdown",
   "metadata": {},
   "source": [
    "## The Normal Model to the Rescue!\n",
    "\n",
    "* **the success/failure condition**: a Binomial model is approximately Normal if we expect at least 10 successes and 10 failures\n",
    "\n",
    "\\begin{equation}\n",
    "np \\ge 10 \\text{ and } nq \\ge 10\n",
    "\\end{equation}"
   ]
  },
  {
   "cell_type": "markdown",
   "metadata": {},
   "source": [
    "## Continuous Random Variables\n",
    "\n",
    "* The Binomial is discrete, giving probabilities for specific counts, but the Normal models a **continuous random variable** that can take on *any value*.  For continuous random variables, we can no longer list all the possible outcomes and their probabilities, as we could for discrete random variables."
   ]
  },
  {
   "cell_type": "markdown",
   "metadata": {},
   "source": [
    "## The Poisson Model\n",
    "\n",
    "* The **Poisson model** models the counts of occurrences when  the events are independent and the mean number of occurrences stay constant for the duration of the data collection.\n",
    "\n",
    "* $\\lambda$: mean number of successes\n",
    "* $X$: number of successes\n",
    "\n",
    "\\begin{equation}\n",
    "P(X = x) = \\frac{e^{-\\lambda}\\lambda^x}{x!}\n",
    "\\end{equation}\n",
    "\n",
    "* Expected Value:\n",
    "\n",
    "\\begin{equation}\n",
    "E(X) = \\lambda\n",
    "\\end{equation}\n",
    "\n",
    "* Standard Deviation:\n",
    "\n",
    "\\begin{equation}\n",
    "SD(X) = \\sqrt{\\lambda}\n",
    "\\end{equation}\n",
    "\n",
    "* The Poisson model is a reasonably good approximation of the Binomial when $n \\ge 20$ with $p \\le 0.05$ or $n \\ge 100$ with $p \\le 0.10$."
   ]
  },
  {
   "cell_type": "markdown",
   "metadata": {
    "collapsed": true
   },
   "source": [
    "## The Exponential Model\n",
    "\n",
    "* The **Exponential model** can be used to model the time _between_ the occurrence of events when the events are independent and the mean number of occurrences stay constant for the duration of the data collection.\n",
    "\n",
    "\\begin{equation}\n",
    "f(x) = \\lambda{}e^{-\\lambda{}x} \\text{ for }x \\ge 0 \\text{ and } \\lambda \\gt 0\n",
    "\\end{equation}"
   ]
  },
  {
   "cell_type": "markdown",
   "metadata": {},
   "source": [
    "## What Can Go Wrong?\n",
    "\n",
    "* Be sure you have Bernoulli trials\n",
    "* Don't confuse Geometric and Binomial models\n",
    "* Don't use the Normal approximation with small $n$"
   ]
  },
  {
   "cell_type": "markdown",
   "metadata": {},
   "source": [
    "## What Have We Learned\n",
    "\n",
    "* [p. 418]"
   ]
  }
 ],
 "metadata": {
  "kernelspec": {
   "display_name": "Python 3",
   "language": "python",
   "name": "python3"
  },
  "language_info": {
   "codemirror_mode": {
    "name": "ipython",
    "version": 3
   },
   "file_extension": ".py",
   "mimetype": "text/x-python",
   "name": "python",
   "nbconvert_exporter": "python",
   "pygments_lexer": "ipython3",
   "version": "3.5.2"
  }
 },
 "nbformat": 4,
 "nbformat_minor": 2
}
