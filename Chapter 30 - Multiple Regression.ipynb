{
 "cells": [
  {
   "cell_type": "markdown",
   "metadata": {},
   "source": [
    "# Chapter 30 - Multiple Regression"
   ]
  },
  {
   "cell_type": "markdown",
   "metadata": {},
   "source": [
    "## Just Do It\n",
    "\n",
    "* a regression with two or more predictor variables is called a **multiple regressions**\n",
    "* for simple regression, we found the **least squares** solution; the one whose coefficients made the sum of the squared residuals as small as possible"
   ]
  },
  {
   "cell_type": "markdown",
   "metadata": {},
   "source": [
    "## So, What's New?"
   ]
  },
  {
   "cell_type": "markdown",
   "metadata": {},
   "source": [
    "## What Multiple Regression Coefficients Mean\n",
    "\n",
    "* a **partial regression plot** for a particular predictor has a slope that is the same as the _multiple_ regression coefficient for that predictor.  \n",
    "* it also has the same residuals as the full multiple regression,  so you can spot any outliers or influential points and tell whether they've affected the estimation of this particular coefficient"
   ]
  },
  {
   "cell_type": "markdown",
   "metadata": {},
   "source": [
    "## The Multiple Regression Model\n",
    "\n",
    "* $y = \\beta_0 + \\beta_1x_1 + \\beta_2x_2 + \\epsilon$"
   ]
  },
  {
   "cell_type": "markdown",
   "metadata": {},
   "source": [
    "## Assumptions and Conditions\n",
    "\n",
    "### Linearity Assumption\n",
    "\n",
    "* **straight enough condition**\n",
    "  * scatterplots of the $y$-variable against each $x$-variable\n",
    "\n",
    "### Independence Assumption\n",
    "\n",
    "* **randomization condition**\n",
    "\n",
    "### Equal Variance Assumption\n",
    "\n",
    "* **does the plot thicken? condition**\n",
    "\n",
    "### Normality Assumption\n",
    "\n",
    "* **nearly normal condition**"
   ]
  },
  {
   "cell_type": "markdown",
   "metadata": {},
   "source": [
    "## Step-by-Step Example: Multiple Regression\n",
    "\n",
    "* Variables: \n",
    "  * name the variables\n",
    "  * report the W's\n",
    "  * specify the question of interest\n",
    "* Plan:\n",
    "  * think about the assumptions and check the conditions\n",
    "  * choose your method\n",
    "* Mechanics:\n",
    "* Interpretation:"
   ]
  },
  {
   "cell_type": "markdown",
   "metadata": {},
   "source": [
    "## Multiple Regression Inference I: I Thought I Saw an ANOVA Table..."
   ]
  },
  {
   "cell_type": "markdown",
   "metadata": {},
   "source": [
    "## Multiple Regression Inference II: Testing the Coefficients\n",
    "\n",
    "* $H_0: \\beta_j = 0$\n",
    "* if the assumptions and conditions are met, these ratios follow a Student's $t$-distribution\n",
    "* $t_{n-k-1} = \\frac{b_j - 0}{SE(b_j)}$\n",
    "* df is equal to the number of data values minus the number of predictors (counting the intercept term)\n",
    "* $b_j \\pm t*_{n-k-1}SE(b_j)$\n",
    "* the meaning of a coefficient depends on all the _other_ predictors in the multiple regression model"
   ]
  },
  {
   "cell_type": "markdown",
   "metadata": {},
   "source": [
    "## How's That, Again?\n",
    "\n",
    "* the coefficient of $x_j$ in a multiple regression depends as much on the _other_ predictors as it does on $x_j$"
   ]
  },
  {
   "cell_type": "markdown",
   "metadata": {},
   "source": [
    "## Another Example: Modeling Infant Mortality\n",
    "\n",
    "* one useful was to check many of our conditions is with a **scatterplot matrix**\n",
    "* an array of scatterplots set up so that the plots in each row have the same variable on their $y$-axis and thos in each column have the same variable on their $x$-axis\n",
    "* this way, every pair of variables is graphed\n",
    "* often shows a normal probability plot along the diagonal"
   ]
  },
  {
   "cell_type": "markdown",
   "metadata": {},
   "source": [
    "## Step-by-Step Example:  Inference for Multiple Regression\n",
    "\n",
    "* Hypotheses:\n",
    "  * state what we want to know\n",
    "* Plan:\n",
    "  * state the null model\n",
    "  * think about the assumptions and check the conditions\n",
    "  * choose your method\n",
    "* Mechanics:\n",
    "  * use tech to generate the model\n",
    "  * consider the hypothesis tests\n",
    "* Interpretation  "
   ]
  },
  {
   "cell_type": "markdown",
   "metadata": {},
   "source": [
    "## Comparing Multiple Regression Models\n",
    "\n",
    "### Adjusted $R^2$\n",
    "\n",
    "* the **adjusted $R^2$** statistic is a rough attempt to adjust for the simple fact that when we add another predictor to a multiple regression, the $R^2$ can't go down and will most likely go up\n",
    "\n",
    "* $R^2 = \\frac{SS_{regression}}{SS_{regression} + SS{residual}} = 1 - \\frac{SS_{residual}}{SS_{Total}}$\n",
    "* $R^2_{adj} = 1 - \\frac{MS_{Residual}}{MS_{Total}}$"
   ]
  },
  {
   "cell_type": "markdown",
   "metadata": {},
   "source": [
    "## What Can Go Wrong?\n",
    "\n",
    "### Interpreting Coefficients\n",
    "\n",
    "* don't claim to \"hold everything else constant\" for a single individual\n",
    "* don't interpret regression causally\n",
    "* be cautious about interpreting a regression model as predictive\n",
    "  * in particular, be cautious about using the regression model against combinations of predictor values that fall outside the range of the original data - i.e. extrapolation\n",
    "* don't think that the sign of a coefficient is special\n",
    "* if a coefficient's $t$-statistic is not significant, don't interpret it at all"
   ]
  },
  {
   "cell_type": "markdown",
   "metadata": {},
   "source": [
    "## What Else Can Go Wrong?\n",
    "\n",
    "* don't fit a linear regression to data that aren't straight\n",
    "* watch out for the plot thickening\n",
    "* make sure the errors are nearly Normal\n",
    "* watch out for high-invluence points and outliers"
   ]
  },
  {
   "cell_type": "markdown",
   "metadata": {},
   "source": [
    "## What Have We Learned?\n",
    "\n",
    "* [p. 802-804]"
   ]
  }
 ],
 "metadata": {
  "kernelspec": {
   "display_name": "Python 3",
   "language": "python",
   "name": "python3"
  },
  "language_info": {
   "codemirror_mode": {
    "name": "ipython",
    "version": 3
   },
   "file_extension": ".py",
   "mimetype": "text/x-python",
   "name": "python",
   "nbconvert_exporter": "python",
   "pygments_lexer": "ipython3",
   "version": "3.5.2"
  }
 },
 "nbformat": 4,
 "nbformat_minor": 2
}
