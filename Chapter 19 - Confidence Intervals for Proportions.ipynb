{
 "cells": [
  {
   "cell_type": "markdown",
   "metadata": {},
   "source": [
    "# Chapter 19 - Confidence Intervals for Proportions"
   ]
  },
  {
   "cell_type": "markdown",
   "metadata": {},
   "source": [
    "## A Confidence Interval\n",
    "\n",
    "* sample based estimate of the true proportion, $p$: $\\hat{p}$\n",
    "* whenever we estimate the standard deviation of a sampling distribution, we call it a **standard error**:\n",
    "\n",
    "\\begin{equation}\n",
    "SE(\\hat{p}) = \\sqrt{\\frac {\\hat{p}\\hat{q}}{n}}\n",
    "\\end{equation}"
   ]
  },
  {
   "cell_type": "markdown",
   "metadata": {},
   "source": [
    "What *can't* we say about the sample proportion with respect to the population?\n",
    "\n",
    "> x% of the entire population are y\n",
    "\n",
    "> It is probably true that x% of the entire population are y\n",
    "\n",
    "> We don't know exactly what proportion of the population are y, but we know that it's within the interval x% +/- 2 X SE.  That is, it's between x1% and x2%.\n",
    "\n",
    "\n",
    "What *can* we say about the sample proportion with respect to the population?\n",
    "\n",
    "\n",
    "> We don't know exactly what proportion of the population are y, but the interval from x% - 2SE to x% + 2SE probably contains the true proportion.\n",
    "\n",
    "\n",
    "This can be improved to\n",
    "\n",
    "> We are 95% confident that between x% - 2SE to x% + 2SE of the population are y.\n",
    "\n",
    "* this is the statement of a **confidence interval**, in this _particular_ case, a **one-proportion z-interval**"
   ]
  },
  {
   "cell_type": "markdown",
   "metadata": {},
   "source": [
    "## What Does \"95% Confidence\" Really Mean?\n",
    "\n",
    "Formally, what we mean is that \"95% of samples of this size will produce confidence intervals that capture the true proportion.\"  \n",
    "\n",
    "Sometimes, this is shortened to \"We are 95% confident that the true proportion lies in our interval.\"\n",
    "\n",
    "Our uncertainty is about whether the particular sample we have at hand is one of the successful ones or one of the 5% that fail to produce an interval that captures the true value."
   ]
  },
  {
   "cell_type": "markdown",
   "metadata": {},
   "source": [
    "## Margin of Error: Certainty vs. Precision\n",
    "\n",
    "* Form of confidence interval: $\\hat{p} \\pm 2 SE(\\hat{p})$\n",
    "* The extent of the interval on either side of $\\hat{p}$ is called the **margin of error (ME)**\n",
    "* In general, confidence intervals look like $Estimate \\pm ME$"
   ]
  },
  {
   "cell_type": "markdown",
   "metadata": {},
   "source": [
    "## Critical Values\n",
    "\n",
    "* To change the confidence level, we'd need to change the width of the margin of error, in $SE$s.\n",
    "* This number of $SE$s is called the **critical value**\n",
    "* When based on the Standard Normal model, we denote it $z^*$"
   ]
  },
  {
   "cell_type": "markdown",
   "metadata": {},
   "source": [
    "## Assumptions and Conditions\n",
    "\n",
    "### Independence Assumption\n",
    "\n",
    "### Sample Size Assumption\n",
    "\n",
    "* we need more data the closer the proportion gets to the extremes (0 or 1)\n",
    "* success/failure condition: we must expect at least 10 successes and failures"
   ]
  },
  {
   "cell_type": "markdown",
   "metadata": {},
   "source": [
    "## One-Proportion $z$-Interval\n",
    "\n",
    "When the conditions are met, we are ready to find the confidence interval for the population proportion, $p$.  The confidence interval is $\\hat{p} \\pm z^* \\times SE(\\hat{p})$ where the standard deviation of the proportion is estimated by $SE(\\hat{p}) = \\sqrt{\\frac{\\hat{p}\\hat{n}}{n}}$"
   ]
  },
  {
   "cell_type": "markdown",
   "metadata": {
    "collapsed": true
   },
   "source": [
    "## Step-by-Step Example: A Confidence Interval for a Proportion\n",
    "\n",
    "* Plan: State the problem and the W's\n",
    "  * Identify the _parameter_ you wish to estimate\n",
    "  * Identify the _population_ about which you wish to make statements\n",
    "   * Choose and state a confidence level\n",
    "* Model: Thinkg about the assumptions and check the conditions\n",
    "* State the sampling distribution model for the statistic\n",
    "* Choose your method\n",
    "* Mechanics: Construct the confidence interval\n",
    "* First find the standard error.\n",
    "* Next find the margin of error\n",
    "* Write the confidence interval (CI).\n",
    "* Conclusion: Interpret the confidence interval in the proper context."
   ]
  },
  {
   "cell_type": "markdown",
   "metadata": {},
   "source": [
    "### Choosing Your Sample Size"
   ]
  },
  {
   "cell_type": "markdown",
   "metadata": {},
   "source": [
    "## What Can Go Wrong?\n",
    "\n",
    "### Don't Misstate What the Interval Means\n",
    "\n",
    "* Don't suggest that the parameter varies.\n",
    "* Dont' claim that other samples will agree with yours.\n",
    "* Don't be certain about the parameter.\n",
    "* Don't forget: It's about the parameter.\n",
    "* Don't claim to know too much.\n",
    "* Do take responsibility: you are the one who is uncertain, not the parameter.\n",
    "* Do treat the whole interval equally.\n",
    "\n",
    "### What _Can_ I Say?\n",
    "\n",
    "We should say:\n",
    "\n",
    "> I am n% confident that the interval from x% to y% captures the true proportion of z's\n",
    "\n",
    "That formal phrasing emphasizes that _our confidence (and our uncertainty) is about the interval, not the true proprotion_.\n",
    "\n",
    "### Margin of Error Too Large to Be Useful\n",
    "\n",
    "### Violations of Assumptions\n",
    "\n",
    "* Watch out for biased sampling\n",
    "* Think about independence"
   ]
  },
  {
   "cell_type": "markdown",
   "metadata": {},
   "source": [
    "### What Have We Learned\n",
    "\n",
    "* [p. 470]"
   ]
  }
 ],
 "metadata": {
  "kernelspec": {
   "display_name": "Python 3",
   "language": "python",
   "name": "python3"
  },
  "language_info": {
   "codemirror_mode": {
    "name": "ipython",
    "version": 3
   },
   "file_extension": ".py",
   "mimetype": "text/x-python",
   "name": "python",
   "nbconvert_exporter": "python",
   "pygments_lexer": "ipython3",
   "version": "3.5.2"
  }
 },
 "nbformat": 4,
 "nbformat_minor": 2
}
