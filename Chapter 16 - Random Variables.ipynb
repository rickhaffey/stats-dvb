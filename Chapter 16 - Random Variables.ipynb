{
 "cells": [
  {
   "cell_type": "markdown",
   "metadata": {},
   "source": [
    "# Chapter 16 - Random Variables"
   ]
  },
  {
   "cell_type": "markdown",
   "metadata": {},
   "source": [
    "## Expected Value: Center\n",
    "\n",
    "* **random variable**: a numeric value based on the outcome of a random event\n",
    "* denoted with a capital letter, such as $X$\n",
    "* a particular value of that variable is denoted with a lowercase letter, such as $x$\n",
    "* **discrete random variable**: a random variable for which all the outcomes can be listed\n",
    "* **continuous random variable**: a random variable that can take on any value within a continuous range of values\n",
    "* **probability model** for the random variable: the collection of all the possible values and the probabilities that they occur\n",
    "* **expected value**: what value we _expect_ to occur for a given random variable\n",
    "  * for a discrete random variable, it's calculated as the sum over all outcomes of the outcome's value times its probability of occurring\n",
    "  \n",
    "\\begin{equation}\n",
    "\\mu = E(X) = \\sum{xP(x)}\n",
    "\\end{equation}\n",
    "\n",
    "  * note: make sure that every possible outcome is included in the sum\n",
    "  * note: ensure that the probability model is valid - each is between [0,1] and total sums to 1"
   ]
  },
  {
   "cell_type": "markdown",
   "metadata": {},
   "source": [
    "## First Center, Now Spread...\n",
    "\n",
    "* **variance** of a (discrete) random variable is the sum of the expected value of the squared deviations from the random variable's expected value\n",
    "\n",
    "\\begin{equation}\n",
    "\\sigma^2 = Var(X) = \\sum{(x-\\mu)^2P(x)}\n",
    "\\end{equation}\n",
    "\n",
    "* **standard deviation** of a (discrete) random variable is the square root of its variance\n",
    "\n",
    "\n",
    "\\begin{equation}\n",
    "\\sigma = SD(X) = \\sqrt{Var(X)}\n",
    "\\end{equation}"
   ]
  },
  {
   "cell_type": "markdown",
   "metadata": {},
   "source": [
    "## Step-by-Step Example: Expected Values and Standard Deviation for Discrete Random Variables\n",
    "\n",
    "* Plan: state the problem\n",
    "* Variable: define the random variable\n",
    "* Plot: make a picture; e.g. tree diagram\n",
    "* Model: list possible values of the random variable and determine the probability model\n",
    "* Mechanics: find the expected value; find the variance; find the standard deviation\n",
    "* Conclusion: interpret your results in context"
   ]
  },
  {
   "cell_type": "markdown",
   "metadata": {},
   "source": [
    "## More About Means and Variances\n",
    "\n",
    "* adding / subtracting a value from each value of a random variable _shifts its expected value_ by a corresponding amount\n",
    "\n",
    "\\begin{equation}\n",
    "E(X \\pm c) = E(x) \\pm c\n",
    "\\end{equation}\n",
    "\n",
    "* adding / subtracting a value from each value of a random variable _doesn't change its variance or standard deviation_\n",
    "\n",
    "\\begin{equation}\n",
    "Var(X \\pm c) = Var(X)\n",
    "\\end{equation}\n",
    "\n",
    "* multiplying each value of a random variable by a constant _multiplies the expected value by that constant_\n",
    "\n",
    "\\begin{equation}\n",
    "E(cX) = cE(x)\n",
    "\\end{equation}\n",
    "\n",
    "* multiplying each value of a random variable by a constant _multiplies the variance by the square of that constant_\n",
    "\n",
    "\\begin{equation}\n",
    "Var(cX) = c^2Var(x)\n",
    "\\end{equation}\n",
    "\n",
    "* the expected value of the sum of two random variables is _the sum of their expected values_\n",
    "\n",
    "\\begin{equation}\n",
    "E(X \\pm Y) = E(X) \\pm E(Y)\n",
    "\\end{equation}\n",
    "\n",
    "* the variance of the sum of two _independent_ random variables is _the sum of their variances_\n",
    "\n",
    "\\begin{equation}\n",
    "Var(X \\pm Y) = Var(X) \\pm Var(Y)\n",
    "\\end{equation}\n",
    "\n"
   ]
  },
  {
   "cell_type": "markdown",
   "metadata": {},
   "source": [
    "## Combining Random Variables (The Bad News)\n",
    "\n",
    "* the probability model for the sum of two random variables is _not necessarily_ the same sas the model we started with, _even when the variables are independent_\n",
    "\n",
    "### Example\n",
    "\n",
    "Insurance policy pays out, for an individual, \\$0, \\$5000, or \\$10000.  Payout for two people _isn't_ just \\$0, \\$10000, \\$20000, but could be other values (e.g. \\$15000, etc.)"
   ]
  },
  {
   "cell_type": "markdown",
   "metadata": {},
   "source": [
    "## Combining Random Variables (The Good News)\n",
    "\n",
    "* with independent Normal random variables, the probability model for the sum of one or more of these random variables is still Normal"
   ]
  },
  {
   "cell_type": "markdown",
   "metadata": {},
   "source": [
    "## Step-by-Step Example: Continous, Normal Random Variable(s)\n",
    "\n",
    "* Plan: state the problem\n",
    "* Variables: \n",
    "  * define your random variables; \n",
    "  * write an appropriate equation; \n",
    "  * think about the assumptions\n",
    "* Mechanics:\n",
    "  * find the expected value\n",
    "  * find the variance\n",
    "  * find the standard deviation\n",
    "  * sketch a picture of the Normal model; find the z-score; find the probability\n",
    "* Conclusion: interpret your results in context"
   ]
  },
  {
   "cell_type": "markdown",
   "metadata": {},
   "source": [
    "## *Correlation and Covariance\n",
    "\n",
    "* **covariance** of two random variables measures how they vary together\n",
    "\n",
    "\\begin{equation}\n",
    "Cov(X,Y) = E((X - \\mu)(Y - \\nu))\n",
    "\\end{equation}\n",
    "\n",
    "* Some important properties of covariance of random variables:\n",
    "    * $Cov(X,Y) = Cov(Y,X)$\n",
    "    * $Cov(X,X) = Var(X)$\n",
    "    * $Cov(cX, dY) = cdCov(X,Y)$\n",
    "    * $Cov(X,Y) = E(XY) - \\mu\\nu$\n",
    "    \n",
    "* The variance of the sum or difference of two random variables when they are not independent:\n",
    "\n",
    "\\begin{equation}\n",
    "Var(X \\pm Y) = Var(X) + Var(Y) \\pm 2Cov(X,Y)\n",
    "\\end{equation}\n",
    "\n",
    "* **correlation**:\n",
    "\n",
    "\\begin{equation}\n",
    "Corr(X,Y) = \\frac{Cov(X,Y)}{\\sigma_x\\sigma_y}\n",
    "\\end{equation}"
   ]
  },
  {
   "cell_type": "markdown",
   "metadata": {},
   "source": [
    "## What Can Go Wrong?\n",
    "\n",
    "* Probability models are still just _models_\n",
    "* If the model is wrong, so is everything else\n",
    "* Don't assume everything is normal\n",
    "* Watch out for variables that aren't independent\n",
    "* Don't forget: Variances of independent random variables add. Standard deviations don't.\n",
    "* Don't forget: Variances of independent random variables add, even when you're looking at the difference between them.\n",
    "* Don't write independent instances of a random variable with notations that looks like they are the same variables:\n",
    "  * e.g. not $X + X + X$, \n",
    "  * but rather, use $X_1 + X_2 + X_3$"
   ]
  },
  {
   "cell_type": "markdown",
   "metadata": {},
   "source": [
    "## What Have We Learned?\n",
    "\n",
    "* [p. 397]"
   ]
  }
 ],
 "metadata": {
  "kernelspec": {
   "display_name": "Python 3",
   "language": "python",
   "name": "python3"
  },
  "language_info": {
   "codemirror_mode": {
    "name": "ipython",
    "version": 3
   },
   "file_extension": ".py",
   "mimetype": "text/x-python",
   "name": "python",
   "nbconvert_exporter": "python",
   "pygments_lexer": "ipython3",
   "version": "3.5.2"
  }
 },
 "nbformat": 4,
 "nbformat_minor": 2
}
