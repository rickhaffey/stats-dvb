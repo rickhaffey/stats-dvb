{
 "cells": [
  {
   "cell_type": "markdown",
   "metadata": {},
   "source": [
    "# Chapter 21 - More About Tests and Intervals"
   ]
  },
  {
   "cell_type": "markdown",
   "metadata": {},
   "source": [
    "## Zero In on the Null"
   ]
  },
  {
   "cell_type": "markdown",
   "metadata": {},
   "source": [
    "## Step-by-Step Example: Another One-Proportion z-Test\n",
    "\n",
    "* Plan : State the problem and discuss the variables and the W's\n",
    "* Hypotheses: establish H0 and HA\n",
    "* Model: \n",
    "  * Check the conditions\n",
    "  * Specify the sampling distribution model and name the test\n",
    "* Mechanics : \n",
    "  * Find the standard deviation of the sampling model\n",
    "  * Find the z-score\n",
    "  * Sketch a picture\n",
    "  * Deterimine the P-Value\n",
    "* Conclusion: link the P-value to your decision about the null hypothesis, and then state your conclusion in context."
   ]
  },
  {
   "cell_type": "markdown",
   "metadata": {},
   "source": [
    "## How to Think About P-Values\n",
    "\n",
    "* A P-value actually is a conditional probabilitiy.  It tells us the probability of getting results at least as unusual as the observed statistic, _given_ that the null hypothesis is true.\n",
    "* The P-Value is _not_ a probability that the null hypothesis is true.  It is a probability about the data.\n",
    "* The lower the P-value, the more comfortable we feel about our decision to reject the null hypothesis, but the null hypothesis doesn't get any more false."
   ]
  },
  {
   "cell_type": "markdown",
   "metadata": {},
   "source": [
    "## What to Do with a High P-value"
   ]
  },
  {
   "cell_type": "markdown",
   "metadata": {},
   "source": [
    "## Alpha Levels\n",
    "\n",
    "* We can define \"rare event\" arbitrarily by setting a threshold for our P-value.  If our P-value falls below that point, we'll reject the null hypothesis.  We call such results **statistically significant**.  The threshold is called an **alpha level**.\n",
    "* The alpha level is also called the **significance level**.  When we reject the null hypothesis, we say that the test is \"significant at that level\"."
   ]
  },
  {
   "cell_type": "markdown",
   "metadata": {},
   "source": [
    "## Significant vs. Important"
   ]
  },
  {
   "cell_type": "markdown",
   "metadata": {},
   "source": [
    "## Critical Values Again"
   ]
  },
  {
   "cell_type": "markdown",
   "metadata": {},
   "source": [
    "## Confidence Intervals and Hypothesis Tests\n",
    "\n",
    "* We reject $H_0$ when the confidence interval fails to cover the hypothesized value $p_0$"
   ]
  },
  {
   "cell_type": "code",
   "execution_count": null,
   "metadata": {
    "collapsed": true
   },
   "outputs": [],
   "source": []
  }
 ],
 "metadata": {
  "kernelspec": {
   "display_name": "Python 3",
   "language": "python",
   "name": "python3"
  },
  "language_info": {
   "codemirror_mode": {
    "name": "ipython",
    "version": 3
   },
   "file_extension": ".py",
   "mimetype": "text/x-python",
   "name": "python",
   "nbconvert_exporter": "python",
   "pygments_lexer": "ipython3",
   "version": "3.5.2"
  }
 },
 "nbformat": 4,
 "nbformat_minor": 2
}
