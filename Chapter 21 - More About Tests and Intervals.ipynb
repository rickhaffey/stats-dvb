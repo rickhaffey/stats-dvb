{
 "cells": [
  {
   "cell_type": "markdown",
   "metadata": {},
   "source": [
    "# Chapter 21 - More About Tests and Intervals"
   ]
  },
  {
   "cell_type": "markdown",
   "metadata": {},
   "source": [
    "## Zero In on the Null"
   ]
  },
  {
   "cell_type": "markdown",
   "metadata": {},
   "source": [
    "## Step-by-Step Example: Another One-Proportion z-Test\n",
    "\n",
    "* Plan : State the problem and discuss the variables and the W's\n",
    "* Hypotheses: establish H0 and HA\n",
    "* Model: \n",
    "  * Check the conditions\n",
    "  * Specify the sampling distribution model and name the test\n",
    "* Mechanics : \n",
    "  * Find the standard deviation of the sampling model\n",
    "  * Find the z-score\n",
    "  * Sketch a picture\n",
    "  * Deterimine the P-Value\n",
    "* Conclusion: link the P-value to your decision about the null hypothesis, and then state your conclusion in context."
   ]
  },
  {
   "cell_type": "markdown",
   "metadata": {},
   "source": [
    "## How to Think About P-Values\n",
    "\n",
    "* A P-value actually is a conditional probabilitiy.  It tells us the probability of getting results at least as unusual as the observed statistic, _given_ that the null hypothesis is true.\n",
    "* The P-Value is _not_ a probability that the null hypothesis is true.  It is a probability about the data.\n",
    "* The lower the P-value, the more comfortable we feel about our decision to reject the null hypothesis, but the null hypothesis doesn't get any more false."
   ]
  },
  {
   "cell_type": "markdown",
   "metadata": {},
   "source": [
    "## What to Do with a High P-value"
   ]
  },
  {
   "cell_type": "markdown",
   "metadata": {},
   "source": [
    "## Alpha Levels\n",
    "\n",
    "* We can define \"rare event\" arbitrarily by setting a threshold for our P-value.  If our P-value falls below that point, we'll reject the null hypothesis.  We call such results **statistically significant**.  The threshold is called an **alpha level**.\n",
    "* The alpha level is also called the **significance level**.  When we reject the null hypothesis, we say that the test is \"significant at that level\"."
   ]
  },
  {
   "cell_type": "markdown",
   "metadata": {},
   "source": [
    "## Significant vs. Important"
   ]
  },
  {
   "cell_type": "markdown",
   "metadata": {},
   "source": [
    "## Critical Values Again"
   ]
  },
  {
   "cell_type": "markdown",
   "metadata": {},
   "source": [
    "## Confidence Intervals and Hypothesis Tests\n",
    "\n",
    "* We reject $H_0$ when the confidence interval fails to cover the hypothesized value $p_0$"
   ]
  },
  {
   "cell_type": "markdown",
   "metadata": {
    "collapsed": true
   },
   "source": [
    "## A Confidence Interval for Small Samples\n",
    "\n",
    "* if the success/failure condition can't be met, the **Agresti-Coull interval** (or \"plus-four\" interval) can be used to compensate:  \n",
    "\n",
    "\\begin{equation}\n",
    "\\widetilde{p} = \\frac{y + 2}{n + 4}\n",
    "\\end{equation}\n",
    "\n",
    "\\begin{equation}\n",
    "\\widetilde{n} = n + 4\n",
    "\\end{equation}\n",
    "\n",
    "\\begin{equation}\n",
    "\\widetilde{p} \\pm z^* \\sqrt{\\frac{\\tilde{p}(1-\\tilde{p})}{\\tilde{n}}}\n",
    "\\end{equation}"
   ]
  },
  {
   "cell_type": "markdown",
   "metadata": {
    "collapsed": true
   },
   "source": [
    "## Making Errors\n",
    "\n",
    "* **Type I Error**: The null hypothesis is true, but we mistakenly reject it.\n",
    "    * False Positive\n",
    "* **Type II Error**: The null hypothesis is false, but we fail to reject it.\n",
    "    * False Negative\n",
    "    \n",
    "* Probability of a Type I error is $\\alpha$.\n",
    "* Probability of a Type II error is $\\beta$."
   ]
  },
  {
   "cell_type": "markdown",
   "metadata": {},
   "source": [
    "## Power\n",
    "\n",
    "* The **power** of a test is the probability that it correctly rejects a false null hypothesis.\n",
    "* $1 - \\beta$"
   ]
  },
  {
   "cell_type": "markdown",
   "metadata": {},
   "source": [
    "## Effect Size\n",
    "\n",
    "* The distance between the null hypothesis value, e.g. $p_0$ and the truth, $p$, is the **effect size**."
   ]
  },
  {
   "cell_type": "markdown",
   "metadata": {},
   "source": [
    "## A Picture Worth $\\frac{1}{P(z > 3.09)}$ Words\n",
    "\n",
    "* TODO: separate curves, add labels\n",
    "* see fig. 21.3 on p 515"
   ]
  },
  {
   "cell_type": "code",
   "execution_count": 3,
   "metadata": {
    "collapsed": true
   },
   "outputs": [],
   "source": [
    "import numpy as np\n",
    "from scipy import stats\n",
    "from pandas import DataFrame\n",
    "\n",
    "import matplotlib.pyplot as plt\n",
    "import seaborn as sns\n",
    "sns.set_style('whitegrid')\n",
    "\n",
    "%matplotlib inline"
   ]
  },
  {
   "cell_type": "code",
   "execution_count": 10,
   "metadata": {},
   "outputs": [
    {
     "data": {
      "image/png": "[encoded data removed]",
      "text/plain": [
       "<matplotlib.figure.Figure at 0x11d9c52b0>"
      ]
     },
     "metadata": {},
     "output_type": "display_data"
    }
   ],
   "source": [
    "# plot the curve\n",
    "x1 = np.linspace(-3, 3, 1000)\n",
    "y1 = stats.norm.pdf(x1, loc=0, scale=1)\n",
    "curve1 = DataFrame({\"x\": x1, \"y\": y1})\n",
    "plt.plot(curve1.x, curve1.y)\n",
    "\n",
    "# plot the fill\n",
    "fill1 = curve1[(curve1.x >= 1.5) & (curve1.x <= 3)]\n",
    "plt.fill_between(fill1.x, fill1.y, facecolor='darkorange', alpha=0.75)\n",
    "\n",
    "\n",
    "x2 = np.linspace(-1, 5, 1000)\n",
    "y2 = stats.norm.pdf(x1, loc=1, scale=1)\n",
    "curve2 = DataFrame({\"x\": x2, \"y\": y2})\n",
    "plt.plot(curve2.x, curve2.y)\n",
    "\n",
    "# plot the fill\n",
    "fill2 = curve2[(curve2.x >= -1) & (curve2.x <= 1.5)]\n",
    "plt.fill_between(fill2.x, fill2.y, facecolor='yellow', alpha=0.75);"
   ]
  },
  {
   "cell_type": "markdown",
   "metadata": {},
   "source": [
    "## Reducing Both Type I and Type II Errors"
   ]
  },
  {
   "cell_type": "markdown",
   "metadata": {},
   "source": [
    "## What Can Go Wrong?\n",
    "\n",
    "* Don't interpret the P-value as the probability that $H_0$ is true.\n",
    "* Don't believe too strongly in arbitrary alpha levels.\n",
    "* Don't confuse practical and statistical significance.\n",
    "* Don't forget that in spite of all your care, you might make a wrong decision."
   ]
  },
  {
   "cell_type": "markdown",
   "metadata": {},
   "source": [
    "## What Have We Learned?\n",
    "\n",
    "* [p. 518]"
   ]
  }
 ],
 "metadata": {
  "kernelspec": {
   "display_name": "Python 3",
   "language": "python",
   "name": "python3"
  },
  "language_info": {
   "codemirror_mode": {
    "name": "ipython",
    "version": 3
   },
   "file_extension": ".py",
   "mimetype": "text/x-python",
   "name": "python",
   "nbconvert_exporter": "python",
   "pygments_lexer": "ipython3",
   "version": "3.5.2"
  }
 },
 "nbformat": 4,
 "nbformat_minor": 2
}
