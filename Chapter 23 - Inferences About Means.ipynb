{
 "cells": [
  {
   "cell_type": "markdown",
   "metadata": {},
   "source": [
    "# Chapter 23 - Inferences About Means"
   ]
  },
  {
   "cell_type": "markdown",
   "metadata": {},
   "source": [
    "## Getting Started\n",
    "\n",
    "### The Central Limit Theorem\n",
    "\n",
    "When a random sample is drawn from any population with mean $\\mu$ and standard deviation $\\sigma$, its sample mean, $\\bar{y}$, has a sampling distribution with the same _mean_ $\\mu$ but whose _standard deviation_ is $\\frac{\\sigma}{\\sqrt{n}}$ (and we write\n",
    "\n",
    "\\begin{equation}\n",
    "\\sigma(\\bar{y}) = SD(\\bar{y}) = \\frac{\\sigma}{\\sqrt{n}}\n",
    "\\end{equation}\n",
    ").\n",
    "\n",
    "No matter what population the random sample comes from, the _shape_ of the sampling distribution is approximately Normal as long as the sample size is large enough.  The larger the sample used, the more closely the Normal approximates the sampling distribution for the mean."
   ]
  },
  {
   "cell_type": "markdown",
   "metadata": {},
   "source": [
    "## Gosset's _t_\n",
    "\n",
    "Student's _t_-models form a whole _family_ of related distributions that depend on a parameter known as **degrees of freedom**."
   ]
  },
  {
   "cell_type": "markdown",
   "metadata": {},
   "source": [
    "## A Confidence Interval for Means\n",
    "\n",
    "### A Practical Sampling Distribution Model for Means\n",
    "\n",
    "When certain assumptions and conditions are met, the standardized sample mean, \n",
    "\n",
    "\\begin{equation}\n",
    "t = \\frac{\\bar{y} - \\mu}{SE(\\bar{y})},\n",
    "\\end{equation}\n",
    "\n",
    "follows a Student's _t_-model with $n - 1$ degrees of freedom.  We estimate the standard deviation with \n",
    "\n",
    "\\begin{equation}\n",
    "SE(\\bar{y}) = \\frac{s}{\\sqrt{n}}\n",
    "\\end{equation}\n",
    "\n",
    "### One-Sample _t_-Interval for the Mean\n",
    "\n",
    "When the assumptions and conditions are met, we are ready to find the confidence interval for the population mean, $\\mu$.  The confidence interval is \n",
    "\n",
    "\\begin{equation}\n",
    "\\bar{y} \\pm t^*_{n - 1} \\times SE(\\bar{y}),\n",
    "\\end{equation}\n",
    "\n",
    "where the standard error fo the mean is $SE(\\bar{y}) = \\frac{s}{\\sqrt{n}}$.\n",
    "\n",
    "The critical value $t^*_{n-1}$ depends on the particular confidence level, $C$, that you specify and on the number of degrees of freedom, $n-1$, which we get from the sample size."
   ]
  },
  {
   "cell_type": "markdown",
   "metadata": {},
   "source": [
    "## Assumptions and Conditions\n",
    "\n",
    "### Independence Assumption\n",
    "\n",
    "* the data values should be independent\n",
    "  * **randomization condition**: the data arise from a random sample or suitably randomized experiment\n",
    "  * **10% condition**: the sample is no more than 10% of the population\n",
    "\n",
    "### Normal Population Assumption\n",
    "\n",
    "* **Nearly Normal Condition**: the data come from a distribution that is unimodal and symmetric"
   ]
  },
  {
   "cell_type": "markdown",
   "metadata": {},
   "source": [
    "## Step-by-Step Example: A One-Sample _t_-Interval for the Mean\n",
    "\n",
    "* Plan: \n",
    "  - State what we want to know.  Identify the parameter of interest\n",
    "  - Identify the variables and review the W's\n",
    "  - Make a picture.  Check the distribution shape and look for skewness, multiple modes, and outliers\n",
    "* Model\n",
    "  - Think about the assumptions and check the conditions\n",
    "  - State the sampling distribution model for the statistic\n",
    "  - Choose your method\n",
    "* Mechanics\n",
    "  - Construct the confidence interval\n",
    "  - Include units along with the statistics\n",
    "* Conclusion\n",
    "  - Interpret the confidence interval in the proper context"
   ]
  },
  {
   "cell_type": "markdown",
   "metadata": {},
   "source": [
    "## More Cautions About Interpreting Confidence Intervals\n",
    "\n"
   ]
  },
  {
   "cell_type": "code",
   "execution_count": null,
   "metadata": {
    "collapsed": true
   },
   "outputs": [],
   "source": []
  }
 ],
 "metadata": {
  "kernelspec": {
   "display_name": "Python 3",
   "language": "python",
   "name": "python3"
  },
  "language_info": {
   "codemirror_mode": {
    "name": "ipython",
    "version": 3
   },
   "file_extension": ".py",
   "mimetype": "text/x-python",
   "name": "python",
   "nbconvert_exporter": "python",
   "pygments_lexer": "ipython3",
   "version": "3.5.2"
  }
 },
 "nbformat": 4,
 "nbformat_minor": 2
}
