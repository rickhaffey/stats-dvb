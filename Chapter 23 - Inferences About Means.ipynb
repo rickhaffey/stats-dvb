{
 "cells": [
  {
   "cell_type": "markdown",
   "metadata": {},
   "source": [
    "# Chapter 23 - Inferences About Means"
   ]
  },
  {
   "cell_type": "markdown",
   "metadata": {},
   "source": [
    "## Getting Started\n",
    "\n",
    "### The Central Limit Theorem\n",
    "\n",
    "When a random sample is drawn from any population with mean $\\mu$ and standard deviation $\\sigma$, its sample mean, $\\bar{y}$, has a sampling distribution with the same _mean_ $\\mu$ but whose _standard deviation_ is $\\frac{\\sigma}{\\sqrt{n}}$ (and we write\n",
    "\n",
    "\\begin{equation}\n",
    "\\sigma(\\bar{y}) = SD(\\bar{y}) = \\frac{\\sigma}{\\sqrt{n}}\n",
    "\\end{equation}\n",
    ").\n",
    "\n",
    "No matter what population the random sample comes from, the _shape_ of the sampling distribution is approximately Normal as long as the sample size is large enough.  The larger the sample used, the more closely the Normal approximates the sampling distribution for the mean."
   ]
  },
  {
   "cell_type": "markdown",
   "metadata": {},
   "source": [
    "## Gosset's _t_\n",
    "\n",
    "Student's _t_-models form a whole _family_ of related distributions that depend on a parameter known as **degrees of freedom**."
   ]
  },
  {
   "cell_type": "markdown",
   "metadata": {},
   "source": [
    "## A Confidence Interval for Means\n",
    "\n",
    "### A Practical Sampling Distribution Model for Means\n",
    "\n",
    "When certain assumptions and conditions are met, the standardized sample mean, \n",
    "\n",
    "\\begin{equation}\n",
    "t = \\frac{\\bar{y} - \\mu}{SE(\\bar{y})},\n",
    "\\end{equation}\n",
    "\n",
    "follows a Student's _t_-model with $n - 1$ degrees of freedom.  We estimate the standard deviation with \n",
    "\n",
    "\\begin{equation}\n",
    "SE(\\bar{y}) = \\frac{s}{\\sqrt{n}}\n",
    "\\end{equation}\n",
    "\n",
    "### One-Sample _t_-Interval for the Mean\n",
    "\n",
    "When the assumptions and conditions are met, we are ready to find the confidence interval for the population mean, $\\mu$.  The confidence interval is \n",
    "\n",
    "\\begin{equation}\n",
    "\\bar{y} \\pm t^*_{n - 1} \\times SE(\\bar{y}),\n",
    "\\end{equation}\n",
    "\n",
    "where the standard error fo the mean is $SE(\\bar{y}) = \\frac{s}{\\sqrt{n}}$.\n",
    "\n",
    "The critical value $t^*_{n-1}$ depends on the particular confidence level, $C$, that you specify and on the number of degrees of freedom, $n-1$, which we get from the sample size."
   ]
  },
  {
   "cell_type": "markdown",
   "metadata": {},
   "source": [
    "## Assumptions and Conditions\n",
    "\n",
    "### Independence Assumption\n",
    "\n",
    "* the data values should be independent\n",
    "  * **randomization condition**: the data arise from a random sample or suitably randomized experiment\n",
    "  * **10% condition**: the sample is no more than 10% of the population\n",
    "\n",
    "### Normal Population Assumption\n",
    "\n",
    "* **Nearly Normal Condition**: the data come from a distribution that is unimodal and symmetric"
   ]
  },
  {
   "cell_type": "markdown",
   "metadata": {},
   "source": [
    "## Step-by-Step Example: A One-Sample _t_-Interval for the Mean\n",
    "\n",
    "* Plan: \n",
    "  - State what we want to know.  Identify the parameter of interest\n",
    "  - Identify the variables and review the W's\n",
    "  - Make a picture.  Check the distribution shape and look for skewness, multiple modes, and outliers\n",
    "* Model\n",
    "  - Think about the assumptions and check the conditions\n",
    "  - State the sampling distribution model for the statistic\n",
    "  - Choose your method\n",
    "* Mechanics\n",
    "  - Construct the confidence interval\n",
    "  - Include units along with the statistics\n",
    "* Conclusion\n",
    "  - Interpret the confidence interval in the proper context"
   ]
  },
  {
   "cell_type": "markdown",
   "metadata": {},
   "source": [
    "## More Cautions About Interpreting Confidence Intervals\n",
    "\n",
    "* don't say:\n",
    "  * \"95% of x are between i and j\" -- the confidence interval is about the _mean_, not about individual values\n",
    "  * \"We are 95% confident that a randomly selected entity will have a value between i and j\" -- as above, this is a statement about individuals while our confidence interval is about the _mean_\n",
    "  * \"The mean value of the entities is i 95% of the time.\" -- This implies that the mean varies, when in fact the confidence interval is what varies and the mean stays the same.\n",
    "  * \"95% of all samples will have a mean value between i and j.\" -- This implies that the current sample sets the standard for all other samples.\n",
    "* do say:\n",
    "  * \"95% of intervals that could be found in this way would cover the true value.\", OR\n",
    "  * \"I am 95% confident that the true mean is between i and j.\"\n"
   ]
  },
  {
   "cell_type": "markdown",
   "metadata": {
    "collapsed": true
   },
   "source": [
    "## Make a Picture\n",
    "\n",
    "* the only reasonable way to check the Nearly Normal Condition is with graphs of the data\n",
    "* make a histogram of the data and verify that:\n",
    "  * its distribution is unimodal,\n",
    "  * its distribution is symmetric, and\n",
    "  * that it has no outliers  "
   ]
  },
  {
   "cell_type": "markdown",
   "metadata": {},
   "source": [
    "## A Test for the Mean\n",
    "\n",
    "* a hypothesis test called the **one-sample $t$-test for the mean**\n",
    "\n",
    "### One-Sample $t$-Test for the Mean\n",
    "\n",
    "The assumptions and conditions for the one-sample $t$-test for the mean are the same as for the one-sample $t$-interval.  We test the hypothesis $H_0: \\mu = \\mu_0$ using the statistic\n",
    "\n",
    "\\begin{equation}\n",
    "t_{n-1} = \\frac{\\bar{y} - \\mu_0}{SE(\\bar{y})}\n",
    "\\end{equation}\n",
    "\n",
    "The standard error of $\\bar{y}$ is $SE(\\bar{y}) = \\frac{s}{\\sqrt{n}}$.\n",
    "\n",
    "When the conditions are met and the null hypothesis is true, this statistic follows a Student's $t$-model with $n - 1$ degrees of freedom.  We use that model to obtain a P-value."
   ]
  },
  {
   "cell_type": "markdown",
   "metadata": {},
   "source": [
    "## Step-by-Step Example:  A One-Sample $t$-Test for the Mean\n",
    "\n",
    "* Plan:\n",
    "  * State what we want to know.\n",
    "  * Make clear what the population and parameter are.\n",
    "  * Identify the variables and review the W's.\n",
    "* Identify the hypotheses\n",
    "* Make a picture\n",
    "  * check the distribution for skewness, multiple modes, and outliers\n",
    "* Model\n",
    "  * Think about the assumptions and check the conditions\n",
    "  * State the sampling distribution model.\n",
    "  * Choose your method.\n",
    "* Mechanics\n",
    "  * Be sure to include the units\n",
    "* Conclusion\n",
    "  * Link the P-value to your decision about $H_0$, and state your conclusion in context"
   ]
  },
  {
   "cell_type": "markdown",
   "metadata": {},
   "source": [
    "## Finding $t$-Values by Hand"
   ]
  },
  {
   "cell_type": "markdown",
   "metadata": {},
   "source": [
    "## Significance and Importance"
   ]
  },
  {
   "cell_type": "markdown",
   "metadata": {},
   "source": [
    "## Intervals and Tests\n",
    "\n",
    "* a level $C$ confidence interval contains _all_ of the plausible null hypothesis values that would _not_ be rejected by a two-sided hypothesis test at alpha level $1 - C$."
   ]
  },
  {
   "cell_type": "markdown",
   "metadata": {},
   "source": [
    "## Sample Size"
   ]
  },
  {
   "cell_type": "markdown",
   "metadata": {},
   "source": [
    "## Degrees of Freedom"
   ]
  },
  {
   "cell_type": "markdown",
   "metadata": {},
   "source": [
    "## *The Sign Test -- Back to Yes and No"
   ]
  },
  {
   "cell_type": "markdown",
   "metadata": {},
   "source": [
    "## Step-by-Step : *A Sign Test\n",
    "\n",
    "* Plan \n",
    "  - state what we want to know\n",
    "  - identify the parameter of interest\n",
    "  - identify the variables and review the W's\n",
    "* Hypothesis\n",
    "  - write the null and alternative hypotheses\n",
    "* Model\n",
    "  - think about the assumptions and check the conditions\n",
    "  - choose your method\n",
    "    - sign test is just a one-proportion $z$-test for $p_0 = 0.5$\n",
    "* Mechanics\n",
    "  - use the null model to find the P-value\n",
    "* Conclusion\n",
    "  - link the P-value to your decision, then state your conclusions in the proper context"
   ]
  },
  {
   "cell_type": "markdown",
   "metadata": {},
   "source": [
    "## What Can Go Wrong?\n",
    "\n",
    "* Don't confuse proportions and means.\n",
    "* Beware of multimodality.\n",
    "  - if the data appears to have multiple modes, attempt to separate into groups and perform the analysis against each\n",
    "* Beware of skewed data.\n",
    "  - one way of dealing with skewed data is attempting to re-express the data, possibly leading to a more symmetric distribution\n",
    "* Set outliers aside.\n",
    "  - consider doing analysis twice (w/ and w/o the outliers) to see how they affect the results\n",
    "* Watch out for bias.\n",
    "  - be sure to think about possible sources of bias in your measurements\n",
    "* Make sure cases are independent.\n",
    "* Make sure that data are from an appropriately randomized sample.\n",
    "* Interpret your confidence interval correctly."
   ]
  },
  {
   "cell_type": "markdown",
   "metadata": {},
   "source": [
    "## What Have We Learned?\n",
    "\n",
    "* [p. 570]"
   ]
  }
 ],
 "metadata": {
  "kernelspec": {
   "display_name": "Python 3",
   "language": "python",
   "name": "python3"
  },
  "language_info": {
   "codemirror_mode": {
    "name": "ipython",
    "version": 3
   },
   "file_extension": ".py",
   "mimetype": "text/x-python",
   "name": "python",
   "nbconvert_exporter": "python",
   "pygments_lexer": "ipython3",
   "version": "3.5.2"
  }
 },
 "nbformat": 4,
 "nbformat_minor": 2
}
