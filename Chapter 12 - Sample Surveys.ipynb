{
 "cells": [
  {
   "cell_type": "markdown",
   "metadata": {},
   "source": [
    "# Chapter 12 - Sample Surveys"
   ]
  },
  {
   "cell_type": "markdown",
   "metadata": {},
   "source": [
    "* step from making statements about a small sample to statements about the entire population\n",
    "* three underlying ideas"
   ]
  },
  {
   "cell_type": "markdown",
   "metadata": {},
   "source": [
    "## Idea 1: Examine a Part of the Whole\n",
    "\n",
    "* examine a smaller group of individuals than the entire population -- a **sample**\n",
    "* if selected properly, a small sample can represent the entire population\n",
    "* **sample surveys** ask questions of a small group in hopes of learning something about the entire population\n",
    "\n",
    "### Bias\n",
    "\n",
    "* selecting a sample fairly is difficult\n",
    "* sampling methods that, by their nature, tend to over- or underemphasie some characteristics of the population are said to be **biased**\n",
    "* conclusions based on biased samples are inherently flawed\n",
    "* modern polls select individuals _at random_"
   ]
  },
  {
   "cell_type": "markdown",
   "metadata": {},
   "source": [
    "## Idea 2: Randomize\n",
    "\n",
    "* pretects us from the influences of _all_ th efeatures of our population by making sure that, _on average_, the sample looks like the rest of the population"
   ]
  },
  {
   "cell_type": "markdown",
   "metadata": {},
   "source": [
    "## Idea 3: Sample Size\n",
    "\n",
    "* how large does the sample need to be to reasonably represent the population?\n",
    "* what matters isn't the _fraction_ or _percentage_ of the population, but _the number of individuals in the sample_\n",
    "    * note: _percentage_ can matter if the population is small to begin with, but not when the sample is a small fraction of the population"
   ]
  },
  {
   "cell_type": "markdown",
   "metadata": {},
   "source": [
    "## Does a Census Make Sense?\n",
    "\n",
    "* a **census** is a sample of the entire population\n",
    "* challenges:\n",
    "  * difficult or impractical to complete\n",
    "  * population is changing (even during census generation)\n",
    "  * can be more complex than sampling"
   ]
  },
  {
   "cell_type": "markdown",
   "metadata": {},
   "source": [
    "## Populations and Parameters\n",
    "\n",
    "* **parameter** - an unknown / unknowable (?) number modeling some aspect of the population\n",
    "* **statistic** - a summary found from data based on a sample\n",
    "\n",
    "* we want statistics we compute from a sample to reflect the corresponding parameters accurately; a sample that does this is said to be **representative**"
   ]
  },
  {
   "cell_type": "markdown",
   "metadata": {},
   "source": [
    "## Simple Random Samples\n",
    "\n",
    "* how to draw a representative sample?\n",
    "* ensure that every individual has an equal chance of being selected?\n",
    "    * this is _necessary_, but not _sufficient_\n",
    "    * example: School with equal number of males and females.  Flip a coin.  If heads, pick 100 females at random.  If tails, pick 100 males at random.  Each individual has an equal chance of being selected, but in either case, the sample will not be representative.\n",
    "* instead, ensure that every possible _sample_ or _combination of individuals_ of the size intended has an equal chance of being selected\n",
    "* a sample drawn this way is called a **simple random sample** or **SRS**\n",
    "* the **sampling frame** is the list of individuals from which the sample will be drawn\n",
    "* assign random numbers to individuals in sampling frame, then select those satisfying some rule\n",
    "* samples drawn at random generally differ from one another; these differences lead to different values for the variables measured;  these sample-to-sample differences are called **sample variability** or **sampling error**"
   ]
  },
  {
   "cell_type": "markdown",
   "metadata": {},
   "source": [
    "## Stratified Sampling\n",
    "\n",
    "* involves slicing the population into homogeneous groups, called **strata**, before the sample is selected\n",
    "* SRS is used within each stratum, then the results are combined\n",
    "* most important benefit of strafied sampling is that samples taken within a stratum vary less, reducing sampling variability"
   ]
  },
  {
   "cell_type": "markdown",
   "metadata": {},
   "source": [
    "## Cluster and Multistage Sampling\n",
    "\n",
    "* splitting the population into _representative_ **clusters** can make sampling more practical\n",
    "* can select one or more clusters at random and perform a census within each\n",
    "* this sampling design is called **cluster sampling**\n",
    "* if each cluster fairly represents the population, then cluster sampling will be unbiased\n",
    "\n",
    "### Difference between Stratified and Cluster Sampling\n",
    "\n",
    "* we stratify to ensure our sample represents different groups in the population\n",
    "  * sample randomly within each strata\n",
    "  * strata are internally _homogeneous_, but differ from one another\n",
    "* we cluster to make sampling more practical or affordable\n",
    "  * clusters are internally _heterogeneous_, each resembling the overall population\n",
    "* boston cream pie example\n",
    "  * cluster sampling: make multiple vertical slices - each slice is a cluster\n",
    "  * stratified sampling: take some random tastes from the cake layer, from the cream layer, and from the chocolate layer, each layer is a strata\n",
    "  \n",
    "\n",
    "* sampling schemes that combine several methods are called **multistage samples**\n",
    "* book e.g.: stratify by _section_ (to factor in increasing complexity by section), randomly select a chapter from each section, within each chapter, randomly select one or more pages (as clusters), finally perform an SRS of sentences within each page"
   ]
  },
  {
   "cell_type": "markdown",
   "metadata": {},
   "source": [
    "## Systematic Samples\n",
    "\n",
    "* true random sampling, particularly with a very large population, can be very expensive / time consuming\n",
    "* systematic sampling aims to reduce that cost, while still generating a representative, unbiased sample\n",
    "* example: survey every 10th person on a list of students\n",
    "  * the order of the list must not be associated in any way with the response being evaluated\n",
    "  * you must start the selection from a randomly selected individual\n",
    "    * (why?) - if the order is _truly_ not associated with the response, it shouldn't matter if you start at the first entry.\n",
    "    \n",
    "* you must justify that the systematic method used _is not_ associated with any of the measured variables"
   ]
  },
  {
   "cell_type": "markdown",
   "metadata": {},
   "source": [
    "## Step-by-Step Example : Sampling\n",
    "\n",
    "* plan: state what you want to know\n",
    "* identify the W's of the study\n",
    "  * _why_ determines population and sampling frame\n",
    "  * _what_ identifies parameter of interest and variables measured\n",
    "  * _who_ is the sample we actually draw\n",
    "* sampling plan: specify the sampling method, and sample size $n$; specify:\n",
    "  * how the sample was actually drawn\n",
    "  * what is the sampling frame\n",
    "  * how was randomization perform\n",
    "  * description should be complete enough to allow others to replicate\n",
    "* sampling details: include how respondents were contacted, what incentives were offered to encourage response, how nonrespondents were treated, etc.\n",
    "* conclusion: \n",
    "  * discuss all elements of sampling\n",
    "  * include any special circumstances\n",
    "  * if appropriate, include details of the specific questions asked\n",
    "  * show a display of the data, provide and interpret the statistics from the sample, state conclusions"
   ]
  },
  {
   "cell_type": "markdown",
   "metadata": {},
   "source": [
    "## Defining the \"Who\"\n",
    "\n",
    "* define the group: it may be difficult to provide a clear definition of the group you want to study\n",
    "* specify the sampling frame: usually, the sampling from is not the group you _really_ want to know about; it limits what your survey can find out\n",
    "* note distinction between _target sample_ and _actual sample_: non-response is one of the main factors separating the two, and can be a major challenge\n",
    "* as a result, the actual sample might not be representative of the sampling frame or the population\n",
    "\n",
    "* each constraint can introduce biases into the final sample\n",
    "* a careful study should address the question of how well each group matches the population of interest"
   ]
  },
  {
   "cell_type": "markdown",
   "metadata": {},
   "source": [
    "## The Valid Survey\n",
    "\n",
    "A valid survey yields the information we are seeking about the population we are interested in.\n",
    "\n",
    "* Important preliminary questions\n",
    "  * What do I want to know?\n",
    "  * Am I asking the right respondents?\n",
    "  * Am I asking the right questions?\n",
    "  * What would I do with the answers if I had them; would they address the things I want to know?\n",
    "\n",
    "* Know what you want to know: understand what you hope to learn and about whom you hope to learn it.\n",
    "* Use the right frame: Have you identified the population of interest and sampled from it appropriately?\n",
    "* Avoid non-response bias by only asking necessary questions.  (longer questionnaires yield fewer responses)\n",
    "* Ask specific rather than general questions\n",
    "* Ask for quantitative results when possible\n",
    "* Be careful in framing questions: \n",
    "  * aim for understanding on the part of the respondent\n",
    "  * realize that respondents often won't ask for clarification\n",
    "  * respondents may answer dishonestly due to embarrassment, intimidation, insult, or to avoid offending\n",
    "* Avoid phrases with double meanings to avoid confusion\n",
    "* Be aware that subtle phrasing difference in questions can make a difference\n",
    "* Be careful in phrasing answers; strive for neutral values\n",
    "\n",
    "Consider doing a **pilot** survey, a trial run of the survey you eventually plan to give to a larger group, using a draft of the survey questions, administered to a small sample drawn from the same sampling frame you intend to use."
   ]
  },
  {
   "cell_type": "markdown",
   "metadata": {},
   "source": [
    "## Sampling Errors: How to Sample Badly\n",
    "\n",
    "* bad sample designs yield worthless data\n",
    "* many convenient forms of sampling can be seriously biased\n",
    "* there is no way to correct for the bias from a bad sample\n",
    "\n",
    "Some examples of poor sampling:\n",
    "\n",
    "### Voluntary Response Samplling\n",
    "\n",
    "* **voluntary response sample**: a large group of individuals is invited to respond, and all who do respond are counted\n",
    "  * almost always biased\n",
    "  * the sampling frame is often hard to define\n",
    "* the sample is not representative, even though every individual in the population may have been offered the chance to respond.  the resulting **voluntary response bias** invalidates the survey\n",
    "\n",
    "### Convenience Sampling\n",
    "\n",
    "* In **convenience sampling** we simply include the individuals who are convenient for us to sample.\n",
    "* e.g. an Internet convenience survey to measure internet access\n",
    "\n",
    "### Incomplete Sampling Frame\n",
    "\n",
    "* introduces bias because the individuals included may differ from the ones not in the frame\n",
    "\n",
    "### Undercoverage\n",
    "\n",
    "* in **undercoverage**, some portion of the population is not sampled at all or has a smaller representation in the sample"
   ]
  },
  {
   "cell_type": "markdown",
   "metadata": {},
   "source": [
    "## What Can Go Wrong?\n",
    "\n",
    "* watch out for nonrespondents\n",
    "* work hard to avoid influencing responses\n",
    "\n",
    "### How to Think About Biases\n",
    "\n",
    "* look for biases in any survey you encounter\n",
    "* spend your time and and resources reducing biases\n",
    "* if you can, pilot-test your survey, then refine survey based on results\n",
    "* always report your sampling methods in detail"
   ]
  },
  {
   "cell_type": "markdown",
   "metadata": {},
   "source": [
    "## What Have We Learned\n",
    "\n",
    "* [p. 298]"
   ]
  }
 ],
 "metadata": {
  "kernelspec": {
   "display_name": "Python 3",
   "language": "python",
   "name": "python3"
  },
  "language_info": {
   "codemirror_mode": {
    "name": "ipython",
    "version": 3
   },
   "file_extension": ".py",
   "mimetype": "text/x-python",
   "name": "python",
   "nbconvert_exporter": "python",
   "pygments_lexer": "ipython3",
   "version": "3.5.2"
  }
 },
 "nbformat": 4,
 "nbformat_minor": 2
}
