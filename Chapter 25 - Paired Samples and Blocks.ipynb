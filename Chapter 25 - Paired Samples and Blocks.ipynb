{
 "cells": [
  {
   "cell_type": "markdown",
   "metadata": {},
   "source": [
    "# Chapter 25 - Paired Samples and Blocks"
   ]
  },
  {
   "cell_type": "markdown",
   "metadata": {},
   "source": [
    "## Paired Data\n",
    "\n",
    "* **paired** data: data captured for:\n",
    "  * subjects compared with themselves before and after treatment,\n",
    "  * two related (non-independent) measurements\n",
    "* we typically care about the _difference_ in measurements within a pair; we treat the _difference_ as the data (effectively ignoring the original values)\n",
    "* we can use a simple one-sample $t$-test against the difference generated\n",
    "* **paired $t$-test**: just a one-sample $t$-test for the means of these pairwise differences"
   ]
  },
  {
   "cell_type": "markdown",
   "metadata": {},
   "source": [
    "## Assumptions and Conditions\n",
    "\n",
    "### Paired Data Assumption\n",
    "\n",
    "* the data must be paired\n",
    "* must justify claim that data are paired and not independent\n",
    "\n",
    "### Independence Assumption\n",
    "\n",
    "* **independence assumption**: across groups, the _differences_ must be independent; (the detailed, original values are not)\n",
    "* **randomization condition**\n",
    "\n",
    "### Normal Population Assumption\n",
    "\n",
    "* we need to assume that the population of _differences_ follows a Normal model\n",
    "* **nearly normal condition**: use a historgram or Normal probability plot of the _differences_ to check this"
   ]
  },
  {
   "cell_type": "markdown",
   "metadata": {},
   "source": [
    "### The Paired $t$-Test\n",
    "\n",
    "When the conditions are met, we are ready to test whether the mean of paired differences is significantly different from zero.  We test the hypothesis\n",
    "\n",
    "\\begin{equation}\n",
    "H_0: \\mu_d = \\Delta_0\n",
    "\\end{equation}\n",
    "\n",
    "where the $d$'s are the pairwise differences and $\\Delta_0$ is almost always 0.\n",
    "\n",
    "We use the statistic\n",
    "\n",
    "\\begin{equation}\n",
    "t_{n-1} = \\frac\n",
    "{\\bar{d} - \\Delta_0}\n",
    "{SE(\\bar{d})}\n",
    "\\end{equation}\n",
    "\n",
    "where $\\bar{d}$ is the mean of the pairwise differences, $n$ is the number of _pairs_, and \n",
    "\n",
    "\\begin{equation}\n",
    "SE(\\bar{d}) = \\frac\n",
    "{s_d}\n",
    "{\\sqrt{n}}\n",
    "\\end{equation}\n",
    "\n",
    "$SE(\\bar{d})$ is the ordinary standard error for the mean, applied to the differences.\n",
    "\n",
    "When the conditions are met and the null hypothesis is true, we can model the sampling distribution of this statistic with a Student's $t$-model with $n - 1$degrees of freedom, and we use that model to obtain a P-value."
   ]
  },
  {
   "cell_type": "markdown",
   "metadata": {},
   "source": [
    "## Step-by-Step Example: A Paired $t$-Test\n",
    "\n",
    "* Plan:\n",
    "  * state what you want to know\n",
    "  * identify the parameter we wish to estimate\n",
    "  * identify the variables and check the W's\n",
    "* Hypotheses:\n",
    "  * state the null and alternative hypotheses\n",
    "  * the difference should be in the same units as the original values\n",
    "* Model\n",
    "  * think about the assumptions and check the conditions\n",
    "  * state why you think data are paired\n",
    "  * identify source of randomization\n",
    "  * make a picture: plot distribution of _differences_\n",
    "  * specify the sampling distribution model\n",
    "  * choose the method\n",
    "* Mechanics\n",
    "  * $n$ is the number of pairs\n",
    "  * find mean and standard deviation of the differences\n",
    "  * find the standard error and t-score\n",
    "  * make a picture: sketch a t-model\n",
    "  * find the P-value\n",
    "* Conclusion\n",
    "  * link the P-value to your decision about $H_0$, and state your conclusion in context"
   ]
  },
  {
   "cell_type": "markdown",
   "metadata": {},
   "source": [
    "## Confidence Intervals for Matched Pairs\n",
    "\n",
    "### Paired $t$-Interval\n",
    "\n",
    "When the conditions are met, we are ready to find the confidence interval for the mean of the paried differences.  The confidence interval is\n",
    "\n",
    "\\begin{equation}\n",
    "\\bar{d} \\pm t^*_{n-1} \\times SE(\\bar{d})\n",
    "\\end{equation}\n",
    "\n",
    "where the standard error of the mean difference is $SE(\\bar{d}) = \\frac{s_d}{\\sqrt{n}}$.\n",
    "\n",
    "The critical value $t^*$ from the Student's $t$-model depends on the particular confidence level, $C$, that you specify and on the degrees of freedom, $n - 1$, which is based on the number of paris, $n$."
   ]
  },
  {
   "cell_type": "markdown",
   "metadata": {},
   "source": [
    "## Step-by-Step Example: A Paired $t$-Interval\n",
    "\n",
    "* Plan:\n",
    "  * state what we want to know\n",
    "  * identify the variables and check the W's\n",
    "  * identify the parameter you wish to estimate\n",
    "* Model:\n",
    "  * think about the assumptions and check the conditions\n",
    "  * make a picture: histogram or Normal probability plot of differences\n",
    "  * state the sampling distribution of the model\n",
    "  * choose your method\n",
    "* Mechanics\n",
    "  * $n$ is the number of pairs\n",
    "  * $\\bar{d}$ is the mean difference\n",
    "  * $s_d$ is the standard deviation of the differences\n",
    "  * include units with the statistics\n",
    "  * find the critical value at appropriate confidence level and # of df's\n",
    "* Conclusion\n",
    "  * interpret the confidence interval in context"
   ]
  },
  {
   "cell_type": "markdown",
   "metadata": {},
   "source": [
    "## Effect Size"
   ]
  },
  {
   "cell_type": "markdown",
   "metadata": {},
   "source": [
    "## Blocking\n",
    "\n",
    "### *The Sign Test Again"
   ]
  },
  {
   "cell_type": "markdown",
   "metadata": {},
   "source": [
    "## What Can Go Wrong?\n",
    "\n",
    "* Don't use a two-sample $t$-test when you have paired data.\n",
    "* Don't use a paired-$t$ method when the samples aren't paired.\n",
    "* Don't forget outliers\n",
    "* Don't look for the difference between the means of paired grups with side-by-side boxplots."
   ]
  },
  {
   "cell_type": "markdown",
   "metadata": {},
   "source": [
    "## What Have We Learned?\n",
    "\n",
    "* [p. 623]"
   ]
  }
 ],
 "metadata": {
  "kernelspec": {
   "display_name": "Python 3",
   "language": "python",
   "name": "python3"
  },
  "language_info": {
   "codemirror_mode": {
    "name": "ipython",
    "version": 3
   },
   "file_extension": ".py",
   "mimetype": "text/x-python",
   "name": "python",
   "nbconvert_exporter": "python",
   "pygments_lexer": "ipython3",
   "version": "3.5.2"
  }
 },
 "nbformat": 4,
 "nbformat_minor": 2
}
