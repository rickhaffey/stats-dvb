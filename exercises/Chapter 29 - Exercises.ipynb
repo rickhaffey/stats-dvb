{
 "cells": [
  {
   "cell_type": "markdown",
   "metadata": {},
   "source": [
    "# Chapter 29 - Exercises"
   ]
  },
  {
   "cell_type": "code",
   "execution_count": 2,
   "metadata": {
    "collapsed": true
   },
   "outputs": [],
   "source": [
    "from scipy import stats"
   ]
  },
  {
   "cell_type": "markdown",
   "metadata": {},
   "source": [
    "## 29.1\n",
    "\n",
    "### Answers\n",
    "\n",
    "* a) \n",
    "  - H0: mean uncooked kernels is equal across power levels \n",
    "  - HA: not all power level show the same mean unpopped kernels\n",
    "\n",
    "  - H0: mean uncooked kernels is equal acruoss time ranges\n",
    "  - HA: not all time ranges show the same mean unpopped kernels\n",
    "* b)\n",
    "  - power: 2 (3-1), times: 2 (3-1), error: 4 (6-2)\n",
    "* c) no; unreplicated two-factor design"
   ]
  },
  {
   "cell_type": "markdown",
   "metadata": {},
   "source": [
    "## 29.3\n",
    "\n",
    "### Answers\n",
    "\n",
    "* a) see below\n",
    "* b) reject H0 in both cases; evidence support claims of different mean unpopped kernels across powers and times\n",
    "* c) side-by-side partial boxplots; Normal probability plot of residuals;"
   ]
  },
  {
   "cell_type": "code",
   "execution_count": 6,
   "metadata": {},
   "outputs": [
    {
     "name": "stdout",
     "output_type": "stream",
     "text": [
      "P-value (power): 0.016521170227529556\n",
      "P-value (time): 0.030995834159888918\n"
     ]
    }
   ],
   "source": [
    "p_power = stats.f.sf(13.56, 2, 4)\n",
    "p_time = stats.f.sf(9.36, 2, 4)\n",
    "\n",
    "print(\"P-value (power): {}\".format(p_power))\n",
    "print(\"P-value (time): {}\".format(p_time))"
   ]
  },
  {
   "cell_type": "markdown",
   "metadata": {},
   "source": [
    "## 29.5\n",
    "\n",
    "### Answers\n",
    "\n",
    "* a)\n",
    "  - H0: mean head injury is equal across seats; $\\mu_{driver} = \\mu_{passenger}$\n",
    "  - HA: mean head injury differs across seats\n",
    "  - H0: mean head injury is equal across vehicle size\n",
    "  - HA: mean head injury differs across vehicle size\n",
    "* b) yes; appear to have equal variances across groups; some outliers, but looks like we can continue with analysis as-is; predicted vs. residuals shows no clear patterns\n",
    "* c) \n",
    "    - seat: F = 25.501, P-value < 0.0001 => reject H0, evidence supports claim of a difference in means across seats\n",
    "    - size: F = 8.581, P-value < 0.0001 => reject H0, evidence supports claim of a difference in means across sizes"
   ]
  },
  {
   "cell_type": "markdown",
   "metadata": {},
   "source": [
    "## 29.7\n",
    "\n",
    "### Answers\n",
    "\n",
    "\n",
    "* a) This should be a chi-square test, not ANOVA; the intent of this study should be to look for independence across groups, not compare means across groups. \n",
    "* b) see above"
   ]
  },
  {
   "cell_type": "markdown",
   "metadata": {},
   "source": [
    "## 29.9\n",
    "\n",
    "### Answers\n",
    "\n",
    "* chi-square stat: 14.51, P-value: 0.0023; reject H0 (baldness and heart disease are independent)"
   ]
  },
  {
   "cell_type": "code",
   "execution_count": 9,
   "metadata": {},
   "outputs": [
    {
     "data": {
      "text/plain": [
       "(14.510189031120616,\n",
       " 0.0022868832848907308,\n",
       " 3,\n",
       " array([[268.89616725, 313.10383275],\n",
       "        [178.34006969, 207.65993031],\n",
       "        [175.56794425, 204.43205575],\n",
       "        [ 40.19581882,  46.80418118]]))"
      ]
     },
     "execution_count": 9,
     "metadata": {},
     "output_type": "execute_result"
    }
   ],
   "source": [
    "arr = [[251, 331], [165, 221], [195, 185], [52, 35]]\n",
    "stats.chi2_contingency(arr)"
   ]
  },
  {
   "cell_type": "markdown",
   "metadata": {},
   "source": [
    "## 29.11\n",
    "\n",
    "### Answers\n",
    "\n",
    "* \n"
   ]
  },
  {
   "cell_type": "markdown",
   "metadata": {},
   "source": [
    "## 29.13\n",
    "\n",
    "### Answers\n",
    "\n",
    "* \n"
   ]
  },
  {
   "cell_type": "markdown",
   "metadata": {},
   "source": [
    "## 29.15\n",
    "\n",
    "### Answers\n",
    "\n",
    "* \n"
   ]
  },
  {
   "cell_type": "markdown",
   "metadata": {},
   "source": [
    "## 29.17\n",
    "\n",
    "### Answers\n",
    "\n",
    "* \n"
   ]
  },
  {
   "cell_type": "markdown",
   "metadata": {},
   "source": [
    "## 29.19\n",
    "\n",
    "### Answers\n",
    "\n",
    "* \n"
   ]
  },
  {
   "cell_type": "markdown",
   "metadata": {},
   "source": [
    "## 29.21\n",
    "\n",
    "### Answers\n",
    "\n",
    "* \n"
   ]
  }
 ],
 "metadata": {
  "kernelspec": {
   "display_name": "Python 3",
   "language": "python",
   "name": "python3"
  },
  "language_info": {
   "codemirror_mode": {
    "name": "ipython",
    "version": 3
   },
   "file_extension": ".py",
   "mimetype": "text/x-python",
   "name": "python",
   "nbconvert_exporter": "python",
   "pygments_lexer": "ipython3",
   "version": "3.5.2"
  }
 },
 "nbformat": 4,
 "nbformat_minor": 2
}
