{
 "cells": [
  {
   "cell_type": "markdown",
   "metadata": {},
   "source": [
    "# Chapter 29 - Exercises"
   ]
  },
  {
   "cell_type": "code",
   "execution_count": 1,
   "metadata": {
    "collapsed": true
   },
   "outputs": [],
   "source": [
    "from scipy import stats\n",
    "\n",
    "import pandas as pd\n",
    "from statsmodels.formula.api import ols\n",
    "from statsmodels.stats.anova import anova_lm\n",
    "from statsmodels.graphics.factorplots import interaction_plot\n",
    "\n",
    "%matplotlib inline"
   ]
  },
  {
   "cell_type": "markdown",
   "metadata": {},
   "source": [
    "## 29.1\n",
    "\n",
    "### Answers\n",
    "\n",
    "* a) \n",
    "  - H0: mean uncooked kernels is equal across power levels \n",
    "  - HA: not all power level show the same mean unpopped kernels\n",
    "\n",
    "  - H0: mean uncooked kernels is equal acruoss time ranges\n",
    "  - HA: not all time ranges show the same mean unpopped kernels\n",
    "* b)\n",
    "  - power: 2 (3-1), times: 2 (3-1), error: 4 (6-2)\n",
    "* c) no; unreplicated two-factor design"
   ]
  },
  {
   "cell_type": "markdown",
   "metadata": {},
   "source": [
    "## 29.3\n",
    "\n",
    "### Answers\n",
    "\n",
    "* a) see below\n",
    "* b) reject H0 in both cases; evidence support claims of different mean unpopped kernels across powers and times\n",
    "* c) side-by-side partial boxplots; Normal probability plot of residuals;"
   ]
  },
  {
   "cell_type": "code",
   "execution_count": 6,
   "metadata": {},
   "outputs": [
    {
     "name": "stdout",
     "output_type": "stream",
     "text": [
      "P-value (power): 0.016521170227529556\n",
      "P-value (time): 0.030995834159888918\n"
     ]
    }
   ],
   "source": [
    "p_power = stats.f.sf(13.56, 2, 4)\n",
    "p_time = stats.f.sf(9.36, 2, 4)\n",
    "\n",
    "print(\"P-value (power): {}\".format(p_power))\n",
    "print(\"P-value (time): {}\".format(p_time))"
   ]
  },
  {
   "cell_type": "markdown",
   "metadata": {},
   "source": [
    "## 29.5\n",
    "\n",
    "### Answers\n",
    "\n",
    "* a)\n",
    "  - H0: mean head injury is equal across seats; $\\mu_{driver} = \\mu_{passenger}$\n",
    "  - HA: mean head injury differs across seats\n",
    "  - H0: mean head injury is equal across vehicle size\n",
    "  - HA: mean head injury differs across vehicle size\n",
    "* b) yes; appear to have equal variances across groups; some outliers, but looks like we can continue with analysis as-is; predicted vs. residuals shows no clear patterns\n",
    "* c) \n",
    "    - seat: F = 25.501, P-value < 0.0001 => reject H0, evidence supports claim of a difference in means across seats\n",
    "    - size: F = 8.581, P-value < 0.0001 => reject H0, evidence supports claim of a difference in means across sizes"
   ]
  },
  {
   "cell_type": "markdown",
   "metadata": {},
   "source": [
    "## 29.7\n",
    "\n",
    "### Answers\n",
    "\n",
    "\n",
    "* a) This should be a chi-square test, not ANOVA; the intent of this study should be to look for independence across groups, not compare means across groups. \n",
    "* b) see above"
   ]
  },
  {
   "cell_type": "markdown",
   "metadata": {},
   "source": [
    "## 29.9\n",
    "\n",
    "### Answers\n",
    "\n",
    "* chi-square stat: 14.51, P-value: 0.0023; reject H0 (baldness and heart disease are independent)"
   ]
  },
  {
   "cell_type": "code",
   "execution_count": 9,
   "metadata": {},
   "outputs": [
    {
     "data": {
      "text/plain": [
       "(14.510189031120616,\n",
       " 0.0022868832848907308,\n",
       " 3,\n",
       " array([[268.89616725, 313.10383275],\n",
       "        [178.34006969, 207.65993031],\n",
       "        [175.56794425, 204.43205575],\n",
       "        [ 40.19581882,  46.80418118]]))"
      ]
     },
     "execution_count": 9,
     "metadata": {},
     "output_type": "execute_result"
    }
   ],
   "source": [
    "arr = [[251, 331], [165, 221], [195, 185], [52, 35]]\n",
    "stats.chi2_contingency(arr)"
   ]
  },
  {
   "cell_type": "markdown",
   "metadata": {},
   "source": [
    "## 29.11\n",
    "\n",
    "### Answers\n",
    "\n",
    "* a)\n",
    " - H0: mean shots made is equal across shoes\n",
    " - HA: mean shots made differs across shoes\n",
    " - H0: mean shots made is equal across time of day\n",
    " - HA: mean shots made differs across time of day\n",
    "* b) see below"
   ]
  },
  {
   "cell_type": "code",
   "execution_count": 7,
   "metadata": {},
   "outputs": [
    {
     "data": {
      "text/html": [
       "<div>\n",
       "<table border=\"1\" class=\"dataframe\">\n",
       "  <thead>\n",
       "    <tr style=\"text-align: right;\">\n",
       "      <th></th>\n",
       "      <th>time</th>\n",
       "      <th>shoes</th>\n",
       "      <th>shots_made</th>\n",
       "    </tr>\n",
       "  </thead>\n",
       "  <tbody>\n",
       "    <tr>\n",
       "      <th>0</th>\n",
       "      <td>Morning</td>\n",
       "      <td>Others</td>\n",
       "      <td>25</td>\n",
       "    </tr>\n",
       "    <tr>\n",
       "      <th>1</th>\n",
       "      <td>Morning</td>\n",
       "      <td>Others</td>\n",
       "      <td>26</td>\n",
       "    </tr>\n",
       "    <tr>\n",
       "      <th>2</th>\n",
       "      <td>Night</td>\n",
       "      <td>Others</td>\n",
       "      <td>27</td>\n",
       "    </tr>\n",
       "    <tr>\n",
       "      <th>3</th>\n",
       "      <td>Night</td>\n",
       "      <td>Others</td>\n",
       "      <td>27</td>\n",
       "    </tr>\n",
       "    <tr>\n",
       "      <th>4</th>\n",
       "      <td>Morning</td>\n",
       "      <td>Favorite</td>\n",
       "      <td>32</td>\n",
       "    </tr>\n",
       "  </tbody>\n",
       "</table>\n",
       "</div>"
      ],
      "text/plain": [
       "      time     shoes  shots_made\n",
       "0  Morning    Others          25\n",
       "1  Morning    Others          26\n",
       "2    Night    Others          27\n",
       "3    Night    Others          27\n",
       "4  Morning  Favorite          32"
      ]
     },
     "execution_count": 7,
     "metadata": {},
     "output_type": "execute_result"
    }
   ],
   "source": [
    "d = [\n",
    "    [\"Morning\", \"Others\", 25],\n",
    "    [\"Morning\", \"Others\", 26],\n",
    "    [\"Night\", \"Others\", 27],\n",
    "    [\"Night\", \"Others\", 27],\n",
    "    [\"Morning\", \"Favorite\", 32],\n",
    "    [\"Morning\", \"Favorite\", 22],\n",
    "    [\"Night\", \"Favorite\", 30],\n",
    "    [\"Night\", \"Favorite\", 34],\n",
    "    [\"Morning\", \"Others\", 35],\n",
    "    [\"Morning\", \"Others\", 34],\n",
    "    [\"Night\", \"Others\", 33],\n",
    "    [\"Night\", \"Others\", 30],\n",
    "    [\"Morning\", \"Favorite\", 33],\n",
    "    [\"Morning\", \"Favorite\", 37],\n",
    "    [\"Night\", \"Favorite\", 36],\n",
    "    [\"Night\", \"Favorite\", 38]\n",
    "]\n",
    "data = pd.DataFrame(d, columns=[\"time\", \"shoes\", \"shots_made\"])\n",
    "data.head()"
   ]
  },
  {
   "cell_type": "code",
   "execution_count": 22,
   "metadata": {},
   "outputs": [
    {
     "data": {
      "image/png": "[encoded data removed]",
      "text/plain": [
       "<matplotlib.figure.Figure at 0x11b920fd0>"
      ]
     },
     "metadata": {},
     "output_type": "display_data"
    }
   ],
   "source": [
    "interaction_plot(data.shoes, data.time, data.shots_made);"
   ]
  },
  {
   "cell_type": "code",
   "execution_count": 46,
   "metadata": {},
   "outputs": [
    {
     "data": {
      "text/html": [
       "<div>\n",
       "<table border=\"1\" class=\"dataframe\">\n",
       "  <thead>\n",
       "    <tr style=\"text-align: right;\">\n",
       "      <th></th>\n",
       "      <th>time</th>\n",
       "      <th>shoes</th>\n",
       "      <th>shots_made</th>\n",
       "      <th>time_resid</th>\n",
       "      <th>shoes_resid</th>\n",
       "    </tr>\n",
       "  </thead>\n",
       "  <tbody>\n",
       "    <tr>\n",
       "      <th>0</th>\n",
       "      <td>Morning</td>\n",
       "      <td>Others</td>\n",
       "      <td>25</td>\n",
       "      <td>-5.500</td>\n",
       "      <td>-4.625</td>\n",
       "    </tr>\n",
       "    <tr>\n",
       "      <th>1</th>\n",
       "      <td>Morning</td>\n",
       "      <td>Others</td>\n",
       "      <td>26</td>\n",
       "      <td>-4.500</td>\n",
       "      <td>-3.625</td>\n",
       "    </tr>\n",
       "    <tr>\n",
       "      <th>2</th>\n",
       "      <td>Night</td>\n",
       "      <td>Others</td>\n",
       "      <td>27</td>\n",
       "      <td>-4.875</td>\n",
       "      <td>-2.625</td>\n",
       "    </tr>\n",
       "    <tr>\n",
       "      <th>3</th>\n",
       "      <td>Night</td>\n",
       "      <td>Others</td>\n",
       "      <td>27</td>\n",
       "      <td>-4.875</td>\n",
       "      <td>-2.625</td>\n",
       "    </tr>\n",
       "    <tr>\n",
       "      <th>4</th>\n",
       "      <td>Morning</td>\n",
       "      <td>Favorite</td>\n",
       "      <td>32</td>\n",
       "      <td>1.500</td>\n",
       "      <td>-0.750</td>\n",
       "    </tr>\n",
       "  </tbody>\n",
       "</table>\n",
       "</div>"
      ],
      "text/plain": [
       "      time     shoes  shots_made  time_resid  shoes_resid\n",
       "0  Morning    Others          25      -5.500       -4.625\n",
       "1  Morning    Others          26      -4.500       -3.625\n",
       "2    Night    Others          27      -4.875       -2.625\n",
       "3    Night    Others          27      -4.875       -2.625\n",
       "4  Morning  Favorite          32       1.500       -0.750"
      ]
     },
     "execution_count": 46,
     "metadata": {},
     "output_type": "execute_result"
    }
   ],
   "source": [
    "data['time_resid'] = ols('shots_made ~ time', data).fit().resid\n",
    "data['shoes_resid'] = ols('shots_made ~ shoes', data).fit().resid\n",
    "data.head()"
   ]
  },
  {
   "cell_type": "code",
   "execution_count": 42,
   "metadata": {},
   "outputs": [
    {
     "data": {
      "image/png": "[encoded data removed]",
      "text/plain": [
       "<matplotlib.figure.Figure at 0x11bed5eb8>"
      ]
     },
     "metadata": {},
     "output_type": "display_data"
    }
   ],
   "source": [
    "data.boxplot(column=\"shots_made\", by=\"shoes\");"
   ]
  },
  {
   "cell_type": "code",
   "execution_count": 45,
   "metadata": {},
   "outputs": [
    {
     "data": {
      "image/png": "[encoded data removed]",
      "text/plain": [
       "<matplotlib.figure.Figure at 0x11c3f4e80>"
      ]
     },
     "metadata": {},
     "output_type": "display_data"
    }
   ],
   "source": [
    "data.boxplot(column=\"time_resid\", by=\"shoes\");"
   ]
  },
  {
   "cell_type": "code",
   "execution_count": 43,
   "metadata": {},
   "outputs": [
    {
     "data": {
      "image/png": "[encoded data removed]",
      "text/plain": [
       "<matplotlib.figure.Figure at 0x11c0d0e10>"
      ]
     },
     "metadata": {},
     "output_type": "display_data"
    }
   ],
   "source": [
    "data.boxplot(column=\"shots_made\", by=\"time\");"
   ]
  },
  {
   "cell_type": "code",
   "execution_count": 41,
   "metadata": {},
   "outputs": [
    {
     "data": {
      "image/png": "[encoded data removed]",
      "text/plain": [
       "<matplotlib.figure.Figure at 0x11bead6d8>"
      ]
     },
     "metadata": {},
     "output_type": "display_data"
    }
   ],
   "source": [
    "data.boxplot(column=\"shoes_resid\", by=\"time\");"
   ]
  },
  {
   "cell_type": "code",
   "execution_count": 8,
   "metadata": {},
   "outputs": [
    {
     "name": "stdout",
     "output_type": "stream",
     "text": [
      "            sum_sq    df         F    PR(>F)\n",
      "C(time)     7.5625   1.0  0.348858  0.564888\n",
      "C(shoes)   39.0625   1.0  1.801952  0.202450\n",
      "Residual  281.8125  13.0       NaN       NaN\n"
     ]
    }
   ],
   "source": [
    "formula = 'shots_made ~ C(time) + C(shoes)'\n",
    "model = ols(formula, data).fit()\n",
    "aov_table = anova_lm(model, typ=2)\n",
    "print(aov_table)"
   ]
  },
  {
   "cell_type": "markdown",
   "metadata": {},
   "source": [
    "## 29.13\n",
    "\n",
    "### Answers\n",
    "\n",
    "* a)\n",
    "  - H0: mean adjusted # of sprouts is the same across salinity levels\n",
    "  - HA: mean adjusted # of sprouts differs across salinity levels\n",
    "  - H0: mean adjusted # of sprouts is the same across temperature levels\n",
    "  - H0: mean adjusted # of sprouts differs across temperature levels\n",
    "* b) \n",
    "  - Salinity: F-ratio: 23.657, P-Value < 0.0001 => reject H0; evidence supports claim of difference in means\n",
    "  - Temperature: F-ratio: 1.014, P-Value 0.3779 => fail to reject H0; evidence doesn't support claim of difference in means\n",
    "  - Interaction term: fail to reject H0"
   ]
  },
  {
   "cell_type": "markdown",
   "metadata": {},
   "source": [
    "## 29.15\n",
    "\n",
    "### Answers\n",
    "\n",
    "- Type: F-ratio = 2712.2, P-Value < 0.0001 => reject H0\n",
    "- Additive: F-ratio = 21.57, P-Value < 0.0001 => reject H0\n",
    "- Type X Additive: F-ratio: 6.0736, P-Value: 0.0042 => reject H0\n",
    "=> Strong evidence to support claims of differing means across both type and additive, as well as variation by the interaction term\n",
    " \n",
    "Residuals plot shows a clear increase in reseidual variance as predicted values increase.  This is a concern from an underlying assumptions standpoint.  Needs further investigation"
   ]
  },
  {
   "cell_type": "markdown",
   "metadata": {},
   "source": [
    "## 29.17\n",
    "\n",
    "### Answers\n",
    "\n",
    "* ?? Not sure how to re-do the analysis without the original data..."
   ]
  },
  {
   "cell_type": "markdown",
   "metadata": {},
   "source": [
    "## 29.19\n",
    "\n",
    "### Answers\n",
    "\n",
    "* a)\n",
    " - H0: mean time to failure is equal across brands\n",
    " - HA: mean time to failure differs across brands\n",
    " - H0: mean time to failure is equal across environment\n",
    " - H0: mean time to failure differs across environment\n",
    "* b) Brand doesn't look to be associated with differences in ttf: means are fairly similar; environment does appear to be associated.\n",
    "* c) Yes - environment shows very low P-value, brand P-value > 0.05, so not significant at that level; interaction term shows a high F-ratio/low P-value: corresponding, presumably, to the association branc C shows with environment\n",
    "* d) Brand C shows what appears to be an association between brand and environment\n",
    "* e) At room temperature, that brand seems to show the worst performance in regards to mean ttf."
   ]
  },
  {
   "cell_type": "markdown",
   "metadata": {},
   "source": [
    "## 29.21\n",
    "\n",
    "### Answers\n",
    "\n",
    "* Although this analysis shows some of the same findings as seen with the two-factor ANOVA, it's harder to understand the associations at the group level, and how those interact.  Two-factor ANOVA seems to be the more appropriate analysis to answer the questions behind this problem."
   ]
  }
 ],
 "metadata": {
  "kernelspec": {
   "display_name": "Python 3",
   "language": "python",
   "name": "python3"
  },
  "language_info": {
   "codemirror_mode": {
    "name": "ipython",
    "version": 3
   },
   "file_extension": ".py",
   "mimetype": "text/x-python",
   "name": "python",
   "nbconvert_exporter": "python",
   "pygments_lexer": "ipython3",
   "version": "3.5.2"
  }
 },
 "nbformat": 4,
 "nbformat_minor": 2
}
