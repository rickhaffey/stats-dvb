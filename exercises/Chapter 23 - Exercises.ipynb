{
 "cells": [
  {
   "cell_type": "markdown",
   "metadata": {},
   "source": [
    "# Chapter 23 - Exercises"
   ]
  },
  {
   "cell_type": "code",
   "execution_count": 2,
   "metadata": {
    "collapsed": true
   },
   "outputs": [],
   "source": [
    "# imports\n",
    "from scipy import stats"
   ]
  },
  {
   "cell_type": "markdown",
   "metadata": {},
   "source": [
    "## 23.1\n",
    "\n",
    "### Answers\n",
    "\n",
    "* see below\n",
    "* a) 1.74\n",
    "* b) 2.37\n",
    "* c) 0.052\n",
    "* d) 0.089"
   ]
  },
  {
   "cell_type": "code",
   "execution_count": 12,
   "metadata": {},
   "outputs": [
    {
     "data": {
      "text/plain": [
       "1.7396067260750672"
      ]
     },
     "execution_count": 12,
     "metadata": {},
     "output_type": "execute_result"
    }
   ],
   "source": [
    "# a\n",
    "alpha = (1 - .9) / 2\n",
    "stats.t.ppf(1 - alpha, 17)"
   ]
  },
  {
   "cell_type": "code",
   "execution_count": 13,
   "metadata": {},
   "outputs": [
    {
     "data": {
      "text/plain": [
       "2.3694722739983134"
      ]
     },
     "execution_count": 13,
     "metadata": {},
     "output_type": "execute_result"
    }
   ],
   "source": [
    "# b\n",
    "alpha = (1 - .98) / 2\n",
    "stats.t.ppf(1 - alpha, 88)"
   ]
  },
  {
   "cell_type": "code",
   "execution_count": 8,
   "metadata": {},
   "outputs": [
    {
     "data": {
      "text/plain": [
       "0.052415358557870051"
      ]
     },
     "execution_count": 8,
     "metadata": {},
     "output_type": "execute_result"
    }
   ],
   "source": [
    "# c\n",
    "1 - stats.t.cdf(2.09, 4)"
   ]
  },
  {
   "cell_type": "code",
   "execution_count": 17,
   "metadata": {},
   "outputs": [
    {
     "data": {
      "text/plain": [
       "0.088893910704166856"
      ]
     },
     "execution_count": 17,
     "metadata": {},
     "output_type": "execute_result"
    }
   ],
   "source": [
    "# d\n",
    "2* (1 - stats.t.cdf(1.78, 22))"
   ]
  },
  {
   "cell_type": "markdown",
   "metadata": {},
   "source": [
    "## 23.3\n",
    "\n",
    "### Answers\n",
    "\n",
    "* shape: unimodal, bell-shaped, \"approximately normal\"\n",
    "* center: no change\n",
    "* spread: narrows"
   ]
  },
  {
   "cell_type": "markdown",
   "metadata": {},
   "source": [
    "## 23.5\n",
    "\n",
    "### Answers\n",
    "\n",
    "* a) wrong - the ci is about the mean, this statement is about individual cows\n",
    "* b) wrong - still about individuals, ci makes a statement about the mean\n",
    "* c) correct\n",
    "* d) wrong - this implies that the average changes - the average is constant, even though the sample average varies\n",
    "* e) wrong - the current sample doesn't determine the average of other samples"
   ]
  },
  {
   "cell_type": "markdown",
   "metadata": {},
   "source": [
    "## 23.7\n",
    "\n",
    "### Answers\n",
    "\n",
    "* a) wrong - the certainty isn't around the amount paid by individual students, it's around the mean\n",
    "* b) wrong - this is still talking about individual students\n",
    "* c) wrong - we're 100% sure what the actual point average is for the sample\n",
    "* d) wrong - the ci we derive from this sample doesn't determine the average obtained by other samples\n",
    "* e) correct - our confidence is around the true average falling within the range calculated based on our sample"
   ]
  },
  {
   "cell_type": "markdown",
   "metadata": {},
   "source": [
    "## 23.9\n",
    "\n",
    "### Answers\n",
    "\n",
    "* a) we are 95% confident that the true mean pulse rate falls between 70.89 and 74.50\n",
    "* b) ME = 1.8047\n",
    "* c) larger - we'd need to expand the margin in order to be that much more confident that we captured the true mean"
   ]
  },
  {
   "cell_type": "code",
   "execution_count": 19,
   "metadata": {},
   "outputs": [
    {
     "data": {
      "text/plain": [
       "1.8047035000000022"
      ]
     },
     "execution_count": 19,
     "metadata": {},
     "output_type": "execute_result"
    }
   ],
   "source": [
    "# b\n",
    "(74.497011 - 70.887604) / 2"
   ]
  },
  {
   "cell_type": "markdown",
   "metadata": {},
   "source": [
    "## 23.11\n",
    "\n",
    "### Answers\n",
    "\n",
    "* The data is strongly skewed, has a clear outlier, and also has a relatively low sample size (calling for use of the $t$-distribution model)"
   ]
  },
  {
   "cell_type": "markdown",
   "metadata": {},
   "source": [
    "## \n",
    "\n",
    "### Answers\n",
    "\n",
    "* \n"
   ]
  },
  {
   "cell_type": "markdown",
   "metadata": {},
   "source": [
    "## \n",
    "\n",
    "### Answers\n",
    "\n",
    "* \n"
   ]
  },
  {
   "cell_type": "markdown",
   "metadata": {},
   "source": [
    "## \n",
    "\n",
    "### Answers\n",
    "\n",
    "* \n"
   ]
  },
  {
   "cell_type": "code",
   "execution_count": null,
   "metadata": {
    "collapsed": true
   },
   "outputs": [],
   "source": []
  }
 ],
 "metadata": {
  "kernelspec": {
   "display_name": "Python 3",
   "language": "python",
   "name": "python3"
  },
  "language_info": {
   "codemirror_mode": {
    "name": "ipython",
    "version": 3
   },
   "file_extension": ".py",
   "mimetype": "text/x-python",
   "name": "python",
   "nbconvert_exporter": "python",
   "pygments_lexer": "ipython3",
   "version": "3.5.2"
  }
 },
 "nbformat": 4,
 "nbformat_minor": 2
}
