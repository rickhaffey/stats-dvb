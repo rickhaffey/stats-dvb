{
 "cells": [
  {
   "cell_type": "markdown",
   "metadata": {},
   "source": [
    "# Chapter 23 - Exercises"
   ]
  },
  {
   "cell_type": "code",
   "execution_count": 5,
   "metadata": {
    "collapsed": true
   },
   "outputs": [],
   "source": [
    "# imports\n",
    "from scipy import stats\n",
    "import math\n",
    "import statistics\n",
    "\n",
    "import matplotlib.pyplot as plt\n",
    "%matplotlib inline"
   ]
  },
  {
   "cell_type": "markdown",
   "metadata": {},
   "source": [
    "## 23.1\n",
    "\n",
    "### Answers\n",
    "\n",
    "* see below\n",
    "* a) 1.74\n",
    "* b) 2.37\n",
    "* c) 0.052\n",
    "* d) 0.089"
   ]
  },
  {
   "cell_type": "code",
   "execution_count": 12,
   "metadata": {},
   "outputs": [
    {
     "data": {
      "text/plain": [
       "1.7396067260750672"
      ]
     },
     "execution_count": 12,
     "metadata": {},
     "output_type": "execute_result"
    }
   ],
   "source": [
    "# a\n",
    "alpha = (1 - .9) / 2\n",
    "stats.t.ppf(1 - alpha, 17)"
   ]
  },
  {
   "cell_type": "code",
   "execution_count": 13,
   "metadata": {},
   "outputs": [
    {
     "data": {
      "text/plain": [
       "2.3694722739983134"
      ]
     },
     "execution_count": 13,
     "metadata": {},
     "output_type": "execute_result"
    }
   ],
   "source": [
    "# b\n",
    "alpha = (1 - .98) / 2\n",
    "stats.t.ppf(1 - alpha, 88)"
   ]
  },
  {
   "cell_type": "code",
   "execution_count": 8,
   "metadata": {},
   "outputs": [
    {
     "data": {
      "text/plain": [
       "0.052415358557870051"
      ]
     },
     "execution_count": 8,
     "metadata": {},
     "output_type": "execute_result"
    }
   ],
   "source": [
    "# c\n",
    "1 - stats.t.cdf(2.09, 4)"
   ]
  },
  {
   "cell_type": "code",
   "execution_count": 17,
   "metadata": {},
   "outputs": [
    {
     "data": {
      "text/plain": [
       "0.088893910704166856"
      ]
     },
     "execution_count": 17,
     "metadata": {},
     "output_type": "execute_result"
    }
   ],
   "source": [
    "# d\n",
    "2* (1 - stats.t.cdf(1.78, 22))"
   ]
  },
  {
   "cell_type": "markdown",
   "metadata": {},
   "source": [
    "## 23.3\n",
    "\n",
    "### Answers\n",
    "\n",
    "* shape: unimodal, bell-shaped, \"approximately normal\"\n",
    "* center: no change\n",
    "* spread: narrows"
   ]
  },
  {
   "cell_type": "markdown",
   "metadata": {},
   "source": [
    "## 23.5\n",
    "\n",
    "### Answers\n",
    "\n",
    "* a) wrong - the ci is about the mean, this statement is about individual cows\n",
    "* b) wrong - still about individuals, ci makes a statement about the mean\n",
    "* c) correct\n",
    "* d) wrong - this implies that the average changes - the average is constant, even though the sample average varies\n",
    "* e) wrong - the current sample doesn't determine the average of other samples"
   ]
  },
  {
   "cell_type": "markdown",
   "metadata": {},
   "source": [
    "## 23.7\n",
    "\n",
    "### Answers\n",
    "\n",
    "* a) wrong - the certainty isn't around the amount paid by individual students, it's around the mean\n",
    "* b) wrong - this is still talking about individual students\n",
    "* c) wrong - we're 100% sure what the actual point average is for the sample\n",
    "* d) wrong - the ci we derive from this sample doesn't determine the average obtained by other samples\n",
    "* e) correct - our confidence is around the true average falling within the range calculated based on our sample"
   ]
  },
  {
   "cell_type": "markdown",
   "metadata": {},
   "source": [
    "## 23.9\n",
    "\n",
    "### Answers\n",
    "\n",
    "* a) we are 95% confident that the true mean pulse rate falls between 70.89 and 74.50\n",
    "* b) ME = 1.8047\n",
    "* c) larger - we'd need to expand the margin in order to be that much more confident that we captured the true mean"
   ]
  },
  {
   "cell_type": "code",
   "execution_count": 19,
   "metadata": {},
   "outputs": [
    {
     "data": {
      "text/plain": [
       "1.8047035000000022"
      ]
     },
     "execution_count": 19,
     "metadata": {},
     "output_type": "execute_result"
    }
   ],
   "source": [
    "# b\n",
    "(74.497011 - 70.887604) / 2"
   ]
  },
  {
   "cell_type": "markdown",
   "metadata": {},
   "source": [
    "## 23.11\n",
    "\n",
    "### Answers\n",
    "\n",
    "* The data is strongly skewed, has a clear outlier, and also has a relatively low sample size (calling for use of the $t$-distribution model)"
   ]
  },
  {
   "cell_type": "markdown",
   "metadata": {},
   "source": [
    "## 23.13\n",
    "\n",
    "### Answers\n",
    "\n",
    "* a) data was randomly selected, < 10% of pop; nearly normal -- no clear mode, not heavily skewed, approximately normal\n",
    "* b) (98.06, 98.51)\n",
    "* c) We are 98% confident that the mean temperature is captured by the range 98.06 and 98.51.\n",
    "* d) 98% of samples drawn this way will generate an interval that captures the true mean.\n",
    "* e) They suggest that, at least for adults, is lower than the typically accepted average."
   ]
  },
  {
   "cell_type": "code",
   "execution_count": 10,
   "metadata": {},
   "outputs": [
    {
     "name": "stdout",
     "output_type": "stream",
     "text": [
      "t*: 2.401717525354525\n"
     ]
    },
    {
     "data": {
      "text/plain": [
       "(98.05772101904985, 98.285, 98.512278980950143)"
      ]
     },
     "execution_count": 10,
     "metadata": {},
     "output_type": "execute_result"
    }
   ],
   "source": [
    "# b\n",
    "\n",
    "n = 52\n",
    "yBar= 98.285\n",
    "s = 0.6824\n",
    "se = s / math.sqrt(n)\n",
    "\n",
    "t = stats.t.ppf(0.99, n - 1)\n",
    "print(\"t*: {}\".format(t))\n",
    "\n",
    "(yBar - t * se, yBar, yBar + t * se)"
   ]
  },
  {
   "cell_type": "markdown",
   "metadata": {},
   "source": [
    "## 23.15\n",
    "\n",
    "### Answers\n",
    "\n",
    "* a) narrower - the lower confidence demands allow us to give a more \"precise\" answer\n",
    "* b) adv - greater chance of capturing the true value; dis - wider range\n",
    "* c) the range would narrow - the standard error decreases as sample size increases (given that the formula involves the sqrt of the sample size in the denominator)\n",
    "* d) around 260 (see below)"
   ]
  },
  {
   "cell_type": "code",
   "execution_count": 28,
   "metadata": {},
   "outputs": [
    {
     "name": "stdout",
     "output_type": "stream",
     "text": [
      "n: 260, t: 2.340831498309307, me: 0.09906551392402341\n"
     ]
    }
   ],
   "source": [
    "# d\n",
    "me = 1\n",
    "n = 50\n",
    "while me > 0.1:\n",
    "    n += 10\n",
    "    t = stats.t.ppf(0.99, n - 1)\n",
    "    me = t * s / math.sqrt(n)\n",
    "\n",
    "print(\"n: {}, t: {}, me: {}\".format(n, t, me))"
   ]
  },
  {
   "cell_type": "markdown",
   "metadata": {},
   "source": [
    "## 23.17\n",
    "\n",
    "### Answers\n",
    "\n",
    "* a) (299710, 299803)\n",
    "* b) We are 95% confident that the true speed of light is captured by the interval from 299,710 km/sec to 299,803 km/sec.\n",
    "* c) The samples were randomly selected and independent.  The samples are are nearly normally distributed - unimodal, non-skewed, no outliers."
   ]
  },
  {
   "cell_type": "code",
   "execution_count": 30,
   "metadata": {},
   "outputs": [
    {
     "name": "stdout",
     "output_type": "stream",
     "text": [
      "t: 2.0738730679040147\n"
     ]
    },
    {
     "data": {
      "text/plain": [
       "(709.89783835733544, 756.22, 802.54216164266461)"
      ]
     },
     "execution_count": 30,
     "metadata": {},
     "output_type": "execute_result"
    }
   ],
   "source": [
    "n = 23\n",
    "ybar = 756.22\n",
    "s = 107.12\n",
    "\n",
    "se = s / math.sqrt(n)\n",
    "\n",
    "t = stats.t.ppf(0.975, df=n-1)\n",
    "print(\"t: {}\".format(t))\n",
    "\n",
    "(ybar - t * se, ybar, ybar + t * se)"
   ]
  },
  {
   "cell_type": "code",
   "execution_count": 31,
   "metadata": {},
   "outputs": [
    {
     "data": {
      "text/plain": [
       "(299709.89783835731, 299756.22, 299802.54216164269)"
      ]
     },
     "execution_count": 31,
     "metadata": {},
     "output_type": "execute_result"
    }
   ],
   "source": [
    "offset = 299000\n",
    "(ybar - t * se + offset, ybar + offset, ybar + t * se + offset)"
   ]
  },
  {
   "cell_type": "markdown",
   "metadata": {
    "collapsed": true
   },
   "source": [
    "## 23.19\n",
    "\n",
    "### Answers\n",
    "\n",
    "* a) appears unimodal, slight left skew, but large n should compensate for that, a couple of possible outliers in the left tail, but still within the main distribution for the most part; independence condition is questionable -- flights aren't independent - but given both the monthly granularity, and the absence of a time based trend, that should be ok\n",
    "* b) (80.17, 81.35)\n",
    "* c) We're 90% confident that the true mean % of flights departing on time is captured by the range 80.17% to 81.35%."
   ]
  },
  {
   "cell_type": "code",
   "execution_count": 7,
   "metadata": {},
   "outputs": [
    {
     "data": {
      "text/plain": [
       "(80.165563593988452, 80.759, 81.352436406011549)"
      ]
     },
     "execution_count": 7,
     "metadata": {},
     "output_type": "execute_result"
    }
   ],
   "source": [
    "# b\n",
    "\n",
    "n = 172\n",
    "ybar = 80.759\n",
    "s = 4.706\n",
    "\n",
    "se = s / math.sqrt(n)\n",
    "t = stats.t.ppf(0.95, df=n-1)\n",
    "\n",
    "(ybar - t * se, ybar, ybar + t * se)"
   ]
  },
  {
   "cell_type": "markdown",
   "metadata": {
    "collapsed": true
   },
   "source": [
    "## 23.21\n",
    "\n",
    "### Answers\n",
    "\n",
    "* Assuming the null hypothesis were true (i.e. the mean does not exceed 0.08 ppm), we would expect to obtain the results we did (or more extreme results) only 0.27% of the time due purely to sampling variability.  Thus, the evidence supported rejecting the null hypothesis.  This was further supported by our 95% confidence interval from 0.0834 to 0.0992, in that it _doesn't_ include the value of the null hypothesis (0.08).  This implicitly tells us that we would expect to obtain a P-Value of < 0.025 in a one-sided hypothesis test."
   ]
  },
  {
   "cell_type": "markdown",
   "metadata": {
    "collapsed": true
   },
   "source": [
    "## 23.23\n",
    "\n",
    "### Answers\n",
    "\n",
    "* We would expect to get the results she obtained (or more extreme results) under conditions of the null hypothesis (i.e. there's no difference in cholesterol levels) due purely to sampling variability 7% of the time."
   ]
  },
  {
   "cell_type": "markdown",
   "metadata": {
    "collapsed": true
   },
   "source": [
    "## 23.25\n",
    "\n",
    "### Answers\n",
    "\n",
    "* a) upper tail test: we want to show evidence that the stands support _more_ than their standard minimum\n",
    "* b) they will sell stands that don't support as much weight as is needed\n",
    "* c) they will reject products (and not sell them) even though they were sufficient"
   ]
  },
  {
   "cell_type": "code",
   "execution_count": null,
   "metadata": {
    "collapsed": true
   },
   "outputs": [],
   "source": [
    "# H0: mu = 500\n",
    "# HA: mu > 500\n",
    "# alpha = 0.01"
   ]
  },
  {
   "cell_type": "markdown",
   "metadata": {
    "collapsed": true
   },
   "source": [
    "## 23.27\n",
    "\n",
    "### Answers\n",
    "\n",
    "* a) decrease alpha -- that will increase their confidence in the claims of the test (i.e. reduce risk of Type I error)\n",
    "* b) the probability that the test will avoid making a Type II error -- i.e. that it will correctly reject the null hypothesis when the stands are in fact capable of holding more than their standard min weight (500#)\n",
    "* c) \n",
    "  - increase sample size: greater cost of testing\n",
    "  - decrease alpha: greater chance that they'll reject good TVs\n",
    "  - missed these:\n",
    "    - decrease sd\n",
    "    - increase standard weight spec"
   ]
  },
  {
   "cell_type": "markdown",
   "metadata": {
    "collapsed": true
   },
   "source": [
    "## 23.29\n",
    "\n",
    "### Answers\n",
    "\n",
    "* a) \n",
    "  - H0: mu = 23.3\n",
    "  - HA: mu > 23.3\n",
    "* b) random; assume independent; we'd need to look at the sample to determine \"near normality\"; is it representative? might want to sample from more than just \"married last year\" -- maybe \"married within the last n years\"?\n",
    "* c) in the context of evaluating a hypothesis about a mean, we'll use Student's t distribution to model the sampling distribution\n",
    "* d) see below\n",
    "  - P-Value = 0.145 ==> fail to reject H0\n",
    "* e) Assuming there's no change in age of first marriage, we'd expect the results we obtained, or more extreme results, at least 14.5% of the time.\n",
    "* f) The evidence doesn't support the claim that there's been a change in the average age at first marriage."
   ]
  },
  {
   "cell_type": "code",
   "execution_count": 11,
   "metadata": {},
   "outputs": [
    {
     "name": "stdout",
     "output_type": "stream",
     "text": [
      "t: 1.0739810921326556\n"
     ]
    },
    {
     "data": {
      "text/plain": [
       "0.14471567202549507"
      ]
     },
     "execution_count": 11,
     "metadata": {},
     "output_type": "execute_result"
    }
   ],
   "source": [
    "# d\n",
    "n = 40\n",
    "y1 = 23.3\n",
    "ybar = 24.2\n",
    "s = 5.3\n",
    "\n",
    "se = s / math.sqrt(n)\n",
    "\n",
    "t = (24.2 - 23.3) / se\n",
    "print(\"t: {}\".format(t))\n",
    "\n",
    "1 - stats.t.cdf(t, df = n - 1)"
   ]
  },
  {
   "cell_type": "markdown",
   "metadata": {
    "collapsed": true
   },
   "source": [
    "## 23.31\n",
    "\n",
    "### Answers\n",
    "\n",
    "* a) assuming randomly sampled; independent; presumably representative - yes\n",
    "* b) 28.8 : 0.402\n",
    "* c) (28.36,29.21)\n",
    "* d) We are 95% confident that the true mean weight is captured by the interval 28.36g to 29.21g\n",
    "* e) The company's stated weight falls slightly below the true mean weight value suggested by the sample.  This is probably intentional to ensure that the stated weight is at _or below_ the actual weight in most cases - so as to not _overstate_ the amount the customer will get if the chips are purchased."
   ]
  },
  {
   "cell_type": "code",
   "execution_count": 10,
   "metadata": {
    "collapsed": true
   },
   "outputs": [],
   "source": [
    "y = 28.3\n",
    "samples = [29.3, 28.2, 29.1, 28.7, 28.9, 28.5]"
   ]
  },
  {
   "cell_type": "code",
   "execution_count": 14,
   "metadata": {},
   "outputs": [
    {
     "data": {
      "text/plain": [
       "(array([ 1.,  0.,  1.,  0.,  1.,  0.,  1.,  0.,  1.,  1.]),\n",
       " array([ 28.2 ,  28.31,  28.42,  28.53,  28.64,  28.75,  28.86,  28.97,\n",
       "         29.08,  29.19,  29.3 ]),\n",
       " <a list of 10 Patch objects>)"
      ]
     },
     "execution_count": 14,
     "metadata": {},
     "output_type": "execute_result"
    },
    {
     "data": {
      "image/png": "[encoded data removed]",
      "text/plain": [
       "<matplotlib.figure.Figure at 0x1143ba5f8>"
      ]
     },
     "metadata": {},
     "output_type": "display_data"
    }
   ],
   "source": [
    "# a\n",
    "plt.hist(samples)"
   ]
  },
  {
   "cell_type": "code",
   "execution_count": 8,
   "metadata": {},
   "outputs": [
    {
     "name": "stdout",
     "output_type": "stream",
     "text": [
      "mean: 28.78333333333333\n",
      "std dev: 0.4020779360604945\n"
     ]
    }
   ],
   "source": [
    "# b\n",
    "ybar = statistics.mean(samples)\n",
    "s = statistics.stdev(samples)\n",
    "n = len(samples)\n",
    "\n",
    "print(\"mean: {}\".format(ybar))\n",
    "print(\"std dev: {}\".format(s))"
   ]
  },
  {
   "cell_type": "code",
   "execution_count": 9,
   "metadata": {},
   "outputs": [
    {
     "data": {
      "text/plain": [
       "(28.361378417055022, 28.78333333333333, 29.205288249611641)"
      ]
     },
     "execution_count": 9,
     "metadata": {},
     "output_type": "execute_result"
    }
   ],
   "source": [
    "# c \n",
    "se = s / math.sqrt(n)\n",
    "t = stats.t.ppf(0.975, df = n - 1)\n",
    "\n",
    "(ybar - t * se, ybar, ybar + t * se)"
   ]
  },
  {
   "cell_type": "markdown",
   "metadata": {
    "collapsed": true
   },
   "source": [
    "## 23.33\n",
    "\n",
    "### Answers\n",
    "\n",
    "* a) Type I; false positive\n",
    "* b) yes - At 95% confidence level, a one sided t-test generates a P-value of 0.0203."
   ]
  },
  {
   "cell_type": "code",
   "execution_count": 24,
   "metadata": {},
   "outputs": [
    {
     "data": {
      "image/png": "[encoded data removed]",
      "text/plain": [
       "<matplotlib.figure.Figure at 0x11515e710>"
      ]
     },
     "metadata": {},
     "output_type": "display_data"
    }
   ],
   "source": [
    "samples = [x / 100 for x in [7, 13.2, 10, 6, 7.8, 2.8, 2.2, 5.2]]\n",
    "plt.hist(samples);"
   ]
  },
  {
   "cell_type": "code",
   "execution_count": 25,
   "metadata": {},
   "outputs": [
    {
     "name": "stdout",
     "output_type": "stream",
     "text": [
      "n: 8\n",
      "mean: 0.06775\n",
      "std dev: 0.036370121175021045\n",
      "pValue: 0.02025721415379483\n"
     ]
    }
   ],
   "source": [
    "# b\n",
    "n = len(samples)\n",
    "ybar = statistics.mean(samples)\n",
    "s = statistics.stdev(samples)\n",
    "\n",
    "print(\"n: {}\".format(n))\n",
    "print(\"mean: {}\".format(ybar))\n",
    "print(\"std dev: {}\".format(s))\n",
    "\n",
    "# H0: mean = 0.10\n",
    "# HA: mean < 0.10\n",
    "\n",
    "se = s / math.sqrt(n)\n",
    "pValue = stats.t.cdf(ybar, df = n - 1, loc = 0.10, scale = se)\n",
    "print(\"pValue: {}\".format(pValue))"
   ]
  },
  {
   "cell_type": "markdown",
   "metadata": {
    "collapsed": true
   },
   "source": [
    "## 23.35\n",
    "\n",
    "### Answers\n",
    "\n",
    "* a) nearly normal; appears fairly unimodal, centering around 1200, no clear outliers, slightly right skewed; randomly sampled;\n",
    "* b) (1187.94816761225, 1288.42683238775)\n",
    "* c) We are 95% confident that the true mean # of chips in each bag is between 1188 and 1288.  We can use this ci to also test the claim that the mean number of chips in a bag of chips ahoy is > 1000.  Because the entire ci is > 1000, this allows us to reject H0 -- providing evidence supporting that claim.  (Note that this is different from Nabisco's claim that \"every\" bag contains > 1000 -- this test only answers whether the _mean_ > 1000.)"
   ]
  },
  {
   "cell_type": "code",
   "execution_count": 27,
   "metadata": {},
   "outputs": [
    {
     "data": {
      "image/png": "[encoded data removed]",
      "text/plain": [
       "<matplotlib.figure.Figure at 0x115250588>"
      ]
     },
     "metadata": {},
     "output_type": "display_data"
    }
   ],
   "source": [
    "# a\n",
    "samples = [1219, 1214, 1087, 1200, 1419, 1121, 1325, 1345,\n",
    "          1244, 1258, 1356, 1132, 1191, 1270, 1295, 1135]\n",
    "plt.hist(samples);"
   ]
  },
  {
   "cell_type": "code",
   "execution_count": 29,
   "metadata": {},
   "outputs": [
    {
     "name": "stdout",
     "output_type": "stream",
     "text": [
      "n: 16, mean: 1238.1875, std dev: 94.28200164046865\n"
     ]
    },
    {
     "data": {
      "text/plain": [
       "(1187.94816761225, 1238.1875, 1288.42683238775)"
      ]
     },
     "execution_count": 29,
     "metadata": {},
     "output_type": "execute_result"
    }
   ],
   "source": [
    "# b\n",
    "n = len(samples)\n",
    "ybar = statistics.mean(samples)\n",
    "s = statistics.stdev(samples)\n",
    "print(\"n: {}, mean: {}, std dev: {}\".format(n, ybar, s))\n",
    "\n",
    "se = s / math.sqrt(n)\n",
    "t = stats.t.ppf(0.975, df = n - 1)\n",
    "\n",
    "(ybar - t * se, ybar, ybar + t * se)"
   ]
  },
  {
   "cell_type": "markdown",
   "metadata": {
    "collapsed": true
   },
   "source": [
    "## 23.37\n",
    "\n",
    "### Answers\n",
    "\n",
    "* a) there's an outlier, so that would need to be handled; it also looks as though the data is somewhat bi-modal\n",
    "* b) reject H0: with a p-value of 0.016, there's evidence at the 95% confidence level that the true mean is different from 60\n",
    "* c) same: but with an even lower p-value 0.0003\n",
    "* d) no: tests w/ and w/o outlier rejected null hypothesis (that mean = 60)"
   ]
  },
  {
   "cell_type": "code",
   "execution_count": 40,
   "metadata": {},
   "outputs": [
    {
     "data": {
      "image/png": "[encoded data removed]",
      "text/plain": [
       "<matplotlib.figure.Figure at 0x1142db390>"
      ]
     },
     "metadata": {},
     "output_type": "display_data"
    }
   ],
   "source": [
    "samples = [38.4, 57.6, 46.2, 55.5, 62.5, 49.5, \n",
    "           38.0, 40.9, 62.8, 44.3, 33.9, 93.8, \n",
    "           50.4, 47.9, 35.0, 69.2, 52.8, 46.2,\n",
    "           60.1, 56.3, 55.1]\n",
    "plt.hist(samples);"
   ]
  },
  {
   "cell_type": "code",
   "execution_count": 41,
   "metadata": {},
   "outputs": [
    {
     "name": "stdout",
     "output_type": "stream",
     "text": [
      "n: 21, mean: 52.20952380952381, std dev: 13.564619595178655\n",
      "t: -2.631879692025979\n",
      "p-value: 0.015983641961836652\n"
     ]
    }
   ],
   "source": [
    "# b\n",
    "n = len(samples)\n",
    "ybar = statistics.mean(samples)\n",
    "s = statistics.stdev(samples)\n",
    "\n",
    "print(\"n: {}, mean: {}, std dev: {}\".format(n, ybar, s))\n",
    "\n",
    "# H0: mean = 60\n",
    "# HA: mean <> 60\n",
    "\n",
    "se = s / math.sqrt(n)\n",
    "\n",
    "t = (ybar - 60) / se\n",
    "pValue = 2 * stats.t.cdf(t, df=n-1)\n",
    "\n",
    "print(\"t: {}\".format(t))\n",
    "print(\"p-value: {}\".format(pValue))"
   ]
  },
  {
   "cell_type": "code",
   "execution_count": 42,
   "metadata": {},
   "outputs": [
    {
     "name": "stdout",
     "output_type": "stream",
     "text": [
      "n: 20, mean: 50.13, std dev: 9.904071464753644\n",
      "t: -4.45675114854836\n",
      "p-value: 0.00027048079097985017\n"
     ]
    }
   ],
   "source": [
    "# c\n",
    "samples.remove(93.8)\n",
    "n = len(samples)\n",
    "ybar = statistics.mean(samples)\n",
    "s = statistics.stdev(samples)\n",
    "\n",
    "print(\"n: {}, mean: {}, std dev: {}\".format(n, ybar, s))\n",
    "\n",
    "# H0: mean = 60\n",
    "# HA: mean <> 60\n",
    "\n",
    "se = s / math.sqrt(n)\n",
    "\n",
    "t = (ybar - 60) / se\n",
    "pValue = 2 * stats.t.cdf(t, df=n-1)\n",
    "\n",
    "print(\"t: {}\".format(t))\n",
    "print(\"p-value: {}\".format(pValue))"
   ]
  },
  {
   "cell_type": "markdown",
   "metadata": {
    "collapsed": true
   },
   "source": [
    "## 23.39\n",
    "\n",
    "### Answers\n",
    "\n",
    "* a) 285.13, 287.59\n",
    "* b) there are outliers in the data; the input data are averages, not individual drives; \n",
    "* c) yes - we lose information about the _variability_ of the drives of each golfer"
   ]
  },
  {
   "cell_type": "code",
   "execution_count": 43,
   "metadata": {},
   "outputs": [
    {
     "data": {
      "text/plain": [
       "(285.13194497475649, 286.36, 287.58805502524353)"
      ]
     },
     "execution_count": 43,
     "metadata": {},
     "output_type": "execute_result"
    }
   ],
   "source": [
    "n = 192\n",
    "ybar = 286.36\n",
    "s = 8.627\n",
    "\n",
    "se = s / math.sqrt(n)\n",
    "t = stats.t.ppf(0.975, df=n-1)\n",
    "\n",
    "(ybar - t * se, ybar, ybar + t * se)"
   ]
  }
 ],
 "metadata": {
  "kernelspec": {
   "display_name": "Python 3",
   "language": "python",
   "name": "python3"
  },
  "language_info": {
   "codemirror_mode": {
    "name": "ipython",
    "version": 3
   },
   "file_extension": ".py",
   "mimetype": "text/x-python",
   "name": "python",
   "nbconvert_exporter": "python",
   "pygments_lexer": "ipython3",
   "version": "3.5.2"
  }
 },
 "nbformat": 4,
 "nbformat_minor": 2
}
