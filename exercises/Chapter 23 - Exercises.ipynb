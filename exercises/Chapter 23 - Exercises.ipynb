{
 "cells": [
  {
   "cell_type": "markdown",
   "metadata": {},
   "source": [
    "# Chapter 23 - Exercises"
   ]
  },
  {
   "cell_type": "code",
   "execution_count": 2,
   "metadata": {
    "collapsed": true
   },
   "outputs": [],
   "source": [
    "# imports\n",
    "from scipy import stats\n",
    "import math"
   ]
  },
  {
   "cell_type": "markdown",
   "metadata": {},
   "source": [
    "## 23.1\n",
    "\n",
    "### Answers\n",
    "\n",
    "* see below\n",
    "* a) 1.74\n",
    "* b) 2.37\n",
    "* c) 0.052\n",
    "* d) 0.089"
   ]
  },
  {
   "cell_type": "code",
   "execution_count": 12,
   "metadata": {},
   "outputs": [
    {
     "data": {
      "text/plain": [
       "1.7396067260750672"
      ]
     },
     "execution_count": 12,
     "metadata": {},
     "output_type": "execute_result"
    }
   ],
   "source": [
    "# a\n",
    "alpha = (1 - .9) / 2\n",
    "stats.t.ppf(1 - alpha, 17)"
   ]
  },
  {
   "cell_type": "code",
   "execution_count": 13,
   "metadata": {},
   "outputs": [
    {
     "data": {
      "text/plain": [
       "2.3694722739983134"
      ]
     },
     "execution_count": 13,
     "metadata": {},
     "output_type": "execute_result"
    }
   ],
   "source": [
    "# b\n",
    "alpha = (1 - .98) / 2\n",
    "stats.t.ppf(1 - alpha, 88)"
   ]
  },
  {
   "cell_type": "code",
   "execution_count": 8,
   "metadata": {},
   "outputs": [
    {
     "data": {
      "text/plain": [
       "0.052415358557870051"
      ]
     },
     "execution_count": 8,
     "metadata": {},
     "output_type": "execute_result"
    }
   ],
   "source": [
    "# c\n",
    "1 - stats.t.cdf(2.09, 4)"
   ]
  },
  {
   "cell_type": "code",
   "execution_count": 17,
   "metadata": {},
   "outputs": [
    {
     "data": {
      "text/plain": [
       "0.088893910704166856"
      ]
     },
     "execution_count": 17,
     "metadata": {},
     "output_type": "execute_result"
    }
   ],
   "source": [
    "# d\n",
    "2* (1 - stats.t.cdf(1.78, 22))"
   ]
  },
  {
   "cell_type": "markdown",
   "metadata": {},
   "source": [
    "## 23.3\n",
    "\n",
    "### Answers\n",
    "\n",
    "* shape: unimodal, bell-shaped, \"approximately normal\"\n",
    "* center: no change\n",
    "* spread: narrows"
   ]
  },
  {
   "cell_type": "markdown",
   "metadata": {},
   "source": [
    "## 23.5\n",
    "\n",
    "### Answers\n",
    "\n",
    "* a) wrong - the ci is about the mean, this statement is about individual cows\n",
    "* b) wrong - still about individuals, ci makes a statement about the mean\n",
    "* c) correct\n",
    "* d) wrong - this implies that the average changes - the average is constant, even though the sample average varies\n",
    "* e) wrong - the current sample doesn't determine the average of other samples"
   ]
  },
  {
   "cell_type": "markdown",
   "metadata": {},
   "source": [
    "## 23.7\n",
    "\n",
    "### Answers\n",
    "\n",
    "* a) wrong - the certainty isn't around the amount paid by individual students, it's around the mean\n",
    "* b) wrong - this is still talking about individual students\n",
    "* c) wrong - we're 100% sure what the actual point average is for the sample\n",
    "* d) wrong - the ci we derive from this sample doesn't determine the average obtained by other samples\n",
    "* e) correct - our confidence is around the true average falling within the range calculated based on our sample"
   ]
  },
  {
   "cell_type": "markdown",
   "metadata": {},
   "source": [
    "## 23.9\n",
    "\n",
    "### Answers\n",
    "\n",
    "* a) we are 95% confident that the true mean pulse rate falls between 70.89 and 74.50\n",
    "* b) ME = 1.8047\n",
    "* c) larger - we'd need to expand the margin in order to be that much more confident that we captured the true mean"
   ]
  },
  {
   "cell_type": "code",
   "execution_count": 19,
   "metadata": {},
   "outputs": [
    {
     "data": {
      "text/plain": [
       "1.8047035000000022"
      ]
     },
     "execution_count": 19,
     "metadata": {},
     "output_type": "execute_result"
    }
   ],
   "source": [
    "# b\n",
    "(74.497011 - 70.887604) / 2"
   ]
  },
  {
   "cell_type": "markdown",
   "metadata": {},
   "source": [
    "## 23.11\n",
    "\n",
    "### Answers\n",
    "\n",
    "* The data is strongly skewed, has a clear outlier, and also has a relatively low sample size (calling for use of the $t$-distribution model)"
   ]
  },
  {
   "cell_type": "markdown",
   "metadata": {},
   "source": [
    "## 23.13\n",
    "\n",
    "### Answers\n",
    "\n",
    "* a) data was randomly selected, < 10% of pop; nearly normal -- no clear mode, not heavily skewed, approximately normal\n",
    "* b) (98.06, 98.51)\n",
    "* c) We are 98% confident that the mean temperature is captured by the range 98.06 and 98.51.\n",
    "* d) 98% of samples drawn this way will generate an interval that captures the true mean.\n",
    "* e) They suggest that, at least for adults, is lower than the typically accepted average."
   ]
  },
  {
   "cell_type": "code",
   "execution_count": 10,
   "metadata": {},
   "outputs": [
    {
     "name": "stdout",
     "output_type": "stream",
     "text": [
      "t*: 2.401717525354525\n"
     ]
    },
    {
     "data": {
      "text/plain": [
       "(98.05772101904985, 98.285, 98.512278980950143)"
      ]
     },
     "execution_count": 10,
     "metadata": {},
     "output_type": "execute_result"
    }
   ],
   "source": [
    "# b\n",
    "\n",
    "n = 52\n",
    "yBar= 98.285\n",
    "s = 0.6824\n",
    "se = s / math.sqrt(n)\n",
    "\n",
    "t = stats.t.ppf(0.99, n - 1)\n",
    "print(\"t*: {}\".format(t))\n",
    "\n",
    "(yBar - t * se, yBar, yBar + t * se)"
   ]
  },
  {
   "cell_type": "markdown",
   "metadata": {},
   "source": [
    "## 23.15\n",
    "\n",
    "### Answers\n",
    "\n",
    "* a) narrower - the lower confidence demands allow us to give a more \"precise\" answer\n",
    "* b) adv - greater chance of capturing the true value; dis - wider range\n",
    "* c) the range would narrow - the standard error decreases as sample size increases (given that the formula involves the sqrt of the sample size in the denominator)\n",
    "* d) around 260 (see below)"
   ]
  },
  {
   "cell_type": "code",
   "execution_count": 28,
   "metadata": {},
   "outputs": [
    {
     "name": "stdout",
     "output_type": "stream",
     "text": [
      "n: 260, t: 2.340831498309307, me: 0.09906551392402341\n"
     ]
    }
   ],
   "source": [
    "# d\n",
    "me = 1\n",
    "n = 50\n",
    "while me > 0.1:\n",
    "    n += 10\n",
    "    t = stats.t.ppf(0.99, n - 1)\n",
    "    me = t * s / math.sqrt(n)\n",
    "\n",
    "print(\"n: {}, t: {}, me: {}\".format(n, t, me))"
   ]
  },
  {
   "cell_type": "markdown",
   "metadata": {},
   "source": [
    "## 23.17\n",
    "\n",
    "### Answers\n",
    "\n",
    "* a) (299710, 299803)\n",
    "* b) We are 95% confident that the true speed of light is captured by the interval from 299,710 km/sec to 299,803 km/sec.\n",
    "* c) The samples were randomly selected and independent.  The samples are are nearly normally distributed - unimodal, non-skewed, no outliers."
   ]
  },
  {
   "cell_type": "code",
   "execution_count": 30,
   "metadata": {},
   "outputs": [
    {
     "name": "stdout",
     "output_type": "stream",
     "text": [
      "t: 2.0738730679040147\n"
     ]
    },
    {
     "data": {
      "text/plain": [
       "(709.89783835733544, 756.22, 802.54216164266461)"
      ]
     },
     "execution_count": 30,
     "metadata": {},
     "output_type": "execute_result"
    }
   ],
   "source": [
    "n = 23\n",
    "ybar = 756.22\n",
    "s = 107.12\n",
    "\n",
    "se = s / math.sqrt(n)\n",
    "\n",
    "t = stats.t.ppf(0.975, df=n-1)\n",
    "print(\"t: {}\".format(t))\n",
    "\n",
    "(ybar - t * se, ybar, ybar + t * se)"
   ]
  },
  {
   "cell_type": "code",
   "execution_count": 31,
   "metadata": {},
   "outputs": [
    {
     "data": {
      "text/plain": [
       "(299709.89783835731, 299756.22, 299802.54216164269)"
      ]
     },
     "execution_count": 31,
     "metadata": {},
     "output_type": "execute_result"
    }
   ],
   "source": [
    "offset = 299000\n",
    "(ybar - t * se + offset, ybar + offset, ybar + t * se + offset)"
   ]
  },
  {
   "cell_type": "markdown",
   "metadata": {
    "collapsed": true
   },
   "source": [
    "## \n",
    "\n",
    "### Answers\n",
    "\n",
    "* "
   ]
  },
  {
   "cell_type": "markdown",
   "metadata": {
    "collapsed": true
   },
   "source": [
    "## \n",
    "\n",
    "### Answers\n",
    "\n",
    "* "
   ]
  },
  {
   "cell_type": "markdown",
   "metadata": {
    "collapsed": true
   },
   "source": [
    "## \n",
    "\n",
    "### Answers\n",
    "\n",
    "* "
   ]
  },
  {
   "cell_type": "markdown",
   "metadata": {
    "collapsed": true
   },
   "source": [
    "## \n",
    "\n",
    "### Answers\n",
    "\n",
    "* "
   ]
  },
  {
   "cell_type": "markdown",
   "metadata": {
    "collapsed": true
   },
   "source": [
    "## \n",
    "\n",
    "### Answers\n",
    "\n",
    "* "
   ]
  },
  {
   "cell_type": "markdown",
   "metadata": {
    "collapsed": true
   },
   "source": [
    "## \n",
    "\n",
    "### Answers\n",
    "\n",
    "* "
   ]
  },
  {
   "cell_type": "markdown",
   "metadata": {
    "collapsed": true
   },
   "source": [
    "## \n",
    "\n",
    "### Answers\n",
    "\n",
    "* "
   ]
  },
  {
   "cell_type": "markdown",
   "metadata": {
    "collapsed": true
   },
   "source": [
    "## \n",
    "\n",
    "### Answers\n",
    "\n",
    "* "
   ]
  },
  {
   "cell_type": "markdown",
   "metadata": {
    "collapsed": true
   },
   "source": [
    "## \n",
    "\n",
    "### Answers\n",
    "\n",
    "* "
   ]
  },
  {
   "cell_type": "code",
   "execution_count": null,
   "metadata": {
    "collapsed": true
   },
   "outputs": [],
   "source": []
  }
 ],
 "metadata": {
  "kernelspec": {
   "display_name": "Python 3",
   "language": "python",
   "name": "python3"
  },
  "language_info": {
   "codemirror_mode": {
    "name": "ipython",
    "version": 3
   },
   "file_extension": ".py",
   "mimetype": "text/x-python",
   "name": "python",
   "nbconvert_exporter": "python",
   "pygments_lexer": "ipython3",
   "version": "3.5.2"
  }
 },
 "nbformat": 4,
 "nbformat_minor": 2
}
