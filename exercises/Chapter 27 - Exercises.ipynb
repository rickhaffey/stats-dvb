{
 "cells": [
  {
   "cell_type": "markdown",
   "metadata": {},
   "source": [
    "# Chapter 27 - Exercises"
   ]
  },
  {
   "cell_type": "code",
   "execution_count": 1,
   "metadata": {
    "collapsed": true
   },
   "outputs": [],
   "source": [
    "from scipy import stats\n",
    "import math"
   ]
  },
  {
   "cell_type": "markdown",
   "metadata": {},
   "source": [
    "## 27.1 \n",
    "\n",
    "### Answers\n",
    "\n",
    "* a) \n",
    "    - regression equation: error = 453.223 -8.37084 * years_since_1970\n",
    "    - mean error @ 1970 = 453.223\n",
    "    - on average, error decreases 8.37 nautical miles for every year since then\n",
    "* b) \n",
    "    - H0: slope = 0\n",
    "    - HA: slope <> 0\n",
    "    - h0 = error hasn't changed over time\n",
    "    - ha = error changes at some linear rate over time\n",
    "* c) P-value for the \"Year since 1970\" variable is <= 0.0001; reject H0; evidence supports claim that slope <> 0, and the error has been changing over time;\n",
    "* d) The model captures 58.5% of the variability in error with respect to years since 1970."
   ]
  },
  {
   "cell_type": "markdown",
   "metadata": {},
   "source": [
    "## 27.3\n",
    "\n",
    "### Answers\n",
    "\n",
    "* a) Budget increases with runtime of a given movie. For every additional minute of runtime, the budget increases by \\$1.03 million.\n",
    "* b) It would mean that given a movie of 0 minutes, the cost of the movie would be \\$-64 million.  This is clearly outside the range of movies used as input to the model, and reflects a \"non-sensical\" value.  Starting at 62.35 minutes runtime, the cost would be $0 - so this model is clearly only applicable to some range of runtimes _above_ 62 minutes in run-length.\n",
    "* c) The standard deviation of the residuals is \\$32.95 million.\n",
    "* d) SE(slope) = 0.1540\n",
    "* e) Repeated sampling is expected to generate regression line slopes with a standard deviation of 0.1540"
   ]
  },
  {
   "cell_type": "markdown",
   "metadata": {},
   "source": [
    "## 27.5\n",
    "\n",
    "### Answers\n",
    "\n",
    "* a) \n",
    "    * straight enough condition : no signs of non-linear relationship\n",
    "    * randomization condition : see below\n",
    "    * does the plot thicken? condition : there might be some thickening of the residuals plot; looks somewhat like it fans out from 0    \n",
    "    * outlier condition : also looks like there may be a few outliers at the high end\n",
    "* b) see below"
   ]
  },
  {
   "cell_type": "code",
   "execution_count": 6,
   "metadata": {},
   "outputs": [
    {
     "data": {
      "text/plain": [
       "(0.7215180736169313, 1.3314419263830688)"
      ]
     },
     "execution_count": 6,
     "metadata": {},
     "output_type": "execute_result"
    }
   ],
   "source": [
    "t = stats.t.ppf(0.975, df=118)\n",
    "slope = 1.02648\n",
    "se = 0.1540\n",
    "(slope - t * se, slope + t * se)\n"
   ]
  },
  {
   "cell_type": "markdown",
   "metadata": {},
   "source": [
    "## 27.7\n",
    "\n",
    "### Answers\n",
    "\n",
    "* a)\n",
    "  - H0: slope = 0 (sodium not associated with calories)\n",
    "  - HA: slope <> 0 (sodium level and calories are associated)\n",
    "* b) see below; reject H0 - low P-value (0.00176) provides evidence in support of a non-0 slope"
   ]
  },
  {
   "cell_type": "code",
   "execution_count": 11,
   "metadata": {},
   "outputs": [
    {
     "name": "stdout",
     "output_type": "stream",
     "text": [
      "P-value: 0.001755561687713847\n"
     ]
    }
   ],
   "source": [
    "slope = 2.29959\n",
    "se = 0.5607\n",
    "tstar = slope / se\n",
    "pValue = 2 * (1 - stats.t.cdf(tstar, df=13-2))\n",
    "print(\"P-value: {}\".format(pValue))"
   ]
  },
  {
   "cell_type": "markdown",
   "metadata": {},
   "source": [
    "## 27.9\n",
    "\n",
    "### Answers\n",
    "\n",
    "* a) on average, the error around the regression line (the residuals) are 59.66 mg; at any given calorie level, we'd expect the hot dogs at that level to have sodium levels with a standard deviation of 59.66 mg;\n",
    "* b) 0.5607\n",
    "* c) repeated sampling would generate regression lines with slopes having a standard deviation equal to this value"
   ]
  },
  {
   "cell_type": "markdown",
   "metadata": {},
   "source": [
    "## 27.11\n",
    "\n",
    "### Answers\n",
    "\n",
    "* see below; We are 95% confident that the change in sodium for every 1 unit change in calories is captured by the range 1.065 to 3.533 mg/calorie."
   ]
  },
  {
   "cell_type": "code",
   "execution_count": 12,
   "metadata": {},
   "outputs": [
    {
     "data": {
      "text/plain": [
       "(1.0654976207414903, 3.5336823792585093)"
      ]
     },
     "execution_count": 12,
     "metadata": {},
     "output_type": "execute_result"
    }
   ],
   "source": [
    "slope = 2.29959\n",
    "se = 0.5607\n",
    "df = 11\n",
    "t = stats.t.ppf(0.975, df=11)\n",
    "(slope - t * se, slope + t * se)"
   ]
  },
  {
   "cell_type": "markdown",
   "metadata": {},
   "source": [
    "## 27.13\n",
    "\n",
    "### Answers\n",
    "\n",
    "* a) \n",
    "  - H0: slope = 0 (no change in difference over time)\n",
    "  - HA: slope < 0 (there is a _decrease_ in the difference over time)\n",
    "* b) yes: no sign of non-linear relationship; residuals appear random with now fanning out, no clear outliers; possibly bi-modal histogram of residuals, but appears workable\n",
    "* c) regression produced a P-value <= 0.0001 --> reject H0, evidence supports claim of decrease over time\n",
    " "
   ]
  },
  {
   "cell_type": "markdown",
   "metadata": {},
   "source": [
    "## 27.15\n",
    "\n",
    "### Answers\n",
    "\n",
    "* (-0.038883303747464466, -0.024566696252535544)\n",
    "* We are 95% confident that with each additional year, the average difference in age between husband and wife is captured by the range -0.0389 and -0.02457."
   ]
  },
  {
   "cell_type": "code",
   "execution_count": 2,
   "metadata": {},
   "outputs": [
    {
     "data": {
      "text/plain": [
       "(-0.038883303747464466, -0.024566696252535544)"
      ]
     },
     "execution_count": 2,
     "metadata": {},
     "output_type": "execute_result"
    }
   ],
   "source": [
    "slope = -0.031725\n",
    "se = 0.0035\n",
    "\n",
    "t = stats.t.ppf(0.975, df=29)\n",
    "\n",
    "(slope - t * se, slope + t * se)"
   ]
  },
  {
   "cell_type": "markdown",
   "metadata": {},
   "source": [
    "## 27.17\n",
    "\n",
    "### Answers\n",
    "\n",
    "* a)\n",
    "  - H0: slope = 0\n",
    "  - HA: slope <> 0\n",
    "* b) yes staight enough; assume randomly selected models; no clear patterns in residuals, approx normal\n",
    "* c) reject H0; P-value for slope is <= 0.0001; evidence supports claim of an association between weight and fuel efficiency."
   ]
  },
  {
   "cell_type": "markdown",
   "metadata": {},
   "source": [
    "## 27.19\n",
    "\n",
    "### Answers\n",
    "\n",
    "* (-9.568385697714465, -6.858854302285536)\n",
    "* We're 95% confident that with each additional 1000 #'s in weight, average fuel efficiency decrease is captured by the range 6.86 to 9.57 mpg."
   ]
  },
  {
   "cell_type": "code",
   "execution_count": 3,
   "metadata": {},
   "outputs": [
    {
     "data": {
      "text/plain": [
       "(-9.568385697714465, -6.858854302285536)"
      ]
     },
     "execution_count": 3,
     "metadata": {},
     "output_type": "execute_result"
    }
   ],
   "source": [
    "slope = -8.21362\n",
    "se = 0.6738\n",
    "t = stats.t.ppf(0.975, df=48)\n",
    "\n",
    "(slope - t * se, slope + t * se)"
   ]
  },
  {
   "cell_type": "markdown",
   "metadata": {},
   "source": [
    "## 27.21\n",
    "\n",
    "### Answers\n",
    "\n",
    "* a) (27.341077213283782, 29.069422786716217)\n",
    "* b) (15.443530612709012, 25.361091387290983)"
   ]
  },
  {
   "cell_type": "code",
   "execution_count": 12,
   "metadata": {},
   "outputs": [
    {
     "name": "stdout",
     "output_type": "stream",
     "text": [
      "y: 28.20525\n",
      "se: 0.4298009793661824\n",
      "t: 2.0106347546964454\n"
     ]
    },
    {
     "data": {
      "text/plain": [
       "(27.341077213283782, 29.069422786716217)"
      ]
     },
     "execution_count": 12,
     "metadata": {},
     "output_type": "execute_result"
    }
   ],
   "source": [
    "# a\n",
    "x_nu = 2.500\n",
    "x_bar = 2.88780\n",
    "se_b1 = 0.6738\n",
    "se = 2.413\n",
    "n = 50\n",
    "\n",
    "se_mean = math.sqrt(math.pow(se_b1, 2) * math.pow((x_nu - x_bar), 2) + (math.pow(se, 2) / n))\n",
    "t = stats.t.ppf(0.975, df = n - 2)\n",
    "y = 48.7393 - 8.21362 * x_nu\n",
    "\n",
    "print(\"y: {}\".format(y))\n",
    "print(\"se: {}\".format(se_mean))\n",
    "print(\"t: {}\".format(t))\n",
    "\n",
    "(y - t * se_mean, y + t * se_mean)"
   ]
  },
  {
   "cell_type": "code",
   "execution_count": 13,
   "metadata": {},
   "outputs": [
    {
     "name": "stdout",
     "output_type": "stream",
     "text": [
      "y: 20.402310999999997\n",
      "se: 2.466276073119822\n",
      "t: 2.0106347546964454\n"
     ]
    },
    {
     "data": {
      "text/plain": [
       "(15.443530612709012, 25.361091387290983)"
      ]
     },
     "execution_count": 13,
     "metadata": {},
     "output_type": "execute_result"
    }
   ],
   "source": [
    "# b\n",
    "x_nu = 3.45\n",
    "x_bar = 2.88780\n",
    "se_b1 = 0.6738\n",
    "se = 2.413\n",
    "n = 50\n",
    "\n",
    "se_mean = math.sqrt(math.pow(se_b1, 2) * math.pow((x_nu - x_bar), 2) + (math.pow(se, 2) / n) + (math.pow(se, 2)))\n",
    "t = stats.t.ppf(0.975, df = n - 2)\n",
    "y = 48.7393 - 8.21362 * x_nu\n",
    "\n",
    "print(\"y: {}\".format(y))\n",
    "print(\"se: {}\".format(se_mean))\n",
    "print(\"t: {}\".format(t))\n",
    "\n",
    "(y - t * se_mean, y + t * se_mean)"
   ]
  },
  {
   "cell_type": "markdown",
   "metadata": {},
   "source": [
    "## 27.23\n",
    "\n",
    "### Answers\n",
    "\n",
    "* a) \n",
    "    - H0: slope = 0\n",
    "    - HA: slope <> 0\n",
    "    - given P-value of 0.0079, reject H0; evidence support claim of association between calories and sodium content\n",
    "* b) probably not; R-squared is pretty small: 9%, so only 9% of variability is explained by the model; meanwhile, standard deviation of residuals is pretty large @ 80.49"
   ]
  },
  {
   "cell_type": "markdown",
   "metadata": {},
   "source": [
    "## 27.25\n",
    "\n",
    "### Answers\n",
    "\n",
    "* plot 1: appears to be a curved, non-linear relationship\n",
    "* plot 2: same for residuals, \n",
    "* plot 3: fairly right-skewed"
   ]
  },
  {
   "cell_type": "markdown",
   "metadata": {},
   "source": [
    "## 27.27\n",
    "\n",
    "### Answers\n",
    "\n",
    "* a) H0: slope = 0 (no assoc btw pH and BCI), HA: slope <> 0 (association btw pH and BCI)\n",
    "* b) \n",
    "  - t: -7.73\n",
    "  - P-value: < 0.0001\n",
    "* c) Reject H0; evidence supports claim that there's an association between pH and BCI; slope indicates that the association is a negative one.  For each 1 unit increase in pH, we expect the an average decrease in BCI of 198 units."
   ]
  },
  {
   "cell_type": "code",
   "execution_count": 5,
   "metadata": {},
   "outputs": [
    {
     "name": "stdout",
     "output_type": "stream",
     "text": [
      "t: -7.731482205709816\n",
      "P-value: 5.432728233075889e-13\n"
     ]
    }
   ],
   "source": [
    "# b\n",
    "slope = -197.694\n",
    "se = 25.57\n",
    "\n",
    "t = slope / se\n",
    "Pvalue = stats.t.cdf(t, df=161)\n",
    "\n",
    "print(\"t: {}\".format(t))\n",
    "print(\"P-value: {}\".format(Pvalue))"
   ]
  },
  {
   "cell_type": "markdown",
   "metadata": {},
   "source": [
    "## 27.29\n",
    "\n",
    "### Answers\n",
    "\n",
    "* a) t-value: 3.482, P-value: 0.0018, reject H0; evidence supports claim of an association between population and ozone level.\n",
    "* b) yes: fairly high R^2, indicating model accounts for a large % of variability in y-value; s is 5.454 - not clear (without more context around range of values) whether this is relatively large or small for ozone measurements."
   ]
  },
  {
   "cell_type": "code",
   "execution_count": 8,
   "metadata": {},
   "outputs": [
    {
     "name": "stdout",
     "output_type": "stream",
     "text": [
      "t: 3.4816753926701574\n",
      "P-value: 0.001833168458141965\n"
     ]
    }
   ],
   "source": [
    "slope = 6.650\n",
    "se = 1.910\n",
    "\n",
    "t = slope / se\n",
    "print(\"t: {}\".format(t))\n",
    "\n",
    "pValue = 1 - stats.t.cdf(t, df=14)\n",
    "print(\"P-value: {}\".format(pValue))"
   ]
  },
  {
   "cell_type": "markdown",
   "metadata": {},
   "source": [
    "## 27.31\n",
    "\n",
    "### Answers\n",
    "\n",
    "* a) We are 90% confident that, for each additional 1M increase in population, the increase in ozone level is captured by the range 3.286 to 10.014.\n",
    "* b) We are 90% confident that the mean ozone level for cities with population @ 0.6M is captured by the range 18.47 to 27.29."
   ]
  },
  {
   "cell_type": "code",
   "execution_count": 9,
   "metadata": {},
   "outputs": [
    {
     "data": {
      "text/plain": [
       "(3.2858976406700253, 10.014102359329975)"
      ]
     },
     "execution_count": 9,
     "metadata": {},
     "output_type": "execute_result"
    }
   ],
   "source": [
    "# a)\n",
    "slope = 6.650\n",
    "se = 1.910\n",
    "\n",
    "t = stats.t.ppf(0.95, df=14)\n",
    "\n",
    "(slope - se * t, slope + se * t)"
   ]
  },
  {
   "cell_type": "code",
   "execution_count": 21,
   "metadata": {},
   "outputs": [
    {
     "data": {
      "text/plain": [
       "(18.47051289976047, 27.293487100239524)"
      ]
     },
     "execution_count": 21,
     "metadata": {},
     "output_type": "execute_result"
    }
   ],
   "source": [
    "# b)\n",
    "x_bar = 1.7\n",
    "x = 0.6\n",
    "se_b1 = 1.910\n",
    "se = 5.454\n",
    "n = 16\n",
    "\n",
    "# predict mean ozone level @ 90% conf\n",
    "se_mean = math.sqrt(math.pow(se_b1, 2) * math.pow((x - x_bar), 2) + (math.pow(se, 2) / n))\n",
    "t = stats.t.ppf(0.95, df=n-2)\n",
    "\n",
    "y = 18.892 + x * 6.650 \n",
    "\n",
    "(y - t * se_mean, y + t * se_mean)"
   ]
  },
  {
   "cell_type": "markdown",
   "metadata": {},
   "source": [
    "## \n",
    "\n",
    "### Answers\n",
    "\n",
    "* \n"
   ]
  },
  {
   "cell_type": "markdown",
   "metadata": {},
   "source": [
    "## \n",
    "\n",
    "### Answers\n",
    "\n",
    "* \n"
   ]
  },
  {
   "cell_type": "code",
   "execution_count": null,
   "metadata": {
    "collapsed": true
   },
   "outputs": [],
   "source": []
  }
 ],
 "metadata": {
  "kernelspec": {
   "display_name": "Python 3",
   "language": "python",
   "name": "python3"
  },
  "language_info": {
   "codemirror_mode": {
    "name": "ipython",
    "version": 3
   },
   "file_extension": ".py",
   "mimetype": "text/x-python",
   "name": "python",
   "nbconvert_exporter": "python",
   "pygments_lexer": "ipython3",
   "version": "3.5.2"
  }
 },
 "nbformat": 4,
 "nbformat_minor": 2
}
