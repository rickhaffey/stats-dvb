{
 "cells": [
  {
   "cell_type": "markdown",
   "metadata": {},
   "source": [
    "# Chapter 27 - Exercises"
   ]
  },
  {
   "cell_type": "code",
   "execution_count": 1,
   "metadata": {
    "collapsed": true
   },
   "outputs": [],
   "source": [
    "from scipy import stats"
   ]
  },
  {
   "cell_type": "markdown",
   "metadata": {},
   "source": [
    "## 27.1 \n",
    "\n",
    "### Answers\n",
    "\n",
    "* a) \n",
    "    - regression equation: error = 453.223 -8.37084 * years_since_1970\n",
    "    - mean error @ 1970 = 453.223\n",
    "    - on average, error decreases 8.37 nautical miles for every year since then\n",
    "* b) \n",
    "    - H0: slope = 0\n",
    "    - HA: slope <> 0\n",
    "    - h0 = error hasn't changed over time\n",
    "    - ha = error changes at some linear rate over time\n",
    "* c) P-value for the \"Year since 1970\" variable is <= 0.0001; reject H0; evidence supports claim that slope <> 0, and the error has been changing over time;\n",
    "* d) The model captures 58.5% of the variability in error with respect to years since 1970."
   ]
  },
  {
   "cell_type": "markdown",
   "metadata": {},
   "source": [
    "## 27.3\n",
    "\n",
    "### Answers\n",
    "\n",
    "* a) Budget increases with runtime of a given movie. For every additional minute of runtime, the budget increases by \\$1.03 million.\n",
    "* b) It would mean that given a movie of 0 minutes, the cost of the movie would be \\$-64 million.  This is clearly outside the range of movies used as input to the model, and reflects a \"non-sensical\" value.  Starting at 62.35 minutes runtime, the cost would be $0 - so this model is clearly only applicable to some range of runtimes _above_ 62 minutes in run-length.\n",
    "* c) The standard deviation of the residuals is \\$32.95 million.\n",
    "* d) SE(slope) = 0.1540\n",
    "* e) Repeated sampling is expected to generate regression line slopes with a standard deviation of 0.1540"
   ]
  },
  {
   "cell_type": "markdown",
   "metadata": {},
   "source": [
    "## 27.5\n",
    "\n",
    "### Answers\n",
    "\n",
    "* a) \n",
    "    * straight enough condition : no signs of non-linear relationship\n",
    "    * randomization condition : see below\n",
    "    * does the plot thicken? condition : there might be some thickening of the residuals plot; looks somewhat like it fans out from 0    \n",
    "    * outlier condition : also looks like there may be a few outliers at the high end\n",
    "* b) see below"
   ]
  },
  {
   "cell_type": "code",
   "execution_count": 6,
   "metadata": {},
   "outputs": [
    {
     "data": {
      "text/plain": [
       "(0.7215180736169313, 1.3314419263830688)"
      ]
     },
     "execution_count": 6,
     "metadata": {},
     "output_type": "execute_result"
    }
   ],
   "source": [
    "t = stats.t.ppf(0.975, df=118)\n",
    "slope = 1.02648\n",
    "se = 0.1540\n",
    "(slope - t * se, slope + t * se)\n"
   ]
  },
  {
   "cell_type": "markdown",
   "metadata": {},
   "source": [
    "## 27.7\n",
    "\n",
    "### Answers\n",
    "\n",
    "* a)\n",
    "  - H0: slope = 0 (sodium not associated with calories)\n",
    "  - HA: slope <> 0 (sodium level and calories are associated)\n",
    "* b) see below; reject H0 - low P-value (0.00176) provides evidence in support of a non-0 slope"
   ]
  },
  {
   "cell_type": "code",
   "execution_count": 11,
   "metadata": {},
   "outputs": [
    {
     "name": "stdout",
     "output_type": "stream",
     "text": [
      "P-value: 0.001755561687713847\n"
     ]
    }
   ],
   "source": [
    "slope = 2.29959\n",
    "se = 0.5607\n",
    "tstar = slope / se\n",
    "pValue = 2 * (1 - stats.t.cdf(tstar, df=13-2))\n",
    "print(\"P-value: {}\".format(pValue))"
   ]
  },
  {
   "cell_type": "markdown",
   "metadata": {},
   "source": [
    "## 27.9\n",
    "\n",
    "### Answers\n",
    "\n",
    "* a) on average, the error around the regression line (the residuals) are 59.66 mg; at any given calorie level, we'd expect the hot dogs at that level to have sodium levels with a standard deviation of 59.66 mg;\n",
    "* b) 0.5607\n",
    "* c) repeated sampling would generate regression lines with slopes having a standard deviation equal to this value"
   ]
  },
  {
   "cell_type": "markdown",
   "metadata": {},
   "source": [
    "## 27.11\n",
    "\n",
    "### Answers\n",
    "\n",
    "* see below; We are 95% confident that the change in sodium for every 1 unit change in calories is captured by the range 1.065 to 3.533 mg/calorie."
   ]
  },
  {
   "cell_type": "code",
   "execution_count": 12,
   "metadata": {},
   "outputs": [
    {
     "data": {
      "text/plain": [
       "(1.0654976207414903, 3.5336823792585093)"
      ]
     },
     "execution_count": 12,
     "metadata": {},
     "output_type": "execute_result"
    }
   ],
   "source": [
    "slope = 2.29959\n",
    "se = 0.5607\n",
    "df = 11\n",
    "t = stats.t.ppf(0.975, df=11)\n",
    "(slope - t * se, slope + t * se)"
   ]
  },
  {
   "cell_type": "markdown",
   "metadata": {},
   "source": [
    "## 27.13\n",
    "\n",
    "### Answers\n",
    "\n",
    "* a) \n",
    "  - H0: slope = 0 (no change in difference over time)\n",
    "  - HA: slope < 0 (there is a _decrease_ in the difference over time)\n",
    "* b) yes: no sign of non-linear relationship; residuals appear random with now fanning out, no clear outliers; possibly bi-modal histogram of residuals, but appears workable\n",
    "* c) regression produced a P-value <= 0.0001 --> reject H0, evidence supports claim of decrease over time\n",
    " "
   ]
  },
  {
   "cell_type": "markdown",
   "metadata": {},
   "source": [
    "## \n",
    "\n",
    "### Answers\n",
    "\n",
    "* \n"
   ]
  },
  {
   "cell_type": "markdown",
   "metadata": {},
   "source": [
    "## \n",
    "\n",
    "### Answers\n",
    "\n",
    "* \n"
   ]
  },
  {
   "cell_type": "markdown",
   "metadata": {},
   "source": [
    "## \n",
    "\n",
    "### Answers\n",
    "\n",
    "* \n"
   ]
  },
  {
   "cell_type": "markdown",
   "metadata": {},
   "source": [
    "## \n",
    "\n",
    "### Answers\n",
    "\n",
    "* \n"
   ]
  },
  {
   "cell_type": "markdown",
   "metadata": {},
   "source": [
    "## \n",
    "\n",
    "### Answers\n",
    "\n",
    "* \n"
   ]
  },
  {
   "cell_type": "code",
   "execution_count": null,
   "metadata": {
    "collapsed": true
   },
   "outputs": [],
   "source": []
  }
 ],
 "metadata": {
  "kernelspec": {
   "display_name": "Python 3",
   "language": "python",
   "name": "python3"
  },
  "language_info": {
   "codemirror_mode": {
    "name": "ipython",
    "version": 3
   },
   "file_extension": ".py",
   "mimetype": "text/x-python",
   "name": "python",
   "nbconvert_exporter": "python",
   "pygments_lexer": "ipython3",
   "version": "3.5.2"
  }
 },
 "nbformat": 4,
 "nbformat_minor": 2
}
