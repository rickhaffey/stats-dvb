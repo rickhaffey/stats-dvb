{
 "cells": [
  {
   "cell_type": "markdown",
   "metadata": {},
   "source": [
    "# Chapter 27 - Exercises"
   ]
  },
  {
   "cell_type": "markdown",
   "metadata": {},
   "source": [
    "## 27.1 \n",
    "\n",
    "### Answers\n",
    "\n",
    "* a) \n",
    "    - regression equation: error = 453.223 -8.37084 * years_since_1970\n",
    "    - mean error @ 1970 = 453.223\n",
    "    - on average, error decreases 8.37 nautical miles for every year since then\n",
    "* b) \n",
    "    - H0: slope = 0\n",
    "    - HA: slope <> 0\n",
    "    - h0 = error hasn't changed over time\n",
    "    - ha = error changes at some linear rate over time\n",
    "* c) P-value for the \"Year since 1970\" variable is <= 0.0001; reject H0; evidence supports claim that slope <> 0, and the error has been changing over time;\n",
    "* d) The model captures 58.5% of the variability in error with respect to years since 1970."
   ]
  },
  {
   "cell_type": "markdown",
   "metadata": {},
   "source": [
    "## 27.3\n",
    "\n",
    "### Answers\n",
    "\n",
    "* a) Budget increases with runtime of a given movie. For every additional minute of runtime, the budget increases by \\$1.03 million.\n",
    "* b) It would mean that given a movie of 0 minutes, the cost of the movie would be \\$-64 million.  This is clearly outside the range of movies used as input to the model, and reflects a \"non-sensical\" value.  Starting at 62.35 minutes runtime, the cost would be $0 - so this model is clearly only applicable to some range of runtimes _above_ 62 minutes in run-length.\n",
    "* c) The standard deviation of the residuals is \\$32.95 million.\n",
    "* d) SE(slope) = 0.1540\n",
    "* e) Repeated sampling is expected to generate regression line slopes with a standard deviation of 0.1540"
   ]
  },
  {
   "cell_type": "markdown",
   "metadata": {},
   "source": [
    "## \n",
    "\n",
    "### Answers\n",
    "\n",
    "* \n"
   ]
  },
  {
   "cell_type": "markdown",
   "metadata": {},
   "source": [
    "## \n",
    "\n",
    "### Answers\n",
    "\n",
    "* \n"
   ]
  },
  {
   "cell_type": "markdown",
   "metadata": {},
   "source": [
    "## \n",
    "\n",
    "### Answers\n",
    "\n",
    "* \n"
   ]
  },
  {
   "cell_type": "markdown",
   "metadata": {},
   "source": [
    "## \n",
    "\n",
    "### Answers\n",
    "\n",
    "* \n"
   ]
  },
  {
   "cell_type": "markdown",
   "metadata": {},
   "source": [
    "## \n",
    "\n",
    "### Answers\n",
    "\n",
    "* \n"
   ]
  },
  {
   "cell_type": "markdown",
   "metadata": {},
   "source": [
    "## \n",
    "\n",
    "### Answers\n",
    "\n",
    "* \n"
   ]
  },
  {
   "cell_type": "code",
   "execution_count": null,
   "metadata": {
    "collapsed": true
   },
   "outputs": [],
   "source": []
  }
 ],
 "metadata": {
  "kernelspec": {
   "display_name": "Python 3",
   "language": "python",
   "name": "python3"
  },
  "language_info": {
   "codemirror_mode": {
    "name": "ipython",
    "version": 3
   },
   "file_extension": ".py",
   "mimetype": "text/x-python",
   "name": "python",
   "nbconvert_exporter": "python",
   "pygments_lexer": "ipython3",
   "version": "3.5.2"
  }
 },
 "nbformat": 4,
 "nbformat_minor": 2
}
