{
 "cells": [
  {
   "cell_type": "markdown",
   "metadata": {},
   "source": [
    "# Chapter 27 - Exercises"
   ]
  },
  {
   "cell_type": "code",
   "execution_count": 1,
   "metadata": {
    "collapsed": true
   },
   "outputs": [],
   "source": [
    "from scipy import stats\n",
    "import math\n",
    "import pandas as pd\n",
    "\n",
    "import matplotlib.pyplot as plt\n",
    "%matplotlib inline\n",
    "\n",
    "import statsmodels.api as sm"
   ]
  },
  {
   "cell_type": "markdown",
   "metadata": {},
   "source": [
    "## 27.1 \n",
    "\n",
    "### Answers\n",
    "\n",
    "* a) \n",
    "    - regression equation: error = 453.223 -8.37084 * years_since_1970\n",
    "    - mean error @ 1970 = 453.223\n",
    "    - on average, error decreases 8.37 nautical miles for every year since then\n",
    "* b) \n",
    "    - H0: slope = 0\n",
    "    - HA: slope <> 0\n",
    "    - h0 = error hasn't changed over time\n",
    "    - ha = error changes at some linear rate over time\n",
    "* c) P-value for the \"Year since 1970\" variable is <= 0.0001; reject H0; evidence supports claim that slope <> 0, and the error has been changing over time;\n",
    "* d) The model captures 58.5% of the variability in error with respect to years since 1970."
   ]
  },
  {
   "cell_type": "markdown",
   "metadata": {},
   "source": [
    "## 27.3\n",
    "\n",
    "### Answers\n",
    "\n",
    "* a) Budget increases with runtime of a given movie. For every additional minute of runtime, the budget increases by \\$1.03 million.\n",
    "* b) It would mean that given a movie of 0 minutes, the cost of the movie would be \\$-64 million.  This is clearly outside the range of movies used as input to the model, and reflects a \"non-sensical\" value.  Starting at 62.35 minutes runtime, the cost would be $0 - so this model is clearly only applicable to some range of runtimes _above_ 62 minutes in run-length.\n",
    "* c) The standard deviation of the residuals is \\$32.95 million.\n",
    "* d) SE(slope) = 0.1540\n",
    "* e) Repeated sampling is expected to generate regression line slopes with a standard deviation of 0.1540"
   ]
  },
  {
   "cell_type": "markdown",
   "metadata": {},
   "source": [
    "## 27.5\n",
    "\n",
    "### Answers\n",
    "\n",
    "* a) \n",
    "    * straight enough condition : no signs of non-linear relationship\n",
    "    * randomization condition : see below\n",
    "    * does the plot thicken? condition : there might be some thickening of the residuals plot; looks somewhat like it fans out from 0    \n",
    "    * outlier condition : also looks like there may be a few outliers at the high end\n",
    "* b) see below"
   ]
  },
  {
   "cell_type": "code",
   "execution_count": 6,
   "metadata": {},
   "outputs": [
    {
     "data": {
      "text/plain": [
       "(0.7215180736169313, 1.3314419263830688)"
      ]
     },
     "execution_count": 6,
     "metadata": {},
     "output_type": "execute_result"
    }
   ],
   "source": [
    "t = stats.t.ppf(0.975, df=118)\n",
    "slope = 1.02648\n",
    "se = 0.1540\n",
    "(slope - t * se, slope + t * se)\n"
   ]
  },
  {
   "cell_type": "markdown",
   "metadata": {},
   "source": [
    "## 27.7\n",
    "\n",
    "### Answers\n",
    "\n",
    "* a)\n",
    "  - H0: slope = 0 (sodium not associated with calories)\n",
    "  - HA: slope <> 0 (sodium level and calories are associated)\n",
    "* b) see below; reject H0 - low P-value (0.00176) provides evidence in support of a non-0 slope"
   ]
  },
  {
   "cell_type": "code",
   "execution_count": 11,
   "metadata": {},
   "outputs": [
    {
     "name": "stdout",
     "output_type": "stream",
     "text": [
      "P-value: 0.001755561687713847\n"
     ]
    }
   ],
   "source": [
    "slope = 2.29959\n",
    "se = 0.5607\n",
    "tstar = slope / se\n",
    "pValue = 2 * (1 - stats.t.cdf(tstar, df=13-2))\n",
    "print(\"P-value: {}\".format(pValue))"
   ]
  },
  {
   "cell_type": "markdown",
   "metadata": {},
   "source": [
    "## 27.9\n",
    "\n",
    "### Answers\n",
    "\n",
    "* a) on average, the error around the regression line (the residuals) are 59.66 mg; at any given calorie level, we'd expect the hot dogs at that level to have sodium levels with a standard deviation of 59.66 mg;\n",
    "* b) 0.5607\n",
    "* c) repeated sampling would generate regression lines with slopes having a standard deviation equal to this value"
   ]
  },
  {
   "cell_type": "markdown",
   "metadata": {},
   "source": [
    "## 27.11\n",
    "\n",
    "### Answers\n",
    "\n",
    "* see below; We are 95% confident that the change in sodium for every 1 unit change in calories is captured by the range 1.065 to 3.533 mg/calorie."
   ]
  },
  {
   "cell_type": "code",
   "execution_count": 12,
   "metadata": {},
   "outputs": [
    {
     "data": {
      "text/plain": [
       "(1.0654976207414903, 3.5336823792585093)"
      ]
     },
     "execution_count": 12,
     "metadata": {},
     "output_type": "execute_result"
    }
   ],
   "source": [
    "slope = 2.29959\n",
    "se = 0.5607\n",
    "df = 11\n",
    "t = stats.t.ppf(0.975, df=11)\n",
    "(slope - t * se, slope + t * se)"
   ]
  },
  {
   "cell_type": "markdown",
   "metadata": {},
   "source": [
    "## 27.13\n",
    "\n",
    "### Answers\n",
    "\n",
    "* a) \n",
    "  - H0: slope = 0 (no change in difference over time)\n",
    "  - HA: slope < 0 (there is a _decrease_ in the difference over time)\n",
    "* b) yes: no sign of non-linear relationship; residuals appear random with now fanning out, no clear outliers; possibly bi-modal histogram of residuals, but appears workable\n",
    "* c) regression produced a P-value <= 0.0001 --> reject H0, evidence supports claim of decrease over time\n",
    " "
   ]
  },
  {
   "cell_type": "markdown",
   "metadata": {},
   "source": [
    "## 27.15\n",
    "\n",
    "### Answers\n",
    "\n",
    "* (-0.038883303747464466, -0.024566696252535544)\n",
    "* We are 95% confident that with each additional year, the average difference in age between husband and wife is captured by the range -0.0389 and -0.02457."
   ]
  },
  {
   "cell_type": "code",
   "execution_count": 2,
   "metadata": {},
   "outputs": [
    {
     "data": {
      "text/plain": [
       "(-0.038883303747464466, -0.024566696252535544)"
      ]
     },
     "execution_count": 2,
     "metadata": {},
     "output_type": "execute_result"
    }
   ],
   "source": [
    "slope = -0.031725\n",
    "se = 0.0035\n",
    "\n",
    "t = stats.t.ppf(0.975, df=29)\n",
    "\n",
    "(slope - t * se, slope + t * se)"
   ]
  },
  {
   "cell_type": "markdown",
   "metadata": {},
   "source": [
    "## 27.17\n",
    "\n",
    "### Answers\n",
    "\n",
    "* a)\n",
    "  - H0: slope = 0\n",
    "  - HA: slope <> 0\n",
    "* b) yes staight enough; assume randomly selected models; no clear patterns in residuals, approx normal\n",
    "* c) reject H0; P-value for slope is <= 0.0001; evidence supports claim of an association between weight and fuel efficiency."
   ]
  },
  {
   "cell_type": "markdown",
   "metadata": {},
   "source": [
    "## 27.19\n",
    "\n",
    "### Answers\n",
    "\n",
    "* (-9.568385697714465, -6.858854302285536)\n",
    "* We're 95% confident that with each additional 1000 #'s in weight, average fuel efficiency decrease is captured by the range 6.86 to 9.57 mpg."
   ]
  },
  {
   "cell_type": "code",
   "execution_count": 3,
   "metadata": {},
   "outputs": [
    {
     "data": {
      "text/plain": [
       "(-9.568385697714465, -6.858854302285536)"
      ]
     },
     "execution_count": 3,
     "metadata": {},
     "output_type": "execute_result"
    }
   ],
   "source": [
    "slope = -8.21362\n",
    "se = 0.6738\n",
    "t = stats.t.ppf(0.975, df=48)\n",
    "\n",
    "(slope - t * se, slope + t * se)"
   ]
  },
  {
   "cell_type": "markdown",
   "metadata": {},
   "source": [
    "## 27.21\n",
    "\n",
    "### Answers\n",
    "\n",
    "* a) (27.341077213283782, 29.069422786716217)\n",
    "* b) (15.443530612709012, 25.361091387290983)"
   ]
  },
  {
   "cell_type": "code",
   "execution_count": 12,
   "metadata": {},
   "outputs": [
    {
     "name": "stdout",
     "output_type": "stream",
     "text": [
      "y: 28.20525\n",
      "se: 0.4298009793661824\n",
      "t: 2.0106347546964454\n"
     ]
    },
    {
     "data": {
      "text/plain": [
       "(27.341077213283782, 29.069422786716217)"
      ]
     },
     "execution_count": 12,
     "metadata": {},
     "output_type": "execute_result"
    }
   ],
   "source": [
    "# a\n",
    "x_nu = 2.500\n",
    "x_bar = 2.88780\n",
    "se_b1 = 0.6738\n",
    "se = 2.413\n",
    "n = 50\n",
    "\n",
    "se_mean = math.sqrt(math.pow(se_b1, 2) * math.pow((x_nu - x_bar), 2) + (math.pow(se, 2) / n))\n",
    "t = stats.t.ppf(0.975, df = n - 2)\n",
    "y = 48.7393 - 8.21362 * x_nu\n",
    "\n",
    "print(\"y: {}\".format(y))\n",
    "print(\"se: {}\".format(se_mean))\n",
    "print(\"t: {}\".format(t))\n",
    "\n",
    "(y - t * se_mean, y + t * se_mean)"
   ]
  },
  {
   "cell_type": "code",
   "execution_count": 13,
   "metadata": {},
   "outputs": [
    {
     "name": "stdout",
     "output_type": "stream",
     "text": [
      "y: 20.402310999999997\n",
      "se: 2.466276073119822\n",
      "t: 2.0106347546964454\n"
     ]
    },
    {
     "data": {
      "text/plain": [
       "(15.443530612709012, 25.361091387290983)"
      ]
     },
     "execution_count": 13,
     "metadata": {},
     "output_type": "execute_result"
    }
   ],
   "source": [
    "# b\n",
    "x_nu = 3.45\n",
    "x_bar = 2.88780\n",
    "se_b1 = 0.6738\n",
    "se = 2.413\n",
    "n = 50\n",
    "\n",
    "se_mean = math.sqrt(math.pow(se_b1, 2) * math.pow((x_nu - x_bar), 2) + (math.pow(se, 2) / n) + (math.pow(se, 2)))\n",
    "t = stats.t.ppf(0.975, df = n - 2)\n",
    "y = 48.7393 - 8.21362 * x_nu\n",
    "\n",
    "print(\"y: {}\".format(y))\n",
    "print(\"se: {}\".format(se_mean))\n",
    "print(\"t: {}\".format(t))\n",
    "\n",
    "(y - t * se_mean, y + t * se_mean)"
   ]
  },
  {
   "cell_type": "markdown",
   "metadata": {},
   "source": [
    "## 27.23\n",
    "\n",
    "### Answers\n",
    "\n",
    "* a) \n",
    "    - H0: slope = 0\n",
    "    - HA: slope <> 0\n",
    "    - given P-value of 0.0079, reject H0; evidence support claim of association between calories and sodium content\n",
    "* b) probably not; R-squared is pretty small: 9%, so only 9% of variability is explained by the model; meanwhile, standard deviation of residuals is pretty large @ 80.49"
   ]
  },
  {
   "cell_type": "markdown",
   "metadata": {},
   "source": [
    "## 27.25\n",
    "\n",
    "### Answers\n",
    "\n",
    "* plot 1: appears to be a curved, non-linear relationship\n",
    "* plot 2: same for residuals, \n",
    "* plot 3: fairly right-skewed"
   ]
  },
  {
   "cell_type": "markdown",
   "metadata": {},
   "source": [
    "## 27.27\n",
    "\n",
    "### Answers\n",
    "\n",
    "* a) H0: slope = 0 (no assoc btw pH and BCI), HA: slope <> 0 (association btw pH and BCI)\n",
    "* b) \n",
    "  - t: -7.73\n",
    "  - P-value: < 0.0001\n",
    "* c) Reject H0; evidence supports claim that there's an association between pH and BCI; slope indicates that the association is a negative one.  For each 1 unit increase in pH, we expect the an average decrease in BCI of 198 units."
   ]
  },
  {
   "cell_type": "code",
   "execution_count": 5,
   "metadata": {},
   "outputs": [
    {
     "name": "stdout",
     "output_type": "stream",
     "text": [
      "t: -7.731482205709816\n",
      "P-value: 5.432728233075889e-13\n"
     ]
    }
   ],
   "source": [
    "# b\n",
    "slope = -197.694\n",
    "se = 25.57\n",
    "\n",
    "t = slope / se\n",
    "Pvalue = stats.t.cdf(t, df=161)\n",
    "\n",
    "print(\"t: {}\".format(t))\n",
    "print(\"P-value: {}\".format(Pvalue))"
   ]
  },
  {
   "cell_type": "markdown",
   "metadata": {},
   "source": [
    "## 27.29\n",
    "\n",
    "### Answers\n",
    "\n",
    "* a) t-value: 3.482, P-value: 0.0018, reject H0; evidence supports claim of an association between population and ozone level.\n",
    "* b) yes: fairly high R^2, indicating model accounts for a large % of variability in y-value; s is 5.454 - not clear (without more context around range of values) whether this is relatively large or small for ozone measurements."
   ]
  },
  {
   "cell_type": "code",
   "execution_count": 8,
   "metadata": {},
   "outputs": [
    {
     "name": "stdout",
     "output_type": "stream",
     "text": [
      "t: 3.4816753926701574\n",
      "P-value: 0.001833168458141965\n"
     ]
    }
   ],
   "source": [
    "slope = 6.650\n",
    "se = 1.910\n",
    "\n",
    "t = slope / se\n",
    "print(\"t: {}\".format(t))\n",
    "\n",
    "pValue = 1 - stats.t.cdf(t, df=14)\n",
    "print(\"P-value: {}\".format(pValue))"
   ]
  },
  {
   "cell_type": "markdown",
   "metadata": {},
   "source": [
    "## 27.31\n",
    "\n",
    "### Answers\n",
    "\n",
    "* a) We are 90% confident that, for each additional 1M increase in population, the increase in ozone level is captured by the range 3.286 to 10.014.\n",
    "* b) We are 90% confident that the mean ozone level for cities with population @ 0.6M is captured by the range 18.47 to 27.29."
   ]
  },
  {
   "cell_type": "code",
   "execution_count": 9,
   "metadata": {},
   "outputs": [
    {
     "data": {
      "text/plain": [
       "(3.2858976406700253, 10.014102359329975)"
      ]
     },
     "execution_count": 9,
     "metadata": {},
     "output_type": "execute_result"
    }
   ],
   "source": [
    "# a)\n",
    "slope = 6.650\n",
    "se = 1.910\n",
    "\n",
    "t = stats.t.ppf(0.95, df=14)\n",
    "\n",
    "(slope - se * t, slope + se * t)"
   ]
  },
  {
   "cell_type": "code",
   "execution_count": 21,
   "metadata": {},
   "outputs": [
    {
     "data": {
      "text/plain": [
       "(18.47051289976047, 27.293487100239524)"
      ]
     },
     "execution_count": 21,
     "metadata": {},
     "output_type": "execute_result"
    }
   ],
   "source": [
    "# b)\n",
    "x_bar = 1.7\n",
    "x = 0.6\n",
    "se_b1 = 1.910\n",
    "se = 5.454\n",
    "n = 16\n",
    "\n",
    "# predict mean ozone level @ 90% conf\n",
    "se_mean = math.sqrt(math.pow(se_b1, 2) * math.pow((x - x_bar), 2) + (math.pow(se, 2) / n))\n",
    "t = stats.t.ppf(0.95, df=n-2)\n",
    "\n",
    "y = 18.892 + x * 6.650 \n",
    "\n",
    "(y - t * se_mean, y + t * se_mean)"
   ]
  },
  {
   "cell_type": "markdown",
   "metadata": {},
   "source": [
    "## 27.33\n",
    "\n",
    "### Answers\n",
    "\n",
    "* a) n = 33\n",
    "* b) Yes\n",
    "  - no clear (non-linear) pattern in the data\n",
    "  - assume that the batteries tested were randomly selected\n",
    "  - no clear pattern of \"thickening\" in residuals\n",
    "  - normal probability plot of residuals has some curvature, but is linear for the most part\n",
    "* c) yes - H0: no association; HA: association between cost and power; P-value = 0.0029; reject H0; there is an association\n",
    "* d) Doesn't appear so; R^2 is only 25.2%, so it only explains ~1/4 the variability. standard deviation of residuals is fairly high at 116.\n",
    "* e) Power = 384.594 + 4.14649 * Cost\n",
    "* f) (1.973, 6.320) \n",
    "* g) We're 90% confident that the change in power for each \\$1 increase in cost is captured by the range 1.973 to 6.320."
   ]
  },
  {
   "cell_type": "code",
   "execution_count": 2,
   "metadata": {},
   "outputs": [
    {
     "data": {
      "text/plain": [
       "(1.9728349123267939, 6.320145087673206)"
      ]
     },
     "execution_count": 2,
     "metadata": {},
     "output_type": "execute_result"
    }
   ],
   "source": [
    "slope = 4.14649\n",
    "se = 1.282\n",
    "t = stats.t.ppf(0.95, df=33 - 2)\n",
    "\n",
    "(slope - t * se, slope + t * se)"
   ]
  },
  {
   "cell_type": "markdown",
   "metadata": {},
   "source": [
    "##  27.35\n",
    "\n",
    "### Answers\n",
    "\n",
    "* skipping this - dataset isn't available electronically"
   ]
  },
  {
   "cell_type": "markdown",
   "metadata": {},
   "source": [
    "## 27.37\n",
    "\n",
    "### Answers\n",
    "\n",
    "* a) see below (scipy and statsmodels examples)\n",
    "* b) no clear non-linear relationship in plot; residuals plot shows no discernable pattern; P-value of slope is < 0.001 => reject H0; evidence supports assumption of non-0 slope.\n",
    "* c) Disagree - although statistically significant, the model doesn't account for much of the variability in the second score (R^2 is only 0.1989) - limited predictive value."
   ]
  },
  {
   "cell_type": "code",
   "execution_count": 3,
   "metadata": {},
   "outputs": [
    {
     "data": {
      "text/html": [
       "<div>\n",
       "<table border=\"1\" class=\"dataframe\">\n",
       "  <thead>\n",
       "    <tr style=\"text-align: right;\">\n",
       "      <th></th>\n",
       "      <th>Firstname</th>\n",
       "      <th>Midterm 1</th>\n",
       "      <th>Midterm 2</th>\n",
       "      <th>Homework</th>\n",
       "    </tr>\n",
       "  </thead>\n",
       "  <tbody>\n",
       "    <tr>\n",
       "      <th>0</th>\n",
       "      <td>Timothy</td>\n",
       "      <td>82</td>\n",
       "      <td>30</td>\n",
       "      <td>61</td>\n",
       "    </tr>\n",
       "    <tr>\n",
       "      <th>1</th>\n",
       "      <td>Karen</td>\n",
       "      <td>96</td>\n",
       "      <td>68</td>\n",
       "      <td>72</td>\n",
       "    </tr>\n",
       "    <tr>\n",
       "      <th>2</th>\n",
       "      <td>Verena</td>\n",
       "      <td>57</td>\n",
       "      <td>82</td>\n",
       "      <td>69</td>\n",
       "    </tr>\n",
       "    <tr>\n",
       "      <th>3</th>\n",
       "      <td>Jonathan</td>\n",
       "      <td>89</td>\n",
       "      <td>92</td>\n",
       "      <td>84</td>\n",
       "    </tr>\n",
       "    <tr>\n",
       "      <th>4</th>\n",
       "      <td>Elizabeth</td>\n",
       "      <td>88</td>\n",
       "      <td>86</td>\n",
       "      <td>84</td>\n",
       "    </tr>\n",
       "  </tbody>\n",
       "</table>\n",
       "</div>"
      ],
      "text/plain": [
       "   Firstname  Midterm 1  Midterm 2  Homework\n",
       "0    Timothy         82         30        61\n",
       "1      Karen         96         68        72\n",
       "2     Verena         57         82        69\n",
       "3   Jonathan         89         92        84\n",
       "4  Elizabeth         88         86        84"
      ]
     },
     "execution_count": 3,
     "metadata": {},
     "output_type": "execute_result"
    }
   ],
   "source": [
    "grades = pd.read_table(\"../data/Grades.txt\")\n",
    "\n",
    "midterm_1 = grades['Midterm 1'].values\n",
    "midterm_2 = grades['Midterm 2'].values\n",
    "\n",
    "grades.head()"
   ]
  },
  {
   "cell_type": "code",
   "execution_count": 5,
   "metadata": {},
   "outputs": [
    {
     "data": {
      "image/png": "[encoded data removed]",
      "text/plain": [
       "<matplotlib.figure.Figure at 0x11accd898>"
      ]
     },
     "metadata": {},
     "output_type": "display_data"
    }
   ],
   "source": [
    "plt.scatter(midterm_1, midterm_2);"
   ]
  },
  {
   "cell_type": "markdown",
   "metadata": {},
   "source": [
    "#### Via Scipy.Stats + Numpy"
   ]
  },
  {
   "cell_type": "code",
   "execution_count": 6,
   "metadata": {},
   "outputs": [
    {
     "name": "stdout",
     "output_type": "stream",
     "text": [
      "slope: 0.7209895501704183\n",
      "intercept: 12.005430915015545\n",
      "r_value: 0.44607410025742683\n",
      "r_squared: 0.1989821029204729\n",
      "p_value: 0.00022051974479890684\n",
      "std_err: 0.18371610407377054\n"
     ]
    }
   ],
   "source": [
    "import numpy as np\n",
    "from scipy import stats\n",
    "slope, intercept, r_value, p_value, std_err = stats.linregress(midterm_1, midterm_2)\n",
    "\n",
    "print(\"slope: {}\".format( slope))\n",
    "print(\"intercept: {}\".format(intercept))\n",
    "print(\"r_value: {}\".format(r_value))\n",
    "print(\"r_squared: {}\".format(math.pow(r_value, 2)))\n",
    "print(\"p_value: {}\".format(p_value))\n",
    "print(\"std_err: {}\".format(std_err))"
   ]
  },
  {
   "cell_type": "markdown",
   "metadata": {},
   "source": [
    "#### Via Statsmodels"
   ]
  },
  {
   "cell_type": "code",
   "execution_count": 7,
   "metadata": {},
   "outputs": [
    {
     "name": "stdout",
     "output_type": "stream",
     "text": [
      "                            OLS Regression Results                            \n",
      "==============================================================================\n",
      "Dep. Variable:                      y   R-squared:                       0.199\n",
      "Model:                            OLS   Adj. R-squared:                  0.186\n",
      "Method:                 Least Squares   F-statistic:                     15.40\n",
      "Date:                Mon, 19 Feb 2018   Prob (F-statistic):           0.000221\n",
      "Time:                        06:45:37   Log-Likelihood:                -270.29\n",
      "No. Observations:                  64   AIC:                             544.6\n",
      "Df Residuals:                      62   BIC:                             548.9\n",
      "Df Model:                           1                                         \n",
      "Covariance Type:            nonrobust                                         \n",
      "==============================================================================\n",
      "                 coef    std err          t      P>|t|      [0.025      0.975]\n",
      "------------------------------------------------------------------------------\n",
      "x1             0.7210      0.184      3.924      0.000       0.354       1.088\n",
      "const         12.0054     15.955      0.752      0.455     -19.889      43.900\n",
      "==============================================================================\n",
      "Omnibus:                       11.919   Durbin-Watson:                   1.813\n",
      "Prob(Omnibus):                  0.003   Jarque-Bera (JB):               12.290\n",
      "Skew:                          -1.017   Prob(JB):                      0.00214\n",
      "Kurtosis:                       3.688   Cond. No.                         661.\n",
      "==============================================================================\n",
      "\n",
      "Warnings:\n",
      "[1] Standard Errors assume that the covariance matrix of the errors is correctly specified.\n"
     ]
    }
   ],
   "source": [
    "# additional pre-processing with statsmodels to add constant\n",
    "midterm_1 = sm.add_constant(midterm_1, prepend=False)\n",
    "\n",
    "# Note the difference in argument order\n",
    "model = sm.OLS(midterm_2, midterm_1).fit()\n",
    "\n",
    "# Print out the statistics\n",
    "print(model.summary())"
   ]
  },
  {
   "cell_type": "code",
   "execution_count": 17,
   "metadata": {},
   "outputs": [
    {
     "data": {
      "image/png": "[encoded data removed]",
      "text/plain": [
       "<matplotlib.figure.Figure at 0x11babb438>"
      ]
     },
     "metadata": {},
     "output_type": "display_data"
    }
   ],
   "source": [
    "# residuals vs. indep. var\n",
    "plt.scatter(grades['Midterm 1'], model.resid);"
   ]
  },
  {
   "cell_type": "markdown",
   "metadata": {},
   "source": [
    "## \n",
    "\n",
    "### Answers\n",
    "\n",
    "* \n"
   ]
  },
  {
   "cell_type": "markdown",
   "metadata": {},
   "source": [
    "## \n",
    "\n",
    "### Answers\n",
    "\n",
    "* \n"
   ]
  },
  {
   "cell_type": "markdown",
   "metadata": {},
   "source": [
    "## \n",
    "\n",
    "### Answers\n",
    "\n",
    "* \n"
   ]
  },
  {
   "cell_type": "markdown",
   "metadata": {},
   "source": [
    "## \n",
    "\n",
    "### Answers\n",
    "\n",
    "* \n"
   ]
  },
  {
   "cell_type": "markdown",
   "metadata": {},
   "source": [
    "## \n",
    "\n",
    "### Answers\n",
    "\n",
    "* \n"
   ]
  },
  {
   "cell_type": "markdown",
   "metadata": {},
   "source": [
    "## \n",
    "\n",
    "### Answers\n",
    "\n",
    "* \n"
   ]
  },
  {
   "cell_type": "markdown",
   "metadata": {},
   "source": [
    "## \n",
    "\n",
    "### Answers\n",
    "\n",
    "* \n"
   ]
  },
  {
   "cell_type": "code",
   "execution_count": null,
   "metadata": {
    "collapsed": true
   },
   "outputs": [],
   "source": []
  }
 ],
 "metadata": {
  "kernelspec": {
   "display_name": "Python 3",
   "language": "python",
   "name": "python3"
  },
  "language_info": {
   "codemirror_mode": {
    "name": "ipython",
    "version": 3
   },
   "file_extension": ".py",
   "mimetype": "text/x-python",
   "name": "python",
   "nbconvert_exporter": "python",
   "pygments_lexer": "ipython3",
   "version": "3.5.2"
  }
 },
 "nbformat": 4,
 "nbformat_minor": 2
}
