{
 "cells": [
  {
   "cell_type": "markdown",
   "metadata": {},
   "source": [
    "# Chapter 24 - Exercises"
   ]
  },
  {
   "cell_type": "code",
   "execution_count": 1,
   "metadata": {
    "collapsed": true
   },
   "outputs": [],
   "source": [
    "import math\n",
    "from scipy.stats import t\n",
    "import scipy.stats\n",
    "import numpy as np\n",
    "import pandas as pd\n",
    "\n",
    "from statistics import stdev, mean\n",
    "from statistics import variance\n",
    "\n",
    "import matplotlib.pyplot as plt\n",
    "%matplotlib inline\n",
    "\n",
    "plt.style.use('ggplot')"
   ]
  },
  {
   "cell_type": "code",
   "execution_count": 2,
   "metadata": {
    "collapsed": true
   },
   "outputs": [],
   "source": [
    "def degrees_freedom(s1, n1, s2, n2):\n",
    "    \"\"\"\n",
    "    Calculate degrees freedom for a two-sample $t$-test under assumptions of unequal variances.\n",
    "    \"\"\"\n",
    "    n = (s1 ** 2 / n1 + s2 ** 2 / n2) ** 2\n",
    "    d = (1 / (n1 - 1)) * (s1 ** 2 / n1) ** 2 + (1 / (n2 - 1)) * (s2 ** 2 / n2) ** 2\n",
    "    return n / d"
   ]
  },
  {
   "cell_type": "code",
   "execution_count": 3,
   "metadata": {
    "collapsed": true
   },
   "outputs": [],
   "source": [
    "template = \"\"\"\n",
    "diff: {diff}\n",
    "se: {se}\n",
    "df: {df}\n",
    "t*: {tval}\n",
    "P-value: {pvalue}\n",
    "\"\"\""
   ]
  },
  {
   "cell_type": "markdown",
   "metadata": {},
   "source": [
    "## 24.1\n",
    "\n",
    "### Answers\n",
    "\n",
    "* Yes, it would: The p value is > 0.05."
   ]
  },
  {
   "cell_type": "markdown",
   "metadata": {},
   "source": [
    "## 24.3 \n",
    "\n",
    "### Answers\n",
    "\n",
    "* a) We're 90% confident that the average fat content of beef dogs is greater than that of meat dogs.\n",
    "* b) We would reject a null hypothesis (at the 90% confidence level) that there's no difference in average fat content.  In other words, the evidence supports the claim that the average fat content of beef dogs is greater than meat dogs.\n",
    "* c) Alpha = 0.10"
   ]
  },
  {
   "cell_type": "markdown",
   "metadata": {},
   "source": [
    "## 24.5\n",
    "\n",
    "### Answers\n",
    "\n",
    "* a) false: CI relates to averages, not individuals\n",
    "* b) false: CI is about average, not individuals\n",
    "* c) true\n",
    "* d) false: our previous sample doesn't determine following samples\n",
    "* e) true"
   ]
  },
  {
   "cell_type": "markdown",
   "metadata": {},
   "source": [
    "## 24.7\n",
    "\n",
    "### Answers\n",
    "\n",
    "* a) 2.93\n",
    "* b) larger\n",
    "* c) We are 95% confidence that the true difference in mean scores is captured by the range 5.573 to 11.427."
   ]
  },
  {
   "cell_type": "code",
   "execution_count": 4,
   "metadata": {},
   "outputs": [
    {
     "name": "stdout",
     "output_type": "stream",
     "text": [
      "me: 2.9269999999999996\n"
     ]
    }
   ],
   "source": [
    "# a)\n",
    "me = (11.427 - 5.573) / 2\n",
    "print(\"me: {}\".format(me))"
   ]
  },
  {
   "cell_type": "markdown",
   "metadata": {},
   "source": [
    "## 24.9\n",
    "\n",
    "### Answers\n",
    "\n",
    "* a) \n",
    "  * H0: mu(CPMP) - mu(traditional) = 0\n",
    "  * HA: mu(CPMP) - mu(traditional) <> 0\n",
    "* b) yes: randomly sampled (? not specified), samples are independent, groups are independent, < 10% of overall population\n",
    "* c) Assuming there's no difference in the mean scores between the two groups, we would expect the results we obtained (or more extreme results) to occur purely due to sampling variability les than 0.01% of the time.\n",
    "* d) The evidence supports the claim that there is a significant, non-zero difference in mean scores between thetwo groups."
   ]
  },
  {
   "cell_type": "markdown",
   "metadata": {},
   "source": [
    "## 24.11\n",
    "\n",
    "### Answers\n",
    "\n",
    "* a) (-4.64, -1.36)\n",
    "* b) He can expect to save _some_ time with route A, but the savings will typically be less than 5 minutes (closer to 3)\n",
    "* c) The 95% CI doesn't include a savings of 5 minutes -- so we're 95% confident that the level of savings across average travel times _doesn't_ extend to that amt of time."
   ]
  },
  {
   "cell_type": "code",
   "execution_count": 16,
   "metadata": {},
   "outputs": [
    {
     "name": "stdout",
     "output_type": "stream",
     "text": [
      "se: 0.806225774829855\n"
     ]
    }
   ],
   "source": [
    "# a)\n",
    "ya = 40\n",
    "sa = 3\n",
    "yb = 43\n",
    "sb = 2\n",
    "\n",
    "se = math.sqrt(sa ** 2 / 20 + sb ** 2 / 20)\n",
    "print(\"se: {}\".format(se))"
   ]
  },
  {
   "cell_type": "code",
   "execution_count": 18,
   "metadata": {},
   "outputs": [
    {
     "name": "stdout",
     "output_type": "stream",
     "text": [
      "t: 2.0342746225292307\n"
     ]
    }
   ],
   "source": [
    "tval = t.ppf(0.975, df=degrees_freedom(sa, 20, sb, 20))\n",
    "print(\"t: {}\".format(tval))"
   ]
  },
  {
   "cell_type": "code",
   "execution_count": 19,
   "metadata": {},
   "outputs": [
    {
     "data": {
      "text/plain": [
       "(-4.64008463376534, -3, -1.3599153662346601)"
      ]
     },
     "execution_count": 19,
     "metadata": {},
     "output_type": "execute_result"
    }
   ],
   "source": [
    "y = ya - yb\n",
    "(y - tval * se, y, y + tval * se)"
   ]
  },
  {
   "cell_type": "markdown",
   "metadata": {},
   "source": [
    "## 24.13\n",
    "\n",
    "### Answers\n",
    "\n",
    "* (32.494273007231655, 36.64642857142857, 40.79858413562549)\n",
    "* note: answer key shows (32.15, 40.82) --> todo: what's behind the difference?\n",
    "  * solved: the data in the book is different from the data in the file; the answer provided in the key was based of the _file_ data, not the book data"
   ]
  },
  {
   "cell_type": "code",
   "execution_count": 62,
   "metadata": {},
   "outputs": [
    {
     "name": "stdout",
     "output_type": "stream",
     "text": [
      "children's: mean 46.85, stddev: 6.600646135929777, n: 18\n",
      "adult's: mean 10.366666666666667, stddev: 7.671826580216935, n: 27\n",
      "diff: 36.483333333333334\n",
      "df: 40.12804327972698\n"
     ]
    },
    {
     "data": {
      "text/plain": [
       "(32.148870819886916, 36.483333333333334, 40.81779584677975)"
      ]
     },
     "execution_count": 62,
     "metadata": {},
     "output_type": "execute_result"
    },
    {
     "data": {
      "image/png": "[encoded data removed]",
      "text/plain": [
       "<matplotlib.figure.Figure at 0x112b44d30>"
      ]
     },
     "metadata": {},
     "output_type": "display_data"
    }
   ],
   "source": [
    "# Children's Cereal\n",
    "c = [40.3, 55, 45.7, 43.3, 50.3, 53.5, 43, 44.2, 44, 47.4, 44, 33.6, 55.1, 48.8, 50.4, 37.8, 60.3, 46.6] # <- file\n",
    "# c = [40.3, 55, 45.7, 43.3, 50.3, 45.9, 53.5, 43, 44.2, 44, 47.4, 44, 33.6, 55.1, 48.8, 50.4, 37.8, 60.3, 46.6] # <- book version\n",
    "\n",
    "# Adults' Cereals\n",
    "a = [20, 30.2, 2.2, 7.5, 22.2, 16.6, 14.5, 21.4, 3.3, 6.6, 7.8, 10.6, 16.2, 14.5, 4.1, 15.8, 4.1, 2.4, 3.5, 8.5, 10, 1, 4.4, 1.3, 8.1, 4.7, 18.4] # <- file\n",
    "#a = [20, 30.2, 2.2, 7.5, 4.4, 22.2, 16.6, 14.5, 21.4, 3.3, 6.6, 7.8, 10.6, 16.2, 14.5, 4.1, 15.8, 4.1, 2.4, 3.5, 8.5, 10, 1, 4.4, 1.3, 8.1, 4.7, 18.4] # <- book version\n",
    "\n",
    "nc = len(c)\n",
    "yc = mean(c)\n",
    "sc = stdev(c) #6.24718884147 #\n",
    "print(\"children's: mean {}, stddev: {}, n: {}\".format(yc, sc, nc))\n",
    "\n",
    "\n",
    "na = len(a)\n",
    "ya = mean(a)\n",
    "sa = stdev(a) #7.47522011825 \n",
    "print(\"adult's: mean {}, stddev: {}, n: {}\".format(ya, sa, na))\n",
    "\n",
    "# create a boxplot\n",
    "plt.xlabel(\"Type of Cereal\")\n",
    "plt.ylabel(\"Sugar (%)\")\n",
    "plt.boxplot([a, c], labels=['adult', 'child']);\n",
    "\n",
    "# assume randomly selected, \n",
    "# should be independent both internally (one cereal's content doesn't affect anothers) and across groups\n",
    "\n",
    "diff = yc - ya\n",
    "print(\"diff: {}\".format(diff))\n",
    "\n",
    "se = math.sqrt((sc ** 2 / nc) + (sa ** 2 / na))\n",
    "df = degrees_freedom(sc, nc, sa, na)\n",
    "\n",
    "print(\"df: {}\".format(df))\n",
    "tstar = t.ppf(0.975, df=df)\n",
    "\n",
    "(diff - tstar * se, diff, diff + tstar * se)"
   ]
  },
  {
   "cell_type": "code",
   "execution_count": 35,
   "metadata": {},
   "outputs": [
    {
     "data": {
      "text/plain": [
       "(32.494273007231655, 40.79858413562549)"
      ]
     },
     "execution_count": 35,
     "metadata": {},
     "output_type": "execute_result"
    }
   ],
   "source": [
    "# confirm via direct call \n",
    "t.interval(alpha=0.95, loc=diff, scale=se, df=df)"
   ]
  },
  {
   "cell_type": "markdown",
   "metadata": {},
   "source": [
    "## 24.15\n",
    "\n",
    "### Answers\n",
    "\n",
    "* NOTE: The data displayed in the book (and used for the answer generated in the key) is _slightly different_ from the data in the associated file!  I spent about an hour trying to figure out why the results I obtained were slightly different from those in the answer key.  Beware!\n",
    "\n",
    "* some questions about assumptions -- they all have same teacher, in same class, so not clear whether they're truly independent; \n",
    "* hypotheses:\n",
    "    * H0: mu(new) - mu(control) = 0\n",
    "    * HA: mu(new) - mu(control) > 0\n",
    "* pValue = 0.0168\n",
    "* t = 2.207\n",
    "* yes - the data supports the claim that the new activitly lead to better scores on average"
   ]
  },
  {
   "cell_type": "code",
   "execution_count": 60,
   "metadata": {},
   "outputs": [
    {
     "name": "stdout",
     "output_type": "stream",
     "text": [
      "yn: 51.72222222222222\n",
      "yc: 41.81818181818182\n",
      "diff: 9.904040404040401\n",
      "se: 4.487242309778091\n",
      "df: 37.27648898155618\n",
      "t*: 2.2071552459867467\n",
      "p-value: 0.01676886185826776\n"
     ]
    }
   ],
   "source": [
    "new_activity = [24, 33, 43, 43, 43, 46, 49, 52, 53, 54, 56, 57, 58, 59, 61, 62, 67, 71]\n",
    "#control = [10, 17, 20, 26, 28, 33, 37, 37, 41, 42, 42, 42, 43, 48, 53, 55, 55, 60, 62, 85]  # <- file version\n",
    "control = [10, 17, 20, 26, 28, 33, 37, 37, 41, 42, 42, 42, 42, 42, 43, 48, 53, 55, 55, 60, 62, 85] # <- book version\n",
    "\n",
    "yn = mean(new_activity)\n",
    "sn = stdev(new_activity)\n",
    "nn = len(new_activity)\n",
    "print(\"yn: {}\".format(yn))\n",
    "\n",
    "yc = mean(control)\n",
    "sc = stdev(control)\n",
    "nc = len(control)\n",
    "print(\"yc: {}\".format(yc))\n",
    "\n",
    "diff = yn - yc\n",
    "print(\"diff: {}\".format(diff))\n",
    "\n",
    "se = math.sqrt(sn ** 2 / nn + sc ** 2 / nc)\n",
    "print(\"se: {}\".format(se))\n",
    "\n",
    "df = degrees_freedom(sn, nn, sc, nc)\n",
    "print(\"df: {}\".format(df))\n",
    "\n",
    "tcrit = diff / se\n",
    "print(\"t*: {}\".format(tcrit))\n",
    "\n",
    "pValue = 1 - t.cdf(tcrit, df =df)\n",
    "print(\"p-value: {}\".format(pValue))"
   ]
  },
  {
   "cell_type": "markdown",
   "metadata": {},
   "source": [
    "## 24.17\n",
    "\n",
    "### Answers\n",
    "\n",
    "* a) see below\n",
    "* b) see below\n",
    "* c) no: looks like 10.5 is still within ~ 1.5 IQR for national, and is just beyond middle quartiles for american\n",
    "* d) two CI's wouldn't factor in their combined variance"
   ]
  },
  {
   "cell_type": "code",
   "execution_count": 3,
   "metadata": {},
   "outputs": [
    {
     "data": {
      "image/png": "[encoded data removed]",
      "text/plain": [
       "<matplotlib.figure.Figure at 0x10e3a0668>"
      ]
     },
     "metadata": {},
     "output_type": "display_data"
    }
   ],
   "source": [
    "# a)\n",
    "american = [11.4, 9.9, 10.5, 9.7, 10.5, 9.1, 10.3, 9.0, 10.2, 9.0, 10.0, 8.9, 9.9, 8.8]\n",
    "national = [10.5, 9.5, 10.3, 9.4, 10.0, 9.1, 10.0, 9.0, 9.7, 9.0, 9.7, 8.9, 9.6, 8.9, 9.5, 7.9]\n",
    "\n",
    "plt.boxplot([american, national], labels=['american', 'national']);"
   ]
  },
  {
   "cell_type": "code",
   "execution_count": 4,
   "metadata": {},
   "outputs": [
    {
     "data": {
      "text/plain": [
       "(9.35853226343524, 9.8, 10.241467736564761)"
      ]
     },
     "execution_count": 4,
     "metadata": {},
     "output_type": "execute_result"
    }
   ],
   "source": [
    "# b)\n",
    "na = len(american)\n",
    "ya = mean(american)\n",
    "sa = stdev(american)\n",
    "\n",
    "se = sa / math.sqrt(na)\n",
    "tval = t.ppf(0.975, df=na-1)\n",
    "\n",
    "(ya - tval * se, ya, ya + tval * se)"
   ]
  },
  {
   "cell_type": "markdown",
   "metadata": {},
   "source": [
    "## 24.19\n",
    "\n",
    "### Answers\n",
    "\n",
    "* a) (-0.20, 0.92)\n",
    "* b) We're 95% confident that the mean difference in runs is captured by the interval from -0.20 to 0.92.\n",
    "* c) This suggests that there may be no difference in averages between leagues -- in that the interval includes 0."
   ]
  },
  {
   "cell_type": "code",
   "execution_count": 5,
   "metadata": {},
   "outputs": [
    {
     "data": {
      "text/plain": [
       "(-0.19773081002212356, 0.3625000000000007, 0.922730810022125)"
      ]
     },
     "execution_count": 5,
     "metadata": {},
     "output_type": "execute_result"
    }
   ],
   "source": [
    "# a)\n",
    "nn = len(national)\n",
    "yn = mean(national)\n",
    "sn = stdev(national)\n",
    "\n",
    "diff = ya - yn\n",
    "\n",
    "se = math.sqrt(sa ** 2 / na + sn ** 2 / nn)\n",
    "\n",
    "(diff - tval * se, diff, diff + tval * se)"
   ]
  },
  {
   "cell_type": "markdown",
   "metadata": {},
   "source": [
    "## 24.21\n",
    "\n",
    "### Answers\n",
    "\n",
    "* The groups aren't independent - the scores are paired for each worker, before and after the program.  "
   ]
  },
  {
   "cell_type": "markdown",
   "metadata": {},
   "source": [
    "## 24.23\n",
    "\n",
    "### Answers\n",
    "\n",
    "* a) The p-value indicates that even under the assumption that there's no difference in means, we'd see results like we obtained (or more extreme) at least 13.6% of the time.  So the evidence _doesn't_ support the claim that there's a true difference in means.\n",
    "* b) see below: in this case, we can reject the null hypothesis, given the very low P-value -- the evidence does suggest a difference in mean values."
   ]
  },
  {
   "cell_type": "code",
   "execution_count": 4,
   "metadata": {},
   "outputs": [
    {
     "name": "stdout",
     "output_type": "stream",
     "text": [
      "\n",
      "diff: 1.46\n",
      "se: 0.24018704131325408\n",
      "df: 213.99313084299692\n",
      "t*: 6.078596047552186\n",
      "P-value: 5.493436594505852e-09\n",
      "\n"
     ]
    }
   ],
   "source": [
    "nn = 108\n",
    "yn = 3.17\n",
    "sn = 1.77\n",
    "\n",
    "ns = 108\n",
    "ys = 1.71\n",
    "ss = 1.76\n",
    "\n",
    "diff = yn - ys\n",
    "se = math.sqrt(sn ** 2 / nn + ss ** 2 / ns)\n",
    "\n",
    "tval = diff / se\n",
    "df = degrees_freedom(sn, nn, ss, ns)\n",
    "\n",
    "pvalue = (1 - t.cdf(tval, df=df)) * 2\n",
    "\n",
    "print(template.format(diff=diff, se=se, tval=tval, pvalue=pvalue, df=df))"
   ]
  },
  {
   "cell_type": "markdown",
   "metadata": {},
   "source": [
    "## 24.25\n",
    "\n",
    "### Answers\n",
    "\n",
    "* a) Yes: see p-value generated below\n",
    "* b) (1.46, 2.40) => we're 95% confident that the true diff in mean between neutral and sexual content groups is captured by the range 1.46 to 2.40."
   ]
  },
  {
   "cell_type": "code",
   "execution_count": 14,
   "metadata": {},
   "outputs": [
    {
     "name": "stdout",
     "output_type": "stream",
     "text": [
      "\n",
      "diff: -1.6300000000000003\n",
      "se: 0.2261503218793398\n",
      "df: 201.9631163740819\n",
      "t*: -7.20759531295149\n",
      "P-value: 1.1132935122243388e-11\n",
      "\n"
     ]
    }
   ],
   "source": [
    "# a) \n",
    "\n",
    "nv = 101\n",
    "yv = 3.02\n",
    "sv = 1.61\n",
    "\n",
    "nn = 103\n",
    "yn = 4.65\n",
    "sn = 1.62\n",
    "\n",
    "diff = yv - yn\n",
    "se = math.sqrt(sv ** 2 / nv + sn ** 2 / nn)\n",
    "df = degrees_freedom(sv, nv, sn, nn)\n",
    "\n",
    "tval = diff / se\n",
    "pvalue = t.cdf(tval, df=df) * 2\n",
    "\n",
    "print(template.format(diff=diff, se=se, tval=tval, pvalue=pvalue, df=df))"
   ]
  },
  {
   "cell_type": "code",
   "execution_count": 18,
   "metadata": {},
   "outputs": [
    {
     "name": "stdout",
     "output_type": "stream",
     "text": [
      "\n",
      "diff: -1.9300000000000002\n",
      "se: 0.24034838776147854\n",
      "df: 204.8114196034898\n",
      "t*: 1.9716142788080284\n",
      "P-value: NA\n",
      "\n"
     ]
    },
    {
     "data": {
      "text/plain": [
       "(-2.40387431319902, -1.9300000000000002, -1.4561256868009802)"
      ]
     },
     "execution_count": 18,
     "metadata": {},
     "output_type": "execute_result"
    }
   ],
   "source": [
    "# b)\n",
    "\n",
    "ns = 106\n",
    "ys = 2.72\n",
    "ss = 1.85\n",
    "\n",
    "diff = ys - yn\n",
    "se = math.sqrt(ss ** 2 / ns + sn ** 2 / nn)\n",
    "df = degrees_freedom(ss, ns, sn, nn)\n",
    "\n",
    "tval = t.ppf(0.975, df=df)\n",
    "\n",
    "print(template.format(diff=diff, se=se, tval=tval, pvalue=\"NA\", df=df))\n",
    "\n",
    "(diff - tval * se , diff, diff + tval * se)"
   ]
  },
  {
   "cell_type": "markdown",
   "metadata": {},
   "source": [
    "## 24.27\n",
    "\n",
    "### Answers\n",
    "\n",
    "* H0: mu(large) - mu(small) == 0\n",
    "* HA: mu(large) - mu(small) != 0\n",
    "* p-value = 0.0428 => reject null hypothesis; there's evidence to support claim that there is a non-zero difference in means across groups."
   ]
  },
  {
   "cell_type": "code",
   "execution_count": 24,
   "metadata": {},
   "outputs": [
    {
     "name": "stdout",
     "output_type": "stream",
     "text": [
      "\n",
      "diff: 1.5099999999999998\n",
      "se: 0.7177248922665432\n",
      "df: 34.3131874260674\n",
      "t*: 2.1038701823918733\n",
      "P-value: 0.04279256750562066\n",
      "\n"
     ]
    }
   ],
   "source": [
    "ns = 26\n",
    "ys = 5.07\n",
    "ss = 1.84\n",
    "\n",
    "nl = 22\n",
    "yl = 6.58\n",
    "sl = 2.91\n",
    "\n",
    "diff = yl - ys\n",
    "se = math.sqrt(ss ** 2 / ns + sl ** 2 / nl)\n",
    "df = degrees_freedom(ss, ns, sl, nl)\n",
    "\n",
    "tval = diff / se\n",
    "pvalue = 2 * (1 - t.cdf(tval, df=df))\n",
    "\n",
    "print(template.format(diff=diff, se=se, tval=tval, pvalue=pvalue, df=df))"
   ]
  },
  {
   "cell_type": "markdown",
   "metadata": {},
   "source": [
    "## 24.29\n",
    "\n",
    "### Answers\n",
    "\n",
    "* a) yes - the low p-value allows us to reject H0, providing evidence that there is a positive difference in mean values between the two groups\n",
    "* b) no - it reduces the standard error, but doesn't increase confidence level"
   ]
  },
  {
   "cell_type": "code",
   "execution_count": 8,
   "metadata": {},
   "outputs": [
    {
     "name": "stdout",
     "output_type": "stream",
     "text": [
      "\n",
      "diff: 3\n",
      "se: 1.22\n",
      "df: 15060.445554113192\n",
      "t*: 2.459016393442623\n",
      "P-value: 0.006971494793673871\n",
      "\n"
     ]
    }
   ],
   "source": [
    "nb = 7537\n",
    "yb = 150\n",
    "\n",
    "na = 15109\n",
    "ya = 147\n",
    "\n",
    "se = 1.22\n",
    "\n",
    "# H0: yb - ya = 0\n",
    "# HA: yb - ya > 0\n",
    "\n",
    "diff = yb - ya\n",
    "\n",
    "tval = diff / se\n",
    "df = degrees_freedom(sb, nb, sa, na)\n",
    "\n",
    "pvalue = 1 - t.cdf(tval, df=df)\n",
    "\n",
    "print(template.format(diff=diff, se=se, tval=tval, pvalue=pvalue, df=df))"
   ]
  },
  {
   "cell_type": "markdown",
   "metadata": {},
   "source": [
    "## 24.31\n",
    "\n",
    "### Answers\n",
    "\n",
    "* There's no evidence of a difference in means; Assume heat members were randomly sampled, and assignment to heats was random.  Assume the individuals and groups are independent.  There was an outlier in heat 2; similar to the key's approach; ran both with and without.  In both cases, p-value produced was relatively large, showing that there's insufficient evidence in these samples to support the claim of a difference in means."
   ]
  },
  {
   "cell_type": "code",
   "execution_count": 33,
   "metadata": {},
   "outputs": [
    {
     "data": {
      "text/html": [
       "<div>\n",
       "<table border=\"1\" class=\"dataframe\">\n",
       "  <thead>\n",
       "    <tr style=\"text-align: right;\">\n",
       "      <th></th>\n",
       "      <th>Country</th>\n",
       "      <th>Name</th>\n",
       "      <th>Heat</th>\n",
       "      <th>Time</th>\n",
       "    </tr>\n",
       "  </thead>\n",
       "  <tbody>\n",
       "    <tr>\n",
       "      <th>0</th>\n",
       "      <td>USA</td>\n",
       "      <td>HENNAGAN Monique</td>\n",
       "      <td>2</td>\n",
       "      <td>51.02</td>\n",
       "    </tr>\n",
       "    <tr>\n",
       "      <th>1</th>\n",
       "      <td>BUL</td>\n",
       "      <td>DIMITROVA Mariyana</td>\n",
       "      <td>2</td>\n",
       "      <td>51.29</td>\n",
       "    </tr>\n",
       "    <tr>\n",
       "      <th>2</th>\n",
       "      <td>CHA</td>\n",
       "      <td>NADJINA Kaltouma</td>\n",
       "      <td>2</td>\n",
       "      <td>51.50</td>\n",
       "    </tr>\n",
       "    <tr>\n",
       "      <th>3</th>\n",
       "      <td>JAM</td>\n",
       "      <td>DAVY Nadia</td>\n",
       "      <td>2</td>\n",
       "      <td>52.04</td>\n",
       "    </tr>\n",
       "    <tr>\n",
       "      <th>4</th>\n",
       "      <td>BRA</td>\n",
       "      <td>ALMIRAO Maria Laura</td>\n",
       "      <td>2</td>\n",
       "      <td>52.10</td>\n",
       "    </tr>\n",
       "  </tbody>\n",
       "</table>\n",
       "</div>"
      ],
      "text/plain": [
       "  Country                  Name  Heat   Time\n",
       "0     USA      HENNAGAN Monique     2  51.02\n",
       "1     BUL    DIMITROVA Mariyana     2  51.29\n",
       "2     CHA     NADJINA Kaltouma      2  51.50\n",
       "3     JAM           DAVY Nadia      2  52.04\n",
       "4     BRA  ALMIRAO Maria Laura      2  52.10"
      ]
     },
     "execution_count": 33,
     "metadata": {},
     "output_type": "execute_result"
    }
   ],
   "source": [
    "df = pd.read_table(\"../data/Running_Heats.txt\")\n",
    "df.head()"
   ]
  },
  {
   "cell_type": "code",
   "execution_count": 35,
   "metadata": {},
   "outputs": [
    {
     "data": {
      "image/png": "[encoded data removed]",
      "text/plain": [
       "<matplotlib.figure.Figure at 0x11ab96898>"
      ]
     },
     "metadata": {},
     "output_type": "display_data"
    }
   ],
   "source": [
    "df.boxplot(column=\"Time\", by=\"Heat\");"
   ]
  },
  {
   "cell_type": "code",
   "execution_count": 36,
   "metadata": {},
   "outputs": [
    {
     "data": {
      "text/html": [
       "<div>\n",
       "<table border=\"1\" class=\"dataframe\">\n",
       "  <thead>\n",
       "    <tr>\n",
       "      <th></th>\n",
       "      <th colspan=\"3\" halign=\"left\">Time</th>\n",
       "    </tr>\n",
       "    <tr>\n",
       "      <th></th>\n",
       "      <th>mean</th>\n",
       "      <th>std</th>\n",
       "      <th>count</th>\n",
       "    </tr>\n",
       "    <tr>\n",
       "      <th>Heat</th>\n",
       "      <th></th>\n",
       "      <th></th>\n",
       "      <th></th>\n",
       "    </tr>\n",
       "  </thead>\n",
       "  <tbody>\n",
       "    <tr>\n",
       "      <th>2</th>\n",
       "      <td>52.355714</td>\n",
       "      <td>1.693191</td>\n",
       "      <td>7</td>\n",
       "    </tr>\n",
       "    <tr>\n",
       "      <th>5</th>\n",
       "      <td>52.328571</td>\n",
       "      <td>1.200547</td>\n",
       "      <td>7</td>\n",
       "    </tr>\n",
       "  </tbody>\n",
       "</table>\n",
       "</div>"
      ],
      "text/plain": [
       "           Time                \n",
       "           mean       std count\n",
       "Heat                           \n",
       "2     52.355714  1.693191     7\n",
       "5     52.328571  1.200547     7"
      ]
     },
     "execution_count": 36,
     "metadata": {},
     "output_type": "execute_result"
    }
   ],
   "source": [
    "df.groupby(by=\"Heat\").agg(['mean', 'std', 'count'])"
   ]
  },
  {
   "cell_type": "code",
   "execution_count": 31,
   "metadata": {},
   "outputs": [
    {
     "name": "stdout",
     "output_type": "stream",
     "text": [
      "\n",
      "diff: 0.027099999999997237\n",
      "se: 0.7845040735576657\n",
      "df: 10.815483339157694\n",
      "t*: 0.0345441163576128\n",
      "P-value: 0.9730725492640395\n",
      "\n"
     ]
    }
   ],
   "source": [
    "y2 = 52.3557\n",
    "n2 = 7\n",
    "s2 = 1.6932\n",
    "\n",
    "y5 = 52.3286\n",
    "n5 = 7\n",
    "s5 = 1.2005\n",
    "\n",
    "# H0: y2 - y5 == 0\n",
    "# HA: y2 - y5 <> 0\n",
    "\n",
    "se = math.sqrt(s2 ** 2 / n2 + s5 ** 2 / n5)\n",
    "diff = y2 - y5\n",
    "\n",
    "tval = diff / se\n",
    "df = degrees_freedom(s2, n2, s5, n5)\n",
    "\n",
    "pvalue = 2 * (1 - t.cdf(tval, df=df))\n",
    "\n",
    "print(template.format(diff=diff, se=se, tval=tval, pvalue=pvalue, df=df))"
   ]
  },
  {
   "cell_type": "code",
   "execution_count": null,
   "metadata": {
    "collapsed": true
   },
   "outputs": [],
   "source": [
    "### run again without the outlier in heat 2"
   ]
  },
  {
   "cell_type": "code",
   "execution_count": 38,
   "metadata": {},
   "outputs": [
    {
     "data": {
      "text/html": [
       "<div>\n",
       "<table border=\"1\" class=\"dataframe\">\n",
       "  <thead>\n",
       "    <tr style=\"text-align: right;\">\n",
       "      <th></th>\n",
       "      <th>Country</th>\n",
       "      <th>Name</th>\n",
       "      <th>Heat</th>\n",
       "      <th>Time</th>\n",
       "    </tr>\n",
       "  </thead>\n",
       "  <tbody>\n",
       "    <tr>\n",
       "      <th>0</th>\n",
       "      <td>USA</td>\n",
       "      <td>HENNAGAN Monique</td>\n",
       "      <td>2</td>\n",
       "      <td>51.02</td>\n",
       "    </tr>\n",
       "    <tr>\n",
       "      <th>1</th>\n",
       "      <td>BUL</td>\n",
       "      <td>DIMITROVA Mariyana</td>\n",
       "      <td>2</td>\n",
       "      <td>51.29</td>\n",
       "    </tr>\n",
       "    <tr>\n",
       "      <th>2</th>\n",
       "      <td>CHA</td>\n",
       "      <td>NADJINA Kaltouma</td>\n",
       "      <td>2</td>\n",
       "      <td>51.50</td>\n",
       "    </tr>\n",
       "    <tr>\n",
       "      <th>3</th>\n",
       "      <td>JAM</td>\n",
       "      <td>DAVY Nadia</td>\n",
       "      <td>2</td>\n",
       "      <td>52.04</td>\n",
       "    </tr>\n",
       "    <tr>\n",
       "      <th>4</th>\n",
       "      <td>BRA</td>\n",
       "      <td>ALMIRAO Maria Laura</td>\n",
       "      <td>2</td>\n",
       "      <td>52.10</td>\n",
       "    </tr>\n",
       "  </tbody>\n",
       "</table>\n",
       "</div>"
      ],
      "text/plain": [
       "  Country                  Name  Heat   Time\n",
       "0     USA      HENNAGAN Monique     2  51.02\n",
       "1     BUL    DIMITROVA Mariyana     2  51.29\n",
       "2     CHA     NADJINA Kaltouma      2  51.50\n",
       "3     JAM           DAVY Nadia      2  52.04\n",
       "4     BRA  ALMIRAO Maria Laura      2  52.10"
      ]
     },
     "execution_count": 38,
     "metadata": {},
     "output_type": "execute_result"
    }
   ],
   "source": [
    "df2 = pd.read_table(\"../data/Running_Heats.txt\")\n",
    "mask = ~((df2.Heat == 2) & (df2.Time > 53))\n",
    "df2 = df2[mask]\n",
    "df2.head()"
   ]
  },
  {
   "cell_type": "code",
   "execution_count": 40,
   "metadata": {},
   "outputs": [
    {
     "data": {
      "image/png": "[encoded data removed]",
      "text/plain": [
       "<matplotlib.figure.Figure at 0x11abd4358>"
      ]
     },
     "metadata": {},
     "output_type": "display_data"
    }
   ],
   "source": [
    "df2.boxplot(column=\"Time\", by=\"Heat\");"
   ]
  },
  {
   "cell_type": "code",
   "execution_count": 41,
   "metadata": {},
   "outputs": [
    {
     "data": {
      "text/html": [
       "<div>\n",
       "<table border=\"1\" class=\"dataframe\">\n",
       "  <thead>\n",
       "    <tr>\n",
       "      <th></th>\n",
       "      <th colspan=\"3\" halign=\"left\">Time</th>\n",
       "    </tr>\n",
       "    <tr>\n",
       "      <th></th>\n",
       "      <th>mean</th>\n",
       "      <th>std</th>\n",
       "      <th>count</th>\n",
       "    </tr>\n",
       "    <tr>\n",
       "      <th>Heat</th>\n",
       "      <th></th>\n",
       "      <th></th>\n",
       "      <th></th>\n",
       "    </tr>\n",
       "  </thead>\n",
       "  <tbody>\n",
       "    <tr>\n",
       "      <th>2</th>\n",
       "      <td>51.746667</td>\n",
       "      <td>0.569550</td>\n",
       "      <td>6</td>\n",
       "    </tr>\n",
       "    <tr>\n",
       "      <th>5</th>\n",
       "      <td>52.328571</td>\n",
       "      <td>1.200547</td>\n",
       "      <td>7</td>\n",
       "    </tr>\n",
       "  </tbody>\n",
       "</table>\n",
       "</div>"
      ],
      "text/plain": [
       "           Time                \n",
       "           mean       std count\n",
       "Heat                           \n",
       "2     51.746667  0.569550     6\n",
       "5     52.328571  1.200547     7"
      ]
     },
     "execution_count": 41,
     "metadata": {},
     "output_type": "execute_result"
    }
   ],
   "source": [
    "df2.groupby(by=\"Heat\").agg(['mean', 'std', 'count'])"
   ]
  },
  {
   "cell_type": "code",
   "execution_count": 43,
   "metadata": {},
   "outputs": [
    {
     "name": "stdout",
     "output_type": "stream",
     "text": [
      "\n",
      "diff: -0.5819000000000045\n",
      "se: 0.5098625076103034\n",
      "df: 8.834301884020103\n",
      "t*: -1.1412880753427759\n",
      "P-value: 0.2837415877392591\n",
      "\n"
     ]
    }
   ],
   "source": [
    "y2 = 51.7467\n",
    "n2 = 6\n",
    "s2 = 0.5696\n",
    "\n",
    "y5 = 52.3286\n",
    "n5 = 7\n",
    "s5 = 1.2005\n",
    "\n",
    "# H0: y2 - y5 == 0\n",
    "# HA: y2 - y5 <> 0\n",
    "\n",
    "se = math.sqrt(s2 ** 2 / n2 + s5 ** 2 / n5)\n",
    "diff = y2 - y5\n",
    "\n",
    "tval = diff / se\n",
    "df = degrees_freedom(s2, n2, s5, n5)\n",
    "\n",
    "pvalue = 2 * (t.cdf(tval, df=df))\n",
    "\n",
    "print(template.format(diff=diff, se=se, tval=tval, pvalue=pvalue, df=df))"
   ]
  },
  {
   "cell_type": "markdown",
   "metadata": {},
   "source": [
    "## 24.33\n",
    "\n",
    "### Answers\n",
    "\n",
    "* Yes: The evidence supports the claim that there's a positive difference in average ball velocity between regular and stinger tees.  We obtained a p-value of 0.0013, supporting rejection of the null hypothesis."
   ]
  },
  {
   "cell_type": "code",
   "execution_count": 45,
   "metadata": {},
   "outputs": [
    {
     "name": "stdout",
     "output_type": "stream",
     "text": [
      "\n",
      "diff: 1.8300000000000125\n",
      "se: 0.4000416644967538\n",
      "df: 7.030746796280294\n",
      "t*: 4.574523511949996\n",
      "P-value: 0.0012658511916239235\n",
      "\n"
     ]
    }
   ],
   "source": [
    "nr = 6\n",
    "yr = 127\n",
    "sr = 0.89\n",
    "\n",
    "ns = 6\n",
    "ys = 128.83\n",
    "ss = 0.41\n",
    "\n",
    "se = math.sqrt(sr ** 2 / nr + ss ** 2 / ns)\n",
    "df = degrees_freedom(sr, nr, ss, ns)\n",
    "\n",
    "# H0: ys - yr = 0\n",
    "# HA: ys - yr > 0\n",
    "\n",
    "diff = ys - yr\n",
    "tval = diff / se\n",
    "\n",
    "pvalue = 1 - t.cdf(tval, df=df)\n",
    "print(template.format(diff=diff, se=se, tval=tval, pvalue=pvalue, df=df))"
   ]
  },
  {
   "cell_type": "markdown",
   "metadata": {},
   "source": [
    "## 24.35\n",
    "\n",
    "### Answers\n",
    "\n",
    "* a) (-103.20881119727784, 74.83999999999992, 252.88881119727768)\n",
    "* b) Looks ok."
   ]
  },
  {
   "cell_type": "code",
   "execution_count": 17,
   "metadata": {},
   "outputs": [
    {
     "name": "stdout",
     "output_type": "stream",
     "text": [
      "\n",
      "diff: 74.83999999999992\n",
      "se: 87.92649081066112\n",
      "df: 37.67182005487517\n",
      "t*: 2.0249734699487094\n",
      "P-value: NA\n",
      "\n"
     ]
    },
    {
     "data": {
      "text/plain": [
       "(-103.20881119727784, 74.83999999999992, 252.88881119727768)"
      ]
     },
     "execution_count": 17,
     "metadata": {},
     "output_type": "execute_result"
    }
   ],
   "source": [
    "nf = 22 \n",
    "yf = 1271.59\n",
    "sf = 261.111\n",
    "\n",
    "nm = 20\n",
    "ym = 1196.75\n",
    "sm = 304.369\n",
    "\n",
    "\n",
    "diff = yf - ym\n",
    "se = math.sqrt(sf ** 2 / nf + sm ** 2 / nm)\n",
    "\n",
    "df = degrees_freedom(sf, nf, sm, nm)\n",
    "\n",
    "tval = t.ppf(0.975, df=df)\n",
    "\n",
    "print(template.format(diff=diff, se=se, tval=tval, pvalue=\"NA\", df=df))\n",
    "\n",
    "(diff - se * tval, diff, diff + se * tval)"
   ]
  },
  {
   "cell_type": "markdown",
   "metadata": {},
   "source": [
    "## 24.37\n",
    "\n",
    "### Answers\n",
    "\n",
    "* a) see below: P-value = 0.094 => fail to reject H0; not enough evidence to support the claim of a difference in means across groups\n",
    "* b) not needed"
   ]
  },
  {
   "cell_type": "code",
   "execution_count": 20,
   "metadata": {},
   "outputs": [
    {
     "name": "stdout",
     "output_type": "stream",
     "text": [
      "\n",
      "diff: 2.049999999999999\n",
      "se: 1.5066390653403188\n",
      "df: 20.004288181320945\n",
      "t*: 1.3606443953030953\n",
      "P-value: 0.09438034283527552\n",
      "\n"
     ]
    }
   ],
   "source": [
    "# H0: mu(none) - mu(rap) == 0\n",
    "# HA: mu(none) - mu(rap) > 0\n",
    "\n",
    "yn = 12.77\n",
    "nn = 13\n",
    "sn = 4.73\n",
    "\n",
    "yr = 10.72\n",
    "nr = 29\n",
    "sr = 3.99\n",
    "\n",
    "diff = yn - yr\n",
    "se = math.sqrt(sn ** 2 / nn + sr ** 2 / nr)\n",
    "df = degrees_freedom(sn, nn, sr, nr)\n",
    "\n",
    "tval = diff / se\n",
    "pvalue = 1 - t.cdf(tval, df=df)\n",
    "\n",
    "print(template.format(diff=diff, se=se, tval=tval, pvalue=pvalue, df=df))"
   ]
  }
 ],
 "metadata": {
  "kernelspec": {
   "display_name": "Python 3",
   "language": "python",
   "name": "python3"
  },
  "language_info": {
   "codemirror_mode": {
    "name": "ipython",
    "version": 3
   },
   "file_extension": ".py",
   "mimetype": "text/x-python",
   "name": "python",
   "nbconvert_exporter": "python",
   "pygments_lexer": "ipython3",
   "version": "3.5.2"
  }
 },
 "nbformat": 4,
 "nbformat_minor": 2
}
