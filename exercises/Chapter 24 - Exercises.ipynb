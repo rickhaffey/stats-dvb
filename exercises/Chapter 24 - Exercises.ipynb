{
 "cells": [
  {
   "cell_type": "markdown",
   "metadata": {},
   "source": [
    "# Chapter 24 - Exercises"
   ]
  },
  {
   "cell_type": "code",
   "execution_count": 6,
   "metadata": {
    "collapsed": true
   },
   "outputs": [],
   "source": [
    "import math\n",
    "from scipy.stats import t\n",
    "import scipy.stats"
   ]
  },
  {
   "cell_type": "markdown",
   "metadata": {},
   "source": [
    "## 24.1\n",
    "\n",
    "### Answers\n",
    "\n",
    "* Yes, it would: The p value is > 0.05."
   ]
  },
  {
   "cell_type": "markdown",
   "metadata": {},
   "source": [
    "## 24.3 \n",
    "\n",
    "### Answers\n",
    "\n",
    "* a) We're 90% confident that the average fat content of beef dogs is greater than that of meat dogs.\n",
    "* b) We would reject a null hypothesis (at the 90% confidence level) that there's no difference in average fat content.  In other words, the evidence supports the claim that the average fat content of beef dogs is greater than meat dogs.\n",
    "* c) Alpha = 0.10"
   ]
  },
  {
   "cell_type": "markdown",
   "metadata": {},
   "source": [
    "## 24.5\n",
    "\n",
    "### Answers\n",
    "\n",
    "* a) false: CI relates to averages, not individuals\n",
    "* b) false: CI is about average, not individuals\n",
    "* c) true\n",
    "* d) false: our previous sample doesn't determine following samples\n",
    "* e) true"
   ]
  },
  {
   "cell_type": "markdown",
   "metadata": {},
   "source": [
    "## 24.7\n",
    "\n",
    "### Answers\n",
    "\n",
    "* a) 2.93\n",
    "* b) larger\n",
    "* c) We are 95% confidence that the true difference in mean scores is captured by the range 5.573 to 11.427."
   ]
  },
  {
   "cell_type": "code",
   "execution_count": 4,
   "metadata": {},
   "outputs": [
    {
     "name": "stdout",
     "output_type": "stream",
     "text": [
      "me: 2.9269999999999996\n"
     ]
    }
   ],
   "source": [
    "# a)\n",
    "me = (11.427 - 5.573) / 2\n",
    "print(\"me: {}\".format(me))"
   ]
  },
  {
   "cell_type": "markdown",
   "metadata": {},
   "source": [
    "## 24.9\n",
    "\n",
    "### Answers\n",
    "\n",
    "* a) \n",
    "  * H0: mu(CPMP) - mu(traditional) = 0\n",
    "  * HA: mu(CPMP) - mu(traditional) <> 0\n",
    "* b) yes: randomly sampled (? not specified), samples are independent, groups are independent, < 10% of overall population\n",
    "* c) Assuming there's no difference in the mean scores between the two groups, we would expect the results we obtained (or more extreme results) to occur purely due to sampling variability les than 0.01% of the time.\n",
    "* d) The evidence supports the claim that there is a significant, non-zero difference in mean scores between thetwo groups."
   ]
  },
  {
   "cell_type": "markdown",
   "metadata": {},
   "source": [
    "## 24.11\n",
    "\n",
    "### Answers\n",
    "\n",
    "* a) (-4.64, -1.36)\n",
    "* b) He can expect to save _some_ time with route A, but the savings will typically be less than 5 minutes (closer to 3)\n",
    "* c) The 95% CI doesn't include a savings of 5 minutes -- so we're 95% confident that the level of savings across average travel times _doesn't_ extend to that amt of time."
   ]
  },
  {
   "cell_type": "code",
   "execution_count": 14,
   "metadata": {},
   "outputs": [
    {
     "name": "stdout",
     "output_type": "stream",
     "text": [
      "se: 0.806225774829855\n"
     ]
    }
   ],
   "source": [
    "# a)\n",
    "ya = 40\n",
    "sa = 3\n",
    "yb = 43\n",
    "sb = 2\n",
    "\n",
    "se = math.sqrt(sa ** 2 / 20 + sb ** 2 / 20)\n",
    "print(\"se: {}\".format(se))"
   ]
  },
  {
   "cell_type": "code",
   "execution_count": 15,
   "metadata": {
    "collapsed": true
   },
   "outputs": [],
   "source": [
    "def df(s1, n1, s2, n2):\n",
    "    \"\"\"\n",
    "    Calculate degrees freedom for a two-sample $t$-test under assumptions of unequal variances.\n",
    "    \"\"\"\n",
    "    n = (s1 ** 2 / n1 + s2 ** 2 / n2) ** 2\n",
    "    d = (1 / (n1 - 1)) * (s1 ** 2 / n1) ** 2 + (1 / (n2 - 1)) * (s2 ** 2 / n2) ** 2\n",
    "    return n / d"
   ]
  },
  {
   "cell_type": "code",
   "execution_count": 16,
   "metadata": {},
   "outputs": [
    {
     "name": "stdout",
     "output_type": "stream",
     "text": [
      "t: 2.0342746225292307\n"
     ]
    }
   ],
   "source": [
    "tval = t.ppf(0.975, df=df(sa, 20, sb, 20))\n",
    "print(\"t: {}\".format(tval))"
   ]
  },
  {
   "cell_type": "code",
   "execution_count": 18,
   "metadata": {},
   "outputs": [
    {
     "data": {
      "text/plain": [
       "(-4.6400846337653396, -3, -1.3599153662346601)"
      ]
     },
     "execution_count": 18,
     "metadata": {},
     "output_type": "execute_result"
    }
   ],
   "source": [
    "y = ya - yb\n",
    "(y - tval * se, y, y + tval * se)"
   ]
  },
  {
   "cell_type": "markdown",
   "metadata": {},
   "source": [
    "## \n",
    "\n",
    "### Answers\n",
    "\n",
    "* \n"
   ]
  },
  {
   "cell_type": "markdown",
   "metadata": {},
   "source": [
    "## \n",
    "\n",
    "### Answers\n",
    "\n",
    "* \n"
   ]
  },
  {
   "cell_type": "markdown",
   "metadata": {},
   "source": [
    "## \n",
    "\n",
    "### Answers\n",
    "\n",
    "* \n"
   ]
  },
  {
   "cell_type": "code",
   "execution_count": null,
   "metadata": {
    "collapsed": true
   },
   "outputs": [],
   "source": []
  }
 ],
 "metadata": {
  "kernelspec": {
   "display_name": "Python 3",
   "language": "python",
   "name": "python3"
  },
  "language_info": {
   "codemirror_mode": {
    "name": "ipython",
    "version": 3
   },
   "file_extension": ".py",
   "mimetype": "text/x-python",
   "name": "python",
   "nbconvert_exporter": "python",
   "pygments_lexer": "ipython3",
   "version": "3.5.2"
  }
 },
 "nbformat": 4,
 "nbformat_minor": 2
}
