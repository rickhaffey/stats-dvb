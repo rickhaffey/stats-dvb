{
 "cells": [
  {
   "cell_type": "markdown",
   "metadata": {},
   "source": [
    "# Chapter 24 - Exercises"
   ]
  },
  {
   "cell_type": "code",
   "execution_count": 3,
   "metadata": {
    "collapsed": true
   },
   "outputs": [],
   "source": [
    "import math\n",
    "from scipy.stats import t\n",
    "import scipy.stats\n",
    "\n",
    "from statistics import stdev, mean"
   ]
  },
  {
   "cell_type": "markdown",
   "metadata": {},
   "source": [
    "## 24.1\n",
    "\n",
    "### Answers\n",
    "\n",
    "* Yes, it would: The p value is > 0.05."
   ]
  },
  {
   "cell_type": "markdown",
   "metadata": {},
   "source": [
    "## 24.3 \n",
    "\n",
    "### Answers\n",
    "\n",
    "* a) We're 90% confident that the average fat content of beef dogs is greater than that of meat dogs.\n",
    "* b) We would reject a null hypothesis (at the 90% confidence level) that there's no difference in average fat content.  In other words, the evidence supports the claim that the average fat content of beef dogs is greater than meat dogs.\n",
    "* c) Alpha = 0.10"
   ]
  },
  {
   "cell_type": "markdown",
   "metadata": {},
   "source": [
    "## 24.5\n",
    "\n",
    "### Answers\n",
    "\n",
    "* a) false: CI relates to averages, not individuals\n",
    "* b) false: CI is about average, not individuals\n",
    "* c) true\n",
    "* d) false: our previous sample doesn't determine following samples\n",
    "* e) true"
   ]
  },
  {
   "cell_type": "markdown",
   "metadata": {},
   "source": [
    "## 24.7\n",
    "\n",
    "### Answers\n",
    "\n",
    "* a) 2.93\n",
    "* b) larger\n",
    "* c) We are 95% confidence that the true difference in mean scores is captured by the range 5.573 to 11.427."
   ]
  },
  {
   "cell_type": "code",
   "execution_count": 4,
   "metadata": {},
   "outputs": [
    {
     "name": "stdout",
     "output_type": "stream",
     "text": [
      "me: 2.9269999999999996\n"
     ]
    }
   ],
   "source": [
    "# a)\n",
    "me = (11.427 - 5.573) / 2\n",
    "print(\"me: {}\".format(me))"
   ]
  },
  {
   "cell_type": "markdown",
   "metadata": {},
   "source": [
    "## 24.9\n",
    "\n",
    "### Answers\n",
    "\n",
    "* a) \n",
    "  * H0: mu(CPMP) - mu(traditional) = 0\n",
    "  * HA: mu(CPMP) - mu(traditional) <> 0\n",
    "* b) yes: randomly sampled (? not specified), samples are independent, groups are independent, < 10% of overall population\n",
    "* c) Assuming there's no difference in the mean scores between the two groups, we would expect the results we obtained (or more extreme results) to occur purely due to sampling variability les than 0.01% of the time.\n",
    "* d) The evidence supports the claim that there is a significant, non-zero difference in mean scores between thetwo groups."
   ]
  },
  {
   "cell_type": "markdown",
   "metadata": {},
   "source": [
    "## 24.11\n",
    "\n",
    "### Answers\n",
    "\n",
    "* a) (-4.64, -1.36)\n",
    "* b) He can expect to save _some_ time with route A, but the savings will typically be less than 5 minutes (closer to 3)\n",
    "* c) The 95% CI doesn't include a savings of 5 minutes -- so we're 95% confident that the level of savings across average travel times _doesn't_ extend to that amt of time."
   ]
  },
  {
   "cell_type": "code",
   "execution_count": 16,
   "metadata": {},
   "outputs": [
    {
     "name": "stdout",
     "output_type": "stream",
     "text": [
      "se: 0.806225774829855\n"
     ]
    }
   ],
   "source": [
    "# a)\n",
    "ya = 40\n",
    "sa = 3\n",
    "yb = 43\n",
    "sb = 2\n",
    "\n",
    "se = math.sqrt(sa ** 2 / 20 + sb ** 2 / 20)\n",
    "print(\"se: {}\".format(se))"
   ]
  },
  {
   "cell_type": "code",
   "execution_count": 17,
   "metadata": {
    "collapsed": true
   },
   "outputs": [],
   "source": [
    "def degrees_freedom(s1, n1, s2, n2):\n",
    "    \"\"\"\n",
    "    Calculate degrees freedom for a two-sample $t$-test under assumptions of unequal variances.\n",
    "    \"\"\"\n",
    "    n = (s1 ** 2 / n1 + s2 ** 2 / n2) ** 2\n",
    "    d = (1 / (n1 - 1)) * (s1 ** 2 / n1) ** 2 + (1 / (n2 - 1)) * (s2 ** 2 / n2) ** 2\n",
    "    return n / d"
   ]
  },
  {
   "cell_type": "code",
   "execution_count": 18,
   "metadata": {},
   "outputs": [
    {
     "name": "stdout",
     "output_type": "stream",
     "text": [
      "t: 2.0342746225292307\n"
     ]
    }
   ],
   "source": [
    "tval = t.ppf(0.975, df=degrees_freedom(sa, 20, sb, 20))\n",
    "print(\"t: {}\".format(tval))"
   ]
  },
  {
   "cell_type": "code",
   "execution_count": 19,
   "metadata": {},
   "outputs": [
    {
     "data": {
      "text/plain": [
       "(-4.64008463376534, -3, -1.3599153662346601)"
      ]
     },
     "execution_count": 19,
     "metadata": {},
     "output_type": "execute_result"
    }
   ],
   "source": [
    "y = ya - yb\n",
    "(y - tval * se, y, y + tval * se)"
   ]
  },
  {
   "cell_type": "markdown",
   "metadata": {},
   "source": [
    "## 24.13\n",
    "\n",
    "### Answers\n",
    "\n",
    "* (32.494273007231655, 36.64642857142857, 40.79858413562549)\n",
    "* note: answer key shows (32.15, 40.82) --> todo: what's behind the difference?"
   ]
  },
  {
   "cell_type": "code",
   "execution_count": 55,
   "metadata": {},
   "outputs": [
    {
     "name": "stdout",
     "output_type": "stream",
     "text": [
      "children's: mean 46.8, stddev: 6.4183763955969075, n: 19\n",
      "adult's: mean 10.153571428571428, stddev: 7.612391561855269, n: 28\n",
      "diff: 36.64642857142857\n",
      "df: 42.77872071966779\n"
     ]
    },
    {
     "data": {
      "text/plain": [
       "(32.494273007231655, 36.64642857142857, 40.79858413562549)"
      ]
     },
     "execution_count": 55,
     "metadata": {},
     "output_type": "execute_result"
    }
   ],
   "source": [
    "c = [40.3, 55, 45.7, 43.3, 50.3, 45.9, 53.5, 43, 44.2, 44, 47.4, 44, 33.6, 55.1, 48.8, 50.4, 37.8, 60.3, 46.6]\n",
    "nc = len(c)\n",
    "yc = mean(c)\n",
    "sc = stdev(c)\n",
    "print(\"children's: mean {}, stddev: {}, n: {}\".format(yc, sc, nc))\n",
    "\n",
    "a = [20, 30.2, 2.2, 7.5, 4.4, 22.2, 16.6, 14.5, 21.4, 3.3, 6.6, 7.8, 10.6, 16.2, 14.5, 4.1, 15.8, 4.1, 2.4, \n",
    "     3.5, 8.5, 10, 1, 4.4, 1.3, 8.1, 4.7, 18.4]\n",
    "na = len(a)\n",
    "ya = mean(a)\n",
    "sa = stdev(a)\n",
    "print(\"adult's: mean {}, stddev: {}, n: {}\".format(ya, sa, na))\n",
    "\n",
    "# assume randomly selected, \n",
    "# should be independent both internally (one cereal's content doesn't affect anothers) and across groups\n",
    "\n",
    "diff = yc - ya\n",
    "print(\"diff: {}\".format(diff))\n",
    "\n",
    "se = math.sqrt((sc ** 2 / nc) + (sa ** 2 / na))\n",
    "df = degrees_freedom(sc, nc, sa, na)\n",
    "\n",
    "print(\"df: {}\".format(df))\n",
    "tstar = t.ppf(0.975, df=df)\n",
    "\n",
    "(diff - tstar * se, diff, diff + tstar * se)"
   ]
  },
  {
   "cell_type": "code",
   "execution_count": 35,
   "metadata": {},
   "outputs": [
    {
     "data": {
      "text/plain": [
       "(32.494273007231655, 40.79858413562549)"
      ]
     },
     "execution_count": 35,
     "metadata": {},
     "output_type": "execute_result"
    }
   ],
   "source": [
    "# confirm via direct call \n",
    "t.interval(alpha=0.95, loc=diff, scale=se, df=df)"
   ]
  },
  {
   "cell_type": "markdown",
   "metadata": {},
   "source": [
    "## 24.15\n",
    "\n",
    "### Answers\n",
    "\n",
    "* some questions about assumptions -- they all have same teacher, in same class, so not clear whether they're truly independent; \n",
    "* hypotheses:\n",
    "    * H0: mu(new) - mu(control) = 0\n",
    "    * HA: mu(new) - mu(control) > 0\n",
    "* "
   ]
  },
  {
   "cell_type": "code",
   "execution_count": 64,
   "metadata": {},
   "outputs": [
    {
     "name": "stdout",
     "output_type": "stream",
     "text": [
      "df: 33.41480504709573\n",
      "t*: 2.0762822577017546\n",
      "p-value: 0.02281658283187893\n"
     ]
    }
   ],
   "source": [
    "new_activity = [24, 33, 43, 43, 43, 46, 49, 52, 53, 54, 56, 57, 58, 59, 61, 62, 67, 71]\n",
    "control = [10, 17, 20, 26, 28, 33, 37, 37, 41, 42, 42, 42, 43, 48, 53, 55, 55, 60, 62, 85]\n",
    "\n",
    "yn = mean(new_activity)\n",
    "sn = stdev(new_activity)\n",
    "nn = len(new_activity)\n",
    "\n",
    "yc = mean(control)\n",
    "sc = stdev(control)\n",
    "nc = len(control)\n",
    "\n",
    "diff = yn - yc\n",
    "se = math.sqrt(sn ** 2 / nn + sc ** 2 / nc)\n",
    "df = degrees_freedom(sn, nn, sc, nc)\n",
    "print(\"df: {}\".format(df))\n",
    "\n",
    "tcrit = diff / se\n",
    "print(\"t*: {}\".format(tcrit))\n",
    "\n",
    "pValue = 1 - t.cdf(tcrit, df =df)\n",
    "print(\"p-value: {}\".format(pValue))"
   ]
  },
  {
   "cell_type": "markdown",
   "metadata": {},
   "source": [
    "## 24.17\n",
    "\n",
    "### Answers\n",
    "\n",
    "* \n"
   ]
  },
  {
   "cell_type": "markdown",
   "metadata": {},
   "source": [
    "## \n",
    "\n",
    "### Answers\n",
    "\n",
    "* \n"
   ]
  },
  {
   "cell_type": "markdown",
   "metadata": {},
   "source": [
    "## \n",
    "\n",
    "### Answers\n",
    "\n",
    "* \n"
   ]
  },
  {
   "cell_type": "markdown",
   "metadata": {},
   "source": [
    "## \n",
    "\n",
    "### Answers\n",
    "\n",
    "* \n"
   ]
  },
  {
   "cell_type": "markdown",
   "metadata": {},
   "source": [
    "## \n",
    "\n",
    "### Answers\n",
    "\n",
    "* \n"
   ]
  },
  {
   "cell_type": "markdown",
   "metadata": {},
   "source": [
    "## \n",
    "\n",
    "### Answers\n",
    "\n",
    "* \n"
   ]
  },
  {
   "cell_type": "markdown",
   "metadata": {},
   "source": [
    "## \n",
    "\n",
    "### Answers\n",
    "\n",
    "* \n"
   ]
  },
  {
   "cell_type": "code",
   "execution_count": null,
   "metadata": {
    "collapsed": true
   },
   "outputs": [],
   "source": []
  }
 ],
 "metadata": {
  "kernelspec": {
   "display_name": "Python 3",
   "language": "python",
   "name": "python3"
  },
  "language_info": {
   "codemirror_mode": {
    "name": "ipython",
    "version": 3
   },
   "file_extension": ".py",
   "mimetype": "text/x-python",
   "name": "python",
   "nbconvert_exporter": "python",
   "pygments_lexer": "ipython3",
   "version": "3.5.2"
  }
 },
 "nbformat": 4,
 "nbformat_minor": 2
}
