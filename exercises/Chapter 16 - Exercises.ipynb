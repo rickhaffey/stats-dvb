{
 "cells": [
  {
   "cell_type": "markdown",
   "metadata": {},
   "source": [
    "# Chapter 16 - Exercises"
   ]
  },
  {
   "cell_type": "markdown",
   "metadata": {},
   "source": [
    "## 16.1\n",
    "\n",
    "### Answers\n",
    "\n",
    "* a) 19\n",
    "* b) 4.2"
   ]
  },
  {
   "cell_type": "markdown",
   "metadata": {},
   "source": [
    "## 16.3\n",
    "\n",
    "### Answers\n",
    "\n",
    "* a)\n",
    "\n",
    "| outcome | value | p |\n",
    "|---------|-------|---|\n",
    "| red       |  \\$0   |  0.5 |\n",
    "| spade     |  \\$5   |  0.25 |\n",
    "| club!ace  |  \\$10  |  0.231 |\n",
    "| club+ace  |  \\$30  |  0.019 |\n",
    "\n",
    "* b) 4.13\n",
    "* c) 4.00"
   ]
  },
  {
   "cell_type": "markdown",
   "metadata": {},
   "source": [
    "## 16.5\n",
    "\n",
    "### Answers\n",
    "\n",
    "* a)\n",
    "\n",
    "| outcome | # children | # boys | p |\n",
    "|---------|------------|--------|---|\n",
    "|b+b+b | 3 | 3 | .125 |\n",
    "|b+b+g | 3 | 2 | .125 |\n",
    "|b+g   | 2 | 1 | .25  |\n",
    "|g     | 1 | 0 | .5   |\n",
    "\n",
    "* b) 1.75\n",
    "* c) 0.875\n"
   ]
  },
  {
   "cell_type": "markdown",
   "metadata": {},
   "source": [
    "## 16.7\n",
    "\n",
    "### Answers\n",
    "\n",
    "* $27,000\n"
   ]
  },
  {
   "cell_type": "markdown",
   "metadata": {},
   "source": [
    "## 16.9\n",
    "\n",
    "### Answers\n",
    "\n",
    "* a) 7\n",
    "* b) 1.89"
   ]
  },
  {
   "cell_type": "markdown",
   "metadata": {},
   "source": [
    "## 16.11\n",
    "\n",
    "### Answers\n",
    "\n",
    "* \\$5.42"
   ]
  },
  {
   "cell_type": "markdown",
   "metadata": {},
   "source": [
    "## 16.13\n",
    "\n",
    "### Answers\n",
    "\n",
    "* 0.829\n"
   ]
  },
  {
   "cell_type": "markdown",
   "metadata": {},
   "source": [
    "## 16.15\n",
    "\n",
    "### Answers\n",
    "\n",
    "* a) 1.7\n",
    "* b) 0.9"
   ]
  },
  {
   "cell_type": "markdown",
   "metadata": {},
   "source": [
    "## 16.17\n",
    "\n",
    "### Answers\n",
    "\n",
    "| X = # of defects | p |\n",
    "|--------------|---|\n",
    "| 3            |.07|\n",
    "| 2            |.11|\n",
    "| 1            |.21|\n",
    "| 0            |.61|\n",
    "\n",
    "* E(X) = 0.64\n",
    "* Var(X) = 0.87\n",
    "* Std(X) = 0.93"
   ]
  },
  {
   "cell_type": "markdown",
   "metadata": {},
   "source": [
    "## 16.19\n",
    "\n",
    "### Answers\n",
    "\n",
    "* mu = \\$50\n",
    "* std = \\$100"
   ]
  },
  {
   "cell_type": "markdown",
   "metadata": {},
   "source": [
    "## 16.21\n",
    "\n",
    "### Answers\n",
    "\n",
    "* a) No: $P(w2|w1) \\ne P(w2)$\n",
    "* b) 0.42\n",
    "* c) 0.08\n",
    "* d) \n",
    "\n",
    "|# wins|p|\n",
    "|------|-|\n",
    "|0     |.42|\n",
    "|1     |.50|\n",
    "|2     |.08|\n",
    "\n",
    "* e) mu = 0.66; std = 0.62"
   ]
  },
  {
   "cell_type": "markdown",
   "metadata": {},
   "source": [
    "## 16.23\n",
    "\n",
    "### Answers\n",
    "\n",
    "* a)\n",
    "\n",
    "|# good| p | \n",
    "|-|-|\n",
    "|2|.467|\n",
    "|1|.466|\n",
    "|0|.067|\n",
    "\n",
    "* b) 1.4\n",
    "* c) 0.61\n"
   ]
  },
  {
   "cell_type": "markdown",
   "metadata": {},
   "source": [
    "## 16.25\n",
    "\n",
    "### Answers\n",
    "\n",
    "* a) mu = 30; std = 18\n",
    "* b) mu = 26; std = \n",
    "* c) mu = ; std = \n",
    "* d) mu = ; std = \n",
    "* e) mu = ; std = \n"
   ]
  },
  {
   "cell_type": "markdown",
   "metadata": {},
   "source": [
    "## \n",
    "\n",
    "### Answers\n",
    "\n",
    "* \n"
   ]
  },
  {
   "cell_type": "markdown",
   "metadata": {},
   "source": [
    "## \n",
    "\n",
    "### Answers\n",
    "\n",
    "* \n"
   ]
  },
  {
   "cell_type": "markdown",
   "metadata": {},
   "source": [
    "## \n",
    "\n",
    "### Answers\n",
    "\n",
    "* \n"
   ]
  },
  {
   "cell_type": "markdown",
   "metadata": {},
   "source": [
    "## \n",
    "\n",
    "### Answers\n",
    "\n",
    "* \n"
   ]
  },
  {
   "cell_type": "markdown",
   "metadata": {},
   "source": [
    "## \n",
    "\n",
    "### Answers\n",
    "\n",
    "* \n"
   ]
  },
  {
   "cell_type": "markdown",
   "metadata": {},
   "source": [
    "## \n",
    "\n",
    "### Answers\n",
    "\n",
    "* \n"
   ]
  },
  {
   "cell_type": "code",
   "execution_count": null,
   "metadata": {
    "collapsed": true
   },
   "outputs": [],
   "source": []
  }
 ],
 "metadata": {
  "kernelspec": {
   "display_name": "Python 3",
   "language": "python",
   "name": "python3"
  },
  "language_info": {
   "codemirror_mode": {
    "name": "ipython",
    "version": 3
   },
   "file_extension": ".py",
   "mimetype": "text/x-python",
   "name": "python",
   "nbconvert_exporter": "python",
   "pygments_lexer": "ipython3",
   "version": "3.5.2"
  }
 },
 "nbformat": 4,
 "nbformat_minor": 2
}
