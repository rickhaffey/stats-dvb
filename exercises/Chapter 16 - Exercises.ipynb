{
 "cells": [
  {
   "cell_type": "markdown",
   "metadata": {},
   "source": [
    "# Chapter 16 - Exercises"
   ]
  },
  {
   "cell_type": "markdown",
   "metadata": {},
   "source": [
    "## 16.1\n",
    "\n",
    "### Answers\n",
    "\n",
    "* a) 19\n",
    "* b) 4.2"
   ]
  },
  {
   "cell_type": "markdown",
   "metadata": {},
   "source": [
    "## 16.3\n",
    "\n",
    "### Answers\n",
    "\n",
    "* a)\n",
    "\n",
    "| outcome | value | p |\n",
    "|---------|-------|---|\n",
    "| red       |  \\$0   |  0.5 |\n",
    "| spade     |  \\$5   |  0.25 |\n",
    "| club!ace  |  \\$10  |  0.231 |\n",
    "| club+ace  |  \\$30  |  0.019 |\n",
    "\n",
    "* b) 4.13\n",
    "* c) 4.00"
   ]
  },
  {
   "cell_type": "markdown",
   "metadata": {},
   "source": [
    "## 16.5\n",
    "\n",
    "### Answers\n",
    "\n",
    "* a)\n",
    "\n",
    "| outcome | # children | # boys | p |\n",
    "|---------|------------|--------|---|\n",
    "|b+b+b | 3 | 3 | .125 |\n",
    "|b+b+g | 3 | 2 | .125 |\n",
    "|b+g   | 2 | 1 | .25  |\n",
    "|g     | 1 | 0 | .5   |\n",
    "\n",
    "* b) 1.75\n",
    "* c) 0.875\n"
   ]
  },
  {
   "cell_type": "markdown",
   "metadata": {},
   "source": [
    "## 16.7\n",
    "\n",
    "### Answers\n",
    "\n",
    "* $27,000\n"
   ]
  },
  {
   "cell_type": "markdown",
   "metadata": {},
   "source": [
    "## 16.9\n",
    "\n",
    "### Answers\n",
    "\n",
    "* a) 7\n",
    "* b) 1.89"
   ]
  },
  {
   "cell_type": "markdown",
   "metadata": {},
   "source": [
    "## 16.11\n",
    "\n",
    "### Answers\n",
    "\n",
    "* \\$5.42"
   ]
  },
  {
   "cell_type": "markdown",
   "metadata": {},
   "source": [
    "## 16.13\n",
    "\n",
    "### Answers\n",
    "\n",
    "* 0.829\n"
   ]
  },
  {
   "cell_type": "markdown",
   "metadata": {},
   "source": [
    "## 16.15\n",
    "\n",
    "### Answers\n",
    "\n",
    "* a) 1.7\n",
    "* b) 0.9"
   ]
  },
  {
   "cell_type": "markdown",
   "metadata": {},
   "source": [
    "## 16.17\n",
    "\n",
    "### Answers\n",
    "\n",
    "| X = # of defects | p |\n",
    "|--------------|---|\n",
    "| 3            |.07|\n",
    "| 2            |.11|\n",
    "| 1            |.21|\n",
    "| 0            |.61|\n",
    "\n",
    "* E(X) = 0.64\n",
    "* Var(X) = 0.87\n",
    "* Std(X) = 0.93"
   ]
  },
  {
   "cell_type": "markdown",
   "metadata": {},
   "source": [
    "## 16.19\n",
    "\n",
    "### Answers\n",
    "\n",
    "* mu = \\$50\n",
    "* std = \\$100"
   ]
  },
  {
   "cell_type": "markdown",
   "metadata": {},
   "source": [
    "## 16.21\n",
    "\n",
    "### Answers\n",
    "\n",
    "* a) No: $P(w2|w1) \\ne P(w2)$\n",
    "* b) 0.42\n",
    "* c) 0.08\n",
    "* d) \n",
    "\n",
    "|# wins|p|\n",
    "|------|-|\n",
    "|0     |.42|\n",
    "|1     |.50|\n",
    "|2     |.08|\n",
    "\n",
    "* e) mu = 0.66; std = 0.62"
   ]
  },
  {
   "cell_type": "markdown",
   "metadata": {},
   "source": [
    "## 16.23\n",
    "\n",
    "### Answers\n",
    "\n",
    "* a)\n",
    "\n",
    "|# good| p | \n",
    "|-|-|\n",
    "|2|.467|\n",
    "|1|.466|\n",
    "|0|.067|\n",
    "\n",
    "* b) 1.4\n",
    "* c) 0.61\n"
   ]
  },
  {
   "cell_type": "markdown",
   "metadata": {},
   "source": [
    "## 16.25\n",
    "\n",
    "### Answers\n",
    "\n",
    "* a) mu = 30; std = 6\n",
    "* b) mu = 26; std = 5\n",
    "* c) mu = 30; std = 5.385\n",
    "* d) mu = -10; std = 5.385\n",
    "* e) mu = 20; std = 2.828"
   ]
  },
  {
   "cell_type": "markdown",
   "metadata": {},
   "source": [
    "## 16.27\n",
    "\n",
    "### Answers\n",
    "\n",
    "| val | mean | sd |var |\n",
    "|-|-|-|-|\n",
    "|x|120|12|144|\n",
    "|y|300|16|256|\n",
    "\n",
    "\n",
    "* a) 0.8Y\n",
    "  * mu: 240\n",
    "  * var: .64 * 256 = 163.84\n",
    "  * std: 12.8\n",
    "* b) 2X - 100\n",
    "  * mu: 140\n",
    "  * var: 4 * 144 = 576\n",
    "  * std: 24.0\n",
    "* c) X + 2Y\n",
    "  * mu: 720\n",
    "  * var: 144 + 4 * 256 = 1168\n",
    "  * std: 34.18\n",
    "* d) 3X - Y\n",
    "  * mu: 360 - 300 = 60\n",
    "  * var: 9 * 144 + 256 = 1552\n",
    "  * std: 39.4\n",
    "* e) Y1 + Y2\n",
    "  * mu: 600\n",
    "  * var: 512\n",
    "  * std: 22.63"
   ]
  },
  {
   "cell_type": "markdown",
   "metadata": {},
   "source": [
    "## 16.29\n",
    "\n",
    "### Answers\n",
    "\n",
    "* a) 0.6 * 3 = 1.8\n",
    "* b) var = 0.25 * 3 = .75; std = sqrt(var) = 0.87\n",
    "* c) the number of broken eggs across dozens is independent"
   ]
  },
  {
   "cell_type": "markdown",
   "metadata": {},
   "source": [
    "## 16.31\n",
    "\n",
    "### Answers\n",
    "\n",
    "* single hour: mu = 1.7; sigma = 0.9; var = 0.81\n",
    "* mu = 13.6\n",
    "* var = 6.48\n",
    "* std = 2.55"
   ]
  },
  {
   "cell_type": "markdown",
   "metadata": {},
   "source": [
    "## 16.33\n",
    "\n",
    "### Answers\n",
    "\n",
    "* a)\n",
    "    * mu = 23.4\n",
    "    * sigma = 2.97\n",
    "* b) # of tickets per truck are independent\n"
   ]
  },
  {
   "cell_type": "markdown",
   "metadata": {},
   "source": [
    "## 16.35\n",
    "\n",
    "### Answers\n",
    "\n",
    "* a) claim costs a lot, but with a fairly low probability; non-claims earn small amount, but with high probability\n",
    "* b) mu = \\$300, sigma = \\$8485\n",
    "* c) mu = 1.5 million, sigma = 600K\n",
    "* d) yes; (0 - 1.5 million) / 600 thousand => z = -2.5 : $0 / breaking even is 2.5 std deviations below the mean value\n",
    "* e) claims on policies are independent; something like a wildfire that causes multiple claims in an area would violate the independence assumption"
   ]
  },
  {
   "cell_type": "markdown",
   "metadata": {},
   "source": [
    "## 16.37 \n",
    "\n",
    "### Answers\n",
    "\n",
    "* small bowl: mu = 1.5 oz; sigma = 0.3 oz;\n",
    "* large bolw: mu = 2.5 oz; sigma = 0.4 oz;\n",
    "\n",
    "* a) mu of L - S: 1 oz.\n",
    "* b) sigma of L - S: 0.5 oz.\n",
    "* c) p that L - S < 0 (assuming diff has Norm. dist.): 0.0228\n",
    "* d) mu and sigma of L + S: mu = 4.0; sigma = 0.5\n",
    "* e) 0.159\n",
    "* f) mu = 12.3; 0.539\n"
   ]
  },
  {
   "cell_type": "markdown",
   "metadata": {},
   "source": [
    "## 16.39\n",
    "\n",
    "### Answers\n",
    "\n",
    "* a) 12.2 oz\n",
    "* b) 0.510 oz\n",
    "* c) 5.8%\n"
   ]
  },
  {
   "cell_type": "markdown",
   "metadata": {},
   "source": [
    "## 16.41\n",
    "\n",
    "### Answers\n",
    "\n",
    "* a) mu = 200.57, sigma = 0.461\n",
    "* b) probably not - that's 2.36 std below the mean -- probability of doing better is pretty slim"
   ]
  },
  {
   "cell_type": "markdown",
   "metadata": {},
   "source": [
    "## 16.43\n",
    "\n",
    "### Answers\n",
    "\n",
    "* a) net income = E(A + P) - 2.00\n",
    "* b) mu = $65 - $2 = $63\n",
    "* c) sigma = 20.62\n",
    "* d) mean : no, sigma: yes -- must be independent"
   ]
  },
  {
   "cell_type": "markdown",
   "metadata": {},
   "source": [
    "## 16.45\n",
    "\n",
    "### Answers\n",
    "\n",
    "* a) 5.1%\n",
    "* b) no : probability < 8 x 10^-15\n",
    "* c) mu = -10, sigma = 15.6; p = 26.1%"
   ]
  }
 ],
 "metadata": {
  "kernelspec": {
   "display_name": "Python 3",
   "language": "python",
   "name": "python3"
  },
  "language_info": {
   "codemirror_mode": {
    "name": "ipython",
    "version": 3
   },
   "file_extension": ".py",
   "mimetype": "text/x-python",
   "name": "python",
   "nbconvert_exporter": "python",
   "pygments_lexer": "ipython3",
   "version": "3.5.2"
  }
 },
 "nbformat": 4,
 "nbformat_minor": 2
}
