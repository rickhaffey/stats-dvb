{
 "cells": [
  {
   "cell_type": "markdown",
   "metadata": {},
   "source": [
    "# Chapter 16 - Exercises"
   ]
  },
  {
   "cell_type": "markdown",
   "metadata": {},
   "source": [
    "## 16.1\n",
    "\n",
    "### Answers\n",
    "\n",
    "* a) 19\n",
    "* b) 4.2"
   ]
  },
  {
   "cell_type": "markdown",
   "metadata": {},
   "source": [
    "## 16.3\n",
    "\n",
    "### Answers\n",
    "\n",
    "* a)\n",
    "\n",
    "| outcome | value | p |\n",
    "|---------|-------|---|\n",
    "| red       |  \\$0   |  0.5 |\n",
    "| spade     |  \\$5   |  0.25 |\n",
    "| club!ace  |  \\$10  |  0.231 |\n",
    "| club+ace  |  \\$30  |  0.019 |\n",
    "\n",
    "* b) 4.13\n",
    "* c) 4.00"
   ]
  },
  {
   "cell_type": "markdown",
   "metadata": {},
   "source": [
    "## 16.5\n",
    "\n",
    "### Answers\n",
    "\n",
    "* a)\n",
    "\n",
    "| outcome | # children | # boys | p |\n",
    "|---------|------------|--------|---|\n",
    "|b+b+b | 3 | 3 | .125 |\n",
    "|b+b+g | 3 | 2 | .125 |\n",
    "|b+g   | 2 | 1 | .25  |\n",
    "|g     | 1 | 0 | .5   |\n",
    "\n",
    "* b) 1.75\n",
    "* c) 0.875\n"
   ]
  },
  {
   "cell_type": "markdown",
   "metadata": {},
   "source": [
    "## 16.7\n",
    "\n",
    "### Answers\n",
    "\n",
    "* $27,000\n"
   ]
  },
  {
   "cell_type": "markdown",
   "metadata": {},
   "source": [
    "## 16.9\n",
    "\n",
    "### Answers\n",
    "\n",
    "* a) 7\n",
    "* b) 1.89"
   ]
  },
  {
   "cell_type": "markdown",
   "metadata": {},
   "source": [
    "## 16.11\n",
    "\n",
    "### Answers\n",
    "\n",
    "* \\$5.42"
   ]
  },
  {
   "cell_type": "markdown",
   "metadata": {},
   "source": [
    "## 16.13\n",
    "\n",
    "### Answers\n",
    "\n",
    "* 0.829\n"
   ]
  },
  {
   "cell_type": "markdown",
   "metadata": {},
   "source": [
    "## 16.15\n",
    "\n",
    "### Answers\n",
    "\n",
    "* \n"
   ]
  },
  {
   "cell_type": "markdown",
   "metadata": {},
   "source": [
    "## \n",
    "\n",
    "### Answers\n",
    "\n",
    "* \n"
   ]
  },
  {
   "cell_type": "markdown",
   "metadata": {},
   "source": [
    "## \n",
    "\n",
    "### Answers\n",
    "\n",
    "* \n"
   ]
  },
  {
   "cell_type": "markdown",
   "metadata": {},
   "source": [
    "## \n",
    "\n",
    "### Answers\n",
    "\n",
    "* \n"
   ]
  },
  {
   "cell_type": "markdown",
   "metadata": {},
   "source": [
    "## \n",
    "\n",
    "### Answers\n",
    "\n",
    "* \n"
   ]
  },
  {
   "cell_type": "code",
   "execution_count": null,
   "metadata": {
    "collapsed": true
   },
   "outputs": [],
   "source": []
  }
 ],
 "metadata": {
  "kernelspec": {
   "display_name": "Python 3",
   "language": "python",
   "name": "python3"
  },
  "language_info": {
   "codemirror_mode": {
    "name": "ipython",
    "version": 3
   },
   "file_extension": ".py",
   "mimetype": "text/x-python",
   "name": "python",
   "nbconvert_exporter": "python",
   "pygments_lexer": "ipython3",
   "version": "3.5.2"
  }
 },
 "nbformat": 4,
 "nbformat_minor": 2
}
