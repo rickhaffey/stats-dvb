{
 "cells": [
  {
   "cell_type": "markdown",
   "metadata": {},
   "source": [
    "# Chapter 18 - Exercises"
   ]
  },
  {
   "cell_type": "markdown",
   "metadata": {},
   "source": [
    "## 18.1\n",
    "\n",
    "### Answers\n",
    "\n",
    "* shape is approximately normal (and approximation improves as sample size increases)\n",
    "* center is at $p$ (0.5)\n",
    "* spread, $\\sigma$, is (see below based on $n$)"
   ]
  },
  {
   "cell_type": "code",
   "execution_count": 5,
   "metadata": {},
   "outputs": [
    {
     "data": {
      "text/plain": [
       "[0.04873397172404482,\n",
       " 0.030822070014844882,\n",
       " 0.021794494717703367,\n",
       " 0.015411035007422441]"
      ]
     },
     "execution_count": 5,
     "metadata": {},
     "output_type": "execute_result"
    }
   ],
   "source": [
    "import math\n",
    "p = 0.05\n",
    "sigmas = [math.sqrt((p * (1 - p)) / n) for n in [20, 50, 100, 200]]\n",
    "sigmas"
   ]
  },
  {
   "cell_type": "markdown",
   "metadata": {},
   "source": [
    "## 18.3 \n",
    "\n",
    "### Answers\n",
    "\n",
    "* a) mu = 0.5; sigma (see above)\n",
    "* b) see below\n",
    "* c) 200 is the first that shows no discernable skew\n",
    "* d) 200 is also the first that we'd expect at least 10 successes and 10 failures in each sample"
   ]
  },
  {
   "cell_type": "code",
   "execution_count": 11,
   "metadata": {},
   "outputs": [
    {
     "data": {
      "text/plain": [
       "[-0.00030000000000000165,\n",
       " 0.0015999999999999973,\n",
       " -0.00030000000000000165,\n",
       " 9.999999999999593e-05]"
      ]
     },
     "execution_count": 11,
     "metadata": {},
     "output_type": "execute_result"
    }
   ],
   "source": [
    "meandiffs = [m - p for m in [0.0497, 0.0516, 0.0497, 0.0501]]\n",
    "meandiffs"
   ]
  },
  {
   "cell_type": "code",
   "execution_count": 12,
   "metadata": {},
   "outputs": [
    {
     "data": {
      "text/plain": [
       "[0.00083397172404482,\n",
       " -7.792998515511809e-05,\n",
       " 0.00029449471770336827,\n",
       " 0.00021103500742244118]"
      ]
     },
     "execution_count": 12,
     "metadata": {},
     "output_type": "execute_result"
    }
   ],
   "source": [
    "sigmadiffs = [a-b for (a,b) in zip(sigmas, [0.0479, 0.0309, 0.0215, 0.0152])]\n",
    "sigmadiffs"
   ]
  },
  {
   "cell_type": "markdown",
   "metadata": {},
   "source": [
    "## 18.5\n",
    "\n",
    "### Answers\n",
    "\n",
    "* a) Approximately normal; underlying distribution is uniform, n * p is less than 10, though\n",
    "* b) At or near p = 0.5\n",
    "* c) Sigma = 0.125\n",
    "* d) Success/Failure condition not met."
   ]
  },
  {
   "cell_type": "markdown",
   "metadata": {},
   "source": [
    "## 18.7\n",
    "\n",
    "### Answers\n",
    "\n",
    "* a) \n",
    "  * 68% of sampled proportions fall between 0.4 and 0.6\n",
    "  * 95% of sampled proportions fall between 0.3 and 0.7\n",
    "  * 99.7% of sampled proportions fall between 0.2 and 0.8\n",
    "* b) yes: success/failure condition met: n * p = 12.5\n",
    "* c) N(0.5, 0.0625) : see below\n",
    "* d) the spread decreases, and distribution narrows, as the sample size increases"
   ]
  },
  {
   "cell_type": "code",
   "execution_count": 17,
   "metadata": {},
   "outputs": [
    {
     "data": {
      "text/plain": [
       "[(-3, 0.19999999999999996),\n",
       " (-2, 0.3),\n",
       " (-1, 0.4),\n",
       " (0, 0.5),\n",
       " (1, 0.6),\n",
       " (2, 0.7),\n",
       " (3, 0.8)]"
      ]
     },
     "execution_count": 17,
     "metadata": {},
     "output_type": "execute_result"
    }
   ],
   "source": [
    "# a)\n",
    "mu = 0.5\n",
    "sigma = math.sqrt(0.25 / 25)\n",
    "[(delta, mu + (delta * sigma)) for delta in range(-3,4)]"
   ]
  },
  {
   "cell_type": "code",
   "execution_count": 16,
   "metadata": {},
   "outputs": [
    {
     "data": {
      "text/plain": [
       "[(-3, 0.3125),\n",
       " (-2, 0.375),\n",
       " (-1, 0.4375),\n",
       " (0, 0.5),\n",
       " (1, 0.5625),\n",
       " (2, 0.625),\n",
       " (3, 0.6875)]"
      ]
     },
     "execution_count": 16,
     "metadata": {},
     "output_type": "execute_result"
    }
   ],
   "source": [
    "# c)\n",
    "mu = 0.5\n",
    "sigma = math.sqrt(.25 / 64)\n",
    "[(delta, mu + (delta * sigma)) for delta in range(-3,4)]"
   ]
  },
  {
   "cell_type": "markdown",
   "metadata": {},
   "source": [
    "## 18.9\n",
    "\n",
    "### Answers\n",
    "\n",
    "* Her result is 2.6 std deviations below the mean.  There's a 1.2% chance of getting this result."
   ]
  },
  {
   "cell_type": "code",
   "execution_count": 22,
   "metadata": {},
   "outputs": [
    {
     "data": {
      "text/plain": [
       "2.2627416997969525"
      ]
     },
     "execution_count": 22,
     "metadata": {},
     "output_type": "execute_result"
    }
   ],
   "source": [
    "n = 200\n",
    "p = 0.5\n",
    "\n",
    "mu = p\n",
    "sigma = math.sqrt((p * (1 - p)) / n)\n",
    "\n",
    "\n",
    "z = (mu - 0.42) / sigma\n",
    "z"
   ]
  },
  {
   "cell_type": "code",
   "execution_count": 26,
   "metadata": {},
   "outputs": [
    {
     "data": {
      "text/plain": [
       "0.011825808327677984"
      ]
     },
     "execution_count": 26,
     "metadata": {},
     "output_type": "execute_result"
    }
   ],
   "source": [
    "from scipy.stats import norm\n",
    "norm.cdf(0.42, mu, sigma)"
   ]
  },
  {
   "cell_type": "markdown",
   "metadata": {},
   "source": [
    "## 18.11\n",
    "\n",
    "### Answers\n",
    "\n",
    "* a) see below\n",
    "* b) yes: more than 10 successes and failures; probably independent, but some factors may affect that"
   ]
  },
  {
   "cell_type": "code",
   "execution_count": 27,
   "metadata": {},
   "outputs": [
    {
     "data": {
      "text/plain": [
       "[(-3, 0.546295738510606),\n",
       " (-2, 0.597530492340404),\n",
       " (-1, 0.6487652461702019),\n",
       " (0, 0.7),\n",
       " (1, 0.751234753829798),\n",
       " (2, 0.8024695076595959),\n",
       " (3, 0.8537042614893939)]"
      ]
     },
     "execution_count": 27,
     "metadata": {},
     "output_type": "execute_result"
    }
   ],
   "source": [
    "# a)\n",
    "p = 0.7\n",
    "n = 80\n",
    "\n",
    "mu = p\n",
    "sigma = math.sqrt((p * (1 - p)) / n)\n",
    "\n",
    "[(delta, mu + (delta * sigma)) for delta in range(-3,4)]"
   ]
  },
  {
   "cell_type": "code",
   "execution_count": 28,
   "metadata": {},
   "outputs": [
    {
     "data": {
      "text/plain": [
       "[56.0, 24.0]"
      ]
     },
     "execution_count": 28,
     "metadata": {},
     "output_type": "execute_result"
    }
   ],
   "source": [
    "# b)\n",
    "[80 * p for p in [.7, .3]]"
   ]
  },
  {
   "cell_type": "markdown",
   "metadata": {},
   "source": [
    "## 18.13\n",
    "\n",
    "### Answers\n",
    "\n",
    "* p = 0.12\n",
    "* n = 170\n",
    "\n",
    "* a) yes: \n",
    "  * assumptions: \n",
    "    - independence: +\n",
    "    - sample size is large enough: (see conditions)\n",
    "  * conditions:\n",
    "    - randomization: + (assume yes with respect to this question)\n",
    "    - 10% condition: + sample size is less than 10% of population\n",
    "    - success/failure criteria + (20+ success, more failures)\n",
    "* b) see below\n",
    "* c) they should expect between 12 and 29 students to be nearsighted (+/- 2SD -- see below)"
   ]
  },
  {
   "cell_type": "code",
   "execution_count": 7,
   "metadata": {},
   "outputs": [
    {
     "name": "stdout",
     "output_type": "stream",
     "text": [
      "mean: 0.12\n",
      "sigma: 0.024923412097628914\n"
     ]
    },
    {
     "data": {
      "text/plain": [
       "[(-3, 0.04522976370711325, 7.689059830209253),\n",
       " (-2, 0.07015317580474217, 11.92603988680617),\n",
       " (-1, 0.09507658790237108, 16.163019943403086),\n",
       " (0, 0.12, 20.4),\n",
       " (1, 0.1449234120976289, 24.636980056596915),\n",
       " (2, 0.16984682419525782, 28.873960113193828),\n",
       " (3, 0.19477023629288676, 33.11094016979075)]"
      ]
     },
     "execution_count": 7,
     "metadata": {},
     "output_type": "execute_result"
    }
   ],
   "source": [
    "#b)\n",
    "import math\n",
    "p = 0.12\n",
    "n = 170\n",
    "mu = p\n",
    "sigma = math.sqrt((p * (1 - p)) / n)\n",
    "\n",
    "print(\"mean: {}\".format(mu))\n",
    "print(\"sigma: {}\".format(sigma))\n",
    "\n",
    "[(delta, mu + (delta * sigma), n * (mu + (delta * sigma))) for delta in range(-3,4)]"
   ]
  },
  {
   "cell_type": "markdown",
   "metadata": {},
   "source": [
    "## 18.15\n",
    "\n",
    "### Answers\n",
    "\n",
    "* a) see below\n",
    "* b)\n",
    "  - assumptions: independence (yes - maybe?); sample size ok =>\n",
    "  - conditions: random (yes); sample less than 10% of pop (yes - if pop is _all_ borrowers); success/failure min 10: yes\n",
    "* c) ~ 5%, see below"
   ]
  },
  {
   "cell_type": "code",
   "execution_count": 10,
   "metadata": {},
   "outputs": [
    {
     "name": "stdout",
     "output_type": "stream",
     "text": [
      "mean: 0.07\n",
      "std dev: 0.01804161855266872\n"
     ]
    },
    {
     "data": {
      "text/plain": [
       "[(-3, 0.01587514434199385),\n",
       " (-2, 0.03391676289466257),\n",
       " (-1, 0.05195838144733129),\n",
       " (0, 0.07),\n",
       " (1, 0.08804161855266873),\n",
       " (2, 0.10608323710533744),\n",
       " (3, 0.12412485565800616)]"
      ]
     },
     "execution_count": 10,
     "metadata": {},
     "output_type": "execute_result"
    }
   ],
   "source": [
    "p = 0.07\n",
    "n = 200\n",
    "\n",
    "mu = p\n",
    "sigma = math.sqrt((p * (1 - p)) / n)\n",
    "\n",
    "print(\"mean: {}\".format(mu))\n",
    "print(\"std dev: {}\".format(sigma))\n",
    "\n",
    "[(delta, mu + (delta * sigma)) for delta in range(-3,4)]"
   ]
  },
  {
   "cell_type": "code",
   "execution_count": 14,
   "metadata": {},
   "outputs": [
    {
     "data": {
      "text/plain": [
       "0.048174037094531386"
      ]
     },
     "execution_count": 14,
     "metadata": {},
     "output_type": "execute_result"
    }
   ],
   "source": [
    "# c)\n",
    "from scipy.stats import norm\n",
    "1 - norm.cdf(.1, mu, sigma)"
   ]
  },
  {
   "cell_type": "markdown",
   "metadata": {},
   "source": [
    "## 18.17\n",
    "\n",
    "### Answers\n",
    "\n",
    "* see below - should expect between 70-79% return rate;\n",
    "* conditions met:\n",
    "  - independent\n",
    "  - sample size is \"correct\": < 10% of pop; random; success/failures > 10 ea.\n",
    "  \n",
    "  \n",
    "* [note: the question states that they're random samples, while the answer key states that they're not; question also asks \"... we expect to return to _that_ school for their...\" -- maybe they left out a detail -- e.g these students are all from a single school?  -- not really clear what the question is asking.]"
   ]
  },
  {
   "cell_type": "code",
   "execution_count": 21,
   "metadata": {},
   "outputs": [
    {
     "name": "stdout",
     "output_type": "stream",
     "text": [
      "mean: 0.74\n",
      "stddev: 0.02193171219946131\n"
     ]
    },
    {
     "data": {
      "text/plain": [
       "[(-3, 0.674204863401616),\n",
       " (-2, 0.6961365756010773),\n",
       " (-1, 0.7180682878005387),\n",
       " (0, 0.74),\n",
       " (1, 0.7619317121994613),\n",
       " (2, 0.7838634243989226),\n",
       " (3, 0.805795136598384)]"
      ]
     },
     "execution_count": 21,
     "metadata": {},
     "output_type": "execute_result"
    }
   ],
   "source": [
    "p = 0.74\n",
    "n = 400\n",
    "\n",
    "mu = p\n",
    "sigma = math.sqrt( (p * (1 - p)) / n  )\n",
    "\n",
    "print(\"mean: {}\".format(mu))\n",
    "print(\"stddev: {}\".format(sigma))\n",
    "\n",
    "[(delta, mu + (delta * sigma)) for delta in range(-3,4)]"
   ]
  },
  {
   "cell_type": "markdown",
   "metadata": {},
   "source": [
    "## 18.19\n",
    "\n",
    "### Answers\n",
    "\n",
    "* yes - this is more than 7 SDs above the mean"
   ]
  },
  {
   "cell_type": "code",
   "execution_count": 25,
   "metadata": {},
   "outputs": [
    {
     "name": "stdout",
     "output_type": "stream",
     "text": [
      "mean: 0.74\n",
      "stddev: 0.01786256728793726\n",
      "86.567164%\n"
     ]
    },
    {
     "data": {
      "text/plain": [
       "7.035474787317489"
      ]
     },
     "execution_count": 25,
     "metadata": {},
     "output_type": "execute_result"
    }
   ],
   "source": [
    "n = 603\n",
    "mu = p\n",
    "sigma = math.sqrt( (p * (1 - p)) / n  )\n",
    "\n",
    "print(\"mean: {}\".format(mu))\n",
    "print(\"stddev: {}\".format(sigma))\n",
    "\n",
    "pct = 522 / 603\n",
    "print(\"{:%}\".format(pct))\n",
    "\n",
    "(pct - mu) / sigma\n",
    "#1 - norm.cdf(pct, mu, sigma)"
   ]
  },
  {
   "cell_type": "markdown",
   "metadata": {},
   "source": [
    "## 18.21\n",
    "\n",
    "### Answers\n",
    "\n",
    "* 21.2%\n",
    "* assuming a large enough voter population, assumptions and conditions are met: independent, random, > 10% of pop, at least 10 s/f"
   ]
  },
  {
   "cell_type": "code",
   "execution_count": 26,
   "metadata": {},
   "outputs": [
    {
     "data": {
      "text/plain": [
       "0.2116698207912216"
      ]
     },
     "execution_count": 26,
     "metadata": {},
     "output_type": "execute_result"
    }
   ],
   "source": [
    "n = 400\n",
    "p = 0.52\n",
    "\n",
    "mu = p\n",
    "sigma = math.sqrt(p * (1 - p) / n)\n",
    "\n",
    "norm.cdf(.5, mu, sigma)"
   ]
  },
  {
   "cell_type": "markdown",
   "metadata": {},
   "source": [
    "## \n",
    "\n",
    "### Answers\n",
    "\n",
    "* "
   ]
  },
  {
   "cell_type": "markdown",
   "metadata": {},
   "source": [
    "## \n",
    "\n",
    "### Answers\n",
    "\n",
    "* "
   ]
  },
  {
   "cell_type": "code",
   "execution_count": null,
   "metadata": {
    "collapsed": true
   },
   "outputs": [],
   "source": []
  }
 ],
 "metadata": {
  "kernelspec": {
   "display_name": "Python 3",
   "language": "python",
   "name": "python3"
  },
  "language_info": {
   "codemirror_mode": {
    "name": "ipython",
    "version": 3
   },
   "file_extension": ".py",
   "mimetype": "text/x-python",
   "name": "python",
   "nbconvert_exporter": "python",
   "pygments_lexer": "ipython3",
   "version": "3.5.2"
  }
 },
 "nbformat": 4,
 "nbformat_minor": 2
}
