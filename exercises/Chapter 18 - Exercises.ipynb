{
 "cells": [
  {
   "cell_type": "markdown",
   "metadata": {},
   "source": [
    "# Chapter 18 - Exercises"
   ]
  },
  {
   "cell_type": "markdown",
   "metadata": {},
   "source": [
    "## 18.1\n",
    "\n",
    "### Answers\n",
    "\n",
    "* shape is approximately normal (and approximation improves as sample size increases)\n",
    "* center is at $p$ (0.5)\n",
    "* spread, $\\sigma$, is (see below based on $n$)"
   ]
  },
  {
   "cell_type": "code",
   "execution_count": 5,
   "metadata": {},
   "outputs": [
    {
     "data": {
      "text/plain": [
       "[0.04873397172404482,\n",
       " 0.030822070014844882,\n",
       " 0.021794494717703367,\n",
       " 0.015411035007422441]"
      ]
     },
     "execution_count": 5,
     "metadata": {},
     "output_type": "execute_result"
    }
   ],
   "source": [
    "import math\n",
    "p = 0.05\n",
    "sigmas = [math.sqrt((p * (1 - p)) / n) for n in [20, 50, 100, 200]]\n",
    "sigmas"
   ]
  },
  {
   "cell_type": "markdown",
   "metadata": {},
   "source": [
    "## 18.3 \n",
    "\n",
    "### Answers\n",
    "\n",
    "* a) mu = 0.5; sigma (see above)\n",
    "* b) see below\n",
    "* c) 200 is the first that shows no discernable skew\n",
    "* d) 200 is also the first that we'd expect at least 10 successes and 10 failures in each sample"
   ]
  },
  {
   "cell_type": "code",
   "execution_count": 11,
   "metadata": {},
   "outputs": [
    {
     "data": {
      "text/plain": [
       "[-0.00030000000000000165,\n",
       " 0.0015999999999999973,\n",
       " -0.00030000000000000165,\n",
       " 9.999999999999593e-05]"
      ]
     },
     "execution_count": 11,
     "metadata": {},
     "output_type": "execute_result"
    }
   ],
   "source": [
    "meandiffs = [m - p for m in [0.0497, 0.0516, 0.0497, 0.0501]]\n",
    "meandiffs"
   ]
  },
  {
   "cell_type": "code",
   "execution_count": 12,
   "metadata": {},
   "outputs": [
    {
     "data": {
      "text/plain": [
       "[0.00083397172404482,\n",
       " -7.792998515511809e-05,\n",
       " 0.00029449471770336827,\n",
       " 0.00021103500742244118]"
      ]
     },
     "execution_count": 12,
     "metadata": {},
     "output_type": "execute_result"
    }
   ],
   "source": [
    "sigmadiffs = [a-b for (a,b) in zip(sigmas, [0.0479, 0.0309, 0.0215, 0.0152])]\n",
    "sigmadiffs"
   ]
  },
  {
   "cell_type": "markdown",
   "metadata": {},
   "source": [
    "## 18.5\n",
    "\n",
    "### Answers\n",
    "\n",
    "* a) Approximately normal; underlying distribution is uniform, n * p is less than 10, though\n",
    "* b) At or near p = 0.5\n",
    "* c) Sigma = 0.125\n",
    "* d) Success/Failure condition not met."
   ]
  },
  {
   "cell_type": "markdown",
   "metadata": {},
   "source": [
    "## 18.7\n",
    "\n",
    "### Answers\n",
    "\n",
    "* a) \n",
    "  * 68% of sampled proportions fall between 0.4 and 0.6\n",
    "  * 95% of sampled proportions fall between 0.3 and 0.7\n",
    "  * 99.7% of sampled proportions fall between 0.2 and 0.8\n",
    "* b) yes: success/failure condition met: n * p = 12.5\n",
    "* c) N(0.5, 0.0625) : see below\n",
    "* d) the spread decreases, and distribution narrows, as the sample size increases"
   ]
  },
  {
   "cell_type": "code",
   "execution_count": 17,
   "metadata": {},
   "outputs": [
    {
     "data": {
      "text/plain": [
       "[(-3, 0.19999999999999996),\n",
       " (-2, 0.3),\n",
       " (-1, 0.4),\n",
       " (0, 0.5),\n",
       " (1, 0.6),\n",
       " (2, 0.7),\n",
       " (3, 0.8)]"
      ]
     },
     "execution_count": 17,
     "metadata": {},
     "output_type": "execute_result"
    }
   ],
   "source": [
    "# a)\n",
    "mu = 0.5\n",
    "sigma = math.sqrt(0.25 / 25)\n",
    "[(delta, mu + (delta * sigma)) for delta in range(-3,4)]"
   ]
  },
  {
   "cell_type": "code",
   "execution_count": 16,
   "metadata": {},
   "outputs": [
    {
     "data": {
      "text/plain": [
       "[(-3, 0.3125),\n",
       " (-2, 0.375),\n",
       " (-1, 0.4375),\n",
       " (0, 0.5),\n",
       " (1, 0.5625),\n",
       " (2, 0.625),\n",
       " (3, 0.6875)]"
      ]
     },
     "execution_count": 16,
     "metadata": {},
     "output_type": "execute_result"
    }
   ],
   "source": [
    "# c)\n",
    "mu = 0.5\n",
    "sigma = math.sqrt(.25 / 64)\n",
    "[(delta, mu + (delta * sigma)) for delta in range(-3,4)]"
   ]
  },
  {
   "cell_type": "markdown",
   "metadata": {},
   "source": [
    "## 18.9\n",
    "\n",
    "### Answers\n",
    "\n",
    "* Her result is 2.6 std deviations below the mean.  There's a 1.2% chance of getting this result."
   ]
  },
  {
   "cell_type": "code",
   "execution_count": 22,
   "metadata": {},
   "outputs": [
    {
     "data": {
      "text/plain": [
       "2.2627416997969525"
      ]
     },
     "execution_count": 22,
     "metadata": {},
     "output_type": "execute_result"
    }
   ],
   "source": [
    "n = 200\n",
    "p = 0.5\n",
    "\n",
    "mu = p\n",
    "sigma = math.sqrt((p * (1 - p)) / n)\n",
    "\n",
    "\n",
    "z = (mu - 0.42) / sigma\n",
    "z"
   ]
  },
  {
   "cell_type": "code",
   "execution_count": 26,
   "metadata": {},
   "outputs": [
    {
     "data": {
      "text/plain": [
       "0.011825808327677984"
      ]
     },
     "execution_count": 26,
     "metadata": {},
     "output_type": "execute_result"
    }
   ],
   "source": [
    "from scipy.stats import norm\n",
    "norm.cdf(0.42, mu, sigma)"
   ]
  },
  {
   "cell_type": "markdown",
   "metadata": {},
   "source": [
    "## 18.11\n",
    "\n",
    "### Answers\n",
    "\n",
    "* a) see below\n",
    "* b) yes: more than 10 successes and failures; probably independent, but some factors may affect that"
   ]
  },
  {
   "cell_type": "code",
   "execution_count": 27,
   "metadata": {},
   "outputs": [
    {
     "data": {
      "text/plain": [
       "[(-3, 0.546295738510606),\n",
       " (-2, 0.597530492340404),\n",
       " (-1, 0.6487652461702019),\n",
       " (0, 0.7),\n",
       " (1, 0.751234753829798),\n",
       " (2, 0.8024695076595959),\n",
       " (3, 0.8537042614893939)]"
      ]
     },
     "execution_count": 27,
     "metadata": {},
     "output_type": "execute_result"
    }
   ],
   "source": [
    "# a)\n",
    "p = 0.7\n",
    "n = 80\n",
    "\n",
    "mu = p\n",
    "sigma = math.sqrt((p * (1 - p)) / n)\n",
    "\n",
    "[(delta, mu + (delta * sigma)) for delta in range(-3,4)]"
   ]
  },
  {
   "cell_type": "code",
   "execution_count": 28,
   "metadata": {},
   "outputs": [
    {
     "data": {
      "text/plain": [
       "[56.0, 24.0]"
      ]
     },
     "execution_count": 28,
     "metadata": {},
     "output_type": "execute_result"
    }
   ],
   "source": [
    "# b)\n",
    "[80 * p for p in [.7, .3]]"
   ]
  },
  {
   "cell_type": "markdown",
   "metadata": {},
   "source": [
    "## \n",
    "\n",
    "### Answers\n",
    "\n",
    "* "
   ]
  },
  {
   "cell_type": "markdown",
   "metadata": {},
   "source": [
    "## \n",
    "\n",
    "### Answers\n",
    "\n",
    "* "
   ]
  },
  {
   "cell_type": "markdown",
   "metadata": {},
   "source": [
    "## \n",
    "\n",
    "### Answers\n",
    "\n",
    "* "
   ]
  },
  {
   "cell_type": "markdown",
   "metadata": {},
   "source": [
    "## \n",
    "\n",
    "### Answers\n",
    "\n",
    "* "
   ]
  },
  {
   "cell_type": "markdown",
   "metadata": {},
   "source": [
    "## \n",
    "\n",
    "### Answers\n",
    "\n",
    "* "
   ]
  },
  {
   "cell_type": "markdown",
   "metadata": {},
   "source": [
    "## \n",
    "\n",
    "### Answers\n",
    "\n",
    "* "
   ]
  },
  {
   "cell_type": "markdown",
   "metadata": {},
   "source": [
    "## \n",
    "\n",
    "### Answers\n",
    "\n",
    "* "
   ]
  },
  {
   "cell_type": "code",
   "execution_count": null,
   "metadata": {
    "collapsed": true
   },
   "outputs": [],
   "source": []
  }
 ],
 "metadata": {
  "kernelspec": {
   "display_name": "Python 3",
   "language": "python",
   "name": "python3"
  },
  "language_info": {
   "codemirror_mode": {
    "name": "ipython",
    "version": 3
   },
   "file_extension": ".py",
   "mimetype": "text/x-python",
   "name": "python",
   "nbconvert_exporter": "python",
   "pygments_lexer": "ipython3",
   "version": "3.5.2"
  }
 },
 "nbformat": 4,
 "nbformat_minor": 2
}
