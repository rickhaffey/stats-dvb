{
 "cells": [
  {
   "cell_type": "markdown",
   "metadata": {},
   "source": [
    "# Chapter 18 - Exercises"
   ]
  },
  {
   "cell_type": "markdown",
   "metadata": {},
   "source": [
    "## 18.1\n",
    "\n",
    "### Answers\n",
    "\n",
    "* shape is approximately normal (and approximation improves as sample size increases)\n",
    "* center is at $p$ (0.5)\n",
    "* spread, $\\sigma$, is (see below based on $n$)"
   ]
  },
  {
   "cell_type": "code",
   "execution_count": 34,
   "metadata": {},
   "outputs": [
    {
     "data": {
      "text/plain": [
       "[0.04873397172404482,\n",
       " 0.030822070014844882,\n",
       " 0.021794494717703367,\n",
       " 0.015411035007422441]"
      ]
     },
     "execution_count": 34,
     "metadata": {},
     "output_type": "execute_result"
    }
   ],
   "source": [
    "import math\n",
    "p = 0.05\n",
    "sigmas = [math.sqrt((p * (1 - p)) / n) for n in [20, 50, 100, 200]]\n",
    "sigmas"
   ]
  },
  {
   "cell_type": "markdown",
   "metadata": {},
   "source": [
    "## 18.3 \n",
    "\n",
    "### Answers\n",
    "\n",
    "* a) mu = 0.5; sigma (see above)\n",
    "* b) see below\n",
    "* c) 200 is the first that shows no discernable skew\n",
    "* d) 200 is also the first that we'd expect at least 10 successes and 10 failures in each sample"
   ]
  },
  {
   "cell_type": "code",
   "execution_count": 35,
   "metadata": {},
   "outputs": [
    {
     "data": {
      "text/plain": [
       "[-0.00030000000000000165,\n",
       " 0.0015999999999999973,\n",
       " -0.00030000000000000165,\n",
       " 9.999999999999593e-05]"
      ]
     },
     "execution_count": 35,
     "metadata": {},
     "output_type": "execute_result"
    }
   ],
   "source": [
    "meandiffs = [m - p for m in [0.0497, 0.0516, 0.0497, 0.0501]]\n",
    "meandiffs"
   ]
  },
  {
   "cell_type": "code",
   "execution_count": 36,
   "metadata": {},
   "outputs": [
    {
     "data": {
      "text/plain": [
       "[0.00083397172404482,\n",
       " -7.792998515511809e-05,\n",
       " 0.00029449471770336827,\n",
       " 0.00021103500742244118]"
      ]
     },
     "execution_count": 36,
     "metadata": {},
     "output_type": "execute_result"
    }
   ],
   "source": [
    "sigmadiffs = [a-b for (a,b) in zip(sigmas, [0.0479, 0.0309, 0.0215, 0.0152])]\n",
    "sigmadiffs"
   ]
  },
  {
   "cell_type": "markdown",
   "metadata": {},
   "source": [
    "## 18.5\n",
    "\n",
    "### Answers\n",
    "\n",
    "* a) Approximately normal; underlying distribution is uniform, n * p is less than 10, though\n",
    "* b) At or near p = 0.5\n",
    "* c) Sigma = 0.125\n",
    "* d) Success/Failure condition not met."
   ]
  },
  {
   "cell_type": "markdown",
   "metadata": {},
   "source": [
    "## 18.7\n",
    "\n",
    "### Answers\n",
    "\n",
    "* a) \n",
    "  * 68% of sampled proportions fall between 0.4 and 0.6\n",
    "  * 95% of sampled proportions fall between 0.3 and 0.7\n",
    "  * 99.7% of sampled proportions fall between 0.2 and 0.8\n",
    "* b) yes: success/failure condition met: n * p = 12.5\n",
    "* c) N(0.5, 0.0625) : see below\n",
    "* d) the spread decreases, and distribution narrows, as the sample size increases"
   ]
  },
  {
   "cell_type": "code",
   "execution_count": 37,
   "metadata": {},
   "outputs": [
    {
     "data": {
      "text/plain": [
       "[(-3, 0.19999999999999996),\n",
       " (-2, 0.3),\n",
       " (-1, 0.4),\n",
       " (0, 0.5),\n",
       " (1, 0.6),\n",
       " (2, 0.7),\n",
       " (3, 0.8)]"
      ]
     },
     "execution_count": 37,
     "metadata": {},
     "output_type": "execute_result"
    }
   ],
   "source": [
    "# a)\n",
    "mu = 0.5\n",
    "sigma = math.sqrt(0.25 / 25)\n",
    "[(delta, mu + (delta * sigma)) for delta in range(-3,4)]"
   ]
  },
  {
   "cell_type": "code",
   "execution_count": 38,
   "metadata": {},
   "outputs": [
    {
     "data": {
      "text/plain": [
       "[(-3, 0.3125),\n",
       " (-2, 0.375),\n",
       " (-1, 0.4375),\n",
       " (0, 0.5),\n",
       " (1, 0.5625),\n",
       " (2, 0.625),\n",
       " (3, 0.6875)]"
      ]
     },
     "execution_count": 38,
     "metadata": {},
     "output_type": "execute_result"
    }
   ],
   "source": [
    "# c)\n",
    "mu = 0.5\n",
    "sigma = math.sqrt(.25 / 64)\n",
    "[(delta, mu + (delta * sigma)) for delta in range(-3,4)]"
   ]
  },
  {
   "cell_type": "markdown",
   "metadata": {},
   "source": [
    "## 18.9\n",
    "\n",
    "### Answers\n",
    "\n",
    "* Her result is 2.6 std deviations below the mean.  There's a 1.2% chance of getting this result."
   ]
  },
  {
   "cell_type": "code",
   "execution_count": 39,
   "metadata": {},
   "outputs": [
    {
     "data": {
      "text/plain": [
       "2.2627416997969525"
      ]
     },
     "execution_count": 39,
     "metadata": {},
     "output_type": "execute_result"
    }
   ],
   "source": [
    "n = 200\n",
    "p = 0.5\n",
    "\n",
    "mu = p\n",
    "sigma = math.sqrt((p * (1 - p)) / n)\n",
    "\n",
    "\n",
    "z = (mu - 0.42) / sigma\n",
    "z"
   ]
  },
  {
   "cell_type": "code",
   "execution_count": 40,
   "metadata": {},
   "outputs": [
    {
     "data": {
      "text/plain": [
       "0.011825808327677984"
      ]
     },
     "execution_count": 40,
     "metadata": {},
     "output_type": "execute_result"
    }
   ],
   "source": [
    "from scipy.stats import norm\n",
    "norm.cdf(0.42, mu, sigma)"
   ]
  },
  {
   "cell_type": "markdown",
   "metadata": {},
   "source": [
    "## 18.11\n",
    "\n",
    "### Answers\n",
    "\n",
    "* a) see below\n",
    "* b) yes: more than 10 successes and failures; probably independent, but some factors may affect that"
   ]
  },
  {
   "cell_type": "code",
   "execution_count": 41,
   "metadata": {},
   "outputs": [
    {
     "data": {
      "text/plain": [
       "[(-3, 0.546295738510606),\n",
       " (-2, 0.597530492340404),\n",
       " (-1, 0.6487652461702019),\n",
       " (0, 0.7),\n",
       " (1, 0.751234753829798),\n",
       " (2, 0.8024695076595959),\n",
       " (3, 0.8537042614893939)]"
      ]
     },
     "execution_count": 41,
     "metadata": {},
     "output_type": "execute_result"
    }
   ],
   "source": [
    "# a)\n",
    "p = 0.7\n",
    "n = 80\n",
    "\n",
    "mu = p\n",
    "sigma = math.sqrt((p * (1 - p)) / n)\n",
    "\n",
    "[(delta, mu + (delta * sigma)) for delta in range(-3,4)]"
   ]
  },
  {
   "cell_type": "code",
   "execution_count": 42,
   "metadata": {},
   "outputs": [
    {
     "data": {
      "text/plain": [
       "[56.0, 24.0]"
      ]
     },
     "execution_count": 42,
     "metadata": {},
     "output_type": "execute_result"
    }
   ],
   "source": [
    "# b)\n",
    "[80 * p for p in [.7, .3]]"
   ]
  },
  {
   "cell_type": "markdown",
   "metadata": {},
   "source": [
    "## 18.13\n",
    "\n",
    "### Answers\n",
    "\n",
    "* p = 0.12\n",
    "* n = 170\n",
    "\n",
    "* a) yes: \n",
    "  * assumptions: \n",
    "    - independence: +\n",
    "    - sample size is large enough: (see conditions)\n",
    "  * conditions:\n",
    "    - randomization: + (assume yes with respect to this question)\n",
    "    - 10% condition: + sample size is less than 10% of population\n",
    "    - success/failure criteria + (20+ success, more failures)\n",
    "* b) see below\n",
    "* c) they should expect between 12 and 29 students to be nearsighted (+/- 2SD -- see below)"
   ]
  },
  {
   "cell_type": "code",
   "execution_count": 43,
   "metadata": {},
   "outputs": [
    {
     "name": "stdout",
     "output_type": "stream",
     "text": [
      "mean: 0.12\n",
      "sigma: 0.024923412097628914\n"
     ]
    },
    {
     "data": {
      "text/plain": [
       "[(-3, 0.04522976370711325, 7.689059830209253),\n",
       " (-2, 0.07015317580474217, 11.92603988680617),\n",
       " (-1, 0.09507658790237108, 16.163019943403086),\n",
       " (0, 0.12, 20.4),\n",
       " (1, 0.1449234120976289, 24.636980056596915),\n",
       " (2, 0.16984682419525782, 28.873960113193828),\n",
       " (3, 0.19477023629288676, 33.11094016979075)]"
      ]
     },
     "execution_count": 43,
     "metadata": {},
     "output_type": "execute_result"
    }
   ],
   "source": [
    "#b)\n",
    "import math\n",
    "p = 0.12\n",
    "n = 170\n",
    "mu = p\n",
    "sigma = math.sqrt((p * (1 - p)) / n)\n",
    "\n",
    "print(\"mean: {}\".format(mu))\n",
    "print(\"sigma: {}\".format(sigma))\n",
    "\n",
    "[(delta, mu + (delta * sigma), n * (mu + (delta * sigma))) for delta in range(-3,4)]"
   ]
  },
  {
   "cell_type": "markdown",
   "metadata": {},
   "source": [
    "## 18.15\n",
    "\n",
    "### Answers\n",
    "\n",
    "* a) see below\n",
    "* b)\n",
    "  - assumptions: independence (yes - maybe?); sample size ok =>\n",
    "  - conditions: random (yes); sample less than 10% of pop (yes - if pop is _all_ borrowers); success/failure min 10: yes\n",
    "* c) ~ 5%, see below"
   ]
  },
  {
   "cell_type": "code",
   "execution_count": 44,
   "metadata": {},
   "outputs": [
    {
     "name": "stdout",
     "output_type": "stream",
     "text": [
      "mean: 0.07\n",
      "std dev: 0.01804161855266872\n"
     ]
    },
    {
     "data": {
      "text/plain": [
       "[(-3, 0.01587514434199385),\n",
       " (-2, 0.03391676289466257),\n",
       " (-1, 0.05195838144733129),\n",
       " (0, 0.07),\n",
       " (1, 0.08804161855266873),\n",
       " (2, 0.10608323710533744),\n",
       " (3, 0.12412485565800616)]"
      ]
     },
     "execution_count": 44,
     "metadata": {},
     "output_type": "execute_result"
    }
   ],
   "source": [
    "p = 0.07\n",
    "n = 200\n",
    "\n",
    "mu = p\n",
    "sigma = math.sqrt((p * (1 - p)) / n)\n",
    "\n",
    "print(\"mean: {}\".format(mu))\n",
    "print(\"std dev: {}\".format(sigma))\n",
    "\n",
    "[(delta, mu + (delta * sigma)) for delta in range(-3,4)]"
   ]
  },
  {
   "cell_type": "code",
   "execution_count": 45,
   "metadata": {},
   "outputs": [
    {
     "data": {
      "text/plain": [
       "0.048174037094531386"
      ]
     },
     "execution_count": 45,
     "metadata": {},
     "output_type": "execute_result"
    }
   ],
   "source": [
    "# c)\n",
    "from scipy.stats import norm\n",
    "1 - norm.cdf(.1, mu, sigma)"
   ]
  },
  {
   "cell_type": "markdown",
   "metadata": {},
   "source": [
    "## 18.17\n",
    "\n",
    "### Answers\n",
    "\n",
    "* see below - should expect between 70-79% return rate;\n",
    "* conditions met:\n",
    "  - independent\n",
    "  - sample size is \"correct\": < 10% of pop; random; success/failures > 10 ea.\n",
    "  \n",
    "  \n",
    "* [note: the question states that they're random samples, while the answer key states that they're not; question also asks \"... we expect to return to _that_ school for their...\" -- maybe they left out a detail -- e.g these students are all from a single school?  -- not really clear what the question is asking.]"
   ]
  },
  {
   "cell_type": "code",
   "execution_count": 46,
   "metadata": {},
   "outputs": [
    {
     "name": "stdout",
     "output_type": "stream",
     "text": [
      "mean: 0.74\n",
      "stddev: 0.02193171219946131\n"
     ]
    },
    {
     "data": {
      "text/plain": [
       "[(-3, 0.674204863401616),\n",
       " (-2, 0.6961365756010773),\n",
       " (-1, 0.7180682878005387),\n",
       " (0, 0.74),\n",
       " (1, 0.7619317121994613),\n",
       " (2, 0.7838634243989226),\n",
       " (3, 0.805795136598384)]"
      ]
     },
     "execution_count": 46,
     "metadata": {},
     "output_type": "execute_result"
    }
   ],
   "source": [
    "p = 0.74\n",
    "n = 400\n",
    "\n",
    "mu = p\n",
    "sigma = math.sqrt( (p * (1 - p)) / n  )\n",
    "\n",
    "print(\"mean: {}\".format(mu))\n",
    "print(\"stddev: {}\".format(sigma))\n",
    "\n",
    "[(delta, mu + (delta * sigma)) for delta in range(-3,4)]"
   ]
  },
  {
   "cell_type": "markdown",
   "metadata": {},
   "source": [
    "## 18.19\n",
    "\n",
    "### Answers\n",
    "\n",
    "* yes - this is more than 7 SDs above the mean"
   ]
  },
  {
   "cell_type": "code",
   "execution_count": 47,
   "metadata": {},
   "outputs": [
    {
     "name": "stdout",
     "output_type": "stream",
     "text": [
      "mean: 0.74\n",
      "stddev: 0.01786256728793726\n",
      "86.567164%\n"
     ]
    },
    {
     "data": {
      "text/plain": [
       "7.035474787317489"
      ]
     },
     "execution_count": 47,
     "metadata": {},
     "output_type": "execute_result"
    }
   ],
   "source": [
    "n = 603\n",
    "mu = p\n",
    "sigma = math.sqrt( (p * (1 - p)) / n  )\n",
    "\n",
    "print(\"mean: {}\".format(mu))\n",
    "print(\"stddev: {}\".format(sigma))\n",
    "\n",
    "pct = 522 / 603\n",
    "print(\"{:%}\".format(pct))\n",
    "\n",
    "(pct - mu) / sigma\n",
    "#1 - norm.cdf(pct, mu, sigma)"
   ]
  },
  {
   "cell_type": "markdown",
   "metadata": {},
   "source": [
    "## 18.21\n",
    "\n",
    "### Answers\n",
    "\n",
    "* 21.2%\n",
    "* assuming a large enough voter population, assumptions and conditions are met: independent, random, > 10% of pop, at least 10 s/f"
   ]
  },
  {
   "cell_type": "code",
   "execution_count": 48,
   "metadata": {},
   "outputs": [
    {
     "data": {
      "text/plain": [
       "0.2116698207912216"
      ]
     },
     "execution_count": 48,
     "metadata": {},
     "output_type": "execute_result"
    }
   ],
   "source": [
    "n = 400\n",
    "p = 0.52\n",
    "\n",
    "mu = p\n",
    "sigma = math.sqrt(p * (1 - p) / n)\n",
    "\n",
    "norm.cdf(.5, mu, sigma)"
   ]
  },
  {
   "cell_type": "markdown",
   "metadata": {},
   "source": [
    "## 18.23\n",
    "\n",
    "### Answers\n",
    "\n",
    "* n = 150\n",
    "* reject if > 5% blemished\n",
    "* p = 0.08\n",
    "\n",
    "* what's the probability that the sample will _not_ be rejected? 8.8%"
   ]
  },
  {
   "cell_type": "code",
   "execution_count": 49,
   "metadata": {},
   "outputs": [
    {
     "name": "stdout",
     "output_type": "stream",
     "text": [
      "mu: 0.08\n",
      "sigma: 0.022150996967781535\n"
     ]
    },
    {
     "data": {
      "text/plain": [
       "0.087813830030137985"
      ]
     },
     "execution_count": 49,
     "metadata": {},
     "output_type": "execute_result"
    }
   ],
   "source": [
    "n = 150 \n",
    "p = 0.08\n",
    "mu = p\n",
    "sigma = math.sqrt( p * (1 - p) / n)\n",
    "\n",
    "print(\"mu: {}\".format(mu))\n",
    "print(\"sigma: {}\".format(sigma))\n",
    "\n",
    "norm.cdf(0.05, mu, sigma)"
   ]
  },
  {
   "cell_type": "markdown",
   "metadata": {},
   "source": [
    "## 18.25\n",
    "\n",
    "### Answers\n",
    "\n",
    "* p = 0.6\n",
    "* n = 120\n",
    "* see below"
   ]
  },
  {
   "cell_type": "code",
   "execution_count": 50,
   "metadata": {},
   "outputs": [
    {
     "name": "stdout",
     "output_type": "stream",
     "text": [
      "mu: 0.6\n",
      "sigma: 0.044721359549995794\n"
     ]
    },
    {
     "data": {
      "text/plain": [
       "87.926552977124274"
      ]
     },
     "execution_count": 50,
     "metadata": {},
     "output_type": "execute_result"
    }
   ],
   "source": [
    "n = 120\n",
    "p = 0.6\n",
    "mu = p\n",
    "sigma = math.sqrt( p * (1 - p) / n)\n",
    "print(\"mu: {}\".format(mu))\n",
    "print(\"sigma: {}\".format(sigma))\n",
    "\n",
    "norm.ppf(0.9985, mu, sigma) * n"
   ]
  },
  {
   "cell_type": "code",
   "execution_count": 51,
   "metadata": {},
   "outputs": [
    {
     "data": {
      "text/plain": [
       "88.09968943799848"
      ]
     },
     "execution_count": 51,
     "metadata": {},
     "output_type": "execute_result"
    }
   ],
   "source": [
    "(mu + 3 * sigma) * n"
   ]
  },
  {
   "cell_type": "markdown",
   "metadata": {},
   "source": [
    "## 18.27\n",
    "\n",
    "### Answers\n",
    "\n",
    "* a) normal dist.; centered at mean of population; std dev sqrt(p * 1-p / n)\n",
    "* b) same center; spread narrows"
   ]
  },
  {
   "cell_type": "markdown",
   "metadata": {},
   "source": [
    "## 18.29\n",
    "\n",
    "### Answers\n",
    "\n",
    "* a) centered at pop mean, skewed to the right, otherwise, approximately normal\n",
    "* b) as sample size increases, spread \"narrows\" and distribution becomes closer to normal, more symmetric, and less skewed"
   ]
  },
  {
   "cell_type": "markdown",
   "metadata": {},
   "source": [
    "## 18.31\n",
    "\n",
    "### Answers\n",
    "\n",
    "* a) see below\n",
    "* b) pretty close to the theoretical values\n",
    "* c) 10 looks to be the first where there's almost no visible skew\n",
    "* d) the skew"
   ]
  },
  {
   "cell_type": "code",
   "execution_count": 52,
   "metadata": {
    "collapsed": true
   },
   "outputs": [],
   "source": [
    "n = 250\n",
    "mu = 36.33\n",
    "sigma = 4.019"
   ]
  },
  {
   "cell_type": "code",
   "execution_count": 57,
   "metadata": {},
   "outputs": [
    {
     "name": "stdout",
     "output_type": "stream",
     "text": [
      "n: 2, mu: 36.33, sigma: 2.8418621535887345\n",
      "n: 5, mu: 36.33, sigma: 1.797351440314331\n",
      "n: 10, mu: 36.33, sigma: 1.2709193916216717\n",
      "n: 20, mu: 36.33, sigma: 0.8986757201571655\n"
     ]
    }
   ],
   "source": [
    "#a) \n",
    "\n",
    "samples = [(n, sigma / math.sqrt(n)) for n in [2, 5, 10, 20]]\n",
    "for s in samples:\n",
    "    print(\"n: {}, mu: {}, sigma: {}\".format(s[0], mu, s[1]))"
   ]
  },
  {
   "cell_type": "markdown",
   "metadata": {},
   "source": [
    "## 18.33\n",
    "\n",
    "### Answers\n",
    "\n",
    "* mu = 3.4\n",
    "* sigma = 0.35\n",
    "\n",
    "* randomly assigned, so assumed independence; each sample is presumably less than 10% of entire population; since unimodal and only slightly skewed, n=25 is probably sufficient"
   ]
  },
  {
   "cell_type": "code",
   "execution_count": 62,
   "metadata": {},
   "outputs": [
    {
     "data": {
      "text/plain": [
       "[(-3, 3.19),\n",
       " (-2, 3.26),\n",
       " (-1, 3.33),\n",
       " (0, 3.4),\n",
       " (1, 3.4699999999999998),\n",
       " (2, 3.54),\n",
       " (3, 3.61)]"
      ]
     },
     "execution_count": 62,
     "metadata": {},
     "output_type": "execute_result"
    }
   ],
   "source": [
    "mu = 3.4\n",
    "sigma = 0.35\n",
    "n = 25\n",
    "\n",
    "s_mu = mu\n",
    "s_sigma = sigma / math.sqrt(n)\n",
    "\n",
    "[(d, s_mu + d * s_sigma) for d in range(-3, 4)]"
   ]
  },
  {
   "cell_type": "markdown",
   "metadata": {},
   "source": [
    "## 18.35\n",
    "\n",
    "### Answers\n",
    "\n",
    "* a) as sample size increases (i.e. larger total sales => larger sample size), variance of the sampling distribution decreases, while the sampling mean is centered around the underlying population mean (~ 62.5% payout) -- [not clear on how the NY lottery is making money off this...]\n",
    "* b) each case within a sample is random, with the same chance across all cases"
   ]
  },
  {
   "cell_type": "markdown",
   "metadata": {},
   "source": [
    "## 18.37\n",
    "\n",
    "### Answers\n",
    "\n",
    "* a) 21.1%\n",
    "* b) 276.8\n",
    "* c) N(266, 2.07)\n",
    "* d) < 0.2%"
   ]
  },
  {
   "cell_type": "code",
   "execution_count": 63,
   "metadata": {},
   "outputs": [
    {
     "data": {
      "text/plain": [
       "0.21050672146456562"
      ]
     },
     "execution_count": 63,
     "metadata": {},
     "output_type": "execute_result"
    }
   ],
   "source": [
    "#a)\n",
    "mu = 266\n",
    "std = 16\n",
    "norm.cdf(280, mu, std) - norm.cdf(270, mu, std)"
   ]
  },
  {
   "cell_type": "code",
   "execution_count": 64,
   "metadata": {},
   "outputs": [
    {
     "data": {
      "text/plain": [
       "276.79183600313729"
      ]
     },
     "execution_count": 64,
     "metadata": {},
     "output_type": "execute_result"
    }
   ],
   "source": [
    "#b)\n",
    "norm.ppf(.75, mu, std)"
   ]
  },
  {
   "cell_type": "code",
   "execution_count": 65,
   "metadata": {},
   "outputs": [
    {
     "name": "stdout",
     "output_type": "stream",
     "text": [
      "N(266, 2.065591117977289)\n"
     ]
    }
   ],
   "source": [
    "#c)\n",
    "s_mu = mu\n",
    "s_sigma = std / math.sqrt(60)\n",
    "print(\"N({}, {})\".format(s_mu, s_sigma))"
   ]
  },
  {
   "cell_type": "code",
   "execution_count": 67,
   "metadata": {},
   "outputs": [
    {
     "data": {
      "text/plain": [
       "0.0018378060588706117"
      ]
     },
     "execution_count": 67,
     "metadata": {},
     "output_type": "execute_result"
    }
   ],
   "source": [
    "norm.cdf(260, s_mu, s_sigma)"
   ]
  },
  {
   "cell_type": "markdown",
   "metadata": {},
   "source": [
    "## 18.39 \n",
    "\n",
    "### Answers\n",
    "\n",
    "* a) c-section delivery and naturally occurring premature delivery\n",
    "* b) a&b - yes, c - no: a&b are questions about the underlying population, c is a question about a _sampling distribution_ from the underlying population - CLT supports use of normal modell "
   ]
  },
  {
   "cell_type": "markdown",
   "metadata": {},
   "source": [
    "## 18.41\n",
    "\n",
    "### Answers\n",
    "\n",
    "* 1,3,5 -> \\$0\n",
    "* 2,4 -> \\$1\n",
    "* 6 -> $10\n",
    "\n",
    "* see below"
   ]
  },
  {
   "cell_type": "code",
   "execution_count": 21,
   "metadata": {},
   "outputs": [
    {
     "name": "stdout",
     "output_type": "stream",
     "text": [
      "expected value: 2.0\n",
      "std dev: 3.605551275463989\n"
     ]
    }
   ],
   "source": [
    "#a)\n",
    "vmap = { \n",
    "    1: 0,\n",
    "    3: 0,\n",
    "    5: 0,\n",
    "    2: 1,\n",
    "    4: 1,\n",
    "    6: 10    \n",
    "}\n",
    "\n",
    "vweighted = [v * 1/6 for v in vmap.values()]\n",
    "mu = sum(vweighted)\n",
    "print(\"expected value: {}\".format(mu))\n",
    "\n",
    "import math\n",
    "sigma = math.sqrt(sum([(v - mu) ** 2 for v in vmap.values()]) / 6)\n",
    "print(\"std dev: {}\".format(sigma))\n"
   ]
  },
  {
   "cell_type": "code",
   "execution_count": 22,
   "metadata": {},
   "outputs": [
    {
     "name": "stdout",
     "output_type": "stream",
     "text": [
      "expected value: 4.0\n",
      "std dev: 5.0990195135927845\n"
     ]
    }
   ],
   "source": [
    "#b)\n",
    "print(\"expected value: {}\".format(2 * mu))\n",
    "print(\"std dev: {}\".format(2 * sigma / math.sqrt(2)))"
   ]
  },
  {
   "cell_type": "code",
   "execution_count": 23,
   "metadata": {},
   "outputs": [
    {
     "name": "stdout",
     "output_type": "stream",
     "text": [
      "mean: 80.0\n",
      "stddev: 22.80350850198276\n"
     ]
    },
    {
     "data": {
      "text/plain": [
       "0.19022756262519425"
      ]
     },
     "execution_count": 23,
     "metadata": {},
     "output_type": "execute_result"
    }
   ],
   "source": [
    "#c)\n",
    "mean = 40 * mu\n",
    "stddev = 40 * sigma / math.sqrt(40)\n",
    "\n",
    "print(\"mean: {}\".format(mean))\n",
    "print(\"stddev: {}\".format(stddev))\n",
    "\n",
    "from scipy.stats import norm\n",
    "1 - norm.cdf(100, mean, stddev)"
   ]
  },
  {
   "cell_type": "markdown",
   "metadata": {},
   "source": [
    "## 18.43\n",
    "\n",
    "### Answers\n",
    "\n",
    "* a) see below\n",
    "* b) no - bimodal, non-normal distribution\n",
    "* c) approx. normal, mean @ 2.859, std = .209"
   ]
  },
  {
   "cell_type": "code",
   "execution_count": 31,
   "metadata": {},
   "outputs": [
    {
     "name": "stdout",
     "output_type": "stream",
     "text": [
      "expected value: 2.859\n",
      "std dev: 1.3240540019198612\n"
     ]
    }
   ],
   "source": [
    "#a)\n",
    "vmap = {\n",
    "    5: 12.6,\n",
    "    4: 22.2,\n",
    "    3: 25.3,\n",
    "    2: 18.3,\n",
    "    1: 21.6\n",
    "}\n",
    "\n",
    "vweighted = [v * p / 100 for (v,p) in vmap.items()]\n",
    "mu = sum(vweighted) \n",
    "print(\"expected value: {}\".format(mu))\n",
    "\n",
    "import math\n",
    "sigma = math.sqrt(sum([((v - mu) ** 2) * p / 100 for (v,p) in vmap.items()]))\n",
    "print(\"std dev: {}\".format(sigma))\n"
   ]
  },
  {
   "cell_type": "code",
   "execution_count": 33,
   "metadata": {},
   "outputs": [
    {
     "data": {
      "text/plain": [
       "0.20935131955638586"
      ]
     },
     "execution_count": 33,
     "metadata": {},
     "output_type": "execute_result"
    }
   ],
   "source": [
    "#c)\n",
    "sigma / math.sqrt(40)"
   ]
  },
  {
   "cell_type": "markdown",
   "metadata": {},
   "source": [
    "## 18.45\n",
    "\n",
    "### Answers\n",
    "\n",
    "* 19.9% (see below)"
   ]
  },
  {
   "cell_type": "code",
   "execution_count": 36,
   "metadata": {},
   "outputs": [
    {
     "name": "stdout",
     "output_type": "stream",
     "text": [
      "mean: 2.859\n",
      "stddev: 0.1668151243571329\n"
     ]
    },
    {
     "data": {
      "text/plain": [
       "0.19898644513207286"
      ]
     },
     "execution_count": 36,
     "metadata": {},
     "output_type": "execute_result"
    }
   ],
   "source": [
    "s_mu = mu\n",
    "s_sigma = sigma / math.sqrt(63)\n",
    "\n",
    "print(\"mean: {}\".format(s_mu))\n",
    "print(\"stddev: {}\".format(s_sigma))\n",
    "\n",
    "1 - norm.cdf(3, s_mu, s_sigma)\n"
   ]
  },
  {
   "cell_type": "markdown",
   "metadata": {},
   "source": [
    "## 18.47\n",
    "\n",
    "### Answers\n",
    "\n",
    "* a) mean: 2.9, sd: 0.0447\n",
    "* b) 1.27%\n",
    "* c) 2.97"
   ]
  },
  {
   "cell_type": "code",
   "execution_count": 37,
   "metadata": {},
   "outputs": [
    {
     "name": "stdout",
     "output_type": "stream",
     "text": [
      "mean: 2.9\n",
      "sd: 0.044721359549995794\n"
     ]
    }
   ],
   "source": [
    "#a)\n",
    "mean = 2.9\n",
    "sd = 0.4\n",
    "\n",
    "y_bar = mean\n",
    "s = sd / math.sqrt(80)\n",
    "\n",
    "print(\"mean: {}\".format(y_bar))\n",
    "print(\"sd: {}\".format(s))"
   ]
  },
  {
   "cell_type": "code",
   "execution_count": 41,
   "metadata": {},
   "outputs": [
    {
     "data": {
      "text/plain": [
       "0.012669787230518592"
      ]
     },
     "execution_count": 41,
     "metadata": {},
     "output_type": "execute_result"
    }
   ],
   "source": [
    "#b)\n",
    "norm.cdf(3.1, y_bar, s) - norm.cdf(3.0, y_bar, s)"
   ]
  },
  {
   "cell_type": "code",
   "execution_count": 39,
   "metadata": {},
   "outputs": [
    {
     "data": {
      "text/plain": [
       "2.9735600904580113"
      ]
     },
     "execution_count": 39,
     "metadata": {},
     "output_type": "execute_result"
    }
   ],
   "source": [
    "#c)\n",
    "norm.ppf(0.95, y_bar, s)"
   ]
  },
  {
   "cell_type": "markdown",
   "metadata": {},
   "source": [
    "## 18.49\n",
    "\n",
    "### Answers\n",
    "\n",
    "* a) distribution is not normal, so can't use normal to estimate probability\n",
    "* b) yes: because the sampling distribution will be approximately normal; sample size might be too small, though\n",
    "* c) no; prob is les than 1% : see below"
   ]
  },
  {
   "cell_type": "code",
   "execution_count": 47,
   "metadata": {},
   "outputs": [
    {
     "name": "stdout",
     "output_type": "stream",
     "text": [
      "probability: 0.0007827011290012509\n",
      "that would be 3.1622776601683795 sd's above the mean\n"
     ]
    }
   ],
   "source": [
    "mean = 9.6\n",
    "sd = 5.4\n",
    "n = 10\n",
    "\n",
    "y_bar = mean\n",
    "s = sd / math.sqrt(n)\n",
    "\n",
    "print(\"probability: {}\".format(1 - norm.cdf(15, y_bar, s)))\n",
    "print(\"that would be {} sd's above the mean\".format((15 - 9.6) / s))"
   ]
  },
  {
   "cell_type": "markdown",
   "metadata": {},
   "source": [
    "## 18.51\n",
    "\n",
    "### Answers\n",
    "\n",
    "* a) asking if probability that total across 40 is >= \\$500 is the same as asking if mean weight is >= \\$500 / 40; see below\n",
    "* b) $427.77"
   ]
  },
  {
   "cell_type": "code",
   "execution_count": 50,
   "metadata": {},
   "outputs": [
    {
     "data": {
      "text/plain": [
       "0.00034124228767662412"
      ]
     },
     "execution_count": 50,
     "metadata": {},
     "output_type": "execute_result"
    }
   ],
   "source": [
    "#a) \n",
    "check = 500 / 40\n",
    "\n",
    "s = sd / math.sqrt(40)\n",
    "\n",
    "1 - norm.cdf(check, mean, s)"
   ]
  },
  {
   "cell_type": "code",
   "execution_count": 52,
   "metadata": {},
   "outputs": [
    {
     "data": {
      "text/plain": [
       "427.76831636961538"
      ]
     },
     "execution_count": 52,
     "metadata": {},
     "output_type": "execute_result"
    }
   ],
   "source": [
    "#b)\n",
    "norm.ppf(.90, mean, s) * 40"
   ]
  },
  {
   "cell_type": "markdown",
   "metadata": {},
   "source": [
    "## 18.53 \n",
    "\n",
    "### Answers\n",
    "\n",
    "* see below"
   ]
  },
  {
   "cell_type": "code",
   "execution_count": 53,
   "metadata": {
    "collapsed": true
   },
   "outputs": [],
   "source": [
    "me = 130\n",
    "sde = 8\n",
    "mw = 120\n",
    "sdw = 10"
   ]
  },
  {
   "cell_type": "code",
   "execution_count": 54,
   "metadata": {},
   "outputs": [
    {
     "data": {
      "text/plain": [
       "0.73401447095129946"
      ]
     },
     "execution_count": 54,
     "metadata": {},
     "output_type": "execute_result"
    }
   ],
   "source": [
    "#a)\n",
    "1 - norm.cdf(125, me, sde)"
   ]
  },
  {
   "cell_type": "code",
   "execution_count": 56,
   "metadata": {},
   "outputs": [
    {
     "data": {
      "text/plain": [
       "0.65189232437813005"
      ]
     },
     "execution_count": 56,
     "metadata": {},
     "output_type": "execute_result"
    }
   ],
   "source": [
    "#b)\n",
    "# We select a student at random from each school. \n",
    "# Find the probability that the East State student’s IQ is at least 5 points higher than the West State student’s IQ.\n",
    "\n",
    "mean_diff = me - mw\n",
    "sd_diff = math.sqrt(sde ** 2 + sdw ** 2)\n",
    "\n",
    "1 - norm.cdf(5, mean_diff, sd_diff)"
   ]
  },
  {
   "cell_type": "code",
   "execution_count": 57,
   "metadata": {},
   "outputs": [
    {
     "data": {
      "text/plain": [
       "0.19323811538561642"
      ]
     },
     "execution_count": 57,
     "metadata": {},
     "output_type": "execute_result"
    }
   ],
   "source": [
    "#c) \n",
    "# We select 3 West State students at random.  \n",
    "# Find the probability that this group’s average IQ is at least 125 points.\n",
    "\n",
    "1 - norm.cdf(125, mw, sdw / math.sqrt(3))"
   ]
  },
  {
   "cell_type": "code",
   "execution_count": 58,
   "metadata": {},
   "outputs": [
    {
     "data": {
      "text/plain": [
       "0.75055974046294038"
      ]
     },
     "execution_count": 58,
     "metadata": {},
     "output_type": "execute_result"
    }
   ],
   "source": [
    "#d)\n",
    "# We also select 3 East State students at random. \n",
    "# What’s the probability that their average IQ is at least 5 points higher than the average for the 3 West Staters?\n",
    "\n",
    "sd_diff = math.sqrt(\n",
    "  (sde / math.sqrt(3)) ** 2 +\n",
    "  (sdw / math.sqrt(3)) ** 2\n",
    ")\n",
    "\n",
    "1 - norm.cdf(5, mean_diff, sd_diff)"
   ]
  }
 ],
 "metadata": {
  "kernelspec": {
   "display_name": "Python 3",
   "language": "python",
   "name": "python3"
  },
  "language_info": {
   "codemirror_mode": {
    "name": "ipython",
    "version": 3
   },
   "file_extension": ".py",
   "mimetype": "text/x-python",
   "name": "python",
   "nbconvert_exporter": "python",
   "pygments_lexer": "ipython3",
   "version": "3.5.2"
  }
 },
 "nbformat": 4,
 "nbformat_minor": 2
}
