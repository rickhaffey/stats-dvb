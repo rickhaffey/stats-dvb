{
 "cells": [
  {
   "cell_type": "markdown",
   "metadata": {},
   "source": [
    "# Chapter 28 - Exercises"
   ]
  },
  {
   "cell_type": "code",
   "execution_count": 2,
   "metadata": {
    "collapsed": true
   },
   "outputs": [],
   "source": [
    "from scipy import stats\n",
    "import math"
   ]
  },
  {
   "cell_type": "markdown",
   "metadata": {},
   "source": [
    "## 28.1\n",
    "\n",
    "### Answers\n",
    "\n",
    "* a)\n",
    "  - H0: $\\mu_a = \\mu_b = \\mu_c = \\mu_d = \\mu$\n",
    "  - HA: not the case that _all_ $\\mu_i$ are equal\n",
    "* b) 3 (4-1), 12 (16-4)\n",
    "* c) 0.0003674801104182057\n",
    "* d) variance of treatment groups, distribution of underlying data"
   ]
  },
  {
   "cell_type": "code",
   "execution_count": 7,
   "metadata": {},
   "outputs": [
    {
     "data": {
      "text/plain": [
       "0.0003674801104182057"
      ]
     },
     "execution_count": 7,
     "metadata": {},
     "output_type": "execute_result"
    }
   ],
   "source": [
    "# c\n",
    "x = 13.56\n",
    "dfn = 3\n",
    "dfd = 12\n",
    "1 - stats.f.cdf(x, dfn, dfd, loc=0, scale=1)"
   ]
  },
  {
   "cell_type": "markdown",
   "metadata": {},
   "source": [
    "## 28.3\n",
    "\n",
    "### Answers\n",
    "\n",
    "* a)\n",
    "  - H0: $\\mu_a = \\mu_b = \\mu_c = \\mu$\n",
    "  - HA: not the case that _all_ $\\mu_i$ are equal\n",
    "* b) $df_{MS_T} = 2$,   $df_{MS_E} = 21$\n",
    "* c) fail to reject H0; evidence doesn't support claim of significant difference in means\n",
    "* d) details about variance of treatment groups; details about the distribution of the underlying data\n",
    "* e) Type II"
   ]
  },
  {
   "cell_type": "markdown",
   "metadata": {},
   "source": [
    "## 28.5\n",
    "\n",
    "### Answers\n",
    "\n",
    "* a)\n",
    "  - H0: mean seconds to rise is the same under recipes A,B,C, and D\n",
    "  - HA: mean seconds to rise is not the same under all recipes\n",
    "* b) reject H0; evidence supports claim of at least one recipe having a mean activation time that differs from the others\n",
    "* c) yes: F-test provides evidence of a difference, multiple comparison can be used to compare groups"
   ]
  },
  {
   "cell_type": "markdown",
   "metadata": {},
   "source": [
    "## 28.7\n",
    "\n",
    "### Answers\n",
    "\n",
    "* _Both_ variables are categorical, so it's not appropriate to use ANOVA as a means of describing how the groups are associated across the two variables.\n",
    "* A $\\chi$-square test seems like it would be a more appropriate analysis to carry out on this data."
   ]
  },
  {
   "cell_type": "markdown",
   "metadata": {},
   "source": [
    "## 28.9\n",
    "\n",
    "### Answers\n",
    "\n",
    "* a) H0: mean mpg is equal across groups; HA: mean mpg is not the same across groups\n",
    "* b) no: the equal variance assumption is pretty clearly violated, based on looking at the boxplots"
   ]
  },
  {
   "cell_type": "markdown",
   "metadata": {},
   "source": [
    "## 28.11\n",
    "\n",
    "### Answers\n",
    "\n",
    "* a) H0: mean time of service is equal across tellers; HA: mean time differs across tellers\n",
    "* b) P-value = 0.1914; fail to reject H0; evidence doesn't support the claim of difference in time across tellers\n",
    "* c) no; given the lack of evidence supporting the claim of a differrence, it wouldn't be appropriate to continue with multiple comparison."
   ]
  },
  {
   "cell_type": "markdown",
   "metadata": {},
   "source": [
    "## 28.13\n",
    "\n",
    "### Answers\n",
    "\n",
    "* a) $MS_T = 8.65$, $MS_E = 0.0767$\n",
    "* b) 112.78\n",
    "* c) reject H0; strong evidence supporting claim of differences in means\n",
    "* d) randomization; equal variances across groups; residuals nearly normal\n",
    "* e) boxplot of original data; residuals vs. predicted; normal probability plot; histogram of residuals\n",
    "* f) 0.277"
   ]
  },
  {
   "cell_type": "markdown",
   "metadata": {},
   "source": [
    "|Source   |Sum of Squares|Degrees of Freedom|Mean Square|F-ratio|\n",
    "|---------|--------------|------------------|-----------|-------|\n",
    "|Treatment|        17.300|                 2|       8.65| 112.78|\n",
    "|Residual |         0.460|                 6|     0.0767|       |\n",
    "|Total    |        17.769|                 8|           |       |"
   ]
  },
  {
   "cell_type": "code",
   "execution_count": 3,
   "metadata": {},
   "outputs": [
    {
     "data": {
      "text/plain": [
       "0.27694764848252457"
      ]
     },
     "execution_count": 3,
     "metadata": {},
     "output_type": "execute_result"
    }
   ],
   "source": [
    "math.sqrt(0.0767)"
   ]
  },
  {
   "cell_type": "markdown",
   "metadata": {},
   "source": [
    "## 28.15\n",
    "\n",
    "### Answers\n",
    "\n",
    "* a) H0: mean scores for both groups are equal; HA: mean scores are not equal\n",
    "* b) give high F-ratio and low P-value, reject H0: mean scores are not equal\n",
    "* c) yes: randomly selected, variances appear similar across groups\n",
    "* d) see below"
   ]
  },
  {
   "cell_type": "code",
   "execution_count": 4,
   "metadata": {},
   "outputs": [
    {
     "name": "stdout",
     "output_type": "stream",
     "text": [
      "t: 5.567584742243215\n",
      "t^2: 30.99799986205945\n"
     ]
    },
    {
     "data": {
      "text/plain": [
       "0.0014227650842359996"
      ]
     },
     "execution_count": 4,
     "metadata": {},
     "output_type": "execute_result"
    }
   ],
   "source": [
    "# d)\n",
    "y1 = 6.78\n",
    "se1 = 0.651\n",
    "y2 = 4.66\n",
    "se2 = 0.395\n",
    "\n",
    "sp = math.sqrt(0.28998)\n",
    "\n",
    "sep = math.sqrt(sp ** 2 / 4 + sp ** 2 / 4)\n",
    "df = 6\n",
    "diff = y1 - y2\n",
    "\n",
    "t = diff / sep\n",
    "print(\"t: {}\".format(t))\n",
    "print(\"t^2: {}\".format(t ** 2))\n",
    "2 * (1 - stats.t.cdf(t, df=df))"
   ]
  },
  {
   "cell_type": "markdown",
   "metadata": {},
   "source": [
    "## 28.17\n",
    "\n",
    "### Answers\n",
    "\n",
    "* a) H0: mean score at each school is the same across schools; HA: mean scores differ across schools\n",
    "* b) fail to reject H0 - evidence doesn't support the claim that there's a difference in mean score across groups\n",
    "* c) no - he's likely seeing the occurrence of Type I errors due to running so many t-tests; if the chance of a Type I error is 5% per test, and tests were carried out for every 2 school combination, the chance of generating Type I errors is very high."
   ]
  },
  {
   "cell_type": "markdown",
   "metadata": {},
   "source": [
    "## 28.19\n",
    "\n",
    "### Answers\n",
    "\n",
    "* a)\n",
    "  - H0: mean_1 = mean_2 = mean_3\n",
    "  - HA: not all means are equal\n",
    "* b) reject H0: evidence supports claim that not all the shelves have the same mean grams of sugar across boxes of cereal on that shelf\n",
    "* c) no and no; only that there's at least one shelf that has a mean differing from the other shelves (i.e. not all are equal)\n",
    "* d) this provides support for answering \"yes\" to the two questions from #c; shelf 2 shows positive mean differences when compared to shelves 1 and 3, and the P-value obtained under the Bonferroni test in both cases is < 0.05."
   ]
  },
  {
   "cell_type": "markdown",
   "metadata": {
    "collapsed": true
   },
   "source": [
    "## 28.21\n",
    "\n",
    "### Answers\n",
    "\n",
    "* a) H0: mean download time in secs is the same for 3 different download time groups;\n",
    "     HA: mean download time is not equal across all 3 groups\n",
    "* b) F-statistic: 43.03, P-value < 0.001; reject H0; clear evidence of a difference in means\n",
    "* c) No clear outliers, similar spread, residuals show no patterns of concern, normal probability plot looks good\n",
    "* d) "
   ]
  },
  {
   "cell_type": "code",
   "execution_count": 24,
   "metadata": {
    "collapsed": true
   },
   "outputs": [],
   "source": [
    "import pandas as pd\n",
    "import matplotlib.pyplot as plt\n",
    "%matplotlib inline\n",
    "\n",
    "plt.style.use(\"ggplot\")"
   ]
  },
  {
   "cell_type": "code",
   "execution_count": 18,
   "metadata": {},
   "outputs": [
    {
     "data": {
      "text/html": [
       "<div>\n",
       "<table border=\"1\" class=\"dataframe\">\n",
       "  <thead>\n",
       "    <tr style=\"text-align: right;\">\n",
       "      <th></th>\n",
       "      <th>group</th>\n",
       "      <th>time</th>\n",
       "    </tr>\n",
       "  </thead>\n",
       "  <tbody>\n",
       "    <tr>\n",
       "      <th>0</th>\n",
       "      <td>Early (7AM)</td>\n",
       "      <td>68</td>\n",
       "    </tr>\n",
       "    <tr>\n",
       "      <th>1</th>\n",
       "      <td>Early (7AM)</td>\n",
       "      <td>138</td>\n",
       "    </tr>\n",
       "    <tr>\n",
       "      <th>2</th>\n",
       "      <td>Early (7AM)</td>\n",
       "      <td>75</td>\n",
       "    </tr>\n",
       "    <tr>\n",
       "      <th>3</th>\n",
       "      <td>Early (7AM)</td>\n",
       "      <td>186</td>\n",
       "    </tr>\n",
       "    <tr>\n",
       "      <th>4</th>\n",
       "      <td>Early (7AM)</td>\n",
       "      <td>68</td>\n",
       "    </tr>\n",
       "  </tbody>\n",
       "</table>\n",
       "</div>"
      ],
      "text/plain": [
       "         group  time\n",
       "0  Early (7AM)    68\n",
       "1  Early (7AM)   138\n",
       "2  Early (7AM)    75\n",
       "3  Early (7AM)   186\n",
       "4  Early (7AM)    68"
      ]
     },
     "execution_count": 18,
     "metadata": {},
     "output_type": "execute_result"
    }
   ],
   "source": [
    "data = pd.read_table(\"../data/Downloading.txt\", names=[\"group\", \"time\"], skiprows=1)\n",
    "data.head()"
   ]
  },
  {
   "cell_type": "code",
   "execution_count": 19,
   "metadata": {},
   "outputs": [],
   "source": [
    "morning = data[data.group == 'Early (7AM)'].time\n",
    "evening = data[data.group == 'Evening (5 PM)'].time\n",
    "night = data[data.group == 'Late Night (12 AM)'].time"
   ]
  },
  {
   "cell_type": "code",
   "execution_count": 25,
   "metadata": {},
   "outputs": [
    {
     "data": {
      "image/png": "[encoded data removed]",
      "text/plain": [
       "<matplotlib.figure.Figure at 0x11acad080>"
      ]
     },
     "metadata": {},
     "output_type": "display_data"
    }
   ],
   "source": [
    "plt.boxplot([morning, evening, night], labels=[\"morning\", \"evening\", \"night\"]);"
   ]
  },
  {
   "cell_type": "code",
   "execution_count": 29,
   "metadata": {},
   "outputs": [
    {
     "data": {
      "text/plain": [
       "F_onewayResult(statistic=46.0349323448656, pvalue=1.3064323282741288e-11)"
      ]
     },
     "execution_count": 29,
     "metadata": {},
     "output_type": "execute_result"
    }
   ],
   "source": [
    "f_1w_result = stats.f_oneway(morning, evening, night)\n",
    "\n",
    "f_1w_result"
   ]
  },
  {
   "cell_type": "code",
   "execution_count": 31,
   "metadata": {},
   "outputs": [
    {
     "name": "stdout",
     "output_type": "stream",
     "text": [
      "              sum_sq    df          F        PR(>F)\n",
      "group     204640.875   2.0  46.034932  1.306432e-11\n",
      "Residual  100020.125  45.0        NaN           NaN\n"
     ]
    }
   ],
   "source": [
    "import statsmodels.api as sm\n",
    "from statsmodels.formula.api import ols\n",
    " \n",
    "mod = ols('time ~ group',\n",
    "                data=data).fit()\n",
    "                \n",
    "aov_table = sm.stats.anova_lm(mod, typ=2)\n",
    "print(aov_table)"
   ]
  },
  {
   "cell_type": "code",
   "execution_count": 44,
   "metadata": {},
   "outputs": [
    {
     "data": {
      "image/png": "[encoded data removed]",
      "text/plain": [
       "<matplotlib.figure.Figure at 0x11c903e80>"
      ]
     },
     "metadata": {},
     "output_type": "display_data"
    }
   ],
   "source": [
    "plt.scatter(mod.predict(data), mod.resid)\n",
    "plt.xlabel(\"Predicted (sec)\")\n",
    "plt.ylabel(\"Residuals (sec)\")\n",
    "plt.show();"
   ]
  },
  {
   "cell_type": "code",
   "execution_count": 42,
   "metadata": {},
   "outputs": [
    {
     "data": {
      "image/png": "[encoded data removed]",
      "text/plain": [
       "<matplotlib.figure.Figure at 0x11bd2d208>"
      ]
     },
     "metadata": {},
     "output_type": "display_data"
    }
   ],
   "source": [
    "stats.probplot(mod.resid, plot=plt);"
   ]
  }
 ],
 "metadata": {
  "kernelspec": {
   "display_name": "Python 3",
   "language": "python",
   "name": "python3"
  },
  "language_info": {
   "codemirror_mode": {
    "name": "ipython",
    "version": 3
   },
   "file_extension": ".py",
   "mimetype": "text/x-python",
   "name": "python",
   "nbconvert_exporter": "python",
   "pygments_lexer": "ipython3",
   "version": "3.5.2"
  }
 },
 "nbformat": 4,
 "nbformat_minor": 2
}
