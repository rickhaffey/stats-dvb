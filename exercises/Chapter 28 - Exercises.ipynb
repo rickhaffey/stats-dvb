{
 "cells": [
  {
   "cell_type": "markdown",
   "metadata": {},
   "source": [
    "# Chapter 28 - Exercises"
   ]
  },
  {
   "cell_type": "code",
   "execution_count": 2,
   "metadata": {
    "collapsed": true
   },
   "outputs": [],
   "source": [
    "from scipy import stats"
   ]
  },
  {
   "cell_type": "markdown",
   "metadata": {},
   "source": [
    "## 28.1\n",
    "\n",
    "### Answers\n",
    "\n",
    "* a)\n",
    "  - H0: $\\mu_a = \\mu_b = \\mu_c = \\mu_d = \\mu$\n",
    "  - HA: not the case that _all_ $\\mu_i$ are equal\n",
    "* b) 3 (4-1), 12 (16-4)\n",
    "* c) 0.0003674801104182057\n",
    "* d) variance of treatment groups, distribution of underlying data"
   ]
  },
  {
   "cell_type": "code",
   "execution_count": 7,
   "metadata": {},
   "outputs": [
    {
     "data": {
      "text/plain": [
       "0.0003674801104182057"
      ]
     },
     "execution_count": 7,
     "metadata": {},
     "output_type": "execute_result"
    }
   ],
   "source": [
    "# c\n",
    "x = 13.56\n",
    "dfn = 3\n",
    "dfd = 12\n",
    "1 - stats.f.cdf(x, dfn, dfd, loc=0, scale=1)"
   ]
  },
  {
   "cell_type": "markdown",
   "metadata": {},
   "source": [
    "## 28.3\n",
    "\n",
    "### Answers\n",
    "\n",
    "* a)\n",
    "  - H0: $\\mu_a = \\mu_b = \\mu_c = \\mu$\n",
    "  - HA: not the case that _all_ $\\mu_i$ are equal\n",
    "* b) $df_{MS_T} = 2$,   $df_{MS_E} = 21$\n",
    "* c) fail to reject H0; evidence doesn't support claim of significant difference in means\n",
    "* d) details about variance of treatment groups; details about the distribution of the underlying data\n",
    "* e) Type II"
   ]
  },
  {
   "cell_type": "markdown",
   "metadata": {},
   "source": [
    "## 28.5\n",
    "\n",
    "### Answers\n",
    "\n",
    "* a)\n",
    "  - H0: mean seconds to rise is the same under recipes A,B,C, and D\n",
    "  - HA: mean seconds to rise is not the same under all recipes\n",
    "* b) reject H0; evidence supports claim of at least one recipe having a mean activation time that differs from the others\n",
    "* c) yes: F-test provides evidence of a difference, multiple comparison can be used to compare groups"
   ]
  },
  {
   "cell_type": "markdown",
   "metadata": {},
   "source": [
    "## 28.7\n",
    "\n",
    "### Answers\n",
    "\n",
    "* _Both_ variables are categorical, so it's not appropriate to use ANOVA as a means of describing how the groups are associated across the two variables.\n",
    "* A $\\chi$-square test seems like it would be a more appropriate analysis to carry out on this data."
   ]
  },
  {
   "cell_type": "markdown",
   "metadata": {},
   "source": [
    "## 28.9\n",
    "\n",
    "### Answers\n",
    "\n",
    "* a) H0: mean mpg is equal across groups; HA: mean mpg is not the same across groups\n",
    "* b) no: the equal variance assumption is pretty clearly violated, based on looking at the boxplots"
   ]
  },
  {
   "cell_type": "markdown",
   "metadata": {},
   "source": [
    "## 28.11\n",
    "\n",
    "### Answers\n",
    "\n",
    "* a) H0: mean time of service is equal across tellers; HA: mean time differs across tellers\n",
    "* b) P-value = 0.1914; fail to reject H0; evidence doesn't support the claim of difference in time across tellers\n",
    "* c) no; given the lack of evidence supporting the claim of a differrence, it wouldn't be appropriate to continue with multiple comparison."
   ]
  },
  {
   "cell_type": "markdown",
   "metadata": {},
   "source": [
    "## 28.13\n",
    "\n",
    "### Answers\n",
    "\n",
    "* \n"
   ]
  },
  {
   "cell_type": "markdown",
   "metadata": {},
   "source": [
    "## \n",
    "\n",
    "### Answers\n",
    "\n",
    "* \n"
   ]
  },
  {
   "cell_type": "markdown",
   "metadata": {},
   "source": [
    "## \n",
    "\n",
    "### Answers\n",
    "\n",
    "* \n"
   ]
  },
  {
   "cell_type": "markdown",
   "metadata": {},
   "source": [
    "## \n",
    "\n",
    "### Answers\n",
    "\n",
    "* \n"
   ]
  },
  {
   "cell_type": "code",
   "execution_count": null,
   "metadata": {
    "collapsed": true
   },
   "outputs": [],
   "source": []
  }
 ],
 "metadata": {
  "kernelspec": {
   "display_name": "Python 3",
   "language": "python",
   "name": "python3"
  },
  "language_info": {
   "codemirror_mode": {
    "name": "ipython",
    "version": 3
   },
   "file_extension": ".py",
   "mimetype": "text/x-python",
   "name": "python",
   "nbconvert_exporter": "python",
   "pygments_lexer": "ipython3",
   "version": "3.5.2"
  }
 },
 "nbformat": 4,
 "nbformat_minor": 2
}
