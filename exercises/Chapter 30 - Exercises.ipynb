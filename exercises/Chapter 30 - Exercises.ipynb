{
 "cells": [
  {
   "cell_type": "markdown",
   "metadata": {},
   "source": [
    "# Chapter 30 - Exercises"
   ]
  },
  {
   "cell_type": "markdown",
   "metadata": {},
   "source": [
    "## 30.1\n",
    "\n",
    "### Answers\n",
    "\n",
    "* a) => This interpretation doesn't account for the linear effects of the other predictors.\n",
    "* b) is correct\n",
    "* c) => Price is a function of 3 predictors.  Having a given price doesn't tell us anything about the inputs to that function.\n",
    "* d) => The model accounts for 92% of the variability in price -- it doesn't speak at all to fitting data points exactly."
   ]
  },
  {
   "cell_type": "markdown",
   "metadata": {},
   "source": [
    "## 30.3\n",
    "\n",
    "### Answers\n",
    "\n",
    "* a) Final = 0.256 * Test1 + 0.3912 * Test2 + 0.9015 * Test3 - 6.72\n",
    "* b) 77.7%  (74.1% when adjusting for number of predictors)\n",
    "* c) After accounting for the linear effects of the other predictors, a 1 point increase in Test3 score is associated with a 0.9015 point increase on the Final.\n",
    "* d) It can't be determined from this model.  It may be the case that scores on Test1 and Test3 are associated, and after accounting for Test3's linear effects, there's little linear effect left over from Test1 (that isn't captured within Test3's coefficient.)"
   ]
  },
  {
   "cell_type": "markdown",
   "metadata": {},
   "source": [
    "## 30.5\n",
    "\n",
    "### Answers\n",
    "\n",
    "* a) Price = 9530 * Baths + 139.87 * Sq Ft - 152037\n",
    "* b) 71.1% (64.6% when accounting for # of predictors)\n",
    "* c) After accounting for the linear effects of the other predictors, each 1 unit increase in square footage is associated with an average increase of \\$139.87 in price.\n",
    "* d) No.  It's likely that square footage and bathrooms are collinear - such that after we've accounted for the linear effects of square footage, there's not much effect \"left over\" that is then associated with # of bathrooms."
   ]
  },
  {
   "cell_type": "markdown",
   "metadata": {},
   "source": [
    "## 30.7\n",
    "\n",
    "### Answers\n",
    "\n",
    "* curve in residuals vs. predicteds\n",
    "* outliers at right of histogram"
   ]
  },
  {
   "cell_type": "markdown",
   "metadata": {},
   "source": [
    "## 30.9\n",
    "\n",
    "### Answers\n",
    "\n",
    "* a) salary = 0.110 * x1 + 0.053 * x2 + 0.071 * x3 + 0.004 * x4 + 0.065 * x5 + 9.788\n",
    "* b) \\$29,205\n",
    "* c) t-value = 0.013 => will produce a very high P-value => not significant\n",
    "* d) remove typing speed, given that it appears to be non-significant\n",
    "* e) age is likely collinear with one or more of the other predictors in the model (in particular, months of service)"
   ]
  },
  {
   "cell_type": "code",
   "execution_count": 2,
   "metadata": {},
   "outputs": [
    {
     "name": "stdout",
     "output_type": "stream",
     "text": [
      "salary: 29.205\n"
     ]
    }
   ],
   "source": [
    "#b\n",
    "x1 = 120\n",
    "x2 = 9\n",
    "x3 = 50\n",
    "x4 = 60\n",
    "x5 = 30\n",
    "\n",
    "salary = 0.110 * x1 + 0.053 * x2 + 0.071 * x3 + 0.004 * x4 + 0.065 * x5 + 9.788\n",
    "\n",
    "print(\"salary: {}\".format(salary))"
   ]
  },
  {
   "cell_type": "markdown",
   "metadata": {},
   "source": [
    "## 30.\n",
    "\n",
    "### Answers\n",
    "\n",
    "* \n"
   ]
  },
  {
   "cell_type": "markdown",
   "metadata": {},
   "source": [
    "## 30.\n",
    "\n",
    "### Answers\n",
    "\n",
    "* \n"
   ]
  },
  {
   "cell_type": "markdown",
   "metadata": {},
   "source": [
    "## 30.\n",
    "\n",
    "### Answers\n",
    "\n",
    "* \n"
   ]
  },
  {
   "cell_type": "markdown",
   "metadata": {},
   "source": [
    "## 30.\n",
    "\n",
    "### Answers\n",
    "\n",
    "* \n"
   ]
  },
  {
   "cell_type": "markdown",
   "metadata": {},
   "source": [
    "## 30.\n",
    "\n",
    "### Answers\n",
    "\n",
    "* \n"
   ]
  },
  {
   "cell_type": "code",
   "execution_count": null,
   "metadata": {
    "collapsed": true
   },
   "outputs": [],
   "source": []
  }
 ],
 "metadata": {
  "kernelspec": {
   "display_name": "Python 3",
   "language": "python",
   "name": "python3"
  },
  "language_info": {
   "codemirror_mode": {
    "name": "ipython",
    "version": 3
   },
   "file_extension": ".py",
   "mimetype": "text/x-python",
   "name": "python",
   "nbconvert_exporter": "python",
   "pygments_lexer": "ipython3",
   "version": "3.5.2"
  }
 },
 "nbformat": 4,
 "nbformat_minor": 2
}
