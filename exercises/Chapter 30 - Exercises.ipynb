{
 "cells": [
  {
   "cell_type": "markdown",
   "metadata": {},
   "source": [
    "# Chapter 30 - Exercises"
   ]
  },
  {
   "cell_type": "code",
   "execution_count": 21,
   "metadata": {
    "collapsed": true
   },
   "outputs": [],
   "source": [
    "import pandas as pd\n",
    "import numpy as np\n",
    "import matplotlib.pyplot as plt\n",
    "\n",
    "%matplotlib inline\n",
    "\n",
    "import statsmodels.api as sm\n",
    "from statsmodels.formula.api import ols"
   ]
  },
  {
   "cell_type": "markdown",
   "metadata": {},
   "source": [
    "## 30.1\n",
    "\n",
    "### Answers\n",
    "\n",
    "* a) => This interpretation doesn't account for the linear effects of the other predictors.\n",
    "* b) is correct\n",
    "* c) => Price is a function of 3 predictors.  Having a given price doesn't tell us anything about the inputs to that function.\n",
    "* d) => The model accounts for 92% of the variability in price -- it doesn't speak at all to fitting data points exactly."
   ]
  },
  {
   "cell_type": "markdown",
   "metadata": {},
   "source": [
    "## 30.3\n",
    "\n",
    "### Answers\n",
    "\n",
    "* a) Final = 0.256 * Test1 + 0.3912 * Test2 + 0.9015 * Test3 - 6.72\n",
    "* b) 77.7%  (74.1% when adjusting for number of predictors)\n",
    "* c) After accounting for the linear effects of the other predictors, a 1 point increase in Test3 score is associated with a 0.9015 point increase on the Final.\n",
    "* d) It can't be determined from this model.  It may be the case that scores on Test1 and Test3 are associated, and after accounting for Test3's linear effects, there's little linear effect left over from Test1 (that isn't captured within Test3's coefficient.)"
   ]
  },
  {
   "cell_type": "markdown",
   "metadata": {},
   "source": [
    "## 30.5\n",
    "\n",
    "### Answers\n",
    "\n",
    "* a) Price = 9530 * Baths + 139.87 * Sq Ft - 152037\n",
    "* b) 71.1% (64.6% when accounting for # of predictors)\n",
    "* c) After accounting for the linear effects of the other predictors, each 1 unit increase in square footage is associated with an average increase of \\$139.87 in price.\n",
    "* d) No.  It's likely that square footage and bathrooms are collinear - such that after we've accounted for the linear effects of square footage, there's not much effect \"left over\" that is then associated with # of bathrooms."
   ]
  },
  {
   "cell_type": "markdown",
   "metadata": {},
   "source": [
    "## 30.7\n",
    "\n",
    "### Answers\n",
    "\n",
    "* curve in residuals vs. predicteds\n",
    "* outliers at right of histogram"
   ]
  },
  {
   "cell_type": "markdown",
   "metadata": {},
   "source": [
    "## 30.9\n",
    "\n",
    "### Answers\n",
    "\n",
    "* a) salary = 0.110 * x1 + 0.053 * x2 + 0.071 * x3 + 0.004 * x4 + 0.065 * x5 + 9.788\n",
    "* b) \\$29,205\n",
    "* c) t-value = 0.013 => will produce a very high P-value => not significant\n",
    "* d) remove typing speed, given that it appears to be non-significant\n",
    "* e) age is likely collinear with one or more of the other predictors in the model (in particular, months of service)"
   ]
  },
  {
   "cell_type": "code",
   "execution_count": 2,
   "metadata": {},
   "outputs": [
    {
     "name": "stdout",
     "output_type": "stream",
     "text": [
      "salary: 29.205\n"
     ]
    }
   ],
   "source": [
    "#b\n",
    "x1 = 120\n",
    "x2 = 9\n",
    "x3 = 50\n",
    "x4 = 60\n",
    "x5 = 30\n",
    "\n",
    "salary = 0.110 * x1 + 0.053 * x2 + 0.071 * x3 + 0.004 * x4 + 0.065 * x5 + 9.788\n",
    "\n",
    "print(\"salary: {}\".format(salary))"
   ]
  },
  {
   "cell_type": "markdown",
   "metadata": {},
   "source": [
    "## 30.11\n",
    "\n",
    "### Answers\n",
    "\n",
    "* a) yes: P-value is < 0.0001, reject H0 (beta == 0), support for claim of non-0 coeff\n",
    "* b) for each 1# increase in weight, average % bf increases by 0.189%\n",
    "* c) After accounting for the linear effects of waist and height, for each 1# increase in weight, avg % bf decreases by 0.10%.  It's likely that weight is collinear with waist size, so that after factoring in the linear effects of waist size, weight has a _negative_ effect on the overall % bf.\n",
    "* d) Under this model, the effect of height is not significant.  We're unable to reject the null hypothesis that the height coefficient = 0.  It would probably be good to remove height from the model."
   ]
  },
  {
   "cell_type": "markdown",
   "metadata": {},
   "source": [
    "## 30.13\n",
    "\n",
    "### Answers\n",
    "\n",
    "* a) Yes: P-value < 0.001. reject H0\n",
    "* b) For each 1 cm(?) increase in chest size, avg % body fat increases by 0.71%\n",
    "* c) After accounting for the linear effects of waist and height, with each 1 cm increase in chest size, avg % body fat decreases by 0.23%.\n",
    "* d) Probably not - they all appear to have significant, non-0 coefficient values."
   ]
  },
  {
   "cell_type": "markdown",
   "metadata": {},
   "source": [
    "## 30.15\n",
    "\n",
    "### Answers\n",
    "\n",
    "* a) murder + grad + income: R-Squared: 0.664 with income as a significant non-zero slope coefficient; that said, all except the one that excludes murder have fairly high R^2 values\n",
    "* b) No - some of the coefficients are non-significant, and would be worth consideration for removing.\n",
    "* c) No - that assumes a causal relationship.  The model doesn't say anything about that.\n",
    "* d) see below"
   ]
  },
  {
   "cell_type": "code",
   "execution_count": 4,
   "metadata": {},
   "outputs": [
    {
     "name": "stdout",
     "output_type": "stream",
     "text": [
      "State name\tMurder\tHSGrad\tIncome\tIlliteracy\tLife exp\r",
      "\r\n",
      "Alabama\t15.1\t41.3\t3624\t2.1\t69.05\r",
      "\r\n",
      "Alaska\t11.3\t66.7\t6315\t1.5\t69.31\r",
      "\r\n",
      "Arizona\t7.8\t58.1\t4530\t1.8\t70.55\r",
      "\r\n",
      "Arkansas\t10.1\t39.9\t3378\t1.9\t70.66\r",
      "\r\n",
      "California\t10.3\t62.6\t5114\t1.1\t71.71\r",
      "\r\n",
      "Colorado\t6.8\t63.9\t4884\t0.7\t72.06\r",
      "\r\n",
      "Connecticut\t3.1\t56\t5348\t1.1\t72.48\r",
      "\r\n",
      "Delaware\t6.2\t54.6\t4809\t0.9\t70.06\r",
      "\r\n",
      "Florida\t10.7\t52.6\t4815\t1.3\t70.66\r",
      "\r\n"
     ]
    }
   ],
   "source": [
    "!head ../data/Fifty_states.txt"
   ]
  },
  {
   "cell_type": "code",
   "execution_count": 11,
   "metadata": {},
   "outputs": [
    {
     "data": {
      "text/html": [
       "<div>\n",
       "<table border=\"1\" class=\"dataframe\">\n",
       "  <thead>\n",
       "    <tr style=\"text-align: right;\">\n",
       "      <th></th>\n",
       "      <th>murder</th>\n",
       "      <th>grad</th>\n",
       "      <th>income</th>\n",
       "      <th>illiteracy</th>\n",
       "      <th>life_exp</th>\n",
       "    </tr>\n",
       "    <tr>\n",
       "      <th>state</th>\n",
       "      <th></th>\n",
       "      <th></th>\n",
       "      <th></th>\n",
       "      <th></th>\n",
       "      <th></th>\n",
       "    </tr>\n",
       "  </thead>\n",
       "  <tbody>\n",
       "    <tr>\n",
       "      <th>Alabama</th>\n",
       "      <td>15.1</td>\n",
       "      <td>41.3</td>\n",
       "      <td>3624</td>\n",
       "      <td>2.1</td>\n",
       "      <td>69.05</td>\n",
       "    </tr>\n",
       "    <tr>\n",
       "      <th>Alaska</th>\n",
       "      <td>11.3</td>\n",
       "      <td>66.7</td>\n",
       "      <td>6315</td>\n",
       "      <td>1.5</td>\n",
       "      <td>69.31</td>\n",
       "    </tr>\n",
       "    <tr>\n",
       "      <th>Arizona</th>\n",
       "      <td>7.8</td>\n",
       "      <td>58.1</td>\n",
       "      <td>4530</td>\n",
       "      <td>1.8</td>\n",
       "      <td>70.55</td>\n",
       "    </tr>\n",
       "    <tr>\n",
       "      <th>Arkansas</th>\n",
       "      <td>10.1</td>\n",
       "      <td>39.9</td>\n",
       "      <td>3378</td>\n",
       "      <td>1.9</td>\n",
       "      <td>70.66</td>\n",
       "    </tr>\n",
       "    <tr>\n",
       "      <th>California</th>\n",
       "      <td>10.3</td>\n",
       "      <td>62.6</td>\n",
       "      <td>5114</td>\n",
       "      <td>1.1</td>\n",
       "      <td>71.71</td>\n",
       "    </tr>\n",
       "  </tbody>\n",
       "</table>\n",
       "</div>"
      ],
      "text/plain": [
       "            murder  grad  income  illiteracy  life_exp\n",
       "state                                                 \n",
       "Alabama       15.1  41.3    3624         2.1     69.05\n",
       "Alaska        11.3  66.7    6315         1.5     69.31\n",
       "Arizona        7.8  58.1    4530         1.8     70.55\n",
       "Arkansas      10.1  39.9    3378         1.9     70.66\n",
       "California    10.3  62.6    5114         1.1     71.71"
      ]
     },
     "execution_count": 11,
     "metadata": {},
     "output_type": "execute_result"
    }
   ],
   "source": [
    "data = pd.read_table(\"../data/Fifty_states.txt\", \n",
    "                     skiprows=1,\n",
    "                     names=[\"state\", \"murder\", \"grad\", \"income\", \"illiteracy\", \"life_exp\"], \n",
    "                     index_col=\"state\")\n",
    "data.head()"
   ]
  },
  {
   "cell_type": "code",
   "execution_count": 23,
   "metadata": {},
   "outputs": [
    {
     "name": "stdout",
     "output_type": "stream",
     "text": [
      "                            OLS Regression Results                            \n",
      "==============================================================================\n",
      "Dep. Variable:               life_exp   R-squared:                       0.670\n",
      "Model:                            OLS   Adj. R-squared:                  0.640\n",
      "Method:                 Least Squares   F-statistic:                     22.82\n",
      "Date:                Thu, 15 Mar 2018   Prob (F-statistic):           2.39e-10\n",
      "Time:                        07:56:42   Log-Likelihood:                -57.463\n",
      "No. Observations:                  50   AIC:                             124.9\n",
      "Df Residuals:                      45   BIC:                             134.5\n",
      "Df Model:                           4                                         \n",
      "Covariance Type:            nonrobust                                         \n",
      "==============================================================================\n",
      "                 coef    std err          t      P>|t|      [0.025      0.975]\n",
      "------------------------------------------------------------------------------\n",
      "Intercept     69.4833      1.325     52.427      0.000      66.814      72.153\n",
      "murder        -0.2619      0.044     -5.891      0.000      -0.351      -0.172\n",
      "grad           0.0461      0.022      2.112      0.040       0.002       0.090\n",
      "income         0.0001      0.000      0.516      0.608      -0.000       0.001\n",
      "illiteracy     0.2761      0.311      0.889      0.379      -0.349       0.901\n",
      "==============================================================================\n",
      "Omnibus:                        1.260   Durbin-Watson:                   1.795\n",
      "Prob(Omnibus):                  0.533   Jarque-Bera (JB):                1.174\n",
      "Skew:                          -0.225   Prob(JB):                        0.556\n",
      "Kurtosis:                       2.399   Cond. No.                     5.26e+04\n",
      "==============================================================================\n",
      "\n",
      "Warnings:\n",
      "[1] Standard Errors assume that the covariance matrix of the errors is correctly specified.\n",
      "[2] The condition number is large, 5.26e+04. This might indicate that there are\n",
      "strong multicollinearity or other numerical problems.\n"
     ]
    }
   ],
   "source": [
    "formula = 'life_exp ~ murder + grad + income + illiteracy'\n",
    "model = ols(formula, data).fit()\n",
    "print(model.summary())"
   ]
  },
  {
   "cell_type": "code",
   "execution_count": 24,
   "metadata": {},
   "outputs": [
    {
     "name": "stdout",
     "output_type": "stream",
     "text": [
      "                            OLS Regression Results                            \n",
      "==============================================================================\n",
      "Dep. Variable:               life_exp   R-squared:                       0.415\n",
      "Model:                            OLS   Adj. R-squared:                  0.377\n",
      "Method:                 Least Squares   F-statistic:                     10.89\n",
      "Date:                Thu, 15 Mar 2018   Prob (F-statistic):           1.60e-05\n",
      "Time:                        07:56:57   Log-Likelihood:                -71.754\n",
      "No. Observations:                  50   AIC:                             151.5\n",
      "Df Residuals:                      46   BIC:                             159.2\n",
      "Df Model:                           3                                         \n",
      "Covariance Type:            nonrobust                                         \n",
      "==============================================================================\n",
      "                 coef    std err          t      P>|t|      [0.025      0.975]\n",
      "------------------------------------------------------------------------------\n",
      "Intercept     69.0135      1.741     39.632      0.000      65.508      72.519\n",
      "grad           0.0622      0.029      2.179      0.035       0.005       0.120\n",
      "income        -0.0001      0.000     -0.356      0.724      -0.001       0.001\n",
      "illiteracy    -0.8039      0.330     -2.437      0.019      -1.468      -0.140\n",
      "==============================================================================\n",
      "Omnibus:                        2.896   Durbin-Watson:                   2.375\n",
      "Prob(Omnibus):                  0.235   Jarque-Bera (JB):                2.289\n",
      "Skew:                          -0.087   Prob(JB):                        0.318\n",
      "Kurtosis:                       4.034   Cond. No.                     5.26e+04\n",
      "==============================================================================\n",
      "\n",
      "Warnings:\n",
      "[1] Standard Errors assume that the covariance matrix of the errors is correctly specified.\n",
      "[2] The condition number is large, 5.26e+04. This might indicate that there are\n",
      "strong multicollinearity or other numerical problems.\n"
     ]
    }
   ],
   "source": [
    "formula = 'life_exp ~ grad + income + illiteracy'\n",
    "model = ols(formula, data).fit()\n",
    "print(model.summary())"
   ]
  },
  {
   "cell_type": "code",
   "execution_count": 25,
   "metadata": {},
   "outputs": [
    {
     "name": "stdout",
     "output_type": "stream",
     "text": [
      "                            OLS Regression Results                            \n",
      "==============================================================================\n",
      "Dep. Variable:               life_exp   R-squared:                       0.637\n",
      "Model:                            OLS   Adj. R-squared:                  0.613\n",
      "Method:                 Least Squares   F-statistic:                     26.92\n",
      "Date:                Thu, 15 Mar 2018   Prob (F-statistic):           3.34e-10\n",
      "Time:                        07:57:04   Log-Likelihood:                -59.826\n",
      "No. Observations:                  50   AIC:                             127.7\n",
      "Df Residuals:                      46   BIC:                             135.3\n",
      "Df Model:                           3                                         \n",
      "Covariance Type:            nonrobust                                         \n",
      "==============================================================================\n",
      "                 coef    std err          t      P>|t|      [0.025      0.975]\n",
      "------------------------------------------------------------------------------\n",
      "Intercept     71.1638      1.099     64.752      0.000      68.952      73.376\n",
      "murder        -0.2736      0.046     -5.981      0.000      -0.366      -0.182\n",
      "income         0.0004      0.000      1.754      0.086   -5.64e-05       0.001\n",
      "illiteracy     0.0369      0.300      0.123      0.903      -0.567       0.640\n",
      "==============================================================================\n",
      "Omnibus:                        0.346   Durbin-Watson:                   1.643\n",
      "Prob(Omnibus):                  0.841   Jarque-Bera (JB):                0.353\n",
      "Skew:                           0.182   Prob(JB):                        0.838\n",
      "Kurtosis:                       2.808   Cond. No.                     4.20e+04\n",
      "==============================================================================\n",
      "\n",
      "Warnings:\n",
      "[1] Standard Errors assume that the covariance matrix of the errors is correctly specified.\n",
      "[2] The condition number is large, 4.2e+04. This might indicate that there are\n",
      "strong multicollinearity or other numerical problems.\n"
     ]
    }
   ],
   "source": [
    "formula = 'life_exp ~ murder + income + illiteracy'\n",
    "model = ols(formula, data).fit()\n",
    "print(model.summary())"
   ]
  },
  {
   "cell_type": "code",
   "execution_count": 26,
   "metadata": {},
   "outputs": [
    {
     "name": "stdout",
     "output_type": "stream",
     "text": [
      "                            OLS Regression Results                            \n",
      "==============================================================================\n",
      "Dep. Variable:               life_exp   R-squared:                       0.668\n",
      "Model:                            OLS   Adj. R-squared:                  0.646\n",
      "Method:                 Least Squares   F-statistic:                     30.83\n",
      "Date:                Thu, 15 Mar 2018   Prob (F-statistic):           4.44e-11\n",
      "Time:                        07:57:18   Log-Likelihood:                -57.610\n",
      "No. Observations:                  50   AIC:                             123.2\n",
      "Df Residuals:                      46   BIC:                             130.9\n",
      "Df Model:                           3                                         \n",
      "Covariance Type:            nonrobust                                         \n",
      "==============================================================================\n",
      "                 coef    std err          t      P>|t|      [0.025      0.975]\n",
      "------------------------------------------------------------------------------\n",
      "Intercept     69.7354      1.222     57.063      0.000      67.276      72.195\n",
      "murder        -0.2581      0.043     -5.934      0.000      -0.346      -0.171\n",
      "grad           0.0518      0.019      2.761      0.008       0.014       0.090\n",
      "illiteracy     0.2540      0.305      0.833      0.409      -0.360       0.868\n",
      "==============================================================================\n",
      "Omnibus:                        1.090   Durbin-Watson:                   1.850\n",
      "Prob(Omnibus):                  0.580   Jarque-Bera (JB):                1.097\n",
      "Skew:                          -0.239   Prob(JB):                        0.578\n",
      "Kurtosis:                       2.454   Cond. No.                         592.\n",
      "==============================================================================\n",
      "\n",
      "Warnings:\n",
      "[1] Standard Errors assume that the covariance matrix of the errors is correctly specified.\n"
     ]
    }
   ],
   "source": [
    "formula = 'life_exp ~ murder + grad + illiteracy'\n",
    "model = ols(formula, data).fit()\n",
    "print(model.summary())"
   ]
  },
  {
   "cell_type": "code",
   "execution_count": 27,
   "metadata": {},
   "outputs": [
    {
     "name": "stdout",
     "output_type": "stream",
     "text": [
      "                            OLS Regression Results                            \n",
      "==============================================================================\n",
      "Dep. Variable:               life_exp   R-squared:                       0.664\n",
      "Model:                            OLS   Adj. R-squared:                  0.642\n",
      "Method:                 Least Squares   F-statistic:                     30.30\n",
      "Date:                Thu, 15 Mar 2018   Prob (F-statistic):           5.78e-11\n",
      "Time:                        07:57:24   Log-Likelihood:                -57.898\n",
      "No. Observations:                  50   AIC:                             123.8\n",
      "Df Residuals:                      46   BIC:                             131.4\n",
      "Df Model:                           3                                         \n",
      "Covariance Type:            nonrobust                                         \n",
      "==============================================================================\n",
      "                 coef    std err          t      P>|t|      [0.025      0.975]\n",
      "------------------------------------------------------------------------------\n",
      "Intercept     70.1421      1.096     63.979      0.000      67.935      72.349\n",
      "murder        -0.2386      0.036     -6.664      0.000      -0.311      -0.167\n",
      "grad           0.0391      0.020      1.924      0.061      -0.002       0.080\n",
      "income      9.526e-05      0.000      0.398      0.692      -0.000       0.001\n",
      "==============================================================================\n",
      "Omnibus:                        0.072   Durbin-Watson:                   1.811\n",
      "Prob(Omnibus):                  0.965   Jarque-Bera (JB):                0.098\n",
      "Skew:                          -0.072   Prob(JB):                        0.952\n",
      "Kurtosis:                       2.838   Cond. No.                     4.32e+04\n",
      "==============================================================================\n",
      "\n",
      "Warnings:\n",
      "[1] Standard Errors assume that the covariance matrix of the errors is correctly specified.\n",
      "[2] The condition number is large, 4.32e+04. This might indicate that there are\n",
      "strong multicollinearity or other numerical problems.\n"
     ]
    }
   ],
   "source": [
    "formula = 'life_exp ~ murder + grad + income'\n",
    "model = ols(formula, data).fit()\n",
    "print(model.summary())"
   ]
  },
  {
   "cell_type": "code",
   "execution_count": 32,
   "metadata": {},
   "outputs": [
    {
     "data": {
      "text/plain": [
       "<matplotlib.collections.PathCollection at 0x11c02e470>"
      ]
     },
     "execution_count": 32,
     "metadata": {},
     "output_type": "execute_result"
    },
    {
     "data": {
      "image/png": "[encoded data removed]",
      "text/plain": [
       "<matplotlib.figure.Figure at 0x11b6420f0>"
      ]
     },
     "metadata": {},
     "output_type": "display_data"
    }
   ],
   "source": [
    "plt.scatter(model.fittedvalues, model.resid)"
   ]
  },
  {
   "cell_type": "code",
   "execution_count": 33,
   "metadata": {},
   "outputs": [
    {
     "data": {
      "text/plain": [
       "<matplotlib.collections.PathCollection at 0x11c13beb8>"
      ]
     },
     "execution_count": 33,
     "metadata": {},
     "output_type": "execute_result"
    },
    {
     "data": {
      "image/png": "[encoded data removed]",
      "text/plain": [
       "<matplotlib.figure.Figure at 0x11c0000f0>"
      ]
     },
     "metadata": {},
     "output_type": "display_data"
    }
   ],
   "source": [
    "plt.scatter(data.life_exp, model.resid)"
   ]
  },
  {
   "cell_type": "code",
   "execution_count": 34,
   "metadata": {
    "collapsed": true
   },
   "outputs": [],
   "source": [
    "# d) notice either some curvature or outliers in the residuals vs. fitted values plot - needs further review"
   ]
  },
  {
   "cell_type": "markdown",
   "metadata": {},
   "source": [
    "## 30.17\n",
    "\n",
    "### Answers\n",
    "\n",
    "* a) yes, assuming the protein, total fat, and carbs values of the new product fall within the range of values used to train this model => protein, fat, and carbs are the three determinants of total calories\n",
    "* b) the standard deviation of the residual values is 3.14 calories; we'd expect a value predicted using the model to have a sampling distribution around the actual value with a mean of 0 and a std deviation of 3.14 calories; this is very small compared to the standard deviation of the actual calories values\n",
    "* c) no - given the non-zero s-value, they can't be all 0"
   ]
  }
 ],
 "metadata": {
  "kernelspec": {
   "display_name": "Python 3",
   "language": "python",
   "name": "python3"
  },
  "language_info": {
   "codemirror_mode": {
    "name": "ipython",
    "version": 3
   },
   "file_extension": ".py",
   "mimetype": "text/x-python",
   "name": "python",
   "nbconvert_exporter": "python",
   "pygments_lexer": "ipython3",
   "version": "3.5.2"
  }
 },
 "nbformat": 4,
 "nbformat_minor": 2
}
