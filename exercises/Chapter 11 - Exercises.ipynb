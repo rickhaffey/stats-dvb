{
 "cells": [
  {
   "cell_type": "markdown",
   "metadata": {},
   "source": [
    "# Chapter 11 - Exercises"
   ]
  },
  {
   "cell_type": "markdown",
   "metadata": {},
   "source": [
    "## 11.1 \n",
    "\n",
    "### Answers\n",
    "\n",
    "* Yes, with a fair coin (and flip) the outcome of the toss is unknow, and the chance of each outcome is equally likely."
   ]
  },
  {
   "cell_type": "markdown",
   "metadata": {},
   "source": [
    "## 11.3\n",
    "\n",
    "### Answers\n",
    "\n",
    "* A set of balls with the different numbers on them are blown around by air within a container.  The first ball to rise to a selection chamber is the next number generated.\n",
    "* Yes - it uses random physical processes to produce the randomness."
   ]
  },
  {
   "cell_type": "markdown",
   "metadata": {
    "collapsed": true
   },
   "source": [
    "## 11.5\n",
    "\n",
    "### Answers\n",
    "\n",
    "* all two digit values between 00 and 99\n",
    "* 00 through 02 represent a birth defect\n",
    "* 03 through 99 represent no defect"
   ]
  },
  {
   "cell_type": "markdown",
   "metadata": {
    "collapsed": true
   },
   "source": [
    "## 11.7\n",
    "\n",
    "### Answers\n",
    "\n",
    "* 45 and 10\n",
    "* (skipped 92)\n",
    "* 17 and 10"
   ]
  },
  {
   "cell_type": "markdown",
   "metadata": {
    "collapsed": true
   },
   "source": [
    "## 11.9\n",
    "\n",
    "### Answers\n",
    "\n",
    "* the same - the chances for any particular outcome are the same with each selection \n",
    "* changing or keeping the same number choice doesn't affect that"
   ]
  },
  {
   "cell_type": "markdown",
   "metadata": {
    "collapsed": true
   },
   "source": [
    "## 11.11\n",
    "\n",
    "### Answers\n",
    "\n",
    "* a) this assumes each outcome (0-9) is equally likely; instead, 9 selections in the range 0-1 should be made\n",
    "* b) this assumes that the player has a 50% free throw shooting percentage\n",
    "* c) this would lead to impossible hands (e.g. 5 of a kind) - instead use draw from 1 to 52, where each value is mapped to a specific suit + face"
   ]
  },
  {
   "cell_type": "markdown",
   "metadata": {
    "collapsed": true
   },
   "source": [
    "## 11.13\n",
    "\n",
    "### Answers\n",
    "\n",
    "* The simulation provides an estimate for what the average will tend towards in future observations.  The actual observed averages will likely be near, but above or below that by some margin."
   ]
  },
  {
   "cell_type": "markdown",
   "metadata": {
    "collapsed": true
   },
   "source": [
    "## 11.15\n",
    "\n",
    "### Answers\n",
    "\n",
    "* a) select a random number between 0 and 99: 0-54 represents a vote for your candidate, 55-99 represents a vote for the other candidate\n",
    "* b) make 100 selections to represent one trial of voting across 100 students; candidate with more votes wins that trial\n",
    "* c) the response variable is the winner of each trial"
   ]
  },
  {
   "cell_type": "markdown",
   "metadata": {
    "collapsed": true
   },
   "source": [
    "## 11.17\n",
    "\n",
    "### Answers\n",
    "\n",
    "* The probability of getting a complete set when making 5 selections is 51%"
   ]
  },
  {
   "cell_type": "code",
   "execution_count": 2,
   "metadata": {
    "collapsed": true
   },
   "outputs": [],
   "source": [
    "import numpy as np\n",
    "from collections import Counter\n",
    "\n",
    "def generate_trials(outcome_probabilities, n_components, n_trials):\n",
    "    values = list(outcome_probabilities.keys())\n",
    "    probabilities = list(outcome_probabilities.values())\n",
    "    trials = []\n",
    "    for i in range(n_trials):\n",
    "        trial_components = np.random.choice(values, size=n_components, p=probabilities)\n",
    "        yield Counter(trial_components)"
   ]
  },
  {
   "cell_type": "code",
   "execution_count": 2,
   "metadata": {
    "scrolled": false
   },
   "outputs": [
    {
     "name": "stdout",
     "output_type": "stream",
     "text": [
      "The probability of getting a complete set when making 5 selections is 52%\n"
     ]
    }
   ],
   "source": [
    "outcome_probabilities = {\n",
    "    \"LeBron James\": 0.2,\n",
    "    \"David Beckham\": 0.3,\n",
    "    \"Serena Williams\": 0.5\n",
    "}\n",
    "\n",
    "n_components = 5\n",
    "n_trials = 1000\n",
    "\n",
    "trials = generate_trials(outcome_probabilities, n_components, n_trials)\n",
    "count = sum(1 for trial in trials if len(trial) == 3)\n",
    "probability = 100 * count / n_trials\n",
    "\n",
    "print(\"The probability of getting a complete set when making %d selections is %1.0f%%\" % (n_components, probability))"
   ]
  },
  {
   "cell_type": "markdown",
   "metadata": {
    "collapsed": true
   },
   "source": [
    "## 11.19\n",
    "\n",
    "* 6 multiple choice q's\n",
    "* 80% chance of any individual question right\n",
    "* Chance of getting all right?\n",
    "* trials >= 20\n",
    "\n",
    "### Answers\n",
    "\n",
    "* The probability of getting a all answers correct is 26%"
   ]
  },
  {
   "cell_type": "code",
   "execution_count": 23,
   "metadata": {},
   "outputs": [
    {
     "name": "stdout",
     "output_type": "stream",
     "text": [
      "The probability of getting all answers correct is 26%\n"
     ]
    }
   ],
   "source": [
    "outcome_probabilities = {\n",
    "    \"right\": 0.8,\n",
    "    \"wrong\": 0.2\n",
    "}\n",
    "\n",
    "n_components = 6\n",
    "n_trials = 1000\n",
    "\n",
    "trials = generate_trials(outcome_probabilities, n_components, n_trials)\n",
    "\n",
    "count = sum(1 for trial in trials if len(trial) == 1 and 'right' in trial)\n",
    "probability = 100 * count / n_trials\n",
    "\n",
    "print(\"The probability of getting all answers correct is %1.0f%%\" % (probability,))"
   ]
  },
  {
   "cell_type": "markdown",
   "metadata": {
    "collapsed": true
   },
   "source": [
    "## 11.21\n",
    "\n",
    "* lottery - select single digit [0-9]\n",
    "\n",
    "### Answers\n",
    "\n",
    "* a) 10% of the time\n",
    "* b) No."
   ]
  },
  {
   "cell_type": "code",
   "execution_count": 35,
   "metadata": {},
   "outputs": [
    {
     "name": "stdout",
     "output_type": "stream",
     "text": [
      "The probability of getting a '7' is 10%\n"
     ]
    }
   ],
   "source": [
    "outcome_probabilities = {\n",
    "    0: 0.1,\n",
    "    1: 0.1,\n",
    "    2: 0.1,\n",
    "    3: 0.1,\n",
    "    4: 0.1,\n",
    "    5: 0.1,\n",
    "    6: 0.1,\n",
    "    7: 0.1,\n",
    "    8: 0.1,\n",
    "    9: 0.1\n",
    "}\n",
    "\n",
    "n_components = 1\n",
    "n_trials = 1000\n",
    "\n",
    "trials = generate_trials(outcome_probabilities, n_components, n_trials)\n",
    "\n",
    "count = sum(1 for trial in trials if 7 in trial)\n",
    "probability = 100 * count / n_trials\n",
    "\n",
    "print(\"The probability of getting a '7' is %1.0f%%\" % (probability,))"
   ]
  },
  {
   "cell_type": "markdown",
   "metadata": {
    "collapsed": true
   },
   "source": [
    "## 11.23\n",
    "\n",
    "### Answers\n",
    "\n",
    "* You're going to win on average around 10% of the time -- using this strategy won't change that."
   ]
  },
  {
   "cell_type": "markdown",
   "metadata": {
    "collapsed": true
   },
   "source": [
    "## 11.25\n",
    "\n",
    "### Answers\n",
    "\n",
    "* The average number of tests drivers need to take is 1.96."
   ]
  },
  {
   "cell_type": "code",
   "execution_count": 1,
   "metadata": {
    "collapsed": true
   },
   "outputs": [],
   "source": [
    "import random\n",
    "\n",
    "def drivers_test():\n",
    "    counter = 0\n",
    "    while(True):\n",
    "        counter = counter + 1\n",
    "        if(counter == 1):\n",
    "            passed = (random.uniform(1, 100) <= 34)\n",
    "        else:\n",
    "            passed = (random.uniform(1, 100) <= 72)\n",
    "    \n",
    "        if(passed):\n",
    "            return counter        "
   ]
  },
  {
   "cell_type": "code",
   "execution_count": 103,
   "metadata": {},
   "outputs": [
    {
     "data": {
      "text/plain": [
       "1.955"
      ]
     },
     "execution_count": 103,
     "metadata": {},
     "output_type": "execute_result"
    }
   ],
   "source": [
    "n_trials = 200\n",
    "trials = [drivers_test() for t in range(n_trials)]\n",
    "sum(trials) / n_trials"
   ]
  },
  {
   "cell_type": "markdown",
   "metadata": {
    "collapsed": true
   },
   "source": [
    "## 11.27\n",
    "\n",
    "### Answers\n",
    "\n",
    "* On average, he'll score 1.2 points."
   ]
  },
  {
   "cell_type": "code",
   "execution_count": 106,
   "metadata": {
    "collapsed": true
   },
   "outputs": [],
   "source": [
    "def one_and_one():\n",
    "    attempt1 = (random.uniform(1, 100) <= 72)\n",
    "    \n",
    "    if(attempt1):\n",
    "        attempt2 = (random.uniform(1, 100) <= 72)\n",
    "        if(attempt2):\n",
    "            return 2\n",
    "        else:\n",
    "            return 1\n",
    "    else:\n",
    "        return 0"
   ]
  },
  {
   "cell_type": "code",
   "execution_count": 110,
   "metadata": {},
   "outputs": [
    {
     "data": {
      "text/plain": [
       "1.26"
      ]
     },
     "execution_count": 110,
     "metadata": {},
     "output_type": "execute_result"
    }
   ],
   "source": [
    "n_trials = 100\n",
    "trials = [one_and_one() for t in range(n_trials)]\n",
    "sum(trials) / n_trials"
   ]
  },
  {
   "cell_type": "markdown",
   "metadata": {
    "collapsed": true
   },
   "source": [
    "## 11.29\n",
    "\n",
    "### Answers\n",
    "\n",
    "* On average, around 10 customers would win prizes."
   ]
  },
  {
   "cell_type": "code",
   "execution_count": 170,
   "metadata": {
    "collapsed": true
   },
   "outputs": [],
   "source": [
    "def free_groceries():\n",
    "    prizes = []\n",
    "    prizes.extend([200] * 10)\n",
    "    prizes.extend([100] * 10)\n",
    "    prizes.extend([50] * 20)\n",
    "    prizes.extend([20] * 60)\n",
    "    \n",
    "    total = 0\n",
    "    counter = 0\n",
    "    while(total < 500):\n",
    "        index = round(random.uniform(0, len(prizes) - 1))        \n",
    "        total = total + prizes[index]\n",
    "        counter = counter + 1\n",
    "        del prizes[index]\n",
    "        \n",
    "    return counter"
   ]
  },
  {
   "cell_type": "code",
   "execution_count": 171,
   "metadata": {},
   "outputs": [
    {
     "data": {
      "text/plain": [
       "10.65"
      ]
     },
     "execution_count": 171,
     "metadata": {},
     "output_type": "execute_result"
    }
   ],
   "source": [
    "n_trials = 20\n",
    "trials = [free_groceries() for t in range(n_trials)]\n",
    "sum(trials) / n_trials"
   ]
  },
  {
   "cell_type": "markdown",
   "metadata": {
    "collapsed": true
   },
   "source": [
    "## 11.31\n",
    "\n",
    "### Answers\n",
    "\n",
    "* The average family size would be 5 - (2 adults + 3 children)"
   ]
  },
  {
   "cell_type": "code",
   "execution_count": 172,
   "metadata": {
    "collapsed": true
   },
   "outputs": [],
   "source": [
    "def boy_and_girl():\n",
    "    counter = 0\n",
    "    boy = False\n",
    "    girl = False\n",
    "    while(not (boy and girl)):\n",
    "        counter = counter + 1\n",
    "        if(random.uniform(0, 1) <= 0.5):\n",
    "            boy = True\n",
    "        else:\n",
    "            girl = True\n",
    "            \n",
    "    return counter"
   ]
  },
  {
   "cell_type": "code",
   "execution_count": 173,
   "metadata": {},
   "outputs": [
    {
     "data": {
      "text/plain": [
       "2.85"
      ]
     },
     "execution_count": 173,
     "metadata": {},
     "output_type": "execute_result"
    }
   ],
   "source": [
    "n_trials = 20\n",
    "\n",
    "trials = [boy_and_girl() for t in range(n_trials)]\n",
    "sum(trials) / n_trials"
   ]
  },
  {
   "cell_type": "markdown",
   "metadata": {
    "collapsed": true
   },
   "source": [
    "## 11.33\n",
    "\n",
    "### Answers\n",
    "\n",
    "* On average, it will take around 9 rolls."
   ]
  },
  {
   "cell_type": "code",
   "execution_count": 41,
   "metadata": {},
   "outputs": [
    {
     "data": {
      "text/plain": [
       "9.2555"
      ]
     },
     "execution_count": 41,
     "metadata": {},
     "output_type": "execute_result"
    }
   ],
   "source": [
    "def get_roll_count():\n",
    "    count = 0\n",
    "    total = 0\n",
    "    while(total < 10):\n",
    "        count = count + 1\n",
    "        roll = round(random.uniform(1, 6))\n",
    "        if(roll + total <= 10):\n",
    "            total = total + roll\n",
    "    assert(total == 10)\n",
    "    return count\n",
    "            \n",
    "n_trials = 2000\n",
    "trials = [get_roll_count() for t in range(n_trials)]\n",
    "sum(trials) / n_trials\n",
    "\n"
   ]
  },
  {
   "cell_type": "markdown",
   "metadata": {
    "collapsed": true
   },
   "source": [
    "## 11.35\n",
    "\n",
    "### Answers\n",
    "\n",
    "* Not so unusual -- she will have a sequence of six or more made shots in around 40% of games she plays."
   ]
  },
  {
   "cell_type": "code",
   "execution_count": 52,
   "metadata": {},
   "outputs": [
    {
     "data": {
      "text/plain": [
       "0.417"
      ]
     },
     "execution_count": 52,
     "metadata": {},
     "output_type": "execute_result"
    }
   ],
   "source": [
    "def six_or_more(n_shots):\n",
    "    run_count = 0\n",
    "    longest = 0\n",
    "    for s in range(n_shots):\n",
    "        if(random.uniform(0,1) < 0.65):\n",
    "            run_count = run_count + 1\n",
    "            longest = max(longest, run_count)\n",
    "        else:\n",
    "            run_count = 0\n",
    "    if(longest >= 6):\n",
    "        return 1\n",
    "    else:\n",
    "        return 0\n",
    "\n",
    "n_trials = 1000\n",
    "sum([six_or_more(20) for t in range(n_trials)]) / n_trials"
   ]
  },
  {
   "cell_type": "code",
   "execution_count": 43,
   "metadata": {},
   "outputs": [
    {
     "data": {
      "text/plain": [
       "0.9748003952383317"
      ]
     },
     "execution_count": 43,
     "metadata": {},
     "output_type": "execute_result"
    }
   ],
   "source": [
    "random.uniform(0, 1)"
   ]
  },
  {
   "cell_type": "markdown",
   "metadata": {
    "collapsed": true
   },
   "source": [
    "## 11.37\n",
    "\n",
    "### Answers\n",
    "\n",
    "* About 38% of the time they'll all be paired with someone other than who they came with."
   ]
  },
  {
   "cell_type": "code",
   "execution_count": 95,
   "metadata": {},
   "outputs": [
    {
     "data": {
      "text/plain": [
       "0.3785"
      ]
     },
     "execution_count": 95,
     "metadata": {},
     "output_type": "execute_result"
    }
   ],
   "source": [
    "def choose_partners():\n",
    "    a = [1,2,3,4]\n",
    "    b = [1,2,3,4]\n",
    "    random.shuffle(a)\n",
    "    random.shuffle(b)\n",
    "    for i in range(4):\n",
    "        if(a[i] == b[i]):\n",
    "            # a couple was chosen as partners\n",
    "            return 0\n",
    "\n",
    "    return 1\n",
    "        \n",
    "n_trials = 2000\n",
    "trials = [choose_partners() for t in range(n_trials)]\n",
    "sum(trials) / n_trials"
   ]
  },
  {
   "cell_type": "markdown",
   "metadata": {
    "collapsed": true
   },
   "source": [
    "## 11.39\n",
    "\n",
    "### Answers\n",
    "\n",
    "* That result will happen about 8% of the time.\n"
   ]
  },
  {
   "cell_type": "code",
   "execution_count": 123,
   "metadata": {},
   "outputs": [
    {
     "data": {
      "text/plain": [
       "0.0805"
      ]
     },
     "execution_count": 123,
     "metadata": {},
     "output_type": "execute_result"
    }
   ],
   "source": [
    "def hire_managers():\n",
    "    employees = [0] * 12 # men\n",
    "    employees.extend([1] * 10) # women\n",
    "    random.shuffle(employees)\n",
    "    if(sum(employees[:3]) == 3): \n",
    "        return 1\n",
    "    else:\n",
    "        return 0\n",
    "    \n",
    "n_trials = 2000\n",
    "trials = [hire_managers() for t in range(n_trials)]\n",
    "sum(trials) / n_trials"
   ]
  }
 ],
 "metadata": {
  "kernelspec": {
   "display_name": "Python 3",
   "language": "python",
   "name": "python3"
  },
  "language_info": {
   "codemirror_mode": {
    "name": "ipython",
    "version": 3
   },
   "file_extension": ".py",
   "mimetype": "text/x-python",
   "name": "python",
   "nbconvert_exporter": "python",
   "pygments_lexer": "ipython3",
   "version": "3.5.2"
  }
 },
 "nbformat": 4,
 "nbformat_minor": 2
}
