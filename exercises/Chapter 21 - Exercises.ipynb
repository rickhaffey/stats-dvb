{
 "cells": [
  {
   "cell_type": "markdown",
   "metadata": {},
   "source": [
    "# Chapter 21 - Exercises"
   ]
  },
  {
   "cell_type": "code",
   "execution_count": 5,
   "metadata": {
    "collapsed": true
   },
   "outputs": [],
   "source": [
    "import math\n",
    "from scipy.stats import norm"
   ]
  },
  {
   "cell_type": "markdown",
   "metadata": {},
   "source": [
    "## 21.1 \n",
    "\n",
    "### Answers\n",
    "\n",
    "* a)\n",
    "    * two-sided\n",
    "    * H0: p that prefer Diet Coke = 0.5\n",
    "    * HA: p that prefer Diet Coke <> 0.5\n",
    "    * the wording of this question is ambiguous and confusing; I think what they're really implicitly asking is \"Do students have a preference?\", _not_ \"Do students prefer diet coke over diet pepsi, or vice-versa?\"\n",
    "    * A better phrasing would have been: \"A business student conducts a taste test to see whether students show a preference for either Diet Coke or Diet Pepsi.\"\n",
    "* b)\n",
    "    * one-sided\n",
    "    * H0: p (prefer new formula) = 0.5\n",
    "    * HA: p > 0.5\n",
    "* c)\n",
    "    * one-sided\n",
    "    * H0: p (vote in favor) = 2/3\n",
    "    * HA: p > 2/3\n",
    "    * shouldn't this instead be \"p = 2/3n - 1\" and \"p > 2/3n - 1\"? does p = 2/3 => passing or not passing? (assume it passes)\n",
    "* d)\n",
    "    * two-sided\n",
    "    * H0: p (proportion of increases) = 0.5\n",
    "    * HA: p <> 0.5"
   ]
  },
  {
   "cell_type": "markdown",
   "metadata": {},
   "source": [
    "## 21.3\n",
    "\n",
    "### Answers\n",
    "\n",
    "* Under conditions of the null hypothesis (i.e. the new treatment has the same effectiveness as the traditional ointment), we'd expect to see the results we obtained (or more extreme results) purely due to sampling variability only 4.7% of the time."
   ]
  },
  {
   "cell_type": "markdown",
   "metadata": {},
   "source": [
    "## 21.5\n",
    "\n",
    "### Answers\n",
    "\n",
    "* He would have made the same decision at $\\alpha = 0.10$ because the expectations under that condition are _less_ limiting.  We'd need to know his results to answer whether he would have made the same decision under $\\alpha = 0.01$."
   ]
  },
  {
   "cell_type": "markdown",
   "metadata": {},
   "source": [
    "## 21.7\n",
    "\n",
    "### Answers\n",
    "\n",
    "* a) If the true proportion is 90%, we would only expect to see these (or more extreme) results 1.1% of the time due to pure sampling variability.\n",
    "* b) The size of the effect is a difference of only 0.6%.  Although this is fairly small, applied across a huge population (i.e. all children in the US?) could potentially have a large practical impact."
   ]
  },
  {
   "cell_type": "markdown",
   "metadata": {},
   "source": [
    "## 21.9 \n",
    "\n",
    "### Answers\n",
    "\n",
    "* a)\n",
    "  - randomized telephone poll; may be response bias; n_success/n_failure both > 10; assume 1302 is < 10% of entire pop.\n",
    "  - [1.9%, 4.1%]\n",
    "* b) The CI indicates that it has fallen below the 5% mark, in that 5% isn't included in the interval.\n",
    "* c) H0 = p = 0.05, HA = p < 0.05 (one-sided); therefore alpha = 0.01 => 99% significance level."
   ]
  },
  {
   "cell_type": "code",
   "execution_count": 11,
   "metadata": {},
   "outputs": [
    {
     "name": "stdout",
     "output_type": "stream",
     "text": [
      "p: 0.029953917050691243\n",
      "sd: 0.004724082815914828\n",
      "ci: [ 0.01896406  0.04094378]\n"
     ]
    }
   ],
   "source": [
    "# a)\n",
    "n_s = 1302\n",
    "n_x = 39\n",
    "alpha = 0.02\n",
    "\n",
    "p = n_x / n_s\n",
    "sd = math.sqrt(p * (1 - p) / n_s)\n",
    "ci = norm.ppf([alpha / 2, (1 - alpha / 2)], p, sd)\n",
    "\n",
    "print(\"p: {}\".format(p))\n",
    "print(\"sd: {}\".format(sd))\n",
    "print(\"ci: {}\".format(ci))"
   ]
  },
  {
   "cell_type": "markdown",
   "metadata": {},
   "source": [
    "## \n",
    "\n",
    "### Answers\n",
    "\n",
    "* "
   ]
  },
  {
   "cell_type": "markdown",
   "metadata": {},
   "source": [
    "## \n",
    "\n",
    "### Answers\n",
    "\n",
    "* "
   ]
  },
  {
   "cell_type": "markdown",
   "metadata": {},
   "source": [
    "## \n",
    "\n",
    "### Answers\n",
    "\n",
    "* "
   ]
  },
  {
   "cell_type": "markdown",
   "metadata": {},
   "source": [
    "## \n",
    "\n",
    "### Answers\n",
    "\n",
    "* "
   ]
  },
  {
   "cell_type": "markdown",
   "metadata": {},
   "source": [
    "## \n",
    "\n",
    "### Answers\n",
    "\n",
    "* "
   ]
  },
  {
   "cell_type": "markdown",
   "metadata": {},
   "source": [
    "## \n",
    "\n",
    "### Answers\n",
    "\n",
    "* "
   ]
  },
  {
   "cell_type": "markdown",
   "metadata": {},
   "source": [
    "## \n",
    "\n",
    "### Answers\n",
    "\n",
    "* "
   ]
  },
  {
   "cell_type": "markdown",
   "metadata": {},
   "source": [
    "## \n",
    "\n",
    "### Answers\n",
    "\n",
    "* "
   ]
  },
  {
   "cell_type": "markdown",
   "metadata": {},
   "source": [
    "## \n",
    "\n",
    "### Answers\n",
    "\n",
    "* "
   ]
  },
  {
   "cell_type": "code",
   "execution_count": null,
   "metadata": {
    "collapsed": true
   },
   "outputs": [],
   "source": []
  }
 ],
 "metadata": {
  "kernelspec": {
   "display_name": "Python 3",
   "language": "python",
   "name": "python3"
  },
  "language_info": {
   "codemirror_mode": {
    "name": "ipython",
    "version": 3
   },
   "file_extension": ".py",
   "mimetype": "text/x-python",
   "name": "python",
   "nbconvert_exporter": "python",
   "pygments_lexer": "ipython3",
   "version": "3.5.2"
  }
 },
 "nbformat": 4,
 "nbformat_minor": 2
}
