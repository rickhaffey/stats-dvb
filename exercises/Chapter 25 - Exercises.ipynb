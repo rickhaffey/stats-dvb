{
 "cells": [
  {
   "cell_type": "markdown",
   "metadata": {},
   "source": [
    "# Chapter 25 - Exercises"
   ]
  },
  {
   "cell_type": "code",
   "execution_count": 14,
   "metadata": {
    "collapsed": true
   },
   "outputs": [],
   "source": [
    "from statistics import stdev\n",
    "import scipy.stats as stats\n",
    "import math\n",
    "\n",
    "import pandas as pd\n",
    "import numpy as np\n",
    "import matplotlib.pyplot as plt\n",
    "\n",
    "%matplotlib inline\n",
    "\n",
    "plt.style.use(\"ggplot\")"
   ]
  },
  {
   "cell_type": "code",
   "execution_count": 52,
   "metadata": {
    "collapsed": true
   },
   "outputs": [],
   "source": [
    "def degrees_freedom(s1, n1, s2, n2):\n",
    "    \"\"\"\n",
    "    Calculate degrees freedom for a two-sample $t$-test under assumptions of unequal variances.\n",
    "    \"\"\"\n",
    "    n = (s1 ** 2 / n1 + s2 ** 2 / n2) ** 2\n",
    "    d = (1 / (n1 - 1)) * (s1 ** 2 / n1) ** 2 + (1 / (n2 - 1)) * (s2 ** 2 / n2) ** 2\n",
    "    return n / d"
   ]
  },
  {
   "cell_type": "code",
   "execution_count": 31,
   "metadata": {
    "collapsed": true
   },
   "outputs": [],
   "source": [
    "template = \"\"\"\n",
    "se: {}\n",
    "df: {}\n",
    "t: {}\n",
    "P-value: {}\n",
    "\"\"\""
   ]
  },
  {
   "cell_type": "markdown",
   "metadata": {},
   "source": [
    "## 25.1 \n",
    "\n",
    "### Answers\n",
    "\n",
    "* a) randomly assign hens to each of the two groups; apply treatment to one, and nothing (or placebo) to the other, making the second group the control; put a secondary blind (on the researchers) in place at both the application and evaluation stages; compare the results across the two groups, using a two-sample t-test\n",
    "* b) for each hen, measure egg production during a set period; after this period, apply the treatment, and measure egg production for a second set time period; use the difference in production for each hen to perform a matched-pairs t-test\n",
    "* c) matched pairs factors in variability in egg production across hens"
   ]
  },
  {
   "cell_type": "markdown",
   "metadata": {},
   "source": [
    "## 25.3\n",
    "\n",
    "### Answers\n",
    "\n",
    "* a) design two versions of adds for many products - one with and one without sexual images; for each subject, randomly assign half plain ads and half ads with sexual content; for each subject, compare the difference in the subject's ability to remember the products for ads with and without sexual images; \n",
    "* b) use the same set of ads as in b, but divide subjects into two groups: those that will see the plain ads, and those that will see the ads with sexual images;  record the ability to remember products for each subject, and compare the mean values across subjects in the two groups;"
   ]
  },
  {
   "cell_type": "markdown",
   "metadata": {},
   "source": [
    "## 25.5\n",
    "\n",
    "### Answers\n",
    "\n",
    "* a) Because the same 19 cities are compared before and after some period of time, this calls for a paired t-test.\n",
    "* b) The test generated a P-value of 0.0244.  As a result, we should reject the null hypothesis; the evidence supports the claim that there was a significant difference in LFPR between the two timeframes."
   ]
  },
  {
   "cell_type": "markdown",
   "metadata": {},
   "source": [
    "## 25.7\n",
    "\n",
    "### Answers\n",
    "\n",
    "* a) Paired $t$-test: each consecutive set of Fridays is a pair\n",
    "* b) P-value is 0.021 => reject H0: There is a significant decrease in traffic on Friday the 13ths.\n",
    "* c) Dates appear (?) randomly selected; may not be independent, though, given that largely the same traffic would cross on any given day (even across year+month)."
   ]
  },
  {
   "cell_type": "markdown",
   "metadata": {},
   "source": [
    "## 25.9\n",
    "\n",
    "### Answers\n",
    "\n",
    "* $\\sqrt{SD^2(local) + SD^2(online)}$ would be correct if the two sets were independent; each is a pair, so the independence doesn't hold."
   ]
  },
  {
   "cell_type": "markdown",
   "metadata": {},
   "source": [
    "## 25.11\n",
    "\n",
    "### Answers\n",
    "\n",
    "* a) the histogram; it shows the variability of the _difference_; the boxplot masks that difference\n",
    "* b) different drivers (good vs. bad) might have large differences in premiums; meanwhile, the online vs local difference for any _single_ driver will probably not be quite so big\n",
    "* c) the distribution of differences appears \"nearly normal\"; randomly selected; 2 measurements should be paired"
   ]
  },
  {
   "cell_type": "markdown",
   "metadata": {},
   "source": [
    "## 25.13\n",
    "\n",
    "### Answers\n",
    "\n",
    "* see below; no - can't reject H0; the evidence doesn't support a claim of a significant difference"
   ]
  },
  {
   "cell_type": "code",
   "execution_count": 13,
   "metadata": {},
   "outputs": [
    {
     "name": "stdout",
     "output_type": "stream",
     "text": [
      "\n",
      "se: 55.5495180618158\n",
      "df: 9\n",
      "t: 0.8262897969505736\n",
      "P-value: 0.21499981492405718\n",
      "\n"
     ]
    }
   ],
   "source": [
    "# H0: mu(local - online) = 0\n",
    "# HA: mu(local - online) < 0  # assuming he wants to show that local prices are better... ?\n",
    "\n",
    "n = 10\n",
    "ybar = 45.9\n",
    "s = 175.663\n",
    "\n",
    "se = s / math.sqrt(n)\n",
    "df = n - 1\n",
    "t = ybar / se\n",
    "pvalue = 1 - stats.t.cdf(t, df=df)\n",
    "\n",
    "print(template.format(se, df, t, pvalue))"
   ]
  },
  {
   "cell_type": "markdown",
   "metadata": {},
   "source": [
    "#### Assumptions Template\n",
    "\n",
    "  - paired\n",
    "  - groups are independent\n",
    "  - randomization:\n",
    "  - differences are nearly Normal"
   ]
  },
  {
   "cell_type": "markdown",
   "metadata": {},
   "source": [
    "## 25.15\n",
    "\n",
    "### Answers\n",
    "\n",
    "* assumptions:\n",
    "  - measurements are paired by city over time\n",
    "  - groups are independent (at least the cities are far enough apart to be independent enough for our purposes)\n",
    "  - randomization: not clear that these cities are random, but presumably representative of their overall geographic region\n",
    "  - differences are unimodal, not highly skewed, no clear outliers\n",
    "* We are 90% confident that the average mean difference in temperature between July and January for these European cities is captured by the range from 32.3 to 41.3 degrees F."
   ]
  },
  {
   "cell_type": "code",
   "execution_count": 25,
   "metadata": {},
   "outputs": [
    {
     "data": {
      "text/html": [
       "<div>\n",
       "<table border=\"1\" class=\"dataframe\">\n",
       "  <thead>\n",
       "    <tr style=\"text-align: right;\">\n",
       "      <th></th>\n",
       "      <th>Jan</th>\n",
       "      <th>July</th>\n",
       "      <th>diff</th>\n",
       "    </tr>\n",
       "    <tr>\n",
       "      <th>City</th>\n",
       "      <th></th>\n",
       "      <th></th>\n",
       "      <th></th>\n",
       "    </tr>\n",
       "  </thead>\n",
       "  <tbody>\n",
       "    <tr>\n",
       "      <th>Vienna</th>\n",
       "      <td>34</td>\n",
       "      <td>75</td>\n",
       "      <td>41</td>\n",
       "    </tr>\n",
       "    <tr>\n",
       "      <th>Copenhagen</th>\n",
       "      <td>36</td>\n",
       "      <td>72</td>\n",
       "      <td>36</td>\n",
       "    </tr>\n",
       "    <tr>\n",
       "      <th>Paris</th>\n",
       "      <td>42</td>\n",
       "      <td>76</td>\n",
       "      <td>34</td>\n",
       "    </tr>\n",
       "    <tr>\n",
       "      <th>Berlin</th>\n",
       "      <td>35</td>\n",
       "      <td>74</td>\n",
       "      <td>39</td>\n",
       "    </tr>\n",
       "    <tr>\n",
       "      <th>Athens</th>\n",
       "      <td>54</td>\n",
       "      <td>90</td>\n",
       "      <td>36</td>\n",
       "    </tr>\n",
       "  </tbody>\n",
       "</table>\n",
       "</div>"
      ],
      "text/plain": [
       "            Jan  July  diff\n",
       "City                       \n",
       "Vienna       34    75    41\n",
       "Copenhagen   36    72    36\n",
       "Paris        42    76    34\n",
       "Berlin       35    74    39\n",
       "Athens       54    90    36"
      ]
     },
     "execution_count": 25,
     "metadata": {},
     "output_type": "execute_result"
    }
   ],
   "source": [
    "#!cat ../data/Temperatures.txt\n",
    "\n",
    "data = pd.read_table(\"../data/Temperatures.txt\", index_col=\"City\")\n",
    "data['diff'] = data.July - data.Jan\n",
    "data.head()"
   ]
  },
  {
   "cell_type": "code",
   "execution_count": 26,
   "metadata": {},
   "outputs": [
    {
     "data": {
      "text/html": [
       "<div>\n",
       "<table border=\"1\" class=\"dataframe\">\n",
       "  <thead>\n",
       "    <tr style=\"text-align: right;\">\n",
       "      <th></th>\n",
       "      <th>Jan</th>\n",
       "      <th>July</th>\n",
       "      <th>diff</th>\n",
       "    </tr>\n",
       "  </thead>\n",
       "  <tbody>\n",
       "    <tr>\n",
       "      <th>count</th>\n",
       "      <td>12.000000</td>\n",
       "      <td>12.000000</td>\n",
       "      <td>12.000000</td>\n",
       "    </tr>\n",
       "    <tr>\n",
       "      <th>mean</th>\n",
       "      <td>40.583333</td>\n",
       "      <td>77.416667</td>\n",
       "      <td>36.833333</td>\n",
       "    </tr>\n",
       "    <tr>\n",
       "      <th>std</th>\n",
       "      <td>9.110018</td>\n",
       "      <td>7.982462</td>\n",
       "      <td>8.663752</td>\n",
       "    </tr>\n",
       "    <tr>\n",
       "      <th>min</th>\n",
       "      <td>21.000000</td>\n",
       "      <td>65.000000</td>\n",
       "      <td>22.000000</td>\n",
       "    </tr>\n",
       "    <tr>\n",
       "      <th>25%</th>\n",
       "      <td>35.750000</td>\n",
       "      <td>72.750000</td>\n",
       "      <td>32.750000</td>\n",
       "    </tr>\n",
       "    <tr>\n",
       "      <th>50%</th>\n",
       "      <td>41.000000</td>\n",
       "      <td>75.500000</td>\n",
       "      <td>36.000000</td>\n",
       "    </tr>\n",
       "    <tr>\n",
       "      <th>75%</th>\n",
       "      <td>44.750000</td>\n",
       "      <td>84.750000</td>\n",
       "      <td>40.250000</td>\n",
       "    </tr>\n",
       "    <tr>\n",
       "      <th>max</th>\n",
       "      <td>54.000000</td>\n",
       "      <td>90.000000</td>\n",
       "      <td>55.000000</td>\n",
       "    </tr>\n",
       "  </tbody>\n",
       "</table>\n",
       "</div>"
      ],
      "text/plain": [
       "             Jan       July       diff\n",
       "count  12.000000  12.000000  12.000000\n",
       "mean   40.583333  77.416667  36.833333\n",
       "std     9.110018   7.982462   8.663752\n",
       "min    21.000000  65.000000  22.000000\n",
       "25%    35.750000  72.750000  32.750000\n",
       "50%    41.000000  75.500000  36.000000\n",
       "75%    44.750000  84.750000  40.250000\n",
       "max    54.000000  90.000000  55.000000"
      ]
     },
     "execution_count": 26,
     "metadata": {},
     "output_type": "execute_result"
    }
   ],
   "source": [
    "data.describe()"
   ]
  },
  {
   "cell_type": "code",
   "execution_count": 27,
   "metadata": {},
   "outputs": [
    {
     "data": {
      "image/png": "[encoded data removed]",
      "text/plain": [
       "<matplotlib.figure.Figure at 0x11ac1b470>"
      ]
     },
     "metadata": {},
     "output_type": "display_data"
    }
   ],
   "source": [
    "data.hist('diff', bins=7);"
   ]
  },
  {
   "cell_type": "code",
   "execution_count": 35,
   "metadata": {},
   "outputs": [
    {
     "name": "stdout",
     "output_type": "stream",
     "text": [
      "n: 12, y: 36.833333333333336, s: 8.663752423783015\n",
      "\n",
      "se: 2.501009897031698\n",
      "df: 11\n",
      "t: 1.7958848187036691\n",
      "P-value: na\n",
      "\n"
     ]
    },
    {
     "data": {
      "text/plain": [
       "(32.34180762782648, 36.833333333333336, 41.32485903884019)"
      ]
     },
     "execution_count": 35,
     "metadata": {},
     "output_type": "execute_result"
    }
   ],
   "source": [
    "n = data['diff'].size\n",
    "y = data['diff'].mean()\n",
    "s = data['diff'].std()\n",
    "\n",
    "se = s / math.sqrt(n)\n",
    "df = n - 1\n",
    "t = stats.t.ppf(0.95, df=df)\n",
    "\n",
    "print(\"n: {}, y: {}, s: {}\".format(n, y, s))\n",
    "\n",
    "print(template.format(se, df, t, \"na\"))\n",
    "\n",
    "(y - t * se, y, y + t * se)"
   ]
  },
  {
   "cell_type": "markdown",
   "metadata": {},
   "source": [
    "## 25.17\n",
    "\n",
    "### Answers\n",
    "\n",
    "* two-sample t-test -- not paired data\n",
    "* (1.6295823781073686, 7.333333333333332, 13.037084288559296)"
   ]
  },
  {
   "cell_type": "code",
   "execution_count": 38,
   "metadata": {},
   "outputs": [
    {
     "data": {
      "text/html": [
       "<div>\n",
       "<table border=\"1\" class=\"dataframe\">\n",
       "  <thead>\n",
       "    <tr style=\"text-align: right;\">\n",
       "      <th></th>\n",
       "      <th>Boys</th>\n",
       "      <th>Girls</th>\n",
       "    </tr>\n",
       "  </thead>\n",
       "  <tbody>\n",
       "    <tr>\n",
       "      <th>0</th>\n",
       "      <td>17</td>\n",
       "      <td>24</td>\n",
       "    </tr>\n",
       "    <tr>\n",
       "      <th>1</th>\n",
       "      <td>27</td>\n",
       "      <td>7</td>\n",
       "    </tr>\n",
       "    <tr>\n",
       "      <th>2</th>\n",
       "      <td>31</td>\n",
       "      <td>14</td>\n",
       "    </tr>\n",
       "    <tr>\n",
       "      <th>3</th>\n",
       "      <td>17</td>\n",
       "      <td>16</td>\n",
       "    </tr>\n",
       "    <tr>\n",
       "      <th>4</th>\n",
       "      <td>25</td>\n",
       "      <td>2</td>\n",
       "    </tr>\n",
       "  </tbody>\n",
       "</table>\n",
       "</div>"
      ],
      "text/plain": [
       "   Boys  Girls\n",
       "0    17     24\n",
       "1    27      7\n",
       "2    31     14\n",
       "3    17     16\n",
       "4    25      2"
      ]
     },
     "execution_count": 38,
     "metadata": {},
     "output_type": "execute_result"
    }
   ],
   "source": [
    "#!cat ../data/Push-ups_1.txt\n",
    "data = pd.read_table(\"../data/Push-ups_1.txt\")\n",
    "data.head()"
   ]
  },
  {
   "cell_type": "code",
   "execution_count": 46,
   "metadata": {},
   "outputs": [
    {
     "data": {
      "image/png": "[encoded data removed]",
      "text/plain": [
       "<matplotlib.figure.Figure at 0x11b4e0400>"
      ]
     },
     "metadata": {},
     "output_type": "display_data"
    }
   ],
   "source": [
    "plt.boxplot([data.Boys, data.Girls], labels=[\"Boys\", \"Girls\"]);"
   ]
  },
  {
   "cell_type": "code",
   "execution_count": 47,
   "metadata": {},
   "outputs": [
    {
     "data": {
      "image/png": "[encoded data removed]",
      "text/plain": [
       "<matplotlib.figure.Figure at 0x11b5dc240>"
      ]
     },
     "metadata": {},
     "output_type": "display_data"
    }
   ],
   "source": [
    "data.hist(\"Boys\");"
   ]
  },
  {
   "cell_type": "code",
   "execution_count": 49,
   "metadata": {},
   "outputs": [
    {
     "data": {
      "image/png": "[encoded data removed]",
      "text/plain": [
       "<matplotlib.figure.Figure at 0x11b0e9f60>"
      ]
     },
     "metadata": {},
     "output_type": "display_data"
    }
   ],
   "source": [
    "data.hist(\"Girls\");"
   ]
  },
  {
   "cell_type": "code",
   "execution_count": 53,
   "metadata": {},
   "outputs": [
    {
     "data": {
      "text/plain": [
       "(1.6295823781073686, 7.333333333333332, 13.037084288559296)"
      ]
     },
     "execution_count": 53,
     "metadata": {},
     "output_type": "execute_result"
    }
   ],
   "source": [
    "nb = data.Boys.size\n",
    "yb = data.Boys.mean()\n",
    "sb = data.Boys.std()\n",
    "\n",
    "ng = data.Girls.size\n",
    "yg = data.Girls.mean()\n",
    "sg = data.Girls.std()\n",
    "\n",
    "diff = yb - yg\n",
    "se = math.sqrt(sb ** 2 / nb + sg ** 2 / ng)\n",
    "df = degrees_freedom(sb, nb, sg, ng)\n",
    "\n",
    "t = stats.t.ppf(0.95, df=df)\n",
    "\n",
    "(diff - se * t, diff, diff + se * t)"
   ]
  },
  {
   "cell_type": "markdown",
   "metadata": {},
   "source": [
    "## 25.19\n",
    "\n",
    "### Answers\n",
    "\n",
    "* a) paired t-test: \n",
    "    - paired samples\n",
    "    - groups (i.e. workers) are independent\n",
    "    - randomly selected\n",
    "    - \"approximately\" normal\n",
    "* b) \n",
    "    - H0: mu(diff) = 0\n",
    "    - HA: mu(diff) > 0\n",
    "    - given P-value = 0.003, reject H0 - evidence support claim of positive difference\n",
    "* c) Type I\n",
    "* d) todo"
   ]
  },
  {
   "cell_type": "code",
   "execution_count": 66,
   "metadata": {},
   "outputs": [
    {
     "data": {
      "text/html": [
       "<div>\n",
       "<table border=\"1\" class=\"dataframe\">\n",
       "  <thead>\n",
       "    <tr style=\"text-align: right;\">\n",
       "      <th></th>\n",
       "      <th>Before</th>\n",
       "      <th>After</th>\n",
       "      <th>diff</th>\n",
       "    </tr>\n",
       "    <tr>\n",
       "      <th>Worker</th>\n",
       "      <th></th>\n",
       "      <th></th>\n",
       "      <th></th>\n",
       "    </tr>\n",
       "  </thead>\n",
       "  <tbody>\n",
       "    <tr>\n",
       "      <th>1</th>\n",
       "      <td>34</td>\n",
       "      <td>33</td>\n",
       "      <td>-1</td>\n",
       "    </tr>\n",
       "    <tr>\n",
       "      <th>2</th>\n",
       "      <td>28</td>\n",
       "      <td>36</td>\n",
       "      <td>8</td>\n",
       "    </tr>\n",
       "    <tr>\n",
       "      <th>3</th>\n",
       "      <td>29</td>\n",
       "      <td>50</td>\n",
       "      <td>21</td>\n",
       "    </tr>\n",
       "    <tr>\n",
       "      <th>4</th>\n",
       "      <td>45</td>\n",
       "      <td>41</td>\n",
       "      <td>-4</td>\n",
       "    </tr>\n",
       "    <tr>\n",
       "      <th>5</th>\n",
       "      <td>26</td>\n",
       "      <td>37</td>\n",
       "      <td>11</td>\n",
       "    </tr>\n",
       "  </tbody>\n",
       "</table>\n",
       "</div>"
      ],
      "text/plain": [
       "        Before  After  diff\n",
       "Worker                     \n",
       "1           34     33    -1\n",
       "2           28     36     8\n",
       "3           29     50    21\n",
       "4           45     41    -4\n",
       "5           26     37    11"
      ]
     },
     "execution_count": 66,
     "metadata": {},
     "output_type": "execute_result"
    }
   ],
   "source": [
    "#!cat ../data/Job_satisfaction.txt\n",
    "data = pd.read_table(\"../data/Job_satisfaction.txt\", index_col=\"Worker\")\n",
    "data['diff'] = data.After - data.Before\n",
    "data.head()"
   ]
  },
  {
   "cell_type": "code",
   "execution_count": 68,
   "metadata": {},
   "outputs": [
    {
     "data": {
      "image/png": "[encoded data removed]",
      "text/plain": [
       "<matplotlib.figure.Figure at 0x11a70f9e8>"
      ]
     },
     "metadata": {},
     "output_type": "display_data"
    }
   ],
   "source": [
    "data.hist('diff');"
   ]
  },
  {
   "cell_type": "code",
   "execution_count": 69,
   "metadata": {},
   "outputs": [
    {
     "data": {
      "image/png": "[encoded data removed]",
      "text/plain": [
       "<matplotlib.figure.Figure at 0x11b0b6278>"
      ]
     },
     "metadata": {},
     "output_type": "display_data"
    }
   ],
   "source": [
    "data.boxplot('diff');"
   ]
  },
  {
   "cell_type": "code",
   "execution_count": 72,
   "metadata": {},
   "outputs": [
    {
     "name": "stdout",
     "output_type": "stream",
     "text": [
      "avg diff: 8.5\n",
      "\n",
      "se: 2.362907813126304\n",
      "df: 3.5972626408788515\n",
      "t: 9\n",
      "P-value: 0.0028864646690407447\n",
      "\n"
     ]
    }
   ],
   "source": [
    "n = data['diff'].size\n",
    "y = data['diff'].mean()\n",
    "s = data['diff'].std()\n",
    "\n",
    "print(\"avg diff: {}\".format(y))\n",
    "\n",
    "se = s / math.sqrt(n)\n",
    "t = y / se\n",
    "df = n - 1\n",
    "pvalue = 1 - stats.t.cdf(t, df=df)\n",
    "\n",
    "print(template.format(se, t, df, pvalue))"
   ]
  },
  {
   "cell_type": "markdown",
   "metadata": {},
   "source": [
    "## \n",
    "\n",
    "### Answers\n",
    "\n",
    "* \n"
   ]
  },
  {
   "cell_type": "markdown",
   "metadata": {},
   "source": [
    "## \n",
    "\n",
    "### Answers\n",
    "\n",
    "* \n"
   ]
  },
  {
   "cell_type": "markdown",
   "metadata": {},
   "source": [
    "## \n",
    "\n",
    "### Answers\n",
    "\n",
    "* \n"
   ]
  },
  {
   "cell_type": "code",
   "execution_count": null,
   "metadata": {
    "collapsed": true
   },
   "outputs": [],
   "source": []
  }
 ],
 "metadata": {
  "kernelspec": {
   "display_name": "Python 3",
   "language": "python",
   "name": "python3"
  },
  "language_info": {
   "codemirror_mode": {
    "name": "ipython",
    "version": 3
   },
   "file_extension": ".py",
   "mimetype": "text/x-python",
   "name": "python",
   "nbconvert_exporter": "python",
   "pygments_lexer": "ipython3",
   "version": "3.5.2"
  }
 },
 "nbformat": 4,
 "nbformat_minor": 2
}
