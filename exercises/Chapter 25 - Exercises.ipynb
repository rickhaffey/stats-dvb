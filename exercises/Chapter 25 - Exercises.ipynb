{
 "cells": [
  {
   "cell_type": "markdown",
   "metadata": {},
   "source": [
    "# Chapter 25 - Exercises"
   ]
  },
  {
   "cell_type": "code",
   "execution_count": 4,
   "metadata": {
    "collapsed": true
   },
   "outputs": [],
   "source": [
    "from statistics import stdev\n",
    "import scipy.stats as stats\n",
    "import math"
   ]
  },
  {
   "cell_type": "code",
   "execution_count": 10,
   "metadata": {
    "collapsed": true
   },
   "outputs": [],
   "source": [
    "template = \"\"\"\n",
    "se: {}\n",
    "df: {}\n",
    "t: {}\n",
    "P-value: {}\n",
    "\"\"\""
   ]
  },
  {
   "cell_type": "markdown",
   "metadata": {},
   "source": [
    "## 25.1 \n",
    "\n",
    "### Answers\n",
    "\n",
    "* a) randomly assign hens to each of the two groups; apply treatment to one, and nothing (or placebo) to the other, making the second group the control; put a secondary blind (on the researchers) in place at both the application and evaluation stages; compare the results across the two groups, using a two-sample t-test\n",
    "* b) for each hen, measure egg production during a set period; after this period, apply the treatment, and measure egg production for a second set time period; use the difference in production for each hen to perform a matched-pairs t-test\n",
    "* c) matched pairs factors in variability in egg production across hens"
   ]
  },
  {
   "cell_type": "markdown",
   "metadata": {},
   "source": [
    "## 25.3\n",
    "\n",
    "### Answers\n",
    "\n",
    "* a) design two versions of adds for many products - one with and one without sexual images; for each subject, randomly assign half plain ads and half ads with sexual content; for each subject, compare the difference in the subject's ability to remember the products for ads with and without sexual images; \n",
    "* b) use the same set of ads as in b, but divide subjects into two groups: those that will see the plain ads, and those that will see the ads with sexual images;  record the ability to remember products for each subject, and compare the mean values across subjects in the two groups;"
   ]
  },
  {
   "cell_type": "markdown",
   "metadata": {},
   "source": [
    "## 25.5\n",
    "\n",
    "### Answers\n",
    "\n",
    "* a) Because the same 19 cities are compared before and after some period of time, this calls for a paired t-test.\n",
    "* b) The test generated a P-value of 0.0244.  As a result, we should reject the null hypothesis; the evidence supports the claim that there was a significant difference in LFPR between the two timeframes."
   ]
  },
  {
   "cell_type": "markdown",
   "metadata": {},
   "source": [
    "## 25.7\n",
    "\n",
    "### Answers\n",
    "\n",
    "* a) Paired $t$-test: each consecutive set of Fridays is a pair\n",
    "* b) P-value is 0.021 => reject H0: There is a significant decrease in traffic on Friday the 13ths.\n",
    "* c) Dates appear (?) randomly selected; may not be independent, though, given that largely the same traffic would cross on any given day (even across year+month)."
   ]
  },
  {
   "cell_type": "markdown",
   "metadata": {},
   "source": [
    "## 25.9\n",
    "\n",
    "### Answers\n",
    "\n",
    "* $\\sqrt{SD^2(local) + SD^2(online)}$ would be correct if the two sets were independent; each is a pair, so the independence doesn't hold."
   ]
  },
  {
   "cell_type": "markdown",
   "metadata": {},
   "source": [
    "## 25.11\n",
    "\n",
    "### Answers\n",
    "\n",
    "* a) the histogram; it shows the variability of the _difference_; the boxplot masks that difference\n",
    "* b) different drivers (good vs. bad) might have large differences in premiums; meanwhile, the online vs local difference for any _single_ driver will probably not be quite so big\n",
    "* c) the distribution of differences appears \"nearly normal\"; randomly selected; 2 measurements should be paired"
   ]
  },
  {
   "cell_type": "markdown",
   "metadata": {},
   "source": [
    "## 25.13\n",
    "\n",
    "### Answers\n",
    "\n",
    "* see below; no - can't reject H0; the evidence doesn't support a claim of a significant difference"
   ]
  },
  {
   "cell_type": "code",
   "execution_count": 13,
   "metadata": {},
   "outputs": [
    {
     "name": "stdout",
     "output_type": "stream",
     "text": [
      "\n",
      "se: 55.5495180618158\n",
      "df: 9\n",
      "t: 0.8262897969505736\n",
      "P-value: 0.21499981492405718\n",
      "\n"
     ]
    }
   ],
   "source": [
    "# H0: mu(local - online) = 0\n",
    "# HA: mu(local - online) < 0  # assuming he wants to show that local prices are better... ?\n",
    "\n",
    "n = 10\n",
    "ybar = 45.9\n",
    "s = 175.663\n",
    "\n",
    "se = s / math.sqrt(n)\n",
    "df = n - 1\n",
    "t = ybar / se\n",
    "pvalue = 1 - stats.t.cdf(t, df=df)\n",
    "\n",
    "print(template.format(se, df, t, pvalue))"
   ]
  },
  {
   "cell_type": "markdown",
   "metadata": {},
   "source": [
    "## \n",
    "\n",
    "### Answers\n",
    "\n",
    "* \n"
   ]
  },
  {
   "cell_type": "markdown",
   "metadata": {},
   "source": [
    "## \n",
    "\n",
    "### Answers\n",
    "\n",
    "* \n"
   ]
  },
  {
   "cell_type": "code",
   "execution_count": null,
   "metadata": {
    "collapsed": true
   },
   "outputs": [],
   "source": []
  }
 ],
 "metadata": {
  "kernelspec": {
   "display_name": "Python 3",
   "language": "python",
   "name": "python3"
  },
  "language_info": {
   "codemirror_mode": {
    "name": "ipython",
    "version": 3
   },
   "file_extension": ".py",
   "mimetype": "text/x-python",
   "name": "python",
   "nbconvert_exporter": "python",
   "pygments_lexer": "ipython3",
   "version": "3.5.2"
  }
 },
 "nbformat": 4,
 "nbformat_minor": 2
}
