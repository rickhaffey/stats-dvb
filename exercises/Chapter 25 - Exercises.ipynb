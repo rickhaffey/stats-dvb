{
 "cells": [
  {
   "cell_type": "markdown",
   "metadata": {},
   "source": [
    "# Chapter 25 - Exercises"
   ]
  },
  {
   "cell_type": "code",
   "execution_count": 1,
   "metadata": {
    "collapsed": true
   },
   "outputs": [],
   "source": [
    "from statistics import stdev\n",
    "import scipy.stats as stats\n",
    "import math\n",
    "\n",
    "import pandas as pd\n",
    "import numpy as np\n",
    "import matplotlib.pyplot as plt\n",
    "\n",
    "%matplotlib inline\n",
    "\n",
    "plt.style.use(\"ggplot\")"
   ]
  },
  {
   "cell_type": "code",
   "execution_count": 2,
   "metadata": {
    "collapsed": true
   },
   "outputs": [],
   "source": [
    "def degrees_freedom(s1, n1, s2, n2):\n",
    "    \"\"\"\n",
    "    Calculate degrees freedom for a two-sample $t$-test under assumptions of unequal variances.\n",
    "    \"\"\"\n",
    "    n = (s1 ** 2 / n1 + s2 ** 2 / n2) ** 2\n",
    "    d = (1 / (n1 - 1)) * (s1 ** 2 / n1) ** 2 + (1 / (n2 - 1)) * (s2 ** 2 / n2) ** 2\n",
    "    return n / d"
   ]
  },
  {
   "cell_type": "code",
   "execution_count": 3,
   "metadata": {
    "collapsed": true
   },
   "outputs": [],
   "source": [
    "template = \"\"\"\n",
    "se: {}\n",
    "df: {}\n",
    "t: {}\n",
    "P-value: {}\n",
    "\"\"\""
   ]
  },
  {
   "cell_type": "markdown",
   "metadata": {},
   "source": [
    "## 25.1 \n",
    "\n",
    "### Answers\n",
    "\n",
    "* a) randomly assign hens to each of the two groups; apply treatment to one, and nothing (or placebo) to the other, making the second group the control; put a secondary blind (on the researchers) in place at both the application and evaluation stages; compare the results across the two groups, using a two-sample t-test\n",
    "* b) for each hen, measure egg production during a set period; after this period, apply the treatment, and measure egg production for a second set time period; use the difference in production for each hen to perform a matched-pairs t-test\n",
    "* c) matched pairs factors in variability in egg production across hens"
   ]
  },
  {
   "cell_type": "markdown",
   "metadata": {},
   "source": [
    "## 25.3\n",
    "\n",
    "### Answers\n",
    "\n",
    "* a) design two versions of adds for many products - one with and one without sexual images; for each subject, randomly assign half plain ads and half ads with sexual content; for each subject, compare the difference in the subject's ability to remember the products for ads with and without sexual images; \n",
    "* b) use the same set of ads as in b, but divide subjects into two groups: those that will see the plain ads, and those that will see the ads with sexual images;  record the ability to remember products for each subject, and compare the mean values across subjects in the two groups;"
   ]
  },
  {
   "cell_type": "markdown",
   "metadata": {},
   "source": [
    "## 25.5\n",
    "\n",
    "### Answers\n",
    "\n",
    "* a) Because the same 19 cities are compared before and after some period of time, this calls for a paired t-test.\n",
    "* b) The test generated a P-value of 0.0244.  As a result, we should reject the null hypothesis; the evidence supports the claim that there was a significant difference in LFPR between the two timeframes."
   ]
  },
  {
   "cell_type": "markdown",
   "metadata": {},
   "source": [
    "## 25.7\n",
    "\n",
    "### Answers\n",
    "\n",
    "* a) Paired $t$-test: each consecutive set of Fridays is a pair\n",
    "* b) P-value is 0.021 => reject H0: There is a significant decrease in traffic on Friday the 13ths.\n",
    "* c) Dates appear (?) randomly selected; may not be independent, though, given that largely the same traffic would cross on any given day (even across year+month)."
   ]
  },
  {
   "cell_type": "markdown",
   "metadata": {},
   "source": [
    "## 25.9\n",
    "\n",
    "### Answers\n",
    "\n",
    "* $\\sqrt{SD^2(local) + SD^2(online)}$ would be correct if the two sets were independent; each is a pair, so the independence doesn't hold."
   ]
  },
  {
   "cell_type": "markdown",
   "metadata": {},
   "source": [
    "## 25.11\n",
    "\n",
    "### Answers\n",
    "\n",
    "* a) the histogram; it shows the variability of the _difference_; the boxplot masks that difference\n",
    "* b) different drivers (good vs. bad) might have large differences in premiums; meanwhile, the online vs local difference for any _single_ driver will probably not be quite so big\n",
    "* c) the distribution of differences appears \"nearly normal\"; randomly selected; 2 measurements should be paired"
   ]
  },
  {
   "cell_type": "markdown",
   "metadata": {},
   "source": [
    "## 25.13\n",
    "\n",
    "### Answers\n",
    "\n",
    "* see below; no - can't reject H0; the evidence doesn't support a claim of a significant difference"
   ]
  },
  {
   "cell_type": "code",
   "execution_count": 13,
   "metadata": {},
   "outputs": [
    {
     "name": "stdout",
     "output_type": "stream",
     "text": [
      "\n",
      "se: 55.5495180618158\n",
      "df: 9\n",
      "t: 0.8262897969505736\n",
      "P-value: 0.21499981492405718\n",
      "\n"
     ]
    }
   ],
   "source": [
    "# H0: mu(local - online) = 0\n",
    "# HA: mu(local - online) < 0  # assuming he wants to show that local prices are better... ?\n",
    "\n",
    "n = 10\n",
    "ybar = 45.9\n",
    "s = 175.663\n",
    "\n",
    "se = s / math.sqrt(n)\n",
    "df = n - 1\n",
    "t = ybar / se\n",
    "pvalue = 1 - stats.t.cdf(t, df=df)\n",
    "\n",
    "print(template.format(se, df, t, pvalue))"
   ]
  },
  {
   "cell_type": "markdown",
   "metadata": {},
   "source": [
    "#### Assumptions Template\n",
    "\n",
    "  - paired\n",
    "  - groups are independent\n",
    "  - randomization:\n",
    "  - differences are nearly Normal"
   ]
  },
  {
   "cell_type": "markdown",
   "metadata": {},
   "source": [
    "## 25.15\n",
    "\n",
    "### Answers\n",
    "\n",
    "* assumptions:\n",
    "  - measurements are paired by city over time\n",
    "  - groups are independent (at least the cities are far enough apart to be independent enough for our purposes)\n",
    "  - randomization: not clear that these cities are random, but presumably representative of their overall geographic region\n",
    "  - differences are unimodal, not highly skewed, no clear outliers\n",
    "* We are 90% confident that the average mean difference in temperature between July and January for these European cities is captured by the range from 32.3 to 41.3 degrees F."
   ]
  },
  {
   "cell_type": "code",
   "execution_count": 25,
   "metadata": {},
   "outputs": [
    {
     "data": {
      "text/html": [
       "<div>\n",
       "<table border=\"1\" class=\"dataframe\">\n",
       "  <thead>\n",
       "    <tr style=\"text-align: right;\">\n",
       "      <th></th>\n",
       "      <th>Jan</th>\n",
       "      <th>July</th>\n",
       "      <th>diff</th>\n",
       "    </tr>\n",
       "    <tr>\n",
       "      <th>City</th>\n",
       "      <th></th>\n",
       "      <th></th>\n",
       "      <th></th>\n",
       "    </tr>\n",
       "  </thead>\n",
       "  <tbody>\n",
       "    <tr>\n",
       "      <th>Vienna</th>\n",
       "      <td>34</td>\n",
       "      <td>75</td>\n",
       "      <td>41</td>\n",
       "    </tr>\n",
       "    <tr>\n",
       "      <th>Copenhagen</th>\n",
       "      <td>36</td>\n",
       "      <td>72</td>\n",
       "      <td>36</td>\n",
       "    </tr>\n",
       "    <tr>\n",
       "      <th>Paris</th>\n",
       "      <td>42</td>\n",
       "      <td>76</td>\n",
       "      <td>34</td>\n",
       "    </tr>\n",
       "    <tr>\n",
       "      <th>Berlin</th>\n",
       "      <td>35</td>\n",
       "      <td>74</td>\n",
       "      <td>39</td>\n",
       "    </tr>\n",
       "    <tr>\n",
       "      <th>Athens</th>\n",
       "      <td>54</td>\n",
       "      <td>90</td>\n",
       "      <td>36</td>\n",
       "    </tr>\n",
       "  </tbody>\n",
       "</table>\n",
       "</div>"
      ],
      "text/plain": [
       "            Jan  July  diff\n",
       "City                       \n",
       "Vienna       34    75    41\n",
       "Copenhagen   36    72    36\n",
       "Paris        42    76    34\n",
       "Berlin       35    74    39\n",
       "Athens       54    90    36"
      ]
     },
     "execution_count": 25,
     "metadata": {},
     "output_type": "execute_result"
    }
   ],
   "source": [
    "#!cat ../data/Temperatures.txt\n",
    "\n",
    "data = pd.read_table(\"../data/Temperatures.txt\", index_col=\"City\")\n",
    "data['diff'] = data.July - data.Jan\n",
    "data.head()"
   ]
  },
  {
   "cell_type": "code",
   "execution_count": 26,
   "metadata": {},
   "outputs": [
    {
     "data": {
      "text/html": [
       "<div>\n",
       "<table border=\"1\" class=\"dataframe\">\n",
       "  <thead>\n",
       "    <tr style=\"text-align: right;\">\n",
       "      <th></th>\n",
       "      <th>Jan</th>\n",
       "      <th>July</th>\n",
       "      <th>diff</th>\n",
       "    </tr>\n",
       "  </thead>\n",
       "  <tbody>\n",
       "    <tr>\n",
       "      <th>count</th>\n",
       "      <td>12.000000</td>\n",
       "      <td>12.000000</td>\n",
       "      <td>12.000000</td>\n",
       "    </tr>\n",
       "    <tr>\n",
       "      <th>mean</th>\n",
       "      <td>40.583333</td>\n",
       "      <td>77.416667</td>\n",
       "      <td>36.833333</td>\n",
       "    </tr>\n",
       "    <tr>\n",
       "      <th>std</th>\n",
       "      <td>9.110018</td>\n",
       "      <td>7.982462</td>\n",
       "      <td>8.663752</td>\n",
       "    </tr>\n",
       "    <tr>\n",
       "      <th>min</th>\n",
       "      <td>21.000000</td>\n",
       "      <td>65.000000</td>\n",
       "      <td>22.000000</td>\n",
       "    </tr>\n",
       "    <tr>\n",
       "      <th>25%</th>\n",
       "      <td>35.750000</td>\n",
       "      <td>72.750000</td>\n",
       "      <td>32.750000</td>\n",
       "    </tr>\n",
       "    <tr>\n",
       "      <th>50%</th>\n",
       "      <td>41.000000</td>\n",
       "      <td>75.500000</td>\n",
       "      <td>36.000000</td>\n",
       "    </tr>\n",
       "    <tr>\n",
       "      <th>75%</th>\n",
       "      <td>44.750000</td>\n",
       "      <td>84.750000</td>\n",
       "      <td>40.250000</td>\n",
       "    </tr>\n",
       "    <tr>\n",
       "      <th>max</th>\n",
       "      <td>54.000000</td>\n",
       "      <td>90.000000</td>\n",
       "      <td>55.000000</td>\n",
       "    </tr>\n",
       "  </tbody>\n",
       "</table>\n",
       "</div>"
      ],
      "text/plain": [
       "             Jan       July       diff\n",
       "count  12.000000  12.000000  12.000000\n",
       "mean   40.583333  77.416667  36.833333\n",
       "std     9.110018   7.982462   8.663752\n",
       "min    21.000000  65.000000  22.000000\n",
       "25%    35.750000  72.750000  32.750000\n",
       "50%    41.000000  75.500000  36.000000\n",
       "75%    44.750000  84.750000  40.250000\n",
       "max    54.000000  90.000000  55.000000"
      ]
     },
     "execution_count": 26,
     "metadata": {},
     "output_type": "execute_result"
    }
   ],
   "source": [
    "data.describe()"
   ]
  },
  {
   "cell_type": "code",
   "execution_count": 27,
   "metadata": {},
   "outputs": [
    {
     "data": {
      "image/png": "[encoded data removed]",
      "text/plain": [
       "<matplotlib.figure.Figure at 0x11ac1b470>"
      ]
     },
     "metadata": {},
     "output_type": "display_data"
    }
   ],
   "source": [
    "data.hist('diff', bins=7);"
   ]
  },
  {
   "cell_type": "code",
   "execution_count": 35,
   "metadata": {},
   "outputs": [
    {
     "name": "stdout",
     "output_type": "stream",
     "text": [
      "n: 12, y: 36.833333333333336, s: 8.663752423783015\n",
      "\n",
      "se: 2.501009897031698\n",
      "df: 11\n",
      "t: 1.7958848187036691\n",
      "P-value: na\n",
      "\n"
     ]
    },
    {
     "data": {
      "text/plain": [
       "(32.34180762782648, 36.833333333333336, 41.32485903884019)"
      ]
     },
     "execution_count": 35,
     "metadata": {},
     "output_type": "execute_result"
    }
   ],
   "source": [
    "n = data['diff'].size\n",
    "y = data['diff'].mean()\n",
    "s = data['diff'].std()\n",
    "\n",
    "se = s / math.sqrt(n)\n",
    "df = n - 1\n",
    "t = stats.t.ppf(0.95, df=df)\n",
    "\n",
    "print(\"n: {}, y: {}, s: {}\".format(n, y, s))\n",
    "\n",
    "print(template.format(se, df, t, \"na\"))\n",
    "\n",
    "(y - t * se, y, y + t * se)"
   ]
  },
  {
   "cell_type": "markdown",
   "metadata": {},
   "source": [
    "## 25.17\n",
    "\n",
    "### Answers\n",
    "\n",
    "* two-sample t-test -- not paired data\n",
    "* (1.6295823781073686, 7.333333333333332, 13.037084288559296)"
   ]
  },
  {
   "cell_type": "code",
   "execution_count": 38,
   "metadata": {},
   "outputs": [
    {
     "data": {
      "text/html": [
       "<div>\n",
       "<table border=\"1\" class=\"dataframe\">\n",
       "  <thead>\n",
       "    <tr style=\"text-align: right;\">\n",
       "      <th></th>\n",
       "      <th>Boys</th>\n",
       "      <th>Girls</th>\n",
       "    </tr>\n",
       "  </thead>\n",
       "  <tbody>\n",
       "    <tr>\n",
       "      <th>0</th>\n",
       "      <td>17</td>\n",
       "      <td>24</td>\n",
       "    </tr>\n",
       "    <tr>\n",
       "      <th>1</th>\n",
       "      <td>27</td>\n",
       "      <td>7</td>\n",
       "    </tr>\n",
       "    <tr>\n",
       "      <th>2</th>\n",
       "      <td>31</td>\n",
       "      <td>14</td>\n",
       "    </tr>\n",
       "    <tr>\n",
       "      <th>3</th>\n",
       "      <td>17</td>\n",
       "      <td>16</td>\n",
       "    </tr>\n",
       "    <tr>\n",
       "      <th>4</th>\n",
       "      <td>25</td>\n",
       "      <td>2</td>\n",
       "    </tr>\n",
       "  </tbody>\n",
       "</table>\n",
       "</div>"
      ],
      "text/plain": [
       "   Boys  Girls\n",
       "0    17     24\n",
       "1    27      7\n",
       "2    31     14\n",
       "3    17     16\n",
       "4    25      2"
      ]
     },
     "execution_count": 38,
     "metadata": {},
     "output_type": "execute_result"
    }
   ],
   "source": [
    "#!cat ../data/Push-ups_1.txt\n",
    "data = pd.read_table(\"../data/Push-ups_1.txt\")\n",
    "data.head()"
   ]
  },
  {
   "cell_type": "code",
   "execution_count": 46,
   "metadata": {},
   "outputs": [
    {
     "data": {
      "image/png": "[encoded data removed]",
      "text/plain": [
       "<matplotlib.figure.Figure at 0x11b4e0400>"
      ]
     },
     "metadata": {},
     "output_type": "display_data"
    }
   ],
   "source": [
    "plt.boxplot([data.Boys, data.Girls], labels=[\"Boys\", \"Girls\"]);"
   ]
  },
  {
   "cell_type": "code",
   "execution_count": 47,
   "metadata": {},
   "outputs": [
    {
     "data": {
      "image/png": "[encoded data removed]",
      "text/plain": [
       "<matplotlib.figure.Figure at 0x11b5dc240>"
      ]
     },
     "metadata": {},
     "output_type": "display_data"
    }
   ],
   "source": [
    "data.hist(\"Boys\");"
   ]
  },
  {
   "cell_type": "code",
   "execution_count": 49,
   "metadata": {},
   "outputs": [
    {
     "data": {
      "image/png": "[encoded data removed]",
      "text/plain": [
       "<matplotlib.figure.Figure at 0x11b0e9f60>"
      ]
     },
     "metadata": {},
     "output_type": "display_data"
    }
   ],
   "source": [
    "data.hist(\"Girls\");"
   ]
  },
  {
   "cell_type": "code",
   "execution_count": 53,
   "metadata": {},
   "outputs": [
    {
     "data": {
      "text/plain": [
       "(1.6295823781073686, 7.333333333333332, 13.037084288559296)"
      ]
     },
     "execution_count": 53,
     "metadata": {},
     "output_type": "execute_result"
    }
   ],
   "source": [
    "nb = data.Boys.size\n",
    "yb = data.Boys.mean()\n",
    "sb = data.Boys.std()\n",
    "\n",
    "ng = data.Girls.size\n",
    "yg = data.Girls.mean()\n",
    "sg = data.Girls.std()\n",
    "\n",
    "diff = yb - yg\n",
    "se = math.sqrt(sb ** 2 / nb + sg ** 2 / ng)\n",
    "df = degrees_freedom(sb, nb, sg, ng)\n",
    "\n",
    "t = stats.t.ppf(0.95, df=df)\n",
    "\n",
    "(diff - se * t, diff, diff + se * t)"
   ]
  },
  {
   "cell_type": "markdown",
   "metadata": {},
   "source": [
    "## 25.19\n",
    "\n",
    "### Answers\n",
    "\n",
    "* a) paired t-test: \n",
    "    - paired samples\n",
    "    - groups (i.e. workers) are independent\n",
    "    - randomly selected\n",
    "    - \"approximately\" normal\n",
    "* b) \n",
    "    - H0: mu(diff) = 0\n",
    "    - HA: mu(diff) > 0\n",
    "    - given P-value = 0.003, reject H0 - evidence support claim of positive difference\n",
    "* c) Type I\n",
    "* d) todo"
   ]
  },
  {
   "cell_type": "code",
   "execution_count": 66,
   "metadata": {},
   "outputs": [
    {
     "data": {
      "text/html": [
       "<div>\n",
       "<table border=\"1\" class=\"dataframe\">\n",
       "  <thead>\n",
       "    <tr style=\"text-align: right;\">\n",
       "      <th></th>\n",
       "      <th>Before</th>\n",
       "      <th>After</th>\n",
       "      <th>diff</th>\n",
       "    </tr>\n",
       "    <tr>\n",
       "      <th>Worker</th>\n",
       "      <th></th>\n",
       "      <th></th>\n",
       "      <th></th>\n",
       "    </tr>\n",
       "  </thead>\n",
       "  <tbody>\n",
       "    <tr>\n",
       "      <th>1</th>\n",
       "      <td>34</td>\n",
       "      <td>33</td>\n",
       "      <td>-1</td>\n",
       "    </tr>\n",
       "    <tr>\n",
       "      <th>2</th>\n",
       "      <td>28</td>\n",
       "      <td>36</td>\n",
       "      <td>8</td>\n",
       "    </tr>\n",
       "    <tr>\n",
       "      <th>3</th>\n",
       "      <td>29</td>\n",
       "      <td>50</td>\n",
       "      <td>21</td>\n",
       "    </tr>\n",
       "    <tr>\n",
       "      <th>4</th>\n",
       "      <td>45</td>\n",
       "      <td>41</td>\n",
       "      <td>-4</td>\n",
       "    </tr>\n",
       "    <tr>\n",
       "      <th>5</th>\n",
       "      <td>26</td>\n",
       "      <td>37</td>\n",
       "      <td>11</td>\n",
       "    </tr>\n",
       "  </tbody>\n",
       "</table>\n",
       "</div>"
      ],
      "text/plain": [
       "        Before  After  diff\n",
       "Worker                     \n",
       "1           34     33    -1\n",
       "2           28     36     8\n",
       "3           29     50    21\n",
       "4           45     41    -4\n",
       "5           26     37    11"
      ]
     },
     "execution_count": 66,
     "metadata": {},
     "output_type": "execute_result"
    }
   ],
   "source": [
    "#!cat ../data/Job_satisfaction.txt\n",
    "data = pd.read_table(\"../data/Job_satisfaction.txt\", index_col=\"Worker\")\n",
    "data['diff'] = data.After - data.Before\n",
    "data.head()"
   ]
  },
  {
   "cell_type": "code",
   "execution_count": 68,
   "metadata": {},
   "outputs": [
    {
     "data": {
      "image/png": "[encoded data removed]",
      "text/plain": [
       "<matplotlib.figure.Figure at 0x11a70f9e8>"
      ]
     },
     "metadata": {},
     "output_type": "display_data"
    }
   ],
   "source": [
    "data.hist('diff');"
   ]
  },
  {
   "cell_type": "code",
   "execution_count": 69,
   "metadata": {},
   "outputs": [
    {
     "data": {
      "image/png": "[encoded data removed]",
      "text/plain": [
       "<matplotlib.figure.Figure at 0x11b0b6278>"
      ]
     },
     "metadata": {},
     "output_type": "display_data"
    }
   ],
   "source": [
    "data.boxplot('diff');"
   ]
  },
  {
   "cell_type": "code",
   "execution_count": 13,
   "metadata": {},
   "outputs": [
    {
     "name": "stdout",
     "output_type": "stream",
     "text": [
      "avg diff: 12.5\n",
      "\n",
      "se: 9.384464919119354\n",
      "df: 11\n",
      "t: 1.3319885691653275\n",
      "P-value: 0.10490176268627349\n",
      "\n"
     ]
    }
   ],
   "source": [
    "n = data['diff'].size\n",
    "y = data['diff'].mean()\n",
    "s = data['diff'].std()\n",
    "\n",
    "print(\"avg diff: {}\".format(y))\n",
    "\n",
    "se = s / math.sqrt(n)\n",
    "t = y / se\n",
    "df = n - 1\n",
    "pvalue = 1 - stats.t.cdf(t, df=df)\n",
    "\n",
    "print(template.format(se, df, t, pvalue))"
   ]
  },
  {
   "cell_type": "markdown",
   "metadata": {},
   "source": [
    "## 25.21\n",
    "\n",
    "### Answers\n",
    "\n",
    "* assumptions\n",
    "    - paired: by brand, across flavors\n",
    "    - brands are independent\n",
    "    - how were the brands selected -- not sure if this is random, or representative\n",
    "    - looks to be an outlier; great value shows a really low difference due to the very low Vanilla value; probably bad data?\n",
    "* high P-value (w/ and w/o outlier) : so fail to reject H0.  evidence doesn't support claim of a difference."
   ]
  },
  {
   "cell_type": "code",
   "execution_count": 19,
   "metadata": {},
   "outputs": [
    {
     "data": {
      "text/html": [
       "<div>\n",
       "<table border=\"1\" class=\"dataframe\">\n",
       "  <thead>\n",
       "    <tr style=\"text-align: right;\">\n",
       "      <th></th>\n",
       "      <th>Strawberry</th>\n",
       "      <th>Vanilla</th>\n",
       "      <th>diff</th>\n",
       "    </tr>\n",
       "    <tr>\n",
       "      <th>Brand</th>\n",
       "      <th></th>\n",
       "      <th></th>\n",
       "      <th></th>\n",
       "    </tr>\n",
       "  </thead>\n",
       "  <tbody>\n",
       "    <tr>\n",
       "      <th>America's Choice</th>\n",
       "      <td>210</td>\n",
       "      <td>200</td>\n",
       "      <td>10</td>\n",
       "    </tr>\n",
       "    <tr>\n",
       "      <th>Breyer's Lowfat</th>\n",
       "      <td>220</td>\n",
       "      <td>220</td>\n",
       "      <td>0</td>\n",
       "    </tr>\n",
       "    <tr>\n",
       "      <th>Columbo</th>\n",
       "      <td>220</td>\n",
       "      <td>180</td>\n",
       "      <td>40</td>\n",
       "    </tr>\n",
       "    <tr>\n",
       "      <th>Dannon Light 'n Fit</th>\n",
       "      <td>120</td>\n",
       "      <td>120</td>\n",
       "      <td>0</td>\n",
       "    </tr>\n",
       "    <tr>\n",
       "      <th>Dannon Lowfat</th>\n",
       "      <td>210</td>\n",
       "      <td>230</td>\n",
       "      <td>-20</td>\n",
       "    </tr>\n",
       "    <tr>\n",
       "      <th>Dannon laCreme</th>\n",
       "      <td>140</td>\n",
       "      <td>140</td>\n",
       "      <td>0</td>\n",
       "    </tr>\n",
       "    <tr>\n",
       "      <th>Great Value</th>\n",
       "      <td>180</td>\n",
       "      <td>80</td>\n",
       "      <td>100</td>\n",
       "    </tr>\n",
       "    <tr>\n",
       "      <th>La Yogurt</th>\n",
       "      <td>170</td>\n",
       "      <td>160</td>\n",
       "      <td>10</td>\n",
       "    </tr>\n",
       "    <tr>\n",
       "      <th>Mountain High</th>\n",
       "      <td>200</td>\n",
       "      <td>170</td>\n",
       "      <td>30</td>\n",
       "    </tr>\n",
       "    <tr>\n",
       "      <th>Stoneyfield Farm</th>\n",
       "      <td>100</td>\n",
       "      <td>120</td>\n",
       "      <td>-20</td>\n",
       "    </tr>\n",
       "    <tr>\n",
       "      <th>Yoplait Custard</th>\n",
       "      <td>190</td>\n",
       "      <td>190</td>\n",
       "      <td>0</td>\n",
       "    </tr>\n",
       "    <tr>\n",
       "      <th>Yoplait Light</th>\n",
       "      <td>100</td>\n",
       "      <td>100</td>\n",
       "      <td>0</td>\n",
       "    </tr>\n",
       "  </tbody>\n",
       "</table>\n",
       "</div>"
      ],
      "text/plain": [
       "                     Strawberry  Vanilla  diff\n",
       "Brand                                         \n",
       "America's Choice            210      200    10\n",
       "Breyer's Lowfat             220      220     0\n",
       "Columbo                     220      180    40\n",
       "Dannon Light 'n Fit         120      120     0\n",
       "Dannon Lowfat               210      230   -20\n",
       "Dannon laCreme              140      140     0\n",
       "Great Value                 180       80   100\n",
       "La Yogurt                   170      160    10\n",
       "Mountain High               200      170    30\n",
       "Stoneyfield Farm            100      120   -20\n",
       "Yoplait Custard             190      190     0\n",
       "Yoplait Light               100      100     0"
      ]
     },
     "execution_count": 19,
     "metadata": {},
     "output_type": "execute_result"
    }
   ],
   "source": [
    "#!cat ../data/Yogurt.txt\n",
    "data = pd.read_table(\"../data/Yogurt.txt\", index_col=\"Brand\")\n",
    "data['diff'] = data.Strawberry - data.Vanilla\n",
    "data"
   ]
  },
  {
   "cell_type": "code",
   "execution_count": 20,
   "metadata": {},
   "outputs": [
    {
     "data": {
      "image/png": "[encoded data removed]",
      "text/plain": [
       "<matplotlib.figure.Figure at 0x11abadc50>"
      ]
     },
     "metadata": {},
     "output_type": "display_data"
    }
   ],
   "source": [
    "data.hist('diff');"
   ]
  },
  {
   "cell_type": "code",
   "execution_count": 21,
   "metadata": {},
   "outputs": [
    {
     "name": "stdout",
     "output_type": "stream",
     "text": [
      "avg diff: 12.5\n",
      "\n",
      "se: 9.384464919119354\n",
      "df: 11\n",
      "t: 1.3319885691653275\n",
      "P-value: 0.20980352537254698\n",
      "\n"
     ]
    }
   ],
   "source": [
    "# H0: mu(diff) = 0\n",
    "# HA: mu(diff) <> 0\n",
    "\n",
    "n = data['diff'].size\n",
    "y = data['diff'].mean()\n",
    "s = data['diff'].std()\n",
    "\n",
    "print(\"avg diff: {}\".format(y))\n",
    "\n",
    "se = s / math.sqrt(n)\n",
    "t = y / se\n",
    "df = n - 1\n",
    "pvalue = 2 * (1 - stats.t.cdf(t, df=df))\n",
    "\n",
    "print(template.format(se, df, t, pvalue))"
   ]
  },
  {
   "cell_type": "code",
   "execution_count": 22,
   "metadata": {},
   "outputs": [
    {
     "name": "stdout",
     "output_type": "stream",
     "text": [
      "avg diff: 4.545454545454546\n",
      "\n",
      "se: 5.454545454545454\n",
      "df: 10\n",
      "t: 0.8333333333333335\n",
      "P-value: 0.424113662095857\n",
      "\n"
     ]
    }
   ],
   "source": [
    "## Without outlier\n",
    "data = data.drop(labels=\"Great Value\")\n",
    "\n",
    "n = data['diff'].size\n",
    "y = data['diff'].mean()\n",
    "s = data['diff'].std()\n",
    "\n",
    "print(\"avg diff: {}\".format(y))\n",
    "\n",
    "se = s / math.sqrt(n)\n",
    "t = y / se\n",
    "df = n - 1\n",
    "pvalue = 2* (1 - stats.t.cdf(t, df=df))\n",
    "\n",
    "print(template.format(se, df, t, pvalue))"
   ]
  },
  {
   "cell_type": "markdown",
   "metadata": {},
   "source": [
    "## 25.23\n",
    "\n",
    "### Answers\n",
    "\n",
    "* a) (131.78858435484145, 138.7, 145.61141564515853)\n",
    "    - cars randomly selected?\n",
    "    - runs are independent\n",
    "    - appears nearly normal\n",
    "    - We are 95% confident that the true mean stopping distance on dry pavement is captured by the range 131.8 to 145.6 ft.\n",
    "* b) (38.78191635566824, 50.7, 62.61808364433177)\n",
    "    - paired - same car across runs\n",
    "    - runs are independent\n",
    "    - appears approx normal\n",
    "    - concern: several outliers both above and particularly below mean\n",
    "    - We are 95% confident that the true mean difference in stopping distance between wet and dry pavement is captured by the range 38.8 to 62.6 ft."
   ]
  },
  {
   "cell_type": "code",
   "execution_count": 25,
   "metadata": {},
   "outputs": [
    {
     "data": {
      "text/html": [
       "<div>\n",
       "<table border=\"1\" class=\"dataframe\">\n",
       "  <thead>\n",
       "    <tr style=\"text-align: right;\">\n",
       "      <th></th>\n",
       "      <th>Dry Pavement</th>\n",
       "      <th>Wet Pavement</th>\n",
       "      <th>diff</th>\n",
       "    </tr>\n",
       "    <tr>\n",
       "      <th>Car</th>\n",
       "      <th></th>\n",
       "      <th></th>\n",
       "      <th></th>\n",
       "    </tr>\n",
       "  </thead>\n",
       "  <tbody>\n",
       "    <tr>\n",
       "      <th>1</th>\n",
       "      <td>150</td>\n",
       "      <td>201</td>\n",
       "      <td>51</td>\n",
       "    </tr>\n",
       "    <tr>\n",
       "      <th>2</th>\n",
       "      <td>147</td>\n",
       "      <td>220</td>\n",
       "      <td>73</td>\n",
       "    </tr>\n",
       "    <tr>\n",
       "      <th>3</th>\n",
       "      <td>136</td>\n",
       "      <td>192</td>\n",
       "      <td>56</td>\n",
       "    </tr>\n",
       "    <tr>\n",
       "      <th>4</th>\n",
       "      <td>134</td>\n",
       "      <td>146</td>\n",
       "      <td>12</td>\n",
       "    </tr>\n",
       "    <tr>\n",
       "      <th>5</th>\n",
       "      <td>130</td>\n",
       "      <td>182</td>\n",
       "      <td>52</td>\n",
       "    </tr>\n",
       "    <tr>\n",
       "      <th>6</th>\n",
       "      <td>134</td>\n",
       "      <td>173</td>\n",
       "      <td>39</td>\n",
       "    </tr>\n",
       "    <tr>\n",
       "      <th>7</th>\n",
       "      <td>134</td>\n",
       "      <td>202</td>\n",
       "      <td>68</td>\n",
       "    </tr>\n",
       "    <tr>\n",
       "      <th>8</th>\n",
       "      <td>128</td>\n",
       "      <td>180</td>\n",
       "      <td>52</td>\n",
       "    </tr>\n",
       "    <tr>\n",
       "      <th>9</th>\n",
       "      <td>136</td>\n",
       "      <td>192</td>\n",
       "      <td>56</td>\n",
       "    </tr>\n",
       "    <tr>\n",
       "      <th>10</th>\n",
       "      <td>158</td>\n",
       "      <td>206</td>\n",
       "      <td>48</td>\n",
       "    </tr>\n",
       "  </tbody>\n",
       "</table>\n",
       "</div>"
      ],
      "text/plain": [
       "     Dry Pavement  Wet Pavement  diff\n",
       "Car                                  \n",
       "1             150           201    51\n",
       "2             147           220    73\n",
       "3             136           192    56\n",
       "4             134           146    12\n",
       "5             130           182    52\n",
       "6             134           173    39\n",
       "7             134           202    68\n",
       "8             128           180    52\n",
       "9             136           192    56\n",
       "10            158           206    48"
      ]
     },
     "execution_count": 25,
     "metadata": {},
     "output_type": "execute_result"
    }
   ],
   "source": [
    "#cat ../data/Braking_test2.txt\n",
    "data = pd.read_table(\"../data/Braking_test2.txt\", index_col=\"Car\")\n",
    "data['diff'] = data['Wet Pavement'] - data['Dry Pavement']\n",
    "data"
   ]
  },
  {
   "cell_type": "code",
   "execution_count": 29,
   "metadata": {},
   "outputs": [
    {
     "data": {
      "image/png": "[encoded data removed]",
      "text/plain": [
       "<matplotlib.figure.Figure at 0x11abab908>"
      ]
     },
     "metadata": {},
     "output_type": "display_data"
    }
   ],
   "source": [
    "data.hist('Dry Pavement');\n",
    "# - unimodal\n",
    "# - slightly right skewed\n",
    "# - approx. normal"
   ]
  },
  {
   "cell_type": "code",
   "execution_count": 33,
   "metadata": {},
   "outputs": [
    {
     "data": {
      "image/png": "[encoded data removed]",
      "text/plain": [
       "<matplotlib.figure.Figure at 0x11a685438>"
      ]
     },
     "metadata": {},
     "output_type": "display_data"
    }
   ],
   "source": [
    "data.boxplot('Dry Pavement');"
   ]
  },
  {
   "cell_type": "code",
   "execution_count": 31,
   "metadata": {},
   "outputs": [
    {
     "data": {
      "image/png": "[encoded data removed]",
      "text/plain": [
       "<matplotlib.figure.Figure at 0x11ad2a748>"
      ]
     },
     "metadata": {},
     "output_type": "display_data"
    }
   ],
   "source": [
    "data.hist('diff');\n",
    "# - unimodal\n",
    "# - slightly left skewed\n",
    "# - approx normal"
   ]
  },
  {
   "cell_type": "code",
   "execution_count": 35,
   "metadata": {},
   "outputs": [
    {
     "data": {
      "image/png": "[encoded data removed]",
      "text/plain": [
       "<matplotlib.figure.Figure at 0x11b117860>"
      ]
     },
     "metadata": {},
     "output_type": "display_data"
    }
   ],
   "source": [
    "data.boxplot('diff');\n",
    "# - several outliers both below and above mean"
   ]
  },
  {
   "cell_type": "code",
   "execution_count": 27,
   "metadata": {},
   "outputs": [
    {
     "data": {
      "text/plain": [
       "(131.78858435484145, 138.7, 145.61141564515853)"
      ]
     },
     "execution_count": 27,
     "metadata": {},
     "output_type": "execute_result"
    }
   ],
   "source": [
    "# a\n",
    "y = data['Dry Pavement'].mean()\n",
    "s = data['Dry Pavement'].std()\n",
    "n = data['Dry Pavement'].size\n",
    "\n",
    "se = s / math.sqrt(n)\n",
    "df = n - 1\n",
    "t = stats.t.ppf(0.975, df=df)\n",
    "\n",
    "(y - t * se, y, y + t * se)"
   ]
  },
  {
   "cell_type": "code",
   "execution_count": 32,
   "metadata": {},
   "outputs": [
    {
     "data": {
      "text/plain": [
       "(38.78191635566824, 50.7, 62.61808364433177)"
      ]
     },
     "execution_count": 32,
     "metadata": {},
     "output_type": "execute_result"
    }
   ],
   "source": [
    "# b\n",
    "y = data['diff'].mean()\n",
    "s = data['diff'].std()\n",
    "n = data['diff'].size\n",
    "\n",
    "se = s / math.sqrt(n)\n",
    "df = n - 1\n",
    "t = stats.t.ppf(0.975, df=df)\n",
    "\n",
    "(y - t * se, y, y + t * se)"
   ]
  },
  {
   "cell_type": "markdown",
   "metadata": {},
   "source": [
    "## 25.25\n",
    "\n",
    "### Answers\n",
    "\n",
    "* NOTE: the book references 2006 data, but this is 2011 data.  For many of the colleges, the increases are 2X or more during that timeframe, so the results are quite different from what's noted in the key.\n",
    "\n",
    "* a) (6680.5012728610245, 8701.611111111111, 10722.720949361197)\n",
    "* b) We are 90% confident that the average difference in tuition between residents and non-residents falls in the range \\$6681 to \\$10,723 (when excluding the single outlier of UC Irvine).\n",
    "* c) NA - (per note on data used)"
   ]
  },
  {
   "cell_type": "code",
   "execution_count": 43,
   "metadata": {},
   "outputs": [
    {
     "data": {
      "text/html": [
       "<div>\n",
       "<table border=\"1\" class=\"dataframe\">\n",
       "  <thead>\n",
       "    <tr style=\"text-align: right;\">\n",
       "      <th></th>\n",
       "      <th>Resident</th>\n",
       "      <th>Non-Res</th>\n",
       "      <th>diff</th>\n",
       "    </tr>\n",
       "    <tr>\n",
       "      <th>Institution</th>\n",
       "      <th></th>\n",
       "      <th></th>\n",
       "      <th></th>\n",
       "    </tr>\n",
       "  </thead>\n",
       "  <tbody>\n",
       "    <tr>\n",
       "      <th>Univ of Akron (OH)</th>\n",
       "      <td>9545</td>\n",
       "      <td>17468</td>\n",
       "      <td>7923</td>\n",
       "    </tr>\n",
       "    <tr>\n",
       "      <th>Athens State (AL)</th>\n",
       "      <td>5340</td>\n",
       "      <td>9930</td>\n",
       "      <td>4590</td>\n",
       "    </tr>\n",
       "    <tr>\n",
       "      <th>Ball State (IN)</th>\n",
       "      <td>8558</td>\n",
       "      <td>22538</td>\n",
       "      <td>13980</td>\n",
       "    </tr>\n",
       "    <tr>\n",
       "      <th>Bloomsburg U (PA)</th>\n",
       "      <td>8082</td>\n",
       "      <td>17442</td>\n",
       "      <td>9360</td>\n",
       "    </tr>\n",
       "    <tr>\n",
       "      <th>UC Irvine (CA)</th>\n",
       "      <td>13122</td>\n",
       "      <td>36000</td>\n",
       "      <td>22878</td>\n",
       "    </tr>\n",
       "    <tr>\n",
       "      <th>Central State (OH)</th>\n",
       "      <td>5672</td>\n",
       "      <td>12648</td>\n",
       "      <td>6976</td>\n",
       "    </tr>\n",
       "    <tr>\n",
       "      <th>Clarion U (PA)</th>\n",
       "      <td>8828</td>\n",
       "      <td>15068</td>\n",
       "      <td>6240</td>\n",
       "    </tr>\n",
       "    <tr>\n",
       "      <th>Dakota State</th>\n",
       "      <td>7621</td>\n",
       "      <td>9336</td>\n",
       "      <td>1715</td>\n",
       "    </tr>\n",
       "    <tr>\n",
       "      <th>Fairmont State (WV)</th>\n",
       "      <td>5326</td>\n",
       "      <td>11230</td>\n",
       "      <td>5904</td>\n",
       "    </tr>\n",
       "    <tr>\n",
       "      <th>Johnson State (VT)</th>\n",
       "      <td>9468</td>\n",
       "      <td>19908</td>\n",
       "      <td>10440</td>\n",
       "    </tr>\n",
       "    <tr>\n",
       "      <th>Lock Haven U (PA)</th>\n",
       "      <td>8239</td>\n",
       "      <td>15599</td>\n",
       "      <td>7360</td>\n",
       "    </tr>\n",
       "    <tr>\n",
       "      <th>New College of Florida</th>\n",
       "      <td>6060</td>\n",
       "      <td>29088</td>\n",
       "      <td>23028</td>\n",
       "    </tr>\n",
       "    <tr>\n",
       "      <th>Oakland U (MI)</th>\n",
       "      <td>9938</td>\n",
       "      <td>23190</td>\n",
       "      <td>13252</td>\n",
       "    </tr>\n",
       "    <tr>\n",
       "      <th>U Pittsburgh</th>\n",
       "      <td>16132</td>\n",
       "      <td>25540</td>\n",
       "      <td>9408</td>\n",
       "    </tr>\n",
       "    <tr>\n",
       "      <th>Savannah State (GA)</th>\n",
       "      <td>6032</td>\n",
       "      <td>17646</td>\n",
       "      <td>11614</td>\n",
       "    </tr>\n",
       "    <tr>\n",
       "      <th>SE Louisiana</th>\n",
       "      <td>4634</td>\n",
       "      <td>14139</td>\n",
       "      <td>9505</td>\n",
       "    </tr>\n",
       "    <tr>\n",
       "      <th>W Liberty University (WV)</th>\n",
       "      <td>5266</td>\n",
       "      <td>13140</td>\n",
       "      <td>7874</td>\n",
       "    </tr>\n",
       "    <tr>\n",
       "      <th>W Texas College</th>\n",
       "      <td>2370</td>\n",
       "      <td>3750</td>\n",
       "      <td>1380</td>\n",
       "    </tr>\n",
       "    <tr>\n",
       "      <th>Worcester State (MA)</th>\n",
       "      <td>7653</td>\n",
       "      <td>13733</td>\n",
       "      <td>6080</td>\n",
       "    </tr>\n",
       "  </tbody>\n",
       "</table>\n",
       "</div>"
      ],
      "text/plain": [
       "                           Resident  Non-Res   diff\n",
       "Institution                                        \n",
       "Univ of Akron (OH)             9545    17468   7923\n",
       "Athens State (AL)              5340     9930   4590\n",
       "Ball State (IN)                8558    22538  13980\n",
       "Bloomsburg U (PA)              8082    17442   9360\n",
       "UC Irvine (CA)                13122    36000  22878\n",
       "Central State (OH)             5672    12648   6976\n",
       "Clarion U (PA)                 8828    15068   6240\n",
       "Dakota State                   7621     9336   1715\n",
       "Fairmont State (WV)            5326    11230   5904\n",
       "Johnson State (VT)             9468    19908  10440\n",
       "Lock Haven U (PA)              8239    15599   7360\n",
       "New College of Florida         6060    29088  23028\n",
       "Oakland U (MI)                 9938    23190  13252\n",
       "U Pittsburgh                  16132    25540   9408\n",
       "Savannah State (GA)            6032    17646  11614\n",
       "SE Louisiana                   4634    14139   9505\n",
       "W Liberty University (WV)      5266    13140   7874\n",
       "W Texas College                2370     3750   1380\n",
       "Worcester State (MA)           7653    13733   6080"
      ]
     },
     "execution_count": 43,
     "metadata": {},
     "output_type": "execute_result"
    }
   ],
   "source": [
    "#!cat ../data/Tuition_2011.txt\n",
    "data = pd.read_table(\"../data/Tuition_2011.txt\", index_col=\"Institution\")\n",
    "data['diff'] = data['Non-Res'] - data['Resident']\n",
    "data"
   ]
  },
  {
   "cell_type": "code",
   "execution_count": 45,
   "metadata": {},
   "outputs": [
    {
     "data": {
      "image/png": "[encoded data removed]",
      "text/plain": [
       "<matplotlib.figure.Figure at 0x11af22748>"
      ]
     },
     "metadata": {},
     "output_type": "display_data"
    }
   ],
   "source": [
    "data.hist('diff');"
   ]
  },
  {
   "cell_type": "code",
   "execution_count": 46,
   "metadata": {},
   "outputs": [
    {
     "data": {
      "image/png": "[encoded data removed]",
      "text/plain": [
       "<matplotlib.figure.Figure at 0x11b3b40f0>"
      ]
     },
     "metadata": {},
     "output_type": "display_data"
    }
   ],
   "source": [
    "data.boxplot('diff');"
   ]
  },
  {
   "cell_type": "code",
   "execution_count": 47,
   "metadata": {
    "collapsed": true
   },
   "outputs": [],
   "source": [
    "# remove UC Irvine -- outlier\n",
    "data = data.drop(\"UC Irvine (CA)\")"
   ]
  },
  {
   "cell_type": "code",
   "execution_count": 48,
   "metadata": {},
   "outputs": [
    {
     "data": {
      "text/plain": [
       "(6680.5012728610245, 8701.611111111111, 10722.720949361197)"
      ]
     },
     "execution_count": 48,
     "metadata": {},
     "output_type": "execute_result"
    }
   ],
   "source": [
    "# a\n",
    "y = data['diff'].mean()\n",
    "s = data['diff'].std()\n",
    "n = data['diff'].size\n",
    "\n",
    "se = s / math.sqrt(n)\n",
    "df = n - 1\n",
    "t = stats.t.ppf(0.95, df=df)\n",
    "\n",
    "(y - t * se, y, y + t * se)"
   ]
  },
  {
   "cell_type": "markdown",
   "metadata": {},
   "source": [
    "## \n",
    "\n",
    "### Answers\n",
    "\n",
    "* \n"
   ]
  },
  {
   "cell_type": "markdown",
   "metadata": {},
   "source": [
    "## \n",
    "\n",
    "### Answers\n",
    "\n",
    "* \n"
   ]
  },
  {
   "cell_type": "markdown",
   "metadata": {},
   "source": [
    "## \n",
    "\n",
    "### Answers\n",
    "\n",
    "* \n"
   ]
  },
  {
   "cell_type": "markdown",
   "metadata": {},
   "source": [
    "## \n",
    "\n",
    "### Answers\n",
    "\n",
    "* \n"
   ]
  },
  {
   "cell_type": "markdown",
   "metadata": {},
   "source": [
    "## \n",
    "\n",
    "### Answers\n",
    "\n",
    "* \n"
   ]
  },
  {
   "cell_type": "code",
   "execution_count": null,
   "metadata": {
    "collapsed": true
   },
   "outputs": [],
   "source": []
  }
 ],
 "metadata": {
  "kernelspec": {
   "display_name": "Python 3",
   "language": "python",
   "name": "python3"
  },
  "language_info": {
   "codemirror_mode": {
    "name": "ipython",
    "version": 3
   },
   "file_extension": ".py",
   "mimetype": "text/x-python",
   "name": "python",
   "nbconvert_exporter": "python",
   "pygments_lexer": "ipython3",
   "version": "3.5.2"
  }
 },
 "nbformat": 4,
 "nbformat_minor": 2
}
