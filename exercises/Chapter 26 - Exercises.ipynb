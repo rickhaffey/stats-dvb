{
 "cells": [
  {
   "cell_type": "markdown",
   "metadata": {},
   "source": [
    "# Chapter 26 - Exercises"
   ]
  },
  {
   "cell_type": "code",
   "execution_count": 1,
   "metadata": {
    "collapsed": true
   },
   "outputs": [],
   "source": [
    "import math\n",
    "\n",
    "def chi_square_manual(obs, exp):\n",
    "    z = zip(obs, exp)\n",
    "    return sum([math.pow(o - e, 2) / e for (o, e) in z]) "
   ]
  },
  {
   "cell_type": "code",
   "execution_count": 2,
   "metadata": {
    "collapsed": true
   },
   "outputs": [],
   "source": [
    "import scipy.stats as stats"
   ]
  },
  {
   "cell_type": "code",
   "execution_count": 14,
   "metadata": {
    "collapsed": true
   },
   "outputs": [],
   "source": [
    "import pandas as pd\n",
    "import numpy as np\n",
    "import matplotlib.pyplot as plt\n",
    "\n",
    "%matplotlib inline"
   ]
  },
  {
   "cell_type": "markdown",
   "metadata": {},
   "source": [
    "## 26.1\n",
    "\n",
    "### Answers\n",
    "\n",
    "* a) chi-square test of independence\n",
    "* b) some other test (\\$, not counts)\n",
    "* c) chi-square test of homogeneity"
   ]
  },
  {
   "cell_type": "markdown",
   "metadata": {},
   "source": [
    "## 26.3\n",
    "\n",
    "### Answers\n",
    "\n",
    "* a) 10x\n",
    "* b) goodness-of-fit\n",
    "* c) H0: counts are uniform (10 ea), HA: counts aren't uniform\n",
    "* d) \n",
    "  * + counts\n",
    "  * + random\n",
    "  * + independent\n",
    "* e) 5 (6-1)\n",
    "* f) $\\chi^2$ = 5.6; P-value: 0.3471\n",
    "* g) fail to reject H0"
   ]
  },
  {
   "cell_type": "code",
   "execution_count": 13,
   "metadata": {},
   "outputs": [
    {
     "name": "stdout",
     "output_type": "stream",
     "text": [
      "chi-square: 5.6\n",
      "df: 5\n"
     ]
    }
   ],
   "source": [
    "obs = [11,7,9,15,12,6]\n",
    "exp = [10] * 6\n",
    "\n",
    "chisq = chi_square_manual(obs, exp)\n",
    "df = 6 - 1\n",
    "\n",
    "print(\"chi-square: {}\".format(chisq))\n",
    "print(\"df: {}\".format(df))"
   ]
  },
  {
   "cell_type": "code",
   "execution_count": 14,
   "metadata": {},
   "outputs": [
    {
     "data": {
      "text/plain": [
       "Power_divergenceResult(statistic=5.6, pvalue=0.34710506828171556)"
      ]
     },
     "execution_count": 14,
     "metadata": {},
     "output_type": "execute_result"
    }
   ],
   "source": [
    "stats.chisquare(obs, f_exp=exp)"
   ]
  },
  {
   "cell_type": "markdown",
   "metadata": {},
   "source": [
    "## 26.5\n",
    "\n",
    "### Answers\n",
    "\n",
    "* a) the values aren't counts, but rather, weights\n",
    "* b) count the nuts rather than weighing them"
   ]
  },
  {
   "cell_type": "markdown",
   "metadata": {},
   "source": [
    "## 26.7\n",
    "\n",
    "### Answers\n",
    "\n",
    "* H0: % of officers in each racial group matches % of overall population\n",
    "* HA: % of officers in each racial group is different from % of overall population\n",
    "* $\\chi^2$: 16616.285\n",
    "* P-value: 0.0\n",
    "* reject H0: evidence supports claim of a difference between %'s of overall population and police force"
   ]
  },
  {
   "cell_type": "code",
   "execution_count": 23,
   "metadata": {},
   "outputs": [
    {
     "name": "stdout",
     "output_type": "stream",
     "text": [
      "[7644, 7383, 8247, 2382, 523]\n",
      "[16965, 3796, 5000, 366, 0]\n"
     ]
    },
    {
     "data": {
      "text/plain": [
       "Power_divergenceResult(statistic=16616.28450805835, pvalue=0.0)"
      ]
     },
     "execution_count": 23,
     "metadata": {},
     "output_type": "execute_result"
    }
   ],
   "source": [
    "exp_pcts = [0.292, 0.282, 0.315, 0.091, 0.02]\n",
    "obs_pcts = [0.648, 0.145, 0.191, 0.014, 0.00]\n",
    "n = 26181\n",
    "\n",
    "exp = [math.floor(n * p) for p in exp_pcts]\n",
    "obs = [math.floor(n * p) for p in obs_pcts]\n",
    "\n",
    "print(exp)\n",
    "print(obs)\n",
    "\n",
    "stats.chisquare(obs, f_exp=exp)"
   ]
  },
  {
   "cell_type": "markdown",
   "metadata": {},
   "source": [
    "## 26.9\n",
    "\n",
    "### Answers\n",
    "\n",
    "* a) yes - fail to reject H0, results are consistent; $\\chi^2$ = 5.67, P-value = 0.129\n",
    "* b) reject H0; $\\chi^2$ = 11.342, P-value = 0.010\n",
    "* c) the larger the sample size, the greater the emphasis on even small deviations between observed and expected"
   ]
  },
  {
   "cell_type": "code",
   "execution_count": 8,
   "metadata": {},
   "outputs": [
    {
     "name": "stdout",
     "output_type": "stream",
     "text": [
      "5.671111111111111\n"
     ]
    },
    {
     "data": {
      "text/plain": [
       "Power_divergenceResult(statistic=5.671111111111111, pvalue=0.12875503784496686)"
      ]
     },
     "execution_count": 8,
     "metadata": {},
     "output_type": "execute_result"
    }
   ],
   "source": [
    "ratios = [9, 3, 3, 1]\n",
    "total = sum(ratios)\n",
    "exp = [100 * x / total for x in ratios]\n",
    "obs = [59, 20, 11, 10]\n",
    "\n",
    "print(chi_square_manual(obs, exp))\n",
    "\n",
    "stats.chisquare(obs, f_exp=exp)"
   ]
  },
  {
   "cell_type": "code",
   "execution_count": 10,
   "metadata": {},
   "outputs": [
    {
     "data": {
      "text/plain": [
       "Power_divergenceResult(statistic=11.342222222222222, pvalue=0.010012229535652856)"
      ]
     },
     "execution_count": 10,
     "metadata": {},
     "output_type": "execute_result"
    }
   ],
   "source": [
    "exp2 = [200 * x / total for x in ratios]\n",
    "obs2 = [2 * x for x in obs]\n",
    "\n",
    "stats.chisquare(obs2, f_exp=exp2)"
   ]
  },
  {
   "cell_type": "markdown",
   "metadata": {},
   "source": [
    "## 26.11\n",
    "\n",
    "### Answers\n",
    "\n",
    "* a) 6\n",
    "* b) goodness of fit\n",
    "* c) \n",
    "  * H0: frequency of huricanes is uniform across decades\n",
    "  * HA: frequency isn't uniform\n",
    "* d) df = 15\n",
    "* e) P-value: 0.628\n",
    "* f) Fail to reject H0: evidence doesn't support the claim that there is a change in distribution of huricanes across decades\n",
    "* g) Potentially underestimates the frequency in the last decade.  It could potentially make the difference between obs and exp larger in last decade, possibly changing the final result."
   ]
  },
  {
   "cell_type": "code",
   "execution_count": 24,
   "metadata": {},
   "outputs": [
    {
     "data": {
      "text/html": [
       "<div>\n",
       "<table border=\"1\" class=\"dataframe\">\n",
       "  <thead>\n",
       "    <tr style=\"text-align: right;\">\n",
       "      <th></th>\n",
       "      <th>Count</th>\n",
       "    </tr>\n",
       "    <tr>\n",
       "      <th>Decade</th>\n",
       "      <th></th>\n",
       "    </tr>\n",
       "  </thead>\n",
       "  <tbody>\n",
       "    <tr>\n",
       "      <th>1851-1860</th>\n",
       "      <td>6</td>\n",
       "    </tr>\n",
       "    <tr>\n",
       "      <th>1861-1870</th>\n",
       "      <td>1</td>\n",
       "    </tr>\n",
       "    <tr>\n",
       "      <th>1871-1880</th>\n",
       "      <td>7</td>\n",
       "    </tr>\n",
       "    <tr>\n",
       "      <th>1881-1890</th>\n",
       "      <td>5</td>\n",
       "    </tr>\n",
       "    <tr>\n",
       "      <th>1891-1900</th>\n",
       "      <td>8</td>\n",
       "    </tr>\n",
       "    <tr>\n",
       "      <th>1901-1910</th>\n",
       "      <td>4</td>\n",
       "    </tr>\n",
       "    <tr>\n",
       "      <th>1911-1920</th>\n",
       "      <td>7</td>\n",
       "    </tr>\n",
       "    <tr>\n",
       "      <th>1921-1930</th>\n",
       "      <td>5</td>\n",
       "    </tr>\n",
       "    <tr>\n",
       "      <th>1931-1940</th>\n",
       "      <td>8</td>\n",
       "    </tr>\n",
       "    <tr>\n",
       "      <th>1941-1950</th>\n",
       "      <td>10</td>\n",
       "    </tr>\n",
       "    <tr>\n",
       "      <th>1951-1960</th>\n",
       "      <td>9</td>\n",
       "    </tr>\n",
       "    <tr>\n",
       "      <th>1961-1970</th>\n",
       "      <td>6</td>\n",
       "    </tr>\n",
       "    <tr>\n",
       "      <th>1971-1980</th>\n",
       "      <td>4</td>\n",
       "    </tr>\n",
       "    <tr>\n",
       "      <th>1981-1990</th>\n",
       "      <td>4</td>\n",
       "    </tr>\n",
       "    <tr>\n",
       "      <th>1991-2000</th>\n",
       "      <td>5</td>\n",
       "    </tr>\n",
       "    <tr>\n",
       "      <th>2001-2006</th>\n",
       "      <td>7</td>\n",
       "    </tr>\n",
       "  </tbody>\n",
       "</table>\n",
       "</div>"
      ],
      "text/plain": [
       "           Count\n",
       "Decade          \n",
       "1851-1860      6\n",
       "1861-1870      1\n",
       "1871-1880      7\n",
       "1881-1890      5\n",
       "1891-1900      8\n",
       "1901-1910      4\n",
       "1911-1920      7\n",
       "1921-1930      5\n",
       "1931-1940      8\n",
       "1941-1950     10\n",
       "1951-1960      9\n",
       "1961-1970      6\n",
       "1971-1980      4\n",
       "1981-1990      4\n",
       "1991-2000      5\n",
       "2001-2006      7"
      ]
     },
     "execution_count": 24,
     "metadata": {},
     "output_type": "execute_result"
    }
   ],
   "source": [
    "data = pd.read_table(\"../data/Hurricane_frequencies.txt\", index_col=\"Decade\")\n",
    "data"
   ]
  },
  {
   "cell_type": "code",
   "execution_count": 20,
   "metadata": {},
   "outputs": [
    {
     "data": {
      "text/plain": [
       "6.0"
      ]
     },
     "execution_count": 20,
     "metadata": {},
     "output_type": "execute_result"
    }
   ],
   "source": [
    "# a)\n",
    "data.Count.sum() / data.Count.size"
   ]
  },
  {
   "cell_type": "code",
   "execution_count": 21,
   "metadata": {},
   "outputs": [
    {
     "data": {
      "text/plain": [
       "15"
      ]
     },
     "execution_count": 21,
     "metadata": {},
     "output_type": "execute_result"
    }
   ],
   "source": [
    "# d\n",
    "data.Count.size - 1"
   ]
  },
  {
   "cell_type": "code",
   "execution_count": 23,
   "metadata": {},
   "outputs": [
    {
     "data": {
      "text/plain": [
       "Power_divergenceResult(statistic=12.666666666666668, pvalue=0.6280270845138782)"
      ]
     },
     "execution_count": 23,
     "metadata": {},
     "output_type": "execute_result"
    }
   ],
   "source": [
    "# e)\n",
    "exp = [6] * data.Count.size\n",
    "obs = data.Count.values\n",
    "\n",
    "stats.chisquare(obs, f_exp=exp)"
   ]
  },
  {
   "cell_type": "markdown",
   "metadata": {},
   "source": [
    "## 26.13\n",
    "\n",
    "### Answers\n",
    "\n",
    "* a) chi-square test of independence\n",
    "* b)\n",
    "  * H0: Epidural during childbirth and later breastfeeding are independent. \n",
    "  * HA: Epidural during childbirth and later breastfeeding are associated. "
   ]
  },
  {
   "cell_type": "markdown",
   "metadata": {},
   "source": [
    "## 26.15\n",
    "\n",
    "### Answers\n",
    "\n",
    "* a) df = (r-1)(c-1) = 1\n",
    "* b) 159.34\n",
    "* c) exp are at least 5 in all cells, assume random and indpependent"
   ]
  },
  {
   "cell_type": "code",
   "execution_count": 26,
   "metadata": {},
   "outputs": [
    {
     "data": {
      "text/plain": [
       "159.34125636672326"
      ]
     },
     "execution_count": 26,
     "metadata": {},
     "output_type": "execute_result"
    }
   ],
   "source": [
    "# b\n",
    "(474 / 1178) * 396"
   ]
  },
  {
   "cell_type": "markdown",
   "metadata": {},
   "source": [
    "## \n",
    "\n",
    "### Answers\n",
    "\n",
    "* \n"
   ]
  },
  {
   "cell_type": "markdown",
   "metadata": {},
   "source": [
    "## \n",
    "\n",
    "### Answers\n",
    "\n",
    "* \n"
   ]
  },
  {
   "cell_type": "markdown",
   "metadata": {},
   "source": [
    "## \n",
    "\n",
    "### Answers\n",
    "\n",
    "* \n"
   ]
  },
  {
   "cell_type": "markdown",
   "metadata": {},
   "source": [
    "## \n",
    "\n",
    "### Answers\n",
    "\n",
    "* \n"
   ]
  },
  {
   "cell_type": "markdown",
   "metadata": {},
   "source": [
    "## \n",
    "\n",
    "### Answers\n",
    "\n",
    "* \n"
   ]
  },
  {
   "cell_type": "markdown",
   "metadata": {},
   "source": [
    "## \n",
    "\n",
    "### Answers\n",
    "\n",
    "* \n"
   ]
  }
 ],
 "metadata": {
  "kernelspec": {
   "display_name": "Python 3",
   "language": "python",
   "name": "python3"
  },
  "language_info": {
   "codemirror_mode": {
    "name": "ipython",
    "version": 3
   },
   "file_extension": ".py",
   "mimetype": "text/x-python",
   "name": "python",
   "nbconvert_exporter": "python",
   "pygments_lexer": "ipython3",
   "version": "3.5.2"
  }
 },
 "nbformat": 4,
 "nbformat_minor": 2
}
