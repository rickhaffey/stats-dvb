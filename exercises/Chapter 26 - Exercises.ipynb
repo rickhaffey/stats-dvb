{
 "cells": [
  {
   "cell_type": "markdown",
   "metadata": {},
   "source": [
    "# Chapter 26 - Exercises"
   ]
  },
  {
   "cell_type": "code",
   "execution_count": 8,
   "metadata": {
    "collapsed": true
   },
   "outputs": [],
   "source": [
    "import math\n",
    "\n",
    "def chi_square_manual(obs, exp):\n",
    "    z = zip(obs, exp)\n",
    "    return sum([math.pow(o - e, 2) / e for (o, e) in z]) "
   ]
  },
  {
   "cell_type": "code",
   "execution_count": 11,
   "metadata": {
    "collapsed": true
   },
   "outputs": [],
   "source": [
    "import scipy.stats as stats"
   ]
  },
  {
   "cell_type": "markdown",
   "metadata": {},
   "source": [
    "## 26.1\n",
    "\n",
    "### Answers\n",
    "\n",
    "* a) chi-square test of independence\n",
    "* b) some other test (\\$, not counts)\n",
    "* c) chi-square test of homogeneity"
   ]
  },
  {
   "cell_type": "markdown",
   "metadata": {},
   "source": [
    "## 26.3\n",
    "\n",
    "### Answers\n",
    "\n",
    "* a) 10x\n",
    "* b) goodness-of-fit\n",
    "* c) H0: counts are uniform (10 ea), HA: counts aren't uniform\n",
    "* d) \n",
    "  * + counts\n",
    "  * + random\n",
    "  * + independent\n",
    "* e) 5 (6-1)\n",
    "* f) $\\chi^2$ = 5.6; P-value: 0.3471\n",
    "* g) fail to reject H0"
   ]
  },
  {
   "cell_type": "code",
   "execution_count": 13,
   "metadata": {},
   "outputs": [
    {
     "name": "stdout",
     "output_type": "stream",
     "text": [
      "chi-square: 5.6\n",
      "df: 5\n"
     ]
    }
   ],
   "source": [
    "obs = [11,7,9,15,12,6]\n",
    "exp = [10] * 6\n",
    "\n",
    "chisq = chi_square_manual(obs, exp)\n",
    "df = 6 - 1\n",
    "\n",
    "print(\"chi-square: {}\".format(chisq))\n",
    "print(\"df: {}\".format(df))"
   ]
  },
  {
   "cell_type": "code",
   "execution_count": 14,
   "metadata": {},
   "outputs": [
    {
     "data": {
      "text/plain": [
       "Power_divergenceResult(statistic=5.6, pvalue=0.34710506828171556)"
      ]
     },
     "execution_count": 14,
     "metadata": {},
     "output_type": "execute_result"
    }
   ],
   "source": [
    "stats.chisquare(obs, f_exp=exp)"
   ]
  },
  {
   "cell_type": "markdown",
   "metadata": {},
   "source": [
    "## 26.5\n",
    "\n",
    "### Answers\n",
    "\n",
    "* a) the values aren't counts, but rather, weights\n",
    "* b) count the nuts rather than weighing them"
   ]
  },
  {
   "cell_type": "markdown",
   "metadata": {},
   "source": [
    "## 26.7\n",
    "\n",
    "### Answers\n",
    "\n",
    "* H0: % of officers in each racial group matches % of overall population\n",
    "* HA: % of officers in each racial group is different from % of overall population\n",
    "* $\\chi^2$: 16616.285\n",
    "* P-value: 0.0\n",
    "* reject H0: evidence supports claim of a difference between %'s of overall population and police force"
   ]
  },
  {
   "cell_type": "code",
   "execution_count": 23,
   "metadata": {},
   "outputs": [
    {
     "name": "stdout",
     "output_type": "stream",
     "text": [
      "[7644, 7383, 8247, 2382, 523]\n",
      "[16965, 3796, 5000, 366, 0]\n"
     ]
    },
    {
     "data": {
      "text/plain": [
       "Power_divergenceResult(statistic=16616.28450805835, pvalue=0.0)"
      ]
     },
     "execution_count": 23,
     "metadata": {},
     "output_type": "execute_result"
    }
   ],
   "source": [
    "exp_pcts = [0.292, 0.282, 0.315, 0.091, 0.02]\n",
    "obs_pcts = [0.648, 0.145, 0.191, 0.014, 0.00]\n",
    "n = 26181\n",
    "\n",
    "exp = [math.floor(n * p) for p in exp_pcts]\n",
    "obs = [math.floor(n * p) for p in obs_pcts]\n",
    "\n",
    "print(exp)\n",
    "print(obs)\n",
    "\n",
    "stats.chisquare(obs, f_exp=exp)"
   ]
  },
  {
   "cell_type": "markdown",
   "metadata": {},
   "source": [
    "## \n",
    "\n",
    "### Answers\n",
    "\n",
    "* \n"
   ]
  },
  {
   "cell_type": "markdown",
   "metadata": {},
   "source": [
    "## \n",
    "\n",
    "### Answers\n",
    "\n",
    "* \n"
   ]
  },
  {
   "cell_type": "markdown",
   "metadata": {},
   "source": [
    "## \n",
    "\n",
    "### Answers\n",
    "\n",
    "* \n"
   ]
  },
  {
   "cell_type": "markdown",
   "metadata": {},
   "source": [
    "## \n",
    "\n",
    "### Answers\n",
    "\n",
    "* \n"
   ]
  },
  {
   "cell_type": "markdown",
   "metadata": {},
   "source": [
    "## \n",
    "\n",
    "### Answers\n",
    "\n",
    "* \n"
   ]
  },
  {
   "cell_type": "code",
   "execution_count": null,
   "metadata": {
    "collapsed": true
   },
   "outputs": [],
   "source": []
  }
 ],
 "metadata": {
  "kernelspec": {
   "display_name": "Python 3",
   "language": "python",
   "name": "python3"
  },
  "language_info": {
   "codemirror_mode": {
    "name": "ipython",
    "version": 3
   },
   "file_extension": ".py",
   "mimetype": "text/x-python",
   "name": "python",
   "nbconvert_exporter": "python",
   "pygments_lexer": "ipython3",
   "version": "3.5.2"
  }
 },
 "nbformat": 4,
 "nbformat_minor": 2
}
