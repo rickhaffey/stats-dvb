{
 "cells": [
  {
   "cell_type": "markdown",
   "metadata": {},
   "source": [
    "# Chapter 26 - Exercises"
   ]
  },
  {
   "cell_type": "code",
   "execution_count": 1,
   "metadata": {
    "collapsed": true
   },
   "outputs": [],
   "source": [
    "import math\n",
    "\n",
    "def chi_square_manual(obs, exp):\n",
    "    z = zip(obs, exp)\n",
    "    return sum([math.pow(o - e, 2) / e for (o, e) in z]) "
   ]
  },
  {
   "cell_type": "code",
   "execution_count": 2,
   "metadata": {
    "collapsed": true
   },
   "outputs": [],
   "source": [
    "import scipy.stats as stats"
   ]
  },
  {
   "cell_type": "code",
   "execution_count": 3,
   "metadata": {
    "collapsed": true
   },
   "outputs": [],
   "source": [
    "import pandas as pd\n",
    "import numpy as np\n",
    "import matplotlib.pyplot as plt\n",
    "\n",
    "%matplotlib inline"
   ]
  },
  {
   "cell_type": "markdown",
   "metadata": {},
   "source": [
    "## 26.1\n",
    "\n",
    "### Answers\n",
    "\n",
    "* a) chi-square test of independence\n",
    "* b) some other test (\\$, not counts)\n",
    "* c) chi-square test of homogeneity"
   ]
  },
  {
   "cell_type": "markdown",
   "metadata": {},
   "source": [
    "## 26.3\n",
    "\n",
    "### Answers\n",
    "\n",
    "* a) 10x\n",
    "* b) goodness-of-fit\n",
    "* c) H0: counts are uniform (10 ea), HA: counts aren't uniform\n",
    "* d) \n",
    "  * + counts\n",
    "  * + random\n",
    "  * + independent\n",
    "* e) 5 (6-1)\n",
    "* f) $\\chi^2$ = 5.6; P-value: 0.3471\n",
    "* g) fail to reject H0"
   ]
  },
  {
   "cell_type": "code",
   "execution_count": 4,
   "metadata": {},
   "outputs": [
    {
     "name": "stdout",
     "output_type": "stream",
     "text": [
      "chi-square: 5.6\n",
      "df: 5\n"
     ]
    }
   ],
   "source": [
    "obs = [11,7,9,15,12,6]\n",
    "exp = [10] * 6\n",
    "\n",
    "chisq = chi_square_manual(obs, exp)\n",
    "df = 6 - 1\n",
    "\n",
    "print(\"chi-square: {}\".format(chisq))\n",
    "print(\"df: {}\".format(df))"
   ]
  },
  {
   "cell_type": "code",
   "execution_count": 5,
   "metadata": {},
   "outputs": [
    {
     "data": {
      "text/plain": [
       "Power_divergenceResult(statistic=5.6, pvalue=0.34710506828171556)"
      ]
     },
     "execution_count": 5,
     "metadata": {},
     "output_type": "execute_result"
    }
   ],
   "source": [
    "stats.chisquare(obs, f_exp=exp)"
   ]
  },
  {
   "cell_type": "markdown",
   "metadata": {},
   "source": [
    "## 26.5\n",
    "\n",
    "### Answers\n",
    "\n",
    "* a) the values aren't counts, but rather, weights\n",
    "* b) count the nuts rather than weighing them"
   ]
  },
  {
   "cell_type": "markdown",
   "metadata": {},
   "source": [
    "## 26.7\n",
    "\n",
    "### Answers\n",
    "\n",
    "* H0: % of officers in each racial group matches % of overall population\n",
    "* HA: % of officers in each racial group is different from % of overall population\n",
    "* $\\chi^2$: 16616.285\n",
    "* P-value: 0.0\n",
    "* reject H0: evidence supports claim of a difference between %'s of overall population and police force"
   ]
  },
  {
   "cell_type": "code",
   "execution_count": 6,
   "metadata": {},
   "outputs": [
    {
     "name": "stdout",
     "output_type": "stream",
     "text": [
      "[7644, 7383, 8247, 2382, 523]\n",
      "[16965, 3796, 5000, 366, 0]\n"
     ]
    },
    {
     "data": {
      "text/plain": [
       "Power_divergenceResult(statistic=16616.28450805835, pvalue=0.0)"
      ]
     },
     "execution_count": 6,
     "metadata": {},
     "output_type": "execute_result"
    }
   ],
   "source": [
    "exp_pcts = [0.292, 0.282, 0.315, 0.091, 0.02]\n",
    "obs_pcts = [0.648, 0.145, 0.191, 0.014, 0.00]\n",
    "n = 26181\n",
    "\n",
    "exp = [math.floor(n * p) for p in exp_pcts]\n",
    "obs = [math.floor(n * p) for p in obs_pcts]\n",
    "\n",
    "print(exp)\n",
    "print(obs)\n",
    "\n",
    "stats.chisquare(obs, f_exp=exp)"
   ]
  },
  {
   "cell_type": "markdown",
   "metadata": {},
   "source": [
    "## 26.9\n",
    "\n",
    "### Answers\n",
    "\n",
    "* a) yes - fail to reject H0, results are consistent; $\\chi^2$ = 5.67, P-value = 0.129\n",
    "* b) reject H0; $\\chi^2$ = 11.342, P-value = 0.010\n",
    "* c) the larger the sample size, the greater the emphasis on even small deviations between observed and expected"
   ]
  },
  {
   "cell_type": "code",
   "execution_count": 7,
   "metadata": {},
   "outputs": [
    {
     "name": "stdout",
     "output_type": "stream",
     "text": [
      "5.671111111111111\n"
     ]
    },
    {
     "data": {
      "text/plain": [
       "Power_divergenceResult(statistic=5.671111111111111, pvalue=0.12875503784496686)"
      ]
     },
     "execution_count": 7,
     "metadata": {},
     "output_type": "execute_result"
    }
   ],
   "source": [
    "ratios = [9, 3, 3, 1]\n",
    "total = sum(ratios)\n",
    "exp = [100 * x / total for x in ratios]\n",
    "obs = [59, 20, 11, 10]\n",
    "\n",
    "print(chi_square_manual(obs, exp))\n",
    "\n",
    "stats.chisquare(obs, f_exp=exp)"
   ]
  },
  {
   "cell_type": "code",
   "execution_count": 8,
   "metadata": {},
   "outputs": [
    {
     "data": {
      "text/plain": [
       "Power_divergenceResult(statistic=11.342222222222222, pvalue=0.010012229535652856)"
      ]
     },
     "execution_count": 8,
     "metadata": {},
     "output_type": "execute_result"
    }
   ],
   "source": [
    "exp2 = [200 * x / total for x in ratios]\n",
    "obs2 = [2 * x for x in obs]\n",
    "\n",
    "stats.chisquare(obs2, f_exp=exp2)"
   ]
  },
  {
   "cell_type": "markdown",
   "metadata": {},
   "source": [
    "## 26.11\n",
    "\n",
    "### Answers\n",
    "\n",
    "* a) 6\n",
    "* b) goodness of fit\n",
    "* c) \n",
    "  * H0: frequency of huricanes is uniform across decades\n",
    "  * HA: frequency isn't uniform\n",
    "* d) df = 15\n",
    "* e) P-value: 0.628\n",
    "* f) Fail to reject H0: evidence doesn't support the claim that there is a change in distribution of huricanes across decades\n",
    "* g) Potentially underestimates the frequency in the last decade.  It could potentially make the difference between obs and exp larger in last decade, possibly changing the final result."
   ]
  },
  {
   "cell_type": "code",
   "execution_count": 9,
   "metadata": {},
   "outputs": [
    {
     "data": {
      "text/html": [
       "<div>\n",
       "<table border=\"1\" class=\"dataframe\">\n",
       "  <thead>\n",
       "    <tr style=\"text-align: right;\">\n",
       "      <th></th>\n",
       "      <th>Count</th>\n",
       "    </tr>\n",
       "    <tr>\n",
       "      <th>Decade</th>\n",
       "      <th></th>\n",
       "    </tr>\n",
       "  </thead>\n",
       "  <tbody>\n",
       "    <tr>\n",
       "      <th>1851-1860</th>\n",
       "      <td>6</td>\n",
       "    </tr>\n",
       "    <tr>\n",
       "      <th>1861-1870</th>\n",
       "      <td>1</td>\n",
       "    </tr>\n",
       "    <tr>\n",
       "      <th>1871-1880</th>\n",
       "      <td>7</td>\n",
       "    </tr>\n",
       "    <tr>\n",
       "      <th>1881-1890</th>\n",
       "      <td>5</td>\n",
       "    </tr>\n",
       "    <tr>\n",
       "      <th>1891-1900</th>\n",
       "      <td>8</td>\n",
       "    </tr>\n",
       "    <tr>\n",
       "      <th>1901-1910</th>\n",
       "      <td>4</td>\n",
       "    </tr>\n",
       "    <tr>\n",
       "      <th>1911-1920</th>\n",
       "      <td>7</td>\n",
       "    </tr>\n",
       "    <tr>\n",
       "      <th>1921-1930</th>\n",
       "      <td>5</td>\n",
       "    </tr>\n",
       "    <tr>\n",
       "      <th>1931-1940</th>\n",
       "      <td>8</td>\n",
       "    </tr>\n",
       "    <tr>\n",
       "      <th>1941-1950</th>\n",
       "      <td>10</td>\n",
       "    </tr>\n",
       "    <tr>\n",
       "      <th>1951-1960</th>\n",
       "      <td>9</td>\n",
       "    </tr>\n",
       "    <tr>\n",
       "      <th>1961-1970</th>\n",
       "      <td>6</td>\n",
       "    </tr>\n",
       "    <tr>\n",
       "      <th>1971-1980</th>\n",
       "      <td>4</td>\n",
       "    </tr>\n",
       "    <tr>\n",
       "      <th>1981-1990</th>\n",
       "      <td>4</td>\n",
       "    </tr>\n",
       "    <tr>\n",
       "      <th>1991-2000</th>\n",
       "      <td>5</td>\n",
       "    </tr>\n",
       "    <tr>\n",
       "      <th>2001-2006</th>\n",
       "      <td>7</td>\n",
       "    </tr>\n",
       "  </tbody>\n",
       "</table>\n",
       "</div>"
      ],
      "text/plain": [
       "           Count\n",
       "Decade          \n",
       "1851-1860      6\n",
       "1861-1870      1\n",
       "1871-1880      7\n",
       "1881-1890      5\n",
       "1891-1900      8\n",
       "1901-1910      4\n",
       "1911-1920      7\n",
       "1921-1930      5\n",
       "1931-1940      8\n",
       "1941-1950     10\n",
       "1951-1960      9\n",
       "1961-1970      6\n",
       "1971-1980      4\n",
       "1981-1990      4\n",
       "1991-2000      5\n",
       "2001-2006      7"
      ]
     },
     "execution_count": 9,
     "metadata": {},
     "output_type": "execute_result"
    }
   ],
   "source": [
    "data = pd.read_table(\"../data/Hurricane_frequencies.txt\", index_col=\"Decade\")\n",
    "data"
   ]
  },
  {
   "cell_type": "code",
   "execution_count": 10,
   "metadata": {},
   "outputs": [
    {
     "data": {
      "text/plain": [
       "6.0"
      ]
     },
     "execution_count": 10,
     "metadata": {},
     "output_type": "execute_result"
    }
   ],
   "source": [
    "# a)\n",
    "data.Count.sum() / data.Count.size"
   ]
  },
  {
   "cell_type": "code",
   "execution_count": 11,
   "metadata": {},
   "outputs": [
    {
     "data": {
      "text/plain": [
       "15"
      ]
     },
     "execution_count": 11,
     "metadata": {},
     "output_type": "execute_result"
    }
   ],
   "source": [
    "# d\n",
    "data.Count.size - 1"
   ]
  },
  {
   "cell_type": "code",
   "execution_count": 12,
   "metadata": {},
   "outputs": [
    {
     "data": {
      "text/plain": [
       "Power_divergenceResult(statistic=12.666666666666668, pvalue=0.6280270845138782)"
      ]
     },
     "execution_count": 12,
     "metadata": {},
     "output_type": "execute_result"
    }
   ],
   "source": [
    "# e)\n",
    "exp = [6] * data.Count.size\n",
    "obs = data.Count.values\n",
    "\n",
    "stats.chisquare(obs, f_exp=exp)"
   ]
  },
  {
   "cell_type": "markdown",
   "metadata": {},
   "source": [
    "## 26.13\n",
    "\n",
    "### Answers\n",
    "\n",
    "* a) chi-square test of independence\n",
    "* b)\n",
    "  * H0: Epidural during childbirth and later breastfeeding are independent. \n",
    "  * HA: Epidural during childbirth and later breastfeeding are associated. "
   ]
  },
  {
   "cell_type": "markdown",
   "metadata": {},
   "source": [
    "## 26.15\n",
    "\n",
    "### Answers\n",
    "\n",
    "* a) df = (r-1)(c-1) = 1\n",
    "* b) 159.34\n",
    "* c) exp are at least 5 in all cells, assume random and indpependent"
   ]
  },
  {
   "cell_type": "code",
   "execution_count": 13,
   "metadata": {},
   "outputs": [
    {
     "data": {
      "text/plain": [
       "159.34125636672326"
      ]
     },
     "execution_count": 13,
     "metadata": {},
     "output_type": "execute_result"
    }
   ],
   "source": [
    "# b\n",
    "(474 / 1178) * 396"
   ]
  },
  {
   "cell_type": "markdown",
   "metadata": {},
   "source": [
    "## 26.17\n",
    "\n",
    "### Answers\n",
    "\n",
    "* a) 5.899\n",
    "* b) $\\chi^2$ = 14.87, df = 1; P-value = \n",
    "* c) reject H0: P-value < 0.001; evidence supports claim that they are associated"
   ]
  },
  {
   "cell_type": "code",
   "execution_count": 14,
   "metadata": {},
   "outputs": [
    {
     "name": "stdout",
     "output_type": "stream",
     "text": [
      "component: 5.899028177659629\n"
     ]
    }
   ],
   "source": [
    "# a)\n",
    "exp = (474 / 1178) * 396\n",
    "obs = 190\n",
    "comp = math.pow(obs - exp, 2) / exp\n",
    "print(\"component: {}\".format(comp))"
   ]
  },
  {
   "cell_type": "code",
   "execution_count": 15,
   "metadata": {},
   "outputs": [
    {
     "name": "stdout",
     "output_type": "stream",
     "text": [
      "P-value: 0.00011518027809664932\n"
     ]
    }
   ],
   "source": [
    "# b)\n",
    "pvalue = 1 - stats.chi2.cdf(14.87, 1)\n",
    "print(\"P-value: {}\".format(pvalue))"
   ]
  },
  {
   "cell_type": "markdown",
   "metadata": {},
   "source": [
    "## 26.19\n",
    "\n",
    "### Answers\n",
    "\n",
    "* a) see below\n",
    "* b) The residuals appear to further support the claim that epidural during childbirth is associated with less breastfeeding at 6 months."
   ]
  },
  {
   "cell_type": "code",
   "execution_count": 16,
   "metadata": {},
   "outputs": [
    {
     "name": "stdout",
     "output_type": "stream",
     "text": [
      "resid: 2.4287915055968945\n"
     ]
    }
   ],
   "source": [
    "# a)\n",
    "obs = 190\n",
    "exp = (474 / 1178) * 396\n",
    "\n",
    "resid = (obs - exp) / math.sqrt(exp)\n",
    "print(\"resid: {}\".format(resid))"
   ]
  },
  {
   "cell_type": "markdown",
   "metadata": {},
   "source": [
    "## 26.21\n",
    "\n",
    "### Answers\n",
    "\n",
    "* Those represent more than two variables.  We'd need two variables with two or more categories within each to use the chi-square methods we've used for the prior problems."
   ]
  },
  {
   "cell_type": "markdown",
   "metadata": {},
   "source": [
    "## 26.23\n",
    "\n",
    "### Answers\n",
    "\n",
    "* a) 40.2%\n",
    "* b) 8.1%\n",
    "* c) 62.2%\n",
    "* d) 285\n",
    "* e) \n",
    "  - H0 : survival is independent of passenger \"class\"\n",
    "  - HA : survival is associated with passenger classes\n",
    "* f) 3\n",
    "* g) reject H0: evidence supports claim that survival was associated with the class of passenger"
   ]
  },
  {
   "cell_type": "code",
   "execution_count": 17,
   "metadata": {},
   "outputs": [
    {
     "data": {
      "text/plain": [
       "0.4020899591094957"
      ]
     },
     "execution_count": 17,
     "metadata": {},
     "output_type": "execute_result"
    }
   ],
   "source": [
    "# a)\n",
    "885 / 2201"
   ]
  },
  {
   "cell_type": "code",
   "execution_count": 18,
   "metadata": {},
   "outputs": [
    {
     "data": {
      "text/plain": [
       "0.08087233075874603"
      ]
     },
     "execution_count": 18,
     "metadata": {},
     "output_type": "execute_result"
    }
   ],
   "source": [
    "# b)\n",
    "178 / 2201"
   ]
  },
  {
   "cell_type": "code",
   "execution_count": 19,
   "metadata": {},
   "outputs": [
    {
     "data": {
      "text/plain": [
       "0.6215384615384615"
      ]
     },
     "execution_count": 19,
     "metadata": {},
     "output_type": "execute_result"
    }
   ],
   "source": [
    "# c)\n",
    "202 / 325"
   ]
  },
  {
   "cell_type": "code",
   "execution_count": 20,
   "metadata": {},
   "outputs": [
    {
     "data": {
      "text/plain": [
       "285.48387096774195"
      ]
     },
     "execution_count": 20,
     "metadata": {},
     "output_type": "execute_result"
    }
   ],
   "source": [
    "# d)\n",
    "pct = 710 / 2201\n",
    "885 * pct"
   ]
  },
  {
   "cell_type": "markdown",
   "metadata": {},
   "source": [
    "## 26.25\n",
    "\n",
    "### Answers\n",
    "\n",
    "* Shows a fairly clear pattern of high survival for First class, moderate for Second, and lower for Crew and Third."
   ]
  },
  {
   "cell_type": "markdown",
   "metadata": {},
   "source": [
    "## 26.27\n",
    "\n",
    "### Answers\n",
    "\n",
    "* a) experiment: randomly selected? 3 treatments applied; tx, alternate, and control\n",
    "* b) homogeneity\n",
    "* c) \n",
    "  - H0: rate of infection is same across treatments\n",
    "  - HA: rate of infection varies by treatment\n",
    "* d) independent, random, at least 5 expected in each cell\n",
    "* e) 2\n",
    "* f) $\\chi^2$ = 7.78, P-value = 0.020\n",
    "* g) reject H0: evidence shows an association between infection rate and treatment\n",
    "* h) control shows smallest residuals; cranberry shows lower than expected infection; alternate tx shows higher than expected infection"
   ]
  },
  {
   "cell_type": "code",
   "execution_count": 21,
   "metadata": {},
   "outputs": [
    {
     "name": "stdout",
     "output_type": "stream",
     "text": [
      "(7.775919732441471, 0.020487099856223837, 2, array([[15.33333333, 15.33333333, 15.33333333],\n",
      "       [34.66666667, 34.66666667, 34.66666667]]))\n"
     ]
    }
   ],
   "source": [
    "# f)\n",
    "inf = [8, 20, 18]\n",
    "non = [42, 30, 32]\n",
    "\n",
    "result = stats.chi2_contingency([inf, non])\n",
    "print(result)"
   ]
  },
  {
   "cell_type": "code",
   "execution_count": 22,
   "metadata": {},
   "outputs": [
    {
     "name": "stdout",
     "output_type": "stream",
     "text": [
      "[-1.8727643676692471, 1.1917591430622478, 0.6810052246069987]\n",
      "[1.2455047375590558, -0.7925939239012166, -0.4529108136578379]\n"
     ]
    }
   ],
   "source": [
    "# h)\n",
    "z1 = zip(inf, result[3][0])\n",
    "z2 = zip(non, result[3][1])\n",
    "print([(o - e) / math.sqrt(e) for (o, e) in z1])\n",
    "print([(o - e) / math.sqrt(e) for (o, e) in z2])"
   ]
  },
  {
   "cell_type": "markdown",
   "metadata": {},
   "source": [
    "## 26.29\n",
    "\n",
    "### Answers\n",
    "\n",
    "* a) independence\n",
    "* b\n",
    "    * H0: gender and political party are independent\n",
    "    * HA: gender and political party are associated\n",
    "* c) + counts; poll == random and independent (?); expected counts all > 5\n",
    "* d) $\\chi^2$ = 4.85; P-value = 0.088\n",
    "* e) Fail to reject H0; evidence not strong enough to support claims of an association"
   ]
  },
  {
   "cell_type": "code",
   "execution_count": 23,
   "metadata": {},
   "outputs": [
    {
     "data": {
      "text/plain": [
       "(4.851216883264013,\n",
       " 0.08842430164497321,\n",
       " 2,\n",
       " array([[43.66336634, 40.54455446, 20.79207921],\n",
       "        [40.33663366, 37.45544554, 19.20792079]]))"
      ]
     },
     "execution_count": 23,
     "metadata": {},
     "output_type": "execute_result"
    }
   ],
   "source": [
    "d = [[36, 45, 24], [48, 33, 16]]\n",
    "stats.chi2_contingency(d)"
   ]
  },
  {
   "cell_type": "markdown",
   "metadata": {},
   "source": [
    "## 26.31\n",
    "\n",
    "### Answers\n",
    "\n",
    "* H0: region and party affiliation are independent\n",
    "* HA: region and party affiliation are associated\n",
    "* $\\chi^2$ = 13.849\n",
    "* P-value = 0.008\n",
    "* reject H0: evidence supports claim of a regional association with party affiliation"
   ]
  },
  {
   "cell_type": "code",
   "execution_count": 24,
   "metadata": {},
   "outputs": [
    {
     "data": {
      "text/plain": [
       "(13.849020038637464,\n",
       " 0.007792843015014543,\n",
       " 4,\n",
       " array([[28.27722772, 26.25742574, 13.46534653],\n",
       "        [23.7029703 , 22.00990099, 11.28712871],\n",
       "        [32.01980198, 29.73267327, 15.24752475]]))"
      ]
     },
     "execution_count": 24,
     "metadata": {},
     "output_type": "execute_result"
    }
   ],
   "source": [
    "d = [[39, 17, 12], [15, 30, 12], [30, 31, 16]]\n",
    "stats.chi2_contingency(d)"
   ]
  },
  {
   "cell_type": "markdown",
   "metadata": {},
   "source": [
    "## 26.33\n",
    "\n",
    "### Answers\n",
    "\n",
    "* a) homogeneity\n",
    "* b) \n",
    "    * H0: the distribution of grades across professors is homogeneous\n",
    "    * Ha: there's a difference across professors in how grades are distributed\n",
    "* c) see below: several are < 5"
   ]
  },
  {
   "cell_type": "code",
   "execution_count": 25,
   "metadata": {},
   "outputs": [
    {
     "data": {
      "text/html": [
       "<div>\n",
       "<table border=\"1\" class=\"dataframe\">\n",
       "  <thead>\n",
       "    <tr style=\"text-align: right;\">\n",
       "      <th></th>\n",
       "      <th>ProfAlpha</th>\n",
       "      <th>ProfBeta</th>\n",
       "    </tr>\n",
       "  </thead>\n",
       "  <tbody>\n",
       "    <tr>\n",
       "      <th>a</th>\n",
       "      <td>3</td>\n",
       "      <td>9</td>\n",
       "    </tr>\n",
       "    <tr>\n",
       "      <th>b</th>\n",
       "      <td>11</td>\n",
       "      <td>12</td>\n",
       "    </tr>\n",
       "    <tr>\n",
       "      <th>c</th>\n",
       "      <td>14</td>\n",
       "      <td>8</td>\n",
       "    </tr>\n",
       "    <tr>\n",
       "      <th>d</th>\n",
       "      <td>9</td>\n",
       "      <td>2</td>\n",
       "    </tr>\n",
       "    <tr>\n",
       "      <th>f</th>\n",
       "      <td>3</td>\n",
       "      <td>1</td>\n",
       "    </tr>\n",
       "  </tbody>\n",
       "</table>\n",
       "</div>"
      ],
      "text/plain": [
       "   ProfAlpha  ProfBeta\n",
       "a          3         9\n",
       "b         11        12\n",
       "c         14         8\n",
       "d          9         2\n",
       "f          3         1"
      ]
     },
     "execution_count": 25,
     "metadata": {},
     "output_type": "execute_result"
    }
   ],
   "source": [
    "grades = list(\"abcdf\")\n",
    "a = [3, 11, 14, 9, 3]\n",
    "b = [9, 12, 8, 2, 1]\n",
    "\n",
    "profA = dict(zip(grades, a))\n",
    "profB = dict(zip(grades, b))\n",
    "data = pd.DataFrame(data={\"ProfAlpha\": profA, \"ProfBeta\": profB})\n",
    "data.head()"
   ]
  },
  {
   "cell_type": "code",
   "execution_count": 26,
   "metadata": {},
   "outputs": [
    {
     "data": {
      "text/plain": [
       "(9.361067193675893, 0.052681631877570995, 4, array([[ 6.66666667,  5.33333333],\n",
       "        [12.77777778, 10.22222222],\n",
       "        [12.22222222,  9.77777778],\n",
       "        [ 6.11111111,  4.88888889],\n",
       "        [ 2.22222222,  1.77777778]]))"
      ]
     },
     "execution_count": 26,
     "metadata": {},
     "output_type": "execute_result"
    }
   ],
   "source": [
    "stats.chi2_contingency(data)"
   ]
  },
  {
   "cell_type": "markdown",
   "metadata": {},
   "source": [
    "## 26.35\n",
    "\n",
    "### Answers\n",
    "\n",
    "* a) see below\n",
    "* b) DF = 3\n",
    "* c) $\\chi^2$ = 9.31; P-value = 0.025; reject H0: evidence supports the claim of a difference across professors"
   ]
  },
  {
   "cell_type": "code",
   "execution_count": 27,
   "metadata": {},
   "outputs": [
    {
     "data": {
      "text/html": [
       "<div>\n",
       "<table border=\"1\" class=\"dataframe\">\n",
       "  <thead>\n",
       "    <tr style=\"text-align: right;\">\n",
       "      <th></th>\n",
       "      <th>ProfAlpha</th>\n",
       "      <th>ProfBeta</th>\n",
       "    </tr>\n",
       "  </thead>\n",
       "  <tbody>\n",
       "    <tr>\n",
       "      <th>a</th>\n",
       "      <td>3</td>\n",
       "      <td>9</td>\n",
       "    </tr>\n",
       "    <tr>\n",
       "      <th>b</th>\n",
       "      <td>11</td>\n",
       "      <td>12</td>\n",
       "    </tr>\n",
       "    <tr>\n",
       "      <th>below_c</th>\n",
       "      <td>12</td>\n",
       "      <td>3</td>\n",
       "    </tr>\n",
       "    <tr>\n",
       "      <th>c</th>\n",
       "      <td>14</td>\n",
       "      <td>8</td>\n",
       "    </tr>\n",
       "  </tbody>\n",
       "</table>\n",
       "</div>"
      ],
      "text/plain": [
       "         ProfAlpha  ProfBeta\n",
       "a                3         9\n",
       "b               11        12\n",
       "below_c         12         3\n",
       "c               14         8"
      ]
     },
     "execution_count": 27,
     "metadata": {},
     "output_type": "execute_result"
    }
   ],
   "source": [
    "grades = ['a', 'b', 'c', 'below_c']\n",
    "a = [3, 11, 14, 12]\n",
    "b = [9, 12, 8, 3]\n",
    "\n",
    "profA = dict(zip(grades, a))\n",
    "profB = dict(zip(grades, b))\n",
    "data = pd.DataFrame(data={\"ProfAlpha\": profA, \"ProfBeta\": profB})\n",
    "data.head()"
   ]
  },
  {
   "cell_type": "code",
   "execution_count": 28,
   "metadata": {},
   "outputs": [
    {
     "data": {
      "text/plain": [
       "(9.305839920948618, 0.025489182240714527, 3, array([[ 6.66666667,  5.33333333],\n",
       "        [12.77777778, 10.22222222],\n",
       "        [12.22222222,  9.77777778],\n",
       "        [ 8.33333333,  6.66666667]]))"
      ]
     },
     "execution_count": 28,
     "metadata": {},
     "output_type": "execute_result"
    }
   ],
   "source": [
    "d = [[3,9], [11, 12], [14, 8], [12, 3]]\n",
    "stats.chi2_contingency(d)"
   ]
  },
  {
   "cell_type": "markdown",
   "metadata": {},
   "source": [
    "## 26.37\n",
    "\n",
    "### Answers\n",
    "\n",
    "* $\\chi^2$ = 14.056\n",
    "* P-value: 0.003\n",
    "* reject H0; evidence to support claim that "
   ]
  },
  {
   "cell_type": "code",
   "execution_count": 30,
   "metadata": {},
   "outputs": [
    {
     "data": {
      "text/plain": [
       "Power_divergenceResult(statistic=14.057723897476215, pvalue=0.0028276243217226515)"
      ]
     },
     "execution_count": 30,
     "metadata": {},
     "output_type": "execute_result"
    }
   ],
   "source": [
    "white = 170\n",
    "black = 42\n",
    "total = 212\n",
    "obs = [87, 8, 83, 34]\n",
    "exp = [white * 95 / total, black * 95 / total, white * 117 / total, black * 117 / total]\n",
    "\n",
    "stats.chisquare(f_obs=obs, f_exp=exp)"
   ]
  },
  {
   "cell_type": "markdown",
   "metadata": {},
   "source": [
    "## 26.39\n",
    "\n",
    "### Answers\n",
    "\n",
    "* a) z_pooled: 3.749; z_squared: 14.058\n",
    "* b) P-value: 0.0002"
   ]
  },
  {
   "cell_type": "code",
   "execution_count": 37,
   "metadata": {},
   "outputs": [
    {
     "name": "stdout",
     "output_type": "stream",
     "text": [
      "p_pooled: 0.4481132075471698\n",
      "z_pooled: 3.7493631322500915\n",
      "z-squared: 14.057723897476217\n"
     ]
    },
    {
     "data": {
      "text/plain": [
       "0.0001772842207348191"
      ]
     },
     "execution_count": 37,
     "metadata": {},
     "output_type": "execute_result"
    }
   ],
   "source": [
    "blackA = 8\n",
    "whiteA = 87\n",
    "nBlack = 42\n",
    "nWhite = 170\n",
    "\n",
    "# H0 pWhite - pBlack = 0\n",
    "# HA pWhite - pBlack > 0\n",
    "\n",
    "p_pooled = (blackA + whiteA) / (nBlack + nWhite)\n",
    "print(\"p_pooled: {}\".format(p_pooled))\n",
    "se_p = math.sqrt((p_pooled * (1 - p_pooled) / nBlack) + (p_pooled * (1 - p_pooled) / nWhite))\n",
    "\n",
    "pBlackA = blackA / nBlack\n",
    "pWhiteA = whiteA / nWhite\n",
    "diff = pWhiteA - pBlackA\n",
    "z_p = diff / se_p\n",
    "print(\"z_pooled: {}\".format(z_p))\n",
    "\n",
    "z_sq = z_p ** 2\n",
    "print(\"z-squared: {}\".format(z_sq))\n",
    "\n",
    "2 * (1 - stats.norm.cdf(z_p))"
   ]
  },
  {
   "cell_type": "markdown",
   "metadata": {},
   "source": [
    "## 26.41\n",
    "\n",
    "### Answers\n",
    "\n",
    "* $\\chi^2$ = 5.89\n",
    "* P-value: 0.12\n",
    "* fail to reject H0; evidence doesn't support the claim of an association between age group and outcome"
   ]
  },
  {
   "cell_type": "code",
   "execution_count": 38,
   "metadata": {},
   "outputs": [
    {
     "data": {
      "text/plain": [
       "(5.885057004913428,\n",
       " 0.11733835030936994,\n",
       " 3,\n",
       " array([[ 49.67701863,  12.32298137],\n",
       "        [193.90062112,  48.09937888],\n",
       "        [ 87.33540373,  21.66459627],\n",
       "        [ 56.08695652,  13.91304348]]))"
      ]
     },
     "execution_count": 38,
     "metadata": {},
     "output_type": "execute_result"
    }
   ],
   "source": [
    "data = [\n",
    "    [49, 13],\n",
    "    [201, 41],\n",
    "    [88, 21],\n",
    "    [49, 21]\n",
    "]\n",
    "\n",
    "stats.chi2_contingency(data)"
   ]
  }
 ],
 "metadata": {
  "kernelspec": {
   "display_name": "Python 3",
   "language": "python",
   "name": "python3"
  },
  "language_info": {
   "codemirror_mode": {
    "name": "ipython",
    "version": 3
   },
   "file_extension": ".py",
   "mimetype": "text/x-python",
   "name": "python",
   "nbconvert_exporter": "python",
   "pygments_lexer": "ipython3",
   "version": "3.5.2"
  }
 },
 "nbformat": 4,
 "nbformat_minor": 2
}
