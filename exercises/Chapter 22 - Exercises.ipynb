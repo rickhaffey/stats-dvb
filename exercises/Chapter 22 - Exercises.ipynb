{
 "cells": [
  {
   "cell_type": "markdown",
   "metadata": {},
   "source": [
    "# Chapter 22 - Exercises"
   ]
  },
  {
   "cell_type": "code",
   "execution_count": 1,
   "metadata": {
    "collapsed": true
   },
   "outputs": [],
   "source": [
    "import math\n",
    "from scipy.stats import norm"
   ]
  },
  {
   "cell_type": "markdown",
   "metadata": {},
   "source": [
    "## 22.1\n",
    "\n",
    "### Answers\n",
    "\n",
    "* We wouldn't expect to see a difference in proportions between the two groups as large (or larger) than what we saw due purely to sampling variability if there in fact was no difference in proportion between the two groups."
   ]
  },
  {
   "cell_type": "markdown",
   "metadata": {},
   "source": [
    "## 22.3\n",
    "\n",
    "### Answers\n",
    "\n",
    "* It depends.  Assuming all conditions (independence, sample size, etc.) are met, the P-value indicates a statistically significant difference.  Whether that difference is _practically_ significant depends on the actual size of the difference."
   ]
  },
  {
   "cell_type": "markdown",
   "metadata": {},
   "source": [
    "## 22.5\n",
    "\n",
    "### Answers\n",
    "\n",
    "* The groups are not independent.  The proportions are based on two different responses from the same individuals."
   ]
  },
  {
   "cell_type": "markdown",
   "metadata": {},
   "source": [
    "## 22.7\n",
    "\n",
    "### Answers\n",
    "\n",
    "* a) stratified random sample\n",
    "* b) 6% difference\n",
    "* c) 0.04 (see below)\n",
    "* d) (see below)\n",
    "* e) yes - roughly 7% of the time, sampling variability would produce result counter to the actual proportions"
   ]
  },
  {
   "cell_type": "code",
   "execution_count": 12,
   "metadata": {},
   "outputs": [
    {
     "name": "stdout",
     "output_type": "stream",
     "text": [
      "sd: 0.04045573712919673\n"
     ]
    },
    {
     "data": {
      "text/plain": [
       "[-0.06136721138759024,\n",
       " -0.020911474258393514,\n",
       " 0.019544262870803214,\n",
       " 0.05999999999999994,\n",
       " 0.10045573712919667,\n",
       " 0.1409114742583934,\n",
       " 0.18136721138759013]"
      ]
     },
     "execution_count": 12,
     "metadata": {},
     "output_type": "execute_result"
    }
   ],
   "source": [
    "#c\n",
    "p1 = 0.59\n",
    "p2 = 0.53\n",
    "n1 = n2 = 300\n",
    "\n",
    "sd = math.sqrt( (p1 * (1 - p1) / n1)  + (p2 * (1 - p2) / n2) )\n",
    "print(\"sd: {}\".format(sd))\n",
    "\n",
    "#d\n",
    "[(p1 - p2) + (sd * x) for x in range(-3, 4)]"
   ]
  },
  {
   "cell_type": "code",
   "execution_count": 14,
   "metadata": {},
   "outputs": [
    {
     "data": {
      "text/plain": [
       "0.06902360596220701"
      ]
     },
     "execution_count": 14,
     "metadata": {},
     "output_type": "execute_result"
    }
   ],
   "source": [
    "#e\n",
    "norm.cdf(0, (p1 - p2), sd)"
   ]
  },
  {
   "cell_type": "markdown",
   "metadata": {},
   "source": [
    "## 22.9\n",
    "\n",
    "### Answers\n",
    "\n",
    "* a) independence and sample size: yes: randomly selected, less than 10% of entire pop., at least 10 success / failures\n",
    "* b) see below\n",
    "* c) We are 95% confident that the true difference between the proportion of men and women that suffer from arthritis is captured in the range 5.5% and 14.0%.\n",
    "* d) yes - This suggests that women are more likely than men to suffer from arthritis."
   ]
  },
  {
   "cell_type": "code",
   "execution_count": 11,
   "metadata": {},
   "outputs": [
    {
     "data": {
      "text/plain": [
       "[0.054981193511012744, 0.09763999612931085, 0.14029879874760895]"
      ]
     },
     "execution_count": 11,
     "metadata": {},
     "output_type": "execute_result"
    }
   ],
   "source": [
    "# b\n",
    "sm = 411\n",
    "nm = 1012\n",
    "sf = 535\n",
    "nf = 1062\n",
    "p_m = sm / nm\n",
    "p_f = sf / nf\n",
    "\n",
    "z = norm.ppf(.975, 0, 1)\n",
    "se = math.sqrt(p_m * (1 - p_m) / nm  + p_f * (1 - p_f) / nf)\n",
    "pDiff = p_f - p_m\n",
    "\n",
    "[pDiff - z * se, pDiff, pDiff + z * se]"
   ]
  },
  {
   "cell_type": "markdown",
   "metadata": {},
   "source": [
    "## 22.11\n",
    "\n",
    "### Answers\n",
    "\n",
    "* a) 3.54%\n",
    "* b) see below\n",
    "* c) we are 95% confident that the difference in rate of lymphoma between dogs in homes w/ and w/o herbicide is captured by the interval from 35.6% to 49.5%"
   ]
  },
  {
   "cell_type": "code",
   "execution_count": 13,
   "metadata": {},
   "outputs": [
    {
     "name": "stdout",
     "output_type": "stream",
     "text": [
      "se: 0.035439859781277554\n"
     ]
    },
    {
     "data": {
      "text/plain": [
       "[0.35633210070461679, 0.42579294949307034, 0.49525379828152388]"
      ]
     },
     "execution_count": 13,
     "metadata": {},
     "output_type": "execute_result"
    }
   ],
   "source": [
    "sh = 473\n",
    "nh = 827\n",
    "sn = 19\n",
    "nn = 130\n",
    "\n",
    "ph = sh / nh\n",
    "pn = sn / nn\n",
    "\n",
    "z = norm.ppf(.975, 0, 1)\n",
    "\n",
    "# a\n",
    "se = math.sqrt(ph * (1 - ph) / nh + pn * (1 - pn) / nn)\n",
    "print(\"se: {}\".format(se))\n",
    "\n",
    "pDiff = ph - pn\n",
    "\n",
    "# b\n",
    "[pDiff - z * se, pDiff, pDiff + z * se]"
   ]
  },
  {
   "cell_type": "markdown",
   "metadata": {},
   "source": [
    "## 22.13\n",
    "\n",
    "### Answers\n",
    "\n",
    "* a) yes: grouped randomly, independent; < 10% of entire pop; >= 10 success & failures\n",
    "* b) see below\n",
    "* c) We are 95% confident that the difference in rate of infection between children that received no vaccination to those that did falls in the range of 4.7% to 8.9%."
   ]
  },
  {
   "cell_type": "code",
   "execution_count": 14,
   "metadata": {},
   "outputs": [
    {
     "name": "stdout",
     "output_type": "stream",
     "text": [
      "se: 0.010670654502022644\n"
     ]
    },
    {
     "data": {
      "text/plain": [
       "[0.046951694569224725, 0.06786579308465929, 0.088779891600093849]"
      ]
     },
     "execution_count": 14,
     "metadata": {},
     "output_type": "execute_result"
    }
   ],
   "source": [
    "sv = 333\n",
    "nv = 2455\n",
    "sn = 499\n",
    "nn = 2452\n",
    "\n",
    "pV = sv / nv\n",
    "pN = sn / nn\n",
    "\n",
    "pDiff = pN - pV\n",
    "\n",
    "\n",
    "z = norm.ppf(.975, 0, 1)\n",
    "\n",
    "se = math.sqrt(pV * (1 - pV) / nv + pN * (1 - pN) / nn)\n",
    "print(\"se: {}\".format(se))\n",
    "\n",
    "# b\n",
    "[pDiff - z * se, pDiff, pDiff + z * se]"
   ]
  },
  {
   "cell_type": "markdown",
   "metadata": {},
   "source": [
    "## 22.15\n",
    "\n",
    "### Answers\n",
    "\n",
    "* a) \n",
    "  - H0: p = 0\n",
    "  - HA: p > 0\n",
    "* b) reject the null hypothesis: the evidence supports the claim that vaccinated children show a lower rate of ear infections\n",
    "* c) alpha = 0.025 (95% ci, but one-sided test)\n",
    "* d) Type I\n",
    "* e) kids would be vaccinated even though it's not effective in reducing the rate of ear infections"
   ]
  },
  {
   "cell_type": "markdown",
   "metadata": {},
   "source": [
    "## 22.17\n",
    "\n",
    "### Answers\n",
    "\n",
    "* a) prospective, longitudinal study\n",
    "* b) H0: p1 - p2 = 0; HA: p1 - p2 <> 0 (not clear whether study aims to identify a positive/negative effect, or _any_ effect)\n",
    "* c) yes: assume randomly selected and groups are independent; n < 10% of all teenagers, > 10 successes and failures\n",
    "* d) P-value = 0.24; fail to reject the null hypothesis\n",
    "* e) Under conditions of the null hypothesis, we'd expect the results we obtained (or more extreme results) purely due to sampling variability roughly 24% of the time.  As a result, the evidence is insufficient in supporting the claim.\n",
    "* f) Type II"
   ]
  },
  {
   "cell_type": "code",
   "execution_count": 14,
   "metadata": {},
   "outputs": [
    {
     "name": "stdout",
     "output_type": "stream",
     "text": [
      "se: 0.06682678584280698\n",
      "pDiff: 0.07815183785640675\n",
      "z: 1.1694687522491218\n",
      "P-vaue: 0.24221482377096315\n"
     ]
    }
   ],
   "source": [
    "nd = 284\n",
    "sd = 54\n",
    "nl = 41\n",
    "sl = 11\n",
    "\n",
    "# H0: p_l - p_d = 0\n",
    "# HA: p_l - p_d <> 0 \n",
    "\n",
    "pd = sd / nd\n",
    "pl = sl / nl\n",
    "pp = (sd + sl) / (nd + nl)\n",
    "se = math.sqrt(pp * (1 - pp) / nd + pp * (1 - pp) / nl)\n",
    "print(\"se: {}\".format(se))\n",
    "\n",
    "pDiff = pl - pd\n",
    "print(\"pDiff: {}\".format(pDiff))\n",
    "z = pDiff / se\n",
    "print(\"z: {}\".format(z))\n",
    "\n",
    "pValue = 2 * (1 - norm.cdf(z, 0, 1))\n",
    "print(\"P-vaue: {}\".format(pValue))"
   ]
  },
  {
   "cell_type": "markdown",
   "metadata": {},
   "source": [
    "## 22.19\n",
    "\n",
    "### Answers\n",
    "\n",
    "* a) [-0.06, 0.22]\n",
    "* b) We are 95% confident that the true difference in proportions between the two groups is captured by the range from -6% to 22%.\n",
    "* c) 95% of samples will produce intervals that capture the true difference"
   ]
  },
  {
   "cell_type": "code",
   "execution_count": 16,
   "metadata": {},
   "outputs": [
    {
     "data": {
      "text/plain": [
       "[-0.064942977373950606, 0.07815183785640675, 0.22124665308676411]"
      ]
     },
     "execution_count": 16,
     "metadata": {},
     "output_type": "execute_result"
    }
   ],
   "source": [
    "se2 = math.sqrt(pd * (1 - pd) / nd + pl * (1 - pl) /nl)\n",
    "z = norm.ppf(.975, 0, 1)\n",
    "\n",
    "[pDiff - (z * se2), pDiff, pDiff + (z * se2)]"
   ]
  },
  {
   "cell_type": "markdown",
   "metadata": {},
   "source": [
    "## 22.21\n",
    "\n",
    "### Answers\n",
    "\n",
    "* a) no: there's no treatment that was randomly assigned; it's observational\n",
    "* b) H0: p-diff = 0, HA: p-diff <> 0; see below\n",
    "  - reject H0: there's evidence to suggest that there is a difference in the proportions between the two groups\n",
    "  - need to be cautious in attributing this to their methods of treatment, though; it may be due to differences related to age _outside_ the context of their treatment at the clinic\n",
    "* c) [0.099856908318224788, 0.2778715680290163]\n",
    "  - we're 95% confident that the true difference between groups is captured by the range of 10% to 28%"
   ]
  },
  {
   "cell_type": "code",
   "execution_count": 19,
   "metadata": {},
   "outputs": [
    {
     "name": "stdout",
     "output_type": "stream",
     "text": [
      "se: 0.052993032195501465\n",
      "pDiff: 0.18886423817362055\n",
      "z: 3.5639447366752695\n",
      "P-vaue: 0.00036532290053825633\n"
     ]
    }
   ],
   "source": [
    "sy = 42\n",
    "ny = 157\n",
    "so = 7\n",
    "no = 89\n",
    "\n",
    "py = sy / ny\n",
    "po = so / no\n",
    "pp = (sy + so) / (ny + no)\n",
    "\n",
    "se = math.sqrt(pp * (1 - pp) / ny + pp * (1 - pp) / no)\n",
    "print(\"se: {}\".format(se))\n",
    "\n",
    "pDiff = py - po\n",
    "print(\"pDiff: {}\".format(pDiff))\n",
    "z = pDiff / se\n",
    "print(\"z: {}\".format(z))\n",
    "\n",
    "pValue = 2 * (1 - norm.cdf(z, 0, 1))\n",
    "print(\"P-vaue: {}\".format(pValue))"
   ]
  },
  {
   "cell_type": "code",
   "execution_count": 20,
   "metadata": {},
   "outputs": [
    {
     "data": {
      "text/plain": [
       "[0.099856908318224788, 0.18886423817362055, 0.2778715680290163]"
      ]
     },
     "execution_count": 20,
     "metadata": {},
     "output_type": "execute_result"
    }
   ],
   "source": [
    "se2 = math.sqrt(py * (1 - py) / ny + po * (1 - po) /no)\n",
    "z = norm.ppf(.975, 0, 1)\n",
    "\n",
    "[pDiff - (z * se2), pDiff, pDiff + (z * se2)]"
   ]
  },
  {
   "cell_type": "markdown",
   "metadata": {},
   "source": [
    "## 22.23\n",
    "\n",
    "### Answers\n",
    "\n",
    "* a) \n",
    "    - H0: p1 - p2 = 0\n",
    "    - HA: p1 - p2 > 0\n",
    "    - P-value = 0.11841995219121348\n",
    "    - fail to reject null hypothesis\n",
    "    - evidence doesn't support claim that there's a true difference\n",
    "* b) Type II\n",
    "* c) NA"
   ]
  },
  {
   "cell_type": "code",
   "execution_count": 8,
   "metadata": {},
   "outputs": [
    {
     "name": "stdout",
     "output_type": "stream",
     "text": [
      "x1: 340\n",
      "x2: 515\n",
      "se: 0.025360919766898277\n",
      "pDiff: 0.030000000000000027\n",
      "z: 1.1829223969690876\n",
      "P-vaue: 0.11841995219121348\n"
     ]
    }
   ],
   "source": [
    "n1 = 630\n",
    "p1 = .54\n",
    "x1 = math.floor(p1 * n1)\n",
    "print(\"x1: {}\".format(x1))\n",
    "\n",
    "n2 = 1010\n",
    "p2 = .51\n",
    "x2 = math.floor(p2 * n2)\n",
    "print(\"x2: {}\".format(x2))\n",
    "\n",
    "# H0: p1 - p2 = 0\n",
    "# HA: p1 - p2 > 0\n",
    "\n",
    "pp = (x1 + x2) / (n1 + n2)\n",
    "\n",
    "se = math.sqrt(pp * (1 - pp) / n1 + pp * (1 - pp) / n2)\n",
    "print(\"se: {}\".format(se))\n",
    "\n",
    "pDiff = p1 - p2\n",
    "print(\"pDiff: {}\".format(pDiff))\n",
    "z = pDiff / se\n",
    "print(\"z: {}\".format(z))\n",
    "\n",
    "pValue = 1 - norm.cdf(z, 0, 1)\n",
    "print(\"P-vaue: {}\".format(pValue))"
   ]
  },
  {
   "cell_type": "markdown",
   "metadata": {},
   "source": [
    "## 22.25\n",
    "\n",
    "### Answers\n",
    "\n",
    "* a) \n",
    "    - H0: p1 - p2 = 0\n",
    "    - HA: p1 - p2 > 0\n",
    "    - P-value = 0.6951367284606931\n",
    "    - fail to reject null hypothesis\n",
    "    - evidence doesn't support claim that there's a true difference\n",
    "* b) Type II    "
   ]
  },
  {
   "cell_type": "code",
   "execution_count": 13,
   "metadata": {},
   "outputs": [
    {
     "name": "stdout",
     "output_type": "stream",
     "text": [
      "p1: 0.030012771392081736\n",
      "p2: 0.033003300330033\n",
      "se: 0.007630968887374245\n",
      "pDiff: 0.0029905289379512645\n",
      "z: 0.3918937401119822\n",
      "P-vaue: 0.6951367284606931\n"
     ]
    }
   ],
   "source": [
    "n1 = 3132\n",
    "s1 = 94\n",
    "p1 = s1 / n1\n",
    "print(\"p1: {}\".format(p1))\n",
    "n2 = 606\n",
    "s2 = 20\n",
    "p2 = s2 / n2\n",
    "print(\"p2: {}\".format(p2))\n",
    "\n",
    "# H0: p1 - p2 = 0\n",
    "# HA: p1 - p2 <> 0\n",
    "\n",
    "pp = (s1 + s2) / (n1 + n2)\n",
    "\n",
    "se = math.sqrt(pp * (1 - pp) / n1 + pp * (1 - pp) / n2)\n",
    "print(\"se: {}\".format(se))\n",
    "\n",
    "pDiff = p2 - p1\n",
    "print(\"pDiff: {}\".format(pDiff))\n",
    "z = pDiff / se\n",
    "print(\"z: {}\".format(z))\n",
    "\n",
    "pValue = 2 * (1 - norm.cdf(z, 0, 1))\n",
    "print(\"P-vaue: {}\".format(pValue))"
   ]
  },
  {
   "cell_type": "markdown",
   "metadata": {},
   "source": [
    "## 22.27\n",
    "\n",
    "### Answers\n",
    "\n",
    "* a) see below; we're 95% confident that the true proportion of those helped by med A is captured by the range 67% to 83%\n",
    "* b) see below; we're 95% confident that the true proportion of those helped by med B is captured by the range 52% to 70%\n",
    "* c) they overlap; it implies that there may be no difference in the effectiveness of the two medicines \n",
    "* d) see below; we're 95% confident that the true difference in proportions between A and B is captured by the range from 1.7% to 26.1%.\n",
    "* e) no; it implies that there is a true difference in proportions\n",
    "* f) [wrong]if there is a difference, it may be so small that the low effect size reduces the power of the test;\n",
    "  - correct answer: one-sample methods don't add variance; two-sample does -> two-sample is correct approach"
   ]
  },
  {
   "cell_type": "code",
   "execution_count": 30,
   "metadata": {},
   "outputs": [
    {
     "name": "stdout",
     "output_type": "stream",
     "text": [
      "p1: 0.75\n",
      "p2: 0.6111111111111112\n",
      "z: 1.959963984540054\n",
      "\n",
      "** PART A\n",
      "se1: 0.04091585441924857\n",
      "ci (1): [0.66980639894158878, 0.75, 0.83019360105841122]\n",
      "\n",
      "** PART B\n",
      "se2: 0.04690951899250205\n",
      "ci (2): [0.51917014335370948, 0.6111111111111112, 0.70305207886851284]\n",
      "\n",
      "** PART D\n",
      "se: 0.06224636627920583\n",
      "pDiff: 0.13888888888888884\n",
      "ci (3): [0.016888252813156923, 0.13888888888888884, 0.26088952496462076]\n"
     ]
    }
   ],
   "source": [
    "n1 = 112\n",
    "s1 = 84\n",
    "p1 = s1 / n1\n",
    "print(\"p1: {}\".format(p1))\n",
    "n2 = 108\n",
    "s2 = 66\n",
    "p2 = s2 / n2\n",
    "print(\"p2: {}\".format(p2))\n",
    "\n",
    "z = norm.ppf(1 - 0.05 / 2, 0, 1)\n",
    "print(\"z: {}\".format(z))\n",
    "\n",
    "# a\n",
    "print(\"\\n** PART A\")\n",
    "se1 = math.sqrt(p1 * (1 - p1) / n1)\n",
    "print(\"se1: {}\".format(se1))\n",
    "print(\"ci (1): {}\".format([p1 - z * se1, p1, p1 + z * se1]))\n",
    "\n",
    "# b\n",
    "print(\"\\n** PART B\")\n",
    "se2 = math.sqrt(p2 * (1 - p2) / n2)\n",
    "print(\"se2: {}\".format(se2))\n",
    "print(\"ci (2): {}\".format([p2 - z * se2, p2, p2 + z * se2]))\n",
    "\n",
    "# d\n",
    "print(\"\\n** PART D\")\n",
    "# pp = (s1 + s2) / (n1 + n2)\n",
    "se = math.sqrt(p1 * (1 - p1) / n1 + p2 * (1 - p2) / n2)\n",
    "print(\"se: {}\".format(se))\n",
    "\n",
    "pDiff = p1 - p2\n",
    "print(\"pDiff: {}\".format(pDiff))\n",
    "\n",
    "print(\"ci (3): {}\".format([pDiff - z * se, pDiff, pDiff + z * se]))"
   ]
  },
  {
   "cell_type": "markdown",
   "metadata": {},
   "source": [
    "## 22.29\n",
    "\n",
    "### Answers\n",
    "\n",
    "* Probably not.  At 95% significance level, we get a P-value of 0.062 when evaluating the difference between groups.  As a result, the evidence fails to support the claim that there's a true difference.  Depends on the level of significance we're expecting in answering the question."
   ]
  },
  {
   "cell_type": "code",
   "execution_count": 32,
   "metadata": {},
   "outputs": [
    {
     "name": "stdout",
     "output_type": "stream",
     "text": [
      "p1: 0.6201550387596899\n",
      "p2: 0.532608695652174\n",
      "se: 0.056872320671674546\n",
      "pDiff: 0.08754634310751597\n",
      "z: 1.5393488796232422\n",
      "P-vaue: 0.06185957345394577\n"
     ]
    }
   ],
   "source": [
    "n1 = 129\n",
    "s1 = 80\n",
    "p1 = s1 / n1\n",
    "print(\"p1: {}\".format(p1))\n",
    "n2 = 184\n",
    "s2 = 98\n",
    "p2 = s2 / n2\n",
    "print(\"p2: {}\".format(p2))\n",
    "\n",
    "# H0: p1 - p2 = 0\n",
    "# HA: p1 - p2 > 0\n",
    "\n",
    "pp = (s1 + s2) / (n1 + n2)\n",
    "\n",
    "se = math.sqrt(pp * (1 - pp) / n1 + pp * (1 - pp) / n2)\n",
    "print(\"se: {}\".format(se))\n",
    "\n",
    "pDiff = p1 - p2\n",
    "print(\"pDiff: {}\".format(pDiff))\n",
    "z = pDiff / se\n",
    "print(\"z: {}\".format(z))\n",
    "\n",
    "pValue = 1 - norm.cdf(z, 0, 1)\n",
    "print(\"P-vaue: {}\".format(pValue))"
   ]
  },
  {
   "cell_type": "markdown",
   "metadata": {},
   "source": [
    "## 22.31\n",
    "\n",
    "### Answers\n",
    "\n",
    "* Yes - At a significance level of 95%, we obtain a P-value of < 0.001.  As a result, we reject the null hypothesis - the evidence supports the claim that there is a true increase in the proportion of parents checking."
   ]
  },
  {
   "cell_type": "code",
   "execution_count": 34,
   "metadata": {},
   "outputs": [
    {
     "name": "stdout",
     "output_type": "stream",
     "text": [
      "se: 0.023553545569335223\n",
      "pDiff: 0.07999999999999996\n",
      "z: 3.396516238478905\n",
      "P-vaue: 0.00034124753872222247\n"
     ]
    }
   ],
   "source": [
    "p1 = 0.33\n",
    "n1 = 868\n",
    "s1 = math.floor(p1 * n1)\n",
    "\n",
    "p2 = 0.41\n",
    "n2 = 811\n",
    "s2 = math.floor(p2 * n2)\n",
    "\n",
    "# H0: p2 - p1 = 0\n",
    "# HA: p2 - p1 > 0\n",
    "\n",
    "pp = (s1 + s2) / (n1 + n2)\n",
    "\n",
    "se = math.sqrt(pp * (1 - pp) / n1 + pp * (1 - pp) / n2)\n",
    "print(\"se: {}\".format(se))\n",
    "\n",
    "pDiff = p2 - p1\n",
    "print(\"pDiff: {}\".format(pDiff))\n",
    "z = pDiff / se\n",
    "print(\"z: {}\".format(z))\n",
    "\n",
    "pValue = 1 - norm.cdf(z, 0, 1)\n",
    "print(\"P-vaue: {}\".format(pValue))"
   ]
  }
 ],
 "metadata": {
  "kernelspec": {
   "display_name": "Python 3",
   "language": "python",
   "name": "python3"
  },
  "language_info": {
   "codemirror_mode": {
    "name": "ipython",
    "version": 3
   },
   "file_extension": ".py",
   "mimetype": "text/x-python",
   "name": "python",
   "nbconvert_exporter": "python",
   "pygments_lexer": "ipython3",
   "version": "3.5.2"
  }
 },
 "nbformat": 4,
 "nbformat_minor": 2
}
