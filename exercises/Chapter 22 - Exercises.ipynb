{
 "cells": [
  {
   "cell_type": "markdown",
   "metadata": {},
   "source": [
    "# Chapter 22 - Exercises"
   ]
  },
  {
   "cell_type": "code",
   "execution_count": 13,
   "metadata": {
    "collapsed": true
   },
   "outputs": [],
   "source": [
    "import math\n",
    "from scipy.stats import norm"
   ]
  },
  {
   "cell_type": "markdown",
   "metadata": {},
   "source": [
    "## 22.1\n",
    "\n",
    "### Answers\n",
    "\n",
    "* We wouldn't expect to see a difference in proportions between the two groups as large (or larger) than what we saw due purely to sampling variability if there in fact was no difference in proportion between the two groups."
   ]
  },
  {
   "cell_type": "markdown",
   "metadata": {},
   "source": [
    "## 22.3\n",
    "\n",
    "### Answers\n",
    "\n",
    "* It depends.  Assuming all conditions (independence, sample size, etc.) are met, the P-value indicates a statistically significant difference.  Whether that difference is _practically_ significant depends on the actual size of the difference."
   ]
  },
  {
   "cell_type": "markdown",
   "metadata": {},
   "source": [
    "## 22.5\n",
    "\n",
    "### Answers\n",
    "\n",
    "* The groups are not independent.  The proportions are based on two different responses from the same individuals."
   ]
  },
  {
   "cell_type": "markdown",
   "metadata": {},
   "source": [
    "## 22.7\n",
    "\n",
    "### Answers\n",
    "\n",
    "* a) stratified random sample\n",
    "* b) 6% difference\n",
    "* c) 0.04 (see below)\n",
    "* d) (see below)\n",
    "* e) yes - roughly 7% of the time, sampling variability would produce result counter to the actual proportions"
   ]
  },
  {
   "cell_type": "code",
   "execution_count": 12,
   "metadata": {},
   "outputs": [
    {
     "name": "stdout",
     "output_type": "stream",
     "text": [
      "sd: 0.04045573712919673\n"
     ]
    },
    {
     "data": {
      "text/plain": [
       "[-0.06136721138759024,\n",
       " -0.020911474258393514,\n",
       " 0.019544262870803214,\n",
       " 0.05999999999999994,\n",
       " 0.10045573712919667,\n",
       " 0.1409114742583934,\n",
       " 0.18136721138759013]"
      ]
     },
     "execution_count": 12,
     "metadata": {},
     "output_type": "execute_result"
    }
   ],
   "source": [
    "#c\n",
    "p1 = 0.59\n",
    "p2 = 0.53\n",
    "n1 = n2 = 300\n",
    "\n",
    "sd = math.sqrt( (p1 * (1 - p1) / n1)  + (p2 * (1 - p2) / n2) )\n",
    "print(\"sd: {}\".format(sd))\n",
    "\n",
    "#d\n",
    "[(p1 - p2) + (sd * x) for x in range(-3, 4)]"
   ]
  },
  {
   "cell_type": "code",
   "execution_count": 14,
   "metadata": {},
   "outputs": [
    {
     "data": {
      "text/plain": [
       "0.06902360596220701"
      ]
     },
     "execution_count": 14,
     "metadata": {},
     "output_type": "execute_result"
    }
   ],
   "source": [
    "#e\n",
    "norm.cdf(0, (p1 - p2), sd)"
   ]
  },
  {
   "cell_type": "markdown",
   "metadata": {},
   "source": [
    "## \n",
    "\n",
    "### Answers\n",
    "\n",
    "* \n"
   ]
  },
  {
   "cell_type": "markdown",
   "metadata": {},
   "source": [
    "## \n",
    "\n",
    "### Answers\n",
    "\n",
    "* \n"
   ]
  },
  {
   "cell_type": "markdown",
   "metadata": {},
   "source": [
    "## \n",
    "\n",
    "### Answers\n",
    "\n",
    "* \n"
   ]
  },
  {
   "cell_type": "markdown",
   "metadata": {},
   "source": [
    "## \n",
    "\n",
    "### Answers\n",
    "\n",
    "* \n"
   ]
  },
  {
   "cell_type": "markdown",
   "metadata": {},
   "source": [
    "## \n",
    "\n",
    "### Answers\n",
    "\n",
    "* \n"
   ]
  },
  {
   "cell_type": "markdown",
   "metadata": {},
   "source": [
    "## \n",
    "\n",
    "### Answers\n",
    "\n",
    "* \n"
   ]
  },
  {
   "cell_type": "markdown",
   "metadata": {},
   "source": [
    "## \n",
    "\n",
    "### Answers\n",
    "\n",
    "* \n"
   ]
  },
  {
   "cell_type": "code",
   "execution_count": null,
   "metadata": {
    "collapsed": true
   },
   "outputs": [],
   "source": []
  }
 ],
 "metadata": {
  "kernelspec": {
   "display_name": "Python 3",
   "language": "python",
   "name": "python3"
  },
  "language_info": {
   "codemirror_mode": {
    "name": "ipython",
    "version": 3
   },
   "file_extension": ".py",
   "mimetype": "text/x-python",
   "name": "python",
   "nbconvert_exporter": "python",
   "pygments_lexer": "ipython3",
   "version": "3.5.2"
  }
 },
 "nbformat": 4,
 "nbformat_minor": 2
}
