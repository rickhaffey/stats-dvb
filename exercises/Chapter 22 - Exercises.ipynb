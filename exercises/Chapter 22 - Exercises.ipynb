{
 "cells": [
  {
   "cell_type": "markdown",
   "metadata": {},
   "source": [
    "# Chapter 22 - Exercises"
   ]
  },
  {
   "cell_type": "code",
   "execution_count": 1,
   "metadata": {
    "collapsed": true
   },
   "outputs": [],
   "source": [
    "import math\n",
    "from scipy.stats import norm"
   ]
  },
  {
   "cell_type": "markdown",
   "metadata": {},
   "source": [
    "## 22.1\n",
    "\n",
    "### Answers\n",
    "\n",
    "* We wouldn't expect to see a difference in proportions between the two groups as large (or larger) than what we saw due purely to sampling variability if there in fact was no difference in proportion between the two groups."
   ]
  },
  {
   "cell_type": "markdown",
   "metadata": {},
   "source": [
    "## 22.3\n",
    "\n",
    "### Answers\n",
    "\n",
    "* It depends.  Assuming all conditions (independence, sample size, etc.) are met, the P-value indicates a statistically significant difference.  Whether that difference is _practically_ significant depends on the actual size of the difference."
   ]
  },
  {
   "cell_type": "markdown",
   "metadata": {},
   "source": [
    "## 22.5\n",
    "\n",
    "### Answers\n",
    "\n",
    "* The groups are not independent.  The proportions are based on two different responses from the same individuals."
   ]
  },
  {
   "cell_type": "markdown",
   "metadata": {},
   "source": [
    "## 22.7\n",
    "\n",
    "### Answers\n",
    "\n",
    "* a) stratified random sample\n",
    "* b) 6% difference\n",
    "* c) 0.04 (see below)\n",
    "* d) (see below)\n",
    "* e) yes - roughly 7% of the time, sampling variability would produce result counter to the actual proportions"
   ]
  },
  {
   "cell_type": "code",
   "execution_count": 12,
   "metadata": {},
   "outputs": [
    {
     "name": "stdout",
     "output_type": "stream",
     "text": [
      "sd: 0.04045573712919673\n"
     ]
    },
    {
     "data": {
      "text/plain": [
       "[-0.06136721138759024,\n",
       " -0.020911474258393514,\n",
       " 0.019544262870803214,\n",
       " 0.05999999999999994,\n",
       " 0.10045573712919667,\n",
       " 0.1409114742583934,\n",
       " 0.18136721138759013]"
      ]
     },
     "execution_count": 12,
     "metadata": {},
     "output_type": "execute_result"
    }
   ],
   "source": [
    "#c\n",
    "p1 = 0.59\n",
    "p2 = 0.53\n",
    "n1 = n2 = 300\n",
    "\n",
    "sd = math.sqrt( (p1 * (1 - p1) / n1)  + (p2 * (1 - p2) / n2) )\n",
    "print(\"sd: {}\".format(sd))\n",
    "\n",
    "#d\n",
    "[(p1 - p2) + (sd * x) for x in range(-3, 4)]"
   ]
  },
  {
   "cell_type": "code",
   "execution_count": 14,
   "metadata": {},
   "outputs": [
    {
     "data": {
      "text/plain": [
       "0.06902360596220701"
      ]
     },
     "execution_count": 14,
     "metadata": {},
     "output_type": "execute_result"
    }
   ],
   "source": [
    "#e\n",
    "norm.cdf(0, (p1 - p2), sd)"
   ]
  },
  {
   "cell_type": "markdown",
   "metadata": {},
   "source": [
    "## 22.9\n",
    "\n",
    "### Answers\n",
    "\n",
    "* a) independence and sample size: yes: randomly selected, less than 10% of entire pop., at least 10 success / failures\n",
    "* b) see below\n",
    "* c) We are 95% confident that the true difference between the proportion of men and women that suffer from arthritis is captured in the range 5.5% and 14.0%.\n",
    "* d) yes - This suggests that women are more likely than men to suffer from arthritis."
   ]
  },
  {
   "cell_type": "code",
   "execution_count": 11,
   "metadata": {},
   "outputs": [
    {
     "data": {
      "text/plain": [
       "[0.054981193511012744, 0.09763999612931085, 0.14029879874760895]"
      ]
     },
     "execution_count": 11,
     "metadata": {},
     "output_type": "execute_result"
    }
   ],
   "source": [
    "# b\n",
    "sm = 411\n",
    "nm = 1012\n",
    "sf = 535\n",
    "nf = 1062\n",
    "p_m = sm / nm\n",
    "p_f = sf / nf\n",
    "\n",
    "z = norm.ppf(.975, 0, 1)\n",
    "se = math.sqrt(p_m * (1 - p_m) / nm  + p_f * (1 - p_f) / nf)\n",
    "pDiff = p_f - p_m\n",
    "\n",
    "[pDiff - z * se, pDiff, pDiff + z * se]"
   ]
  },
  {
   "cell_type": "markdown",
   "metadata": {},
   "source": [
    "## 22.11\n",
    "\n",
    "### Answers\n",
    "\n",
    "* a) 3.54%\n",
    "* b) see below\n",
    "* c) we are 95% confident that the difference in rate of lymphoma between dogs in homes w/ and w/o herbicide is captured by the interval from 35.6% to 49.5%"
   ]
  },
  {
   "cell_type": "code",
   "execution_count": 13,
   "metadata": {},
   "outputs": [
    {
     "name": "stdout",
     "output_type": "stream",
     "text": [
      "se: 0.035439859781277554\n"
     ]
    },
    {
     "data": {
      "text/plain": [
       "[0.35633210070461679, 0.42579294949307034, 0.49525379828152388]"
      ]
     },
     "execution_count": 13,
     "metadata": {},
     "output_type": "execute_result"
    }
   ],
   "source": [
    "sh = 473\n",
    "nh = 827\n",
    "sn = 19\n",
    "nn = 130\n",
    "\n",
    "ph = sh / nh\n",
    "pn = sn / nn\n",
    "\n",
    "z = norm.ppf(.975, 0, 1)\n",
    "\n",
    "# a\n",
    "se = math.sqrt(ph * (1 - ph) / nh + pn * (1 - pn) / nn)\n",
    "print(\"se: {}\".format(se))\n",
    "\n",
    "pDiff = ph - pn\n",
    "\n",
    "# b\n",
    "[pDiff - z * se, pDiff, pDiff + z * se]"
   ]
  },
  {
   "cell_type": "markdown",
   "metadata": {},
   "source": [
    "## 22.13\n",
    "\n",
    "### Answers\n",
    "\n",
    "* a) yes: grouped randomly, independent; < 10% of entire pop; >= 10 success & failures\n",
    "* b) see below\n",
    "* c) We are 95% confident that the difference in rate of infection between children that received no vaccination to those that did falls in the range of 4.7% to 8.9%."
   ]
  },
  {
   "cell_type": "code",
   "execution_count": 14,
   "metadata": {},
   "outputs": [
    {
     "name": "stdout",
     "output_type": "stream",
     "text": [
      "se: 0.010670654502022644\n"
     ]
    },
    {
     "data": {
      "text/plain": [
       "[0.046951694569224725, 0.06786579308465929, 0.088779891600093849]"
      ]
     },
     "execution_count": 14,
     "metadata": {},
     "output_type": "execute_result"
    }
   ],
   "source": [
    "sv = 333\n",
    "nv = 2455\n",
    "sn = 499\n",
    "nn = 2452\n",
    "\n",
    "pV = sv / nv\n",
    "pN = sn / nn\n",
    "\n",
    "pDiff = pN - pV\n",
    "\n",
    "\n",
    "z = norm.ppf(.975, 0, 1)\n",
    "\n",
    "se = math.sqrt(pV * (1 - pV) / nv + pN * (1 - pN) / nn)\n",
    "print(\"se: {}\".format(se))\n",
    "\n",
    "# b\n",
    "[pDiff - z * se, pDiff, pDiff + z * se]"
   ]
  },
  {
   "cell_type": "markdown",
   "metadata": {},
   "source": [
    "## 22.15\n",
    "\n",
    "### Answers\n",
    "\n",
    "* a) \n",
    "  - H0: p = 0\n",
    "  - HA: p > 0\n",
    "* b) reject the null hypothesis: the evidence supports the claim that vaccinated children show a lower rate of ear infections\n",
    "* c) alpha = 0.025 (95% ci, but one-sided test)\n",
    "* d) Type I\n",
    "* e) kids would be vaccinated even though it's not effective in reducing the rate of ear infections"
   ]
  },
  {
   "cell_type": "markdown",
   "metadata": {},
   "source": [
    "## \n",
    "\n",
    "### Answers\n",
    "\n",
    "* \n"
   ]
  },
  {
   "cell_type": "markdown",
   "metadata": {},
   "source": [
    "## \n",
    "\n",
    "### Answers\n",
    "\n",
    "* \n"
   ]
  },
  {
   "cell_type": "markdown",
   "metadata": {},
   "source": [
    "## \n",
    "\n",
    "### Answers\n",
    "\n",
    "* \n"
   ]
  },
  {
   "cell_type": "code",
   "execution_count": null,
   "metadata": {
    "collapsed": true
   },
   "outputs": [],
   "source": []
  }
 ],
 "metadata": {
  "kernelspec": {
   "display_name": "Python 3",
   "language": "python",
   "name": "python3"
  },
  "language_info": {
   "codemirror_mode": {
    "name": "ipython",
    "version": 3
   },
   "file_extension": ".py",
   "mimetype": "text/x-python",
   "name": "python",
   "nbconvert_exporter": "python",
   "pygments_lexer": "ipython3",
   "version": "3.5.2"
  }
 },
 "nbformat": 4,
 "nbformat_minor": 2
}
