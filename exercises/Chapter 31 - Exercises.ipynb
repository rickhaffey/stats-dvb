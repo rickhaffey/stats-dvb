{
 "cells": [
  {
   "cell_type": "markdown",
   "metadata": {},
   "source": [
    "# Chapter 31 - Exercises"
   ]
  },
  {
   "cell_type": "markdown",
   "metadata": {},
   "source": [
    "## 31.1\n",
    "\n",
    "### Answers\n",
    "\n",
    "* a) Appears it might be bi-modal, and also has an outlier.\n",
    "* b) No - year is probably collinear with CO2.  After accounting for the linear effects of CO2 (which presumably _increases_ each year), any _additional_ effects due to year are reflected in the negative coefficient."
   ]
  },
  {
   "cell_type": "markdown",
   "metadata": {},
   "source": [
    "## 31.3\n",
    "\n",
    "### Answers\n",
    "\n",
    "* a) -1.02 (the coefficient for Fiber)\n",
    "* b) It makes it more negative by pulling the left end upwards.\n",
    "* c) This one is likely to make better predictions.  \n",
    "* d) After accounting for linear effects of other predictors, for each 1 unit increase in Fiber, we expect the calories to increase by 0.25.  Fiber doesn't contribute significantly."
   ]
  },
  {
   "cell_type": "markdown",
   "metadata": {},
   "source": [
    "## 31.5\n",
    "\n",
    "### Answers\n",
    "\n",
    "* a) Doesn't contribute significantly to the model.\n",
    "* b) Coefficient would change to positive.  t-statistic would increase.\n",
    "* c) Influential.  High leverage and large studentized residuals.\n",
    "* d) Could perform analysis both with and without, and compare the results and the effect they show in both cases."
   ]
  },
  {
   "cell_type": "markdown",
   "metadata": {},
   "source": [
    "## 31.7\n",
    "\n",
    "### Answers\n",
    "\n",
    "* a) Medium is the baseline value.  The others (Small, Large, etc.) represent the offset these city sizes have when compared against a case that's for a medium size. A case that would be considered medium should have values of '0' for all the indicators.\n",
    "* b) After accounting for the linear effects of the other predictors, a city being Large accounts for a 5 hour increase in delay per person, on average."
   ]
  },
  {
   "cell_type": "markdown",
   "metadata": {},
   "source": [
    "## 31.9\n",
    "\n",
    "### Answers\n",
    "\n",
    "* a) The lines should be parallel for the different indicators.\n",
    "* b) It allows the slope for cases where the small indicator = 1 to vary based on the value of Arterial MPH.\n",
    "* c) R^2 is high (80.7%), the AM\\*VLg predictor has a high P-value, so probably can be removed.  Although Very Large indicator has high P-value, might not make sense to remove it, in that it would require treating those cases as some _other_ size, which wouldn't make sense semantically."
   ]
  },
  {
   "cell_type": "markdown",
   "metadata": {},
   "source": [
    "## 31.11\n",
    "\n",
    "### Answers\n",
    "\n",
    "* Not influential - although it has high leverage, it doesn't have particularly large studentized residuals."
   ]
  }
 ],
 "metadata": {
  "kernelspec": {
   "display_name": "Python 3",
   "language": "python",
   "name": "python3"
  },
  "language_info": {
   "codemirror_mode": {
    "name": "ipython",
    "version": 3
   },
   "file_extension": ".py",
   "mimetype": "text/x-python",
   "name": "python",
   "nbconvert_exporter": "python",
   "pygments_lexer": "ipython3",
   "version": "3.5.2"
  }
 },
 "nbformat": 4,
 "nbformat_minor": 2
}
