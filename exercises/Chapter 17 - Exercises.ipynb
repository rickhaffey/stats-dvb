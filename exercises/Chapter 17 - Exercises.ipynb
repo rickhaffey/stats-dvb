{
 "cells": [
  {
   "cell_type": "markdown",
   "metadata": {},
   "source": [
    "# Chapter 17 - Exercises"
   ]
  },
  {
   "cell_type": "markdown",
   "metadata": {},
   "source": [
    "## 17.1\n",
    "\n",
    "### Answers\n",
    "\n",
    "* a) No - more than 2 outcomes\n",
    "  - trial: roll of 1 die\n",
    "  - n = 50\n",
    "  [X] outcomes: 1, 2, 3, 4, 5, 6\n",
    "  - independent: yes\n",
    "* b) Yes\n",
    "  - trial: randomly selected person has type A blood\n",
    "  - n = 20\n",
    "  - p = 0.43\n",
    "  - independent: yes\n",
    "* c) No - trials aren't independent\n",
    "  - trial: draw of 1 card\n",
    "  [X] p = 1/4, 12/51, 11/50, 10/49\n",
    "  [X] independent: No\n",
    "* d) No - sample sizer larger than 10% - can't treat as independent\n",
    "  - trial: poll single, randomly selected potential voter\n",
    "  - n = 500\n",
    "  - p = ?\n",
    "  [X] independent: no -> 500 >= 10% of 3k\n",
    "* e) Yes\n",
    "  - trial: check whether package is sealed\n",
    "  - n = 24\n",
    "  - p = 0.10\n",
    "  - independent: yes"
   ]
  },
  {
   "cell_type": "markdown",
   "metadata": {},
   "source": [
    "## 17.3\n",
    "\n",
    "### Answers\n",
    "\n",
    "* a) select random number between 1 and 10; 1-2 = success, rest = failure; tally number of draws until success\n",
    "* b) see below\n",
    "* c) see below\n",
    "* d) see below\n",
    "* e) fairly close to the expected probabilities - weighted a little heavier towards the lower number of draws"
   ]
  },
  {
   "cell_type": "code",
   "execution_count": 26,
   "metadata": {
    "collapsed": true
   },
   "outputs": [],
   "source": [
    "import random\n",
    "from collections import defaultdict\n",
    "\n",
    "p = 0.2\n",
    "def draw_until(p):\n",
    "    counter = 1\n",
    "    while(p < random.random()):\n",
    "        counter += 1\n",
    "    return counter\n",
    "\n",
    "def trial(n, p):\n",
    "    counts = defaultdict(int)\n",
    "    for _ in range(n):\n",
    "        counts[draw_until(p)] += 1\n",
    "    return counts"
   ]
  },
  {
   "cell_type": "code",
   "execution_count": 27,
   "metadata": {},
   "outputs": [
    {
     "name": "stdout",
     "output_type": "stream",
     "text": [
      "1: 5 - 16.666667%\n",
      "2: 4 - 13.333333%\n",
      "3: 1 - 3.333333%\n",
      "20: 1 - 3.333333%\n",
      "5: 1 - 3.333333%\n",
      "6: 4 - 13.333333%\n",
      "7: 5 - 16.666667%\n",
      "8: 2 - 6.666667%\n",
      "9: 1 - 3.333333%\n",
      "10: 2 - 6.666667%\n",
      "4: 4 - 13.333333%\n"
     ]
    }
   ],
   "source": [
    "# items b) and c)\n",
    "t = trial(30, p)\n",
    "for (k,v) in t.items():\n",
    "    print(\"{0}: {1} - {2:%}\".format(k, v, v / 30))"
   ]
  },
  {
   "cell_type": "code",
   "execution_count": 28,
   "metadata": {},
   "outputs": [
    {
     "data": {
      "text/plain": [
       "[(1, 0.2),\n",
       " (2, 0.16000000000000003),\n",
       " (3, 0.12800000000000003),\n",
       " (4, 0.10240000000000003),\n",
       " (5, 0.08192000000000002),\n",
       " (6, 0.06553600000000002),\n",
       " (7, 0.052428800000000025),\n",
       " (8, 0.041943040000000015),\n",
       " (9, 0.033554432000000016),\n",
       " (10, 0.026843545600000015)]"
      ]
     },
     "execution_count": 28,
     "metadata": {},
     "output_type": "execute_result"
    }
   ],
   "source": [
    "# item d)\n",
    "def prob(p, draw):\n",
    "    return (1 - p) ** (draw - 1) * (p)\n",
    "    \n",
    "probs = [(draw, prob(0.2, draw)) for draw in range(1, 11)]\n",
    "probs"
   ]
  },
  {
   "cell_type": "markdown",
   "metadata": {},
   "source": [
    "## 17.5\n",
    "\n",
    "### Answers\n",
    "\n",
    "* a) draw 5 random numbers between 1 and 10; count the number of draws with a value <= 2\n",
    "* b) see below\n",
    "* c) see below\n",
    "* d) see below\n",
    "* e) similar, but varies slightly from true values"
   ]
  },
  {
   "cell_type": "code",
   "execution_count": 29,
   "metadata": {
    "collapsed": true
   },
   "outputs": [],
   "source": [
    "def draw_n(p, n):\n",
    "    draws = [random.random() for _ in range(n)]\n",
    "    return sum([1 for draw in draws if draw <= p])"
   ]
  },
  {
   "cell_type": "code",
   "execution_count": 30,
   "metadata": {},
   "outputs": [],
   "source": [
    "def trial(count, p, n):\n",
    "    counts = defaultdict(int)\n",
    "    for _ in range(count):\n",
    "        counts[draw_n(p, n)] += 1\n",
    "    return counts"
   ]
  },
  {
   "cell_type": "code",
   "execution_count": 36,
   "metadata": {},
   "outputs": [
    {
     "data": {
      "text/plain": [
       "defaultdict(int, {0: 12, 1: 10, 2: 4, 3: 4})"
      ]
     },
     "execution_count": 36,
     "metadata": {},
     "output_type": "execute_result"
    }
   ],
   "source": [
    "# result for b)\n",
    "result = trial(30, 0.2, 5)\n",
    "result"
   ]
  },
  {
   "cell_type": "code",
   "execution_count": 37,
   "metadata": {},
   "outputs": [
    {
     "name": "stdout",
     "output_type": "stream",
     "text": [
      "0 - 12 40.000000%\n",
      "1 - 10 33.333333%\n",
      "2 - 4 13.333333%\n",
      "3 - 4 13.333333%\n"
     ]
    }
   ],
   "source": [
    "# result for c)\n",
    "for (k, v) in result.items():\n",
    "    print(\"{0} - {1} {2:%}\".format(k, v, v / 30))"
   ]
  },
  {
   "cell_type": "code",
   "execution_count": 45,
   "metadata": {},
   "outputs": [
    {
     "data": {
      "text/plain": [
       "[(0, 0.32768000000000008),\n",
       " (1, 0.40960000000000008),\n",
       " (2, 0.20480000000000009),\n",
       " (3, 0.051200000000000023),\n",
       " (4, 0.006400000000000002),\n",
       " (5, 0.00032000000000000008)]"
      ]
     },
     "execution_count": 45,
     "metadata": {},
     "output_type": "execute_result"
    }
   ],
   "source": [
    "# result for d)\n",
    "from scipy.special import binom\n",
    "\n",
    "def prob(n, p, i):\n",
    "    return binom(n, i) * p ** i * (1 - p) ** (n - i)\n",
    "def binom_probs(n, p):\n",
    "    return [(i, prob(n, p, i)) for i in range(n + 1)]\n",
    "        \n",
    "binom_probs(5, 0.2)"
   ]
  },
  {
   "cell_type": "markdown",
   "metadata": {},
   "source": [
    "## 17.7\n",
    "\n",
    "### Answers\n",
    "\n",
    "* Not necessarily independent - a delayed flight might cause other flights to be delayed.  Or, the underlying cause for delays might be common across multiple flights."
   ]
  },
  {
   "cell_type": "markdown",
   "metadata": {},
   "source": [
    "## 17.9\n",
    "\n",
    "### Answers\n",
    "\n",
    "* a) 8.19%\n",
    "* b) 0.64%\n",
    "* c) 99.2%"
   ]
  },
  {
   "cell_type": "code",
   "execution_count": 48,
   "metadata": {},
   "outputs": [
    {
     "data": {
      "text/plain": [
       "0.9920000000000001"
      ]
     },
     "execution_count": 48,
     "metadata": {},
     "output_type": "execute_result"
    }
   ],
   "source": [
    ".8 ** 4 * .2\n",
    ".2 ** 3 * .8\n",
    ".8 + .16 + .032"
   ]
  },
  {
   "cell_type": "markdown",
   "metadata": {},
   "source": [
    "## 17.11\n",
    "\n",
    "### Answers\n",
    "\n",
    "* E(X) for Geometric model = 1/p; p = 0.2 => E(X) = 5"
   ]
  },
  {
   "cell_type": "markdown",
   "metadata": {},
   "source": [
    "## 17.13\n",
    "\n",
    "### Answers\n",
    "\n",
    "* p = 0.05\n",
    "* E(X) = 1/p = 1/0.05 => 20"
   ]
  },
  {
   "cell_type": "markdown",
   "metadata": {},
   "source": [
    "## 17.15\n",
    "\n",
    "### Answers\n",
    "\n",
    "* see below"
   ]
  },
  {
   "cell_type": "code",
   "execution_count": 49,
   "metadata": {},
   "outputs": [
    {
     "data": {
      "text/plain": [
       "25.0"
      ]
     },
     "execution_count": 49,
     "metadata": {},
     "output_type": "execute_result"
    }
   ],
   "source": [
    "# a\n",
    "p = 0.04\n",
    "exp_val = 1 / p\n",
    "exp_val"
   ]
  },
  {
   "cell_type": "code",
   "execution_count": 50,
   "metadata": {},
   "outputs": [
    {
     "data": {
      "text/plain": [
       "0.18462730240000014"
      ]
     },
     "execution_count": 50,
     "metadata": {},
     "output_type": "execute_result"
    }
   ],
   "source": [
    "# b\n",
    "# 1 - P(no AB Donors in first 5)\n",
    "1 - (0.96 ** 5)"
   ]
  },
  {
   "cell_type": "code",
   "execution_count": 52,
   "metadata": {},
   "outputs": [
    {
     "data": {
      "text/plain": [
       "0.21724221030399998"
      ]
     },
     "execution_count": 52,
     "metadata": {},
     "output_type": "execute_result"
    }
   ],
   "source": [
    "# c\n",
    "p = 0.04\n",
    "sum([(1 - p) ** i * p for i in range(6)])"
   ]
  },
  {
   "cell_type": "code",
   "execution_count": 54,
   "metadata": {},
   "outputs": [
    {
     "data": {
      "text/plain": [
       "0.69253399582448"
      ]
     },
     "execution_count": 54,
     "metadata": {},
     "output_type": "execute_result"
    }
   ],
   "source": [
    "# d\n",
    "(1 - p) ** 9 #* p"
   ]
  }
 ],
 "metadata": {
  "kernelspec": {
   "display_name": "Python 3",
   "language": "python",
   "name": "python3"
  },
  "language_info": {
   "codemirror_mode": {
    "name": "ipython",
    "version": 3
   },
   "file_extension": ".py",
   "mimetype": "text/x-python",
   "name": "python",
   "nbconvert_exporter": "python",
   "pygments_lexer": "ipython3",
   "version": "3.5.2"
  }
 },
 "nbformat": 4,
 "nbformat_minor": 2
}
