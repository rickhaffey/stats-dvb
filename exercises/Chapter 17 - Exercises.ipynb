{
 "cells": [
  {
   "cell_type": "markdown",
   "metadata": {},
   "source": [
    "# Chapter 17 - Exercises"
   ]
  },
  {
   "cell_type": "markdown",
   "metadata": {},
   "source": [
    "## 17.1\n",
    "\n",
    "### Answers\n",
    "\n",
    "* a) No - more than 2 outcomes\n",
    "  - trial: roll of 1 die\n",
    "  - n = 50\n",
    "  [X] outcomes: 1, 2, 3, 4, 5, 6\n",
    "  - independent: yes\n",
    "* b) Yes\n",
    "  - trial: randomly selected person has type A blood\n",
    "  - n = 20\n",
    "  - p = 0.43\n",
    "  - independent: yes\n",
    "* c) No - trials aren't independent\n",
    "  - trial: draw of 1 card\n",
    "  [X] p = 1/4, 12/51, 11/50, 10/49\n",
    "  [X] independent: No\n",
    "* d) No - sample sizer larger than 10% - can't treat as independent\n",
    "  - trial: poll single, randomly selected potential voter\n",
    "  - n = 500\n",
    "  - p = ?\n",
    "  [X] independent: no -> 500 >= 10% of 3k\n",
    "* e) Yes\n",
    "  - trial: check whether package is sealed\n",
    "  - n = 24\n",
    "  - p = 0.10\n",
    "  - independent: yes"
   ]
  },
  {
   "cell_type": "markdown",
   "metadata": {},
   "source": [
    "## 17.3\n",
    "\n",
    "### Answers\n",
    "\n",
    "* a) select random number between 1 and 10; 1-2 = success, rest = failure; tally number of draws until success\n",
    "* b) see below\n",
    "* c) see below\n",
    "* d) see below\n",
    "* e) fairly close to the expected probabilities - weighted a little heavier towards the lower number of draws"
   ]
  },
  {
   "cell_type": "code",
   "execution_count": 26,
   "metadata": {
    "collapsed": true
   },
   "outputs": [],
   "source": [
    "import random\n",
    "from collections import defaultdict\n",
    "\n",
    "p = 0.2\n",
    "def draw_until(p):\n",
    "    counter = 1\n",
    "    while(p < random.random()):\n",
    "        counter += 1\n",
    "    return counter\n",
    "\n",
    "def trial(n, p):\n",
    "    counts = defaultdict(int)\n",
    "    for _ in range(n):\n",
    "        counts[draw_until(p)] += 1\n",
    "    return counts"
   ]
  },
  {
   "cell_type": "code",
   "execution_count": 27,
   "metadata": {},
   "outputs": [
    {
     "name": "stdout",
     "output_type": "stream",
     "text": [
      "1: 5 - 16.666667%\n",
      "2: 4 - 13.333333%\n",
      "3: 1 - 3.333333%\n",
      "20: 1 - 3.333333%\n",
      "5: 1 - 3.333333%\n",
      "6: 4 - 13.333333%\n",
      "7: 5 - 16.666667%\n",
      "8: 2 - 6.666667%\n",
      "9: 1 - 3.333333%\n",
      "10: 2 - 6.666667%\n",
      "4: 4 - 13.333333%\n"
     ]
    }
   ],
   "source": [
    "# items b) and c)\n",
    "t = trial(30, p)\n",
    "for (k,v) in t.items():\n",
    "    print(\"{0}: {1} - {2:%}\".format(k, v, v / 30))"
   ]
  },
  {
   "cell_type": "code",
   "execution_count": 28,
   "metadata": {},
   "outputs": [
    {
     "data": {
      "text/plain": [
       "[(1, 0.2),\n",
       " (2, 0.16000000000000003),\n",
       " (3, 0.12800000000000003),\n",
       " (4, 0.10240000000000003),\n",
       " (5, 0.08192000000000002),\n",
       " (6, 0.06553600000000002),\n",
       " (7, 0.052428800000000025),\n",
       " (8, 0.041943040000000015),\n",
       " (9, 0.033554432000000016),\n",
       " (10, 0.026843545600000015)]"
      ]
     },
     "execution_count": 28,
     "metadata": {},
     "output_type": "execute_result"
    }
   ],
   "source": [
    "# item d)\n",
    "def prob(p, draw):\n",
    "    return (1 - p) ** (draw - 1) * (p)\n",
    "    \n",
    "probs = [(draw, prob(0.2, draw)) for draw in range(1, 11)]\n",
    "probs"
   ]
  },
  {
   "cell_type": "markdown",
   "metadata": {},
   "source": [
    "## 17.5\n",
    "\n",
    "### Answers\n",
    "\n",
    "* a) draw 5 random numbers between 1 and 10; count the number of draws with a value <= 2\n",
    "* b) see below\n",
    "* c) see below\n",
    "* d) see below\n",
    "* e) similar, but varies slightly from true values"
   ]
  },
  {
   "cell_type": "code",
   "execution_count": 29,
   "metadata": {
    "collapsed": true
   },
   "outputs": [],
   "source": [
    "def draw_n(p, n):\n",
    "    draws = [random.random() for _ in range(n)]\n",
    "    return sum([1 for draw in draws if draw <= p])"
   ]
  },
  {
   "cell_type": "code",
   "execution_count": 30,
   "metadata": {
    "collapsed": true
   },
   "outputs": [],
   "source": [
    "def trial(count, p, n):\n",
    "    counts = defaultdict(int)\n",
    "    for _ in range(count):\n",
    "        counts[draw_n(p, n)] += 1\n",
    "    return counts"
   ]
  },
  {
   "cell_type": "code",
   "execution_count": 36,
   "metadata": {},
   "outputs": [
    {
     "data": {
      "text/plain": [
       "defaultdict(int, {0: 12, 1: 10, 2: 4, 3: 4})"
      ]
     },
     "execution_count": 36,
     "metadata": {},
     "output_type": "execute_result"
    }
   ],
   "source": [
    "# result for b)\n",
    "result = trial(30, 0.2, 5)\n",
    "result"
   ]
  },
  {
   "cell_type": "code",
   "execution_count": 37,
   "metadata": {},
   "outputs": [
    {
     "name": "stdout",
     "output_type": "stream",
     "text": [
      "0 - 12 40.000000%\n",
      "1 - 10 33.333333%\n",
      "2 - 4 13.333333%\n",
      "3 - 4 13.333333%\n"
     ]
    }
   ],
   "source": [
    "# result for c)\n",
    "for (k, v) in result.items():\n",
    "    print(\"{0} - {1} {2:%}\".format(k, v, v / 30))"
   ]
  },
  {
   "cell_type": "code",
   "execution_count": 45,
   "metadata": {},
   "outputs": [
    {
     "data": {
      "text/plain": [
       "[(0, 0.32768000000000008),\n",
       " (1, 0.40960000000000008),\n",
       " (2, 0.20480000000000009),\n",
       " (3, 0.051200000000000023),\n",
       " (4, 0.006400000000000002),\n",
       " (5, 0.00032000000000000008)]"
      ]
     },
     "execution_count": 45,
     "metadata": {},
     "output_type": "execute_result"
    }
   ],
   "source": [
    "# result for d)\n",
    "from scipy.special import binom\n",
    "\n",
    "def prob(n, p, i):\n",
    "    return binom(n, i) * p ** i * (1 - p) ** (n - i)\n",
    "def binom_probs(n, p):\n",
    "    return [(i, prob(n, p, i)) for i in range(n + 1)]\n",
    "        \n",
    "binom_probs(5, 0.2)"
   ]
  },
  {
   "cell_type": "markdown",
   "metadata": {},
   "source": [
    "## 17.7\n",
    "\n",
    "### Answers\n",
    "\n",
    "* Not necessarily independent - a delayed flight might cause other flights to be delayed.  Or, the underlying cause for delays might be common across multiple flights."
   ]
  },
  {
   "cell_type": "markdown",
   "metadata": {},
   "source": [
    "## 17.9\n",
    "\n",
    "### Answers\n",
    "\n",
    "* a) 8.19%\n",
    "* b) 0.64%\n",
    "* c) 99.2%"
   ]
  },
  {
   "cell_type": "code",
   "execution_count": 48,
   "metadata": {},
   "outputs": [
    {
     "data": {
      "text/plain": [
       "0.9920000000000001"
      ]
     },
     "execution_count": 48,
     "metadata": {},
     "output_type": "execute_result"
    }
   ],
   "source": [
    ".8 ** 4 * .2\n",
    ".2 ** 3 * .8\n",
    ".8 + .16 + .032"
   ]
  },
  {
   "cell_type": "markdown",
   "metadata": {},
   "source": [
    "## 17.11\n",
    "\n",
    "### Answers\n",
    "\n",
    "* E(X) for Geometric model = 1/p; p = 0.2 => E(X) = 5"
   ]
  },
  {
   "cell_type": "markdown",
   "metadata": {},
   "source": [
    "## 17.13\n",
    "\n",
    "### Answers\n",
    "\n",
    "* p = 0.05\n",
    "* E(X) = 1/p = 1/0.05 => 20"
   ]
  },
  {
   "cell_type": "markdown",
   "metadata": {},
   "source": [
    "## 17.15\n",
    "\n",
    "### Answers\n",
    "\n",
    "* see below"
   ]
  },
  {
   "cell_type": "code",
   "execution_count": 49,
   "metadata": {},
   "outputs": [
    {
     "data": {
      "text/plain": [
       "25.0"
      ]
     },
     "execution_count": 49,
     "metadata": {},
     "output_type": "execute_result"
    }
   ],
   "source": [
    "# a\n",
    "p = 0.04\n",
    "exp_val = 1 / p\n",
    "exp_val"
   ]
  },
  {
   "cell_type": "code",
   "execution_count": 50,
   "metadata": {},
   "outputs": [
    {
     "data": {
      "text/plain": [
       "0.18462730240000014"
      ]
     },
     "execution_count": 50,
     "metadata": {},
     "output_type": "execute_result"
    }
   ],
   "source": [
    "# b\n",
    "# 1 - P(no AB Donors in first 5)\n",
    "1 - (0.96 ** 5)"
   ]
  },
  {
   "cell_type": "code",
   "execution_count": 52,
   "metadata": {},
   "outputs": [
    {
     "data": {
      "text/plain": [
       "0.21724221030399998"
      ]
     },
     "execution_count": 52,
     "metadata": {},
     "output_type": "execute_result"
    }
   ],
   "source": [
    "# c\n",
    "p = 0.04\n",
    "sum([(1 - p) ** i * p for i in range(6)])"
   ]
  },
  {
   "cell_type": "code",
   "execution_count": 54,
   "metadata": {},
   "outputs": [
    {
     "data": {
      "text/plain": [
       "0.69253399582448"
      ]
     },
     "execution_count": 54,
     "metadata": {},
     "output_type": "execute_result"
    }
   ],
   "source": [
    "# d\n",
    "(1 - p) ** 9 #* p"
   ]
  },
  {
   "cell_type": "markdown",
   "metadata": {},
   "source": [
    "## 17.17\n",
    "\n",
    "### Answers\n",
    "\n",
    "* a) 50\n",
    "* b) E(X) = n x p = 100 x .5 = 50"
   ]
  },
  {
   "cell_type": "markdown",
   "metadata": {},
   "source": [
    "## 17.19\n",
    "\n",
    "### Answers\n",
    "\n",
    "* see below"
   ]
  },
  {
   "cell_type": "code",
   "execution_count": 3,
   "metadata": {},
   "outputs": [
    {
     "data": {
      "text/plain": [
       "0.0744766893"
      ]
     },
     "execution_count": 3,
     "metadata": {},
     "output_type": "execute_result"
    }
   ],
   "source": [
    "# a)\n",
    "p = 0.13\n",
    "(1 - p) ** 4 * p"
   ]
  },
  {
   "cell_type": "code",
   "execution_count": 4,
   "metadata": {},
   "outputs": [
    {
     "data": {
      "text/plain": [
       "0.5015790793"
      ]
     },
     "execution_count": 4,
     "metadata": {},
     "output_type": "execute_result"
    }
   ],
   "source": [
    "# b)\n",
    "# 1 - no lefties among first 5\n",
    "1 - (1 - p) ** 5"
   ]
  },
  {
   "cell_type": "code",
   "execution_count": 5,
   "metadata": {},
   "outputs": [
    {
     "data": {
      "text/plain": [
       "0.21149700000000002"
      ]
     },
     "execution_count": 5,
     "metadata": {},
     "output_type": "execute_result"
    }
   ],
   "source": [
    "# c) \n",
    "(1 - p) * p + (1 - p) * (1 - p) * p"
   ]
  },
  {
   "cell_type": "code",
   "execution_count": 21,
   "metadata": {
    "collapsed": true
   },
   "outputs": [],
   "source": [
    "def lefty_binom(n, k):\n",
    "    return binom(n, k) * p ** k * (1 - p) ** (n - k)"
   ]
  },
  {
   "cell_type": "code",
   "execution_count": 22,
   "metadata": {},
   "outputs": [
    {
     "data": {
      "text/plain": [
       "0.016629093000000005"
      ]
     },
     "execution_count": 22,
     "metadata": {},
     "output_type": "execute_result"
    }
   ],
   "source": [
    "# d)\n",
    "lefty_binom(5, 3)"
   ]
  },
  {
   "cell_type": "code",
   "execution_count": 23,
   "metadata": {},
   "outputs": [
    {
     "data": {
      "text/plain": [
       "0.017908625800000005"
      ]
     },
     "execution_count": 23,
     "metadata": {},
     "output_type": "execute_result"
    }
   ],
   "source": [
    "# e)\n",
    "sum([lefty_binom(5, n) for n in range(3,6)])"
   ]
  },
  {
   "cell_type": "code",
   "execution_count": 24,
   "metadata": {},
   "outputs": [
    {
     "data": {
      "text/plain": [
       "0.99872046719999996"
      ]
     },
     "execution_count": 24,
     "metadata": {},
     "output_type": "execute_result"
    }
   ],
   "source": [
    "# f) \n",
    "sum([lefty_binom(5, n) for n in range(0,4)])"
   ]
  },
  {
   "cell_type": "markdown",
   "metadata": {},
   "source": [
    "## 17.21\n",
    "\n",
    "### Answers\n",
    "\n",
    "* see below"
   ]
  },
  {
   "cell_type": "code",
   "execution_count": 14,
   "metadata": {},
   "outputs": [
    {
     "data": {
      "text/plain": [
       "0.65"
      ]
     },
     "execution_count": 14,
     "metadata": {},
     "output_type": "execute_result"
    }
   ],
   "source": [
    "# a) expected value when p = 0.13 and n = 5\n",
    "# mu = n * p\n",
    "p = 0.13\n",
    "n = 5\n",
    "p * n"
   ]
  },
  {
   "cell_type": "code",
   "execution_count": 16,
   "metadata": {},
   "outputs": [
    {
     "data": {
      "text/plain": [
       "0.7519973404208289"
      ]
     },
     "execution_count": 16,
     "metadata": {},
     "output_type": "execute_result"
    }
   ],
   "source": [
    "# b) std dev = sqrt(n*p*q)\n",
    "import math\n",
    "math.sqrt(n * p * (1 - p))"
   ]
  },
  {
   "cell_type": "code",
   "execution_count": 17,
   "metadata": {},
   "outputs": [
    {
     "data": {
      "text/plain": [
       "7.6923076923076925"
      ]
     },
     "execution_count": 17,
     "metadata": {},
     "output_type": "execute_result"
    }
   ],
   "source": [
    "# c) Geom(.13) => 1 / .13 = 100 / 13\n",
    "100/13"
   ]
  },
  {
   "cell_type": "markdown",
   "metadata": {},
   "source": [
    "## 17.23\n",
    "\n",
    "### Answers\n",
    "\n",
    "* n = 12\n",
    "* p(left) = 0.13\n",
    "* p(right) = 1 - p(left) = .87\n",
    "* see below"
   ]
  },
  {
   "cell_type": "code",
   "execution_count": 19,
   "metadata": {},
   "outputs": [
    {
     "name": "stdout",
     "output_type": "stream",
     "text": [
      "mean: 10.44\n",
      "std: 1.1649892703368558\n"
     ]
    }
   ],
   "source": [
    "# a) mean = n * p; std = sqrt(n * p * q)\n",
    "\n",
    "mu = 12 * .87\n",
    "std = math.sqrt(12 * .87 * .13)\n",
    "print(\"mean: {}\".format(mu))\n",
    "print(\"std: {}\".format(std))"
   ]
  },
  {
   "cell_type": "code",
   "execution_count": 20,
   "metadata": {},
   "outputs": [
    {
     "data": {
      "text/plain": [
       "0.8119683177985023"
      ]
     },
     "execution_count": 20,
     "metadata": {},
     "output_type": "execute_result"
    }
   ],
   "source": [
    "# b) 1 - P(all right handed)\n",
    "1 - .87 ** 12"
   ]
  },
  {
   "cell_type": "code",
   "execution_count": 28,
   "metadata": {},
   "outputs": [
    {
     "data": {
      "text/plain": [
       "0.47480806005788589"
      ]
     },
     "execution_count": 28,
     "metadata": {},
     "output_type": "execute_result"
    }
   ],
   "source": [
    "# c) \n",
    "1 - (lefty_binom(12, 0) + lefty_binom(12, 1))"
   ]
  },
  {
   "cell_type": "code",
   "execution_count": 29,
   "metadata": {},
   "outputs": [
    {
     "data": {
      "text/plain": [
       "0.0019339605050914311"
      ]
     },
     "execution_count": 29,
     "metadata": {},
     "output_type": "execute_result"
    }
   ],
   "source": [
    "# d) \n",
    "lefty_binom(12, 6)"
   ]
  },
  {
   "cell_type": "code",
   "execution_count": 30,
   "metadata": {},
   "outputs": [
    {
     "data": {
      "text/plain": [
       "0.99779360023304153"
      ]
     },
     "execution_count": 30,
     "metadata": {},
     "output_type": "execute_result"
    }
   ],
   "source": [
    "# e)\n",
    "sum([lefty_binom(12, k) for k in range(6)])"
   ]
  },
  {
   "cell_type": "markdown",
   "metadata": {},
   "source": [
    "## 17.25\n",
    "\n",
    "### Answers\n",
    "\n",
    "* see below"
   ]
  },
  {
   "cell_type": "code",
   "execution_count": 32,
   "metadata": {},
   "outputs": [
    {
     "name": "stdout",
     "output_type": "stream",
     "text": [
      "mean: 20.279999999999998\n",
      "std: 4.224499970410699\n"
     ]
    }
   ],
   "source": [
    "p = 0.12\n",
    "n = 169\n",
    "mu = n * p\n",
    "std = math.sqrt(n * p * (1 - p))\n",
    "\n",
    "print(\"mean: {}\".format(mu))\n",
    "print(\"std: {}\".format(std))"
   ]
  },
  {
   "cell_type": "markdown",
   "metadata": {},
   "source": [
    "## 17.27\n",
    "\n",
    "### Answers\n",
    "\n",
    "* p = 0.70\n",
    "* n = 6\n",
    "* see below"
   ]
  },
  {
   "cell_type": "code",
   "execution_count": 37,
   "metadata": {
    "collapsed": true
   },
   "outputs": [],
   "source": [
    "def serve_binom(n, k, p):\n",
    "    return binom(n, k) * p ** k * (1 - p) ** (n - k)"
   ]
  },
  {
   "cell_type": "code",
   "execution_count": 38,
   "metadata": {},
   "outputs": [
    {
     "data": {
      "text/plain": [
       "0.11764899999999996"
      ]
     },
     "execution_count": 38,
     "metadata": {},
     "output_type": "execute_result"
    }
   ],
   "source": [
    "# a) \n",
    "p = 0.7\n",
    "serve_binom(6, 6, p)"
   ]
  },
  {
   "cell_type": "code",
   "execution_count": 39,
   "metadata": {},
   "outputs": [
    {
     "data": {
      "text/plain": [
       "0.32413500000000001"
      ]
     },
     "execution_count": 39,
     "metadata": {},
     "output_type": "execute_result"
    }
   ],
   "source": [
    "# b)\n",
    "serve_binom(6, 4, p)"
   ]
  },
  {
   "cell_type": "code",
   "execution_count": 41,
   "metadata": {},
   "outputs": [
    {
     "data": {
      "text/plain": [
       "0.74430999999999992"
      ]
     },
     "execution_count": 41,
     "metadata": {},
     "output_type": "execute_result"
    }
   ],
   "source": [
    "# c) \n",
    "sum([serve_binom(6, k, p) for k in range(4, 7)])"
   ]
  },
  {
   "cell_type": "code",
   "execution_count": 42,
   "metadata": {},
   "outputs": [
    {
     "data": {
      "text/plain": [
       "0.57982500000000003"
      ]
     },
     "execution_count": 42,
     "metadata": {},
     "output_type": "execute_result"
    }
   ],
   "source": [
    "# d) \n",
    "sum([serve_binom(6, k, p) for k in range(5)])"
   ]
  },
  {
   "cell_type": "markdown",
   "metadata": {},
   "source": [
    "## 17.29 \n",
    "\n",
    "### Answers\n",
    "\n",
    "* see below"
   ]
  },
  {
   "cell_type": "code",
   "execution_count": 47,
   "metadata": {},
   "outputs": [
    {
     "name": "stdout",
     "output_type": "stream",
     "text": [
      "mean: 56.0\n",
      "std: 4.09878030638384\n"
     ]
    }
   ],
   "source": [
    "# a)\n",
    "n = 80\n",
    "p = 0.7\n",
    "mu = n * p\n",
    "std = math.sqrt(n * p * (1 - p))\n",
    "\n",
    "print(\"mean: {}\".format(mu))\n",
    "print(\"std: {}\".format(std))"
   ]
  },
  {
   "cell_type": "code",
   "execution_count": 48,
   "metadata": {},
   "outputs": [
    {
     "name": "stdout",
     "output_type": "stream",
     "text": [
      "56.0\n",
      "24.000000000000004\n"
     ]
    }
   ],
   "source": [
    "# b)\n",
    "\n",
    "print(n * p)\n",
    "print(n * (1 - p))"
   ]
  },
  {
   "cell_type": "code",
   "execution_count": 49,
   "metadata": {},
   "outputs": [
    {
     "name": "stdout",
     "output_type": "stream",
     "text": [
      "the mean value is 56.0\n",
      "68% are expected to fall between 51.90121969361616 and 60.09878030638384\n",
      "95% are expected to fall between 47.80243938723232 and 64.19756061276767\n",
      "99.7% are expected to fall between 43.70365908084848 and 68.29634091915152\n"
     ]
    }
   ],
   "source": [
    "# c)\n",
    "\n",
    "print(\"the mean value is {}\".format(mu))\n",
    "print(\"68% are expected to fall between {} and {}\".format(mu - std, mu + std))\n",
    "print(\"95% are expected to fall between {} and {}\".format(mu - std * 2, mu + std * 2))\n",
    "print(\"99.7% are expected to fall between {} and {}\".format(mu - std * 3, mu + std * 3))\n"
   ]
  },
  {
   "cell_type": "code",
   "execution_count": 52,
   "metadata": {},
   "outputs": [
    {
     "data": {
      "text/plain": [
       "0.014054020073575924"
      ]
     },
     "execution_count": 52,
     "metadata": {},
     "output_type": "execute_result"
    }
   ],
   "source": [
    "# d)\n",
    "\n",
    "from scipy.stats import norm\n",
    "\n",
    "1 - norm.cdf(65, mu, std)"
   ]
  },
  {
   "cell_type": "markdown",
   "metadata": {},
   "source": [
    "## 17.31\n",
    "\n",
    "### Answers\n",
    "\n",
    "* a) \n",
    "  - need to assume that apples fall as cider apples independently -- (maybe?)\n",
    "  - Binom(300, 0.06)\n",
    "  - n * p => 18 ==> >= 10 (same for n * q) => can approximate with Normal:\n",
    "  - N(18, 4.11)"
   ]
  },
  {
   "cell_type": "code",
   "execution_count": 53,
   "metadata": {},
   "outputs": [
    {
     "data": {
      "text/plain": [
       "4.113392760240626"
      ]
     },
     "execution_count": 53,
     "metadata": {},
     "output_type": "execute_result"
    }
   ],
   "source": [
    "math.sqrt(18 * .94)"
   ]
  },
  {
   "cell_type": "code",
   "execution_count": 54,
   "metadata": {},
   "outputs": [
    {
     "data": {
      "text/plain": [
       "0.07216509991249595"
      ]
     },
     "execution_count": 54,
     "metadata": {},
     "output_type": "execute_result"
    }
   ],
   "source": [
    "# b) \n",
    "norm.cdf(12, 18, 4.11)"
   ]
  },
  {
   "cell_type": "code",
   "execution_count": 56,
   "metadata": {},
   "outputs": [
    {
     "data": {
      "text/plain": [
       "3.4416913763379853e-15"
      ]
     },
     "execution_count": 56,
     "metadata": {},
     "output_type": "execute_result"
    }
   ],
   "source": [
    "# c) No - probability is very low\n",
    "1 - norm.cdf(50, 18, 4.11)"
   ]
  },
  {
   "cell_type": "code",
   "execution_count": 58,
   "metadata": {},
   "outputs": [
    {
     "data": {
      "text/plain": [
       "7.78588807785888"
      ]
     },
     "execution_count": 58,
     "metadata": {},
     "output_type": "execute_result"
    }
   ],
   "source": [
    "# std above the mean...\n",
    "(50 - 18) / 4.11"
   ]
  },
  {
   "cell_type": "markdown",
   "metadata": {},
   "source": [
    "## \n",
    "\n",
    "### Answers\n",
    "\n",
    "* "
   ]
  },
  {
   "cell_type": "markdown",
   "metadata": {},
   "source": [
    "## \n",
    "\n",
    "### Answers\n",
    "\n",
    "* "
   ]
  },
  {
   "cell_type": "markdown",
   "metadata": {},
   "source": [
    "## \n",
    "\n",
    "### Answers\n",
    "\n",
    "* "
   ]
  },
  {
   "cell_type": "markdown",
   "metadata": {},
   "source": [
    "## \n",
    "\n",
    "### Answers\n",
    "\n",
    "* "
   ]
  },
  {
   "cell_type": "markdown",
   "metadata": {},
   "source": [
    "## \n",
    "\n",
    "### Answers\n",
    "\n",
    "* "
   ]
  },
  {
   "cell_type": "code",
   "execution_count": null,
   "metadata": {
    "collapsed": true
   },
   "outputs": [],
   "source": []
  }
 ],
 "metadata": {
  "kernelspec": {
   "display_name": "Python 3",
   "language": "python",
   "name": "python3"
  },
  "language_info": {
   "codemirror_mode": {
    "name": "ipython",
    "version": 3
   },
   "file_extension": ".py",
   "mimetype": "text/x-python",
   "name": "python",
   "nbconvert_exporter": "python",
   "pygments_lexer": "ipython3",
   "version": "3.5.2"
  }
 },
 "nbformat": 4,
 "nbformat_minor": 2
}
