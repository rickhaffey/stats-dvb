{
 "cells": [
  {
   "cell_type": "markdown",
   "metadata": {},
   "source": [
    "# Chapter 19 - Exercises"
   ]
  },
  {
   "cell_type": "code",
   "execution_count": 1,
   "metadata": {
    "collapsed": true
   },
   "outputs": [],
   "source": [
    "import math\n",
    "from scipy.stats import norm"
   ]
  },
  {
   "cell_type": "markdown",
   "metadata": {},
   "source": [
    "## 19.1 \n",
    "\n",
    "### Answers\n",
    "\n",
    "* It means, the newscaster is confident (to some %) that the interval between {estimate} - 4% and {estimate} + 4% captures the _true_ proportion."
   ]
  },
  {
   "cell_type": "markdown",
   "metadata": {},
   "source": [
    "## 19.3\n",
    "\n",
    "### Answers\n",
    "\n",
    "* a)\n",
    "    * population: all cars (or at least, all cars within their jurisdiction?)\n",
    "    * sample: 134 cars stopped at an auto checkpoint\n",
    "    * $p$: the % of all cars that have at least one safety violation\n",
    "    * $\\hat{p}$: the % of the 134 cars stopped that have at least one safety violation: (14/134): 10.4%\n",
    "    * can use methods of this chapter?: yes - random and appropriate sample size\n",
    "* b)\n",
    "    * population: general public\n",
    "    * sample: 602 viewers of a TV talk show who voluntarily logged onto a website to vote\n",
    "    * $p$: % of general public that favors prayer in schools\n",
    "    * $\\hat{p}$: % of sample described above that favors prayer in schooles: 488 / 602 = 81.6%\n",
    "    * can use methods of this chapter?: No - not randomly selected nor representative of the general population; sample being limited to only viewers of the TV talk show, and self-selection introduce bias.\n",
    "* c)\n",
    "    * population: all parents in the district\n",
    "    * sample: all parents in the district that voluntarily responded to the questionnaire\n",
    "    * $p$: % of parents that favor uniforms\n",
    "    * $\\hat{p}$: % of the responding parents that favor uniforms: 228 / 380: 60%\n",
    "    * can use methods of this chapter?: no - self-selection + high non-response introduces bias\n",
    "* d)\n",
    "    * population: all freshmen admitted to this college\n",
    "    * sample: all freshmen admitted to this college in year $y$\n",
    "    * $p$: % of freshmen who graduate on time\n",
    "    * $\\hat{p}$: % of freshmen admitted in year $y$ that graduate on time: 85.1%\n",
    "    * can use methods of this chapter?: assuming the proportion in year $y$ is representative of other years, then yes\n"
   ]
  },
  {
   "cell_type": "markdown",
   "metadata": {},
   "source": [
    "## 19.5\n",
    "\n",
    "### Answers\n",
    "\n",
    "* a) no: This conclusion is expressing certainty about the interval\n",
    "* b) no: This conclusion is not making a statement about the true proportion, but rather, other samples\n",
    "     also: the % of samples showing 88% will be much lower than 95%, so the statement is just wrong\n",
    "* c) no: similar to the previous one\n",
    "* d) yes: uncertainty is around the _interval_\n",
    "     X: this should be \"no\": it's talking specifically about the _sample_, which we know with certainty\n",
    "* e) no: this implies that the true proportion is changing from day-to-day"
   ]
  },
  {
   "cell_type": "markdown",
   "metadata": {},
   "source": [
    "## 19.7\n",
    "\n",
    "### Answers\n",
    "\n",
    "* a) false\n",
    "* b) true\n",
    "* c) true\n",
    "* d) false: requires a sample 4X larger"
   ]
  },
  {
   "cell_type": "markdown",
   "metadata": {},
   "source": [
    "## 19.9\n",
    "\n",
    "### Answers\n",
    "\n",
    "* The output is 90% confident that the true proportion of cars manufactured in Japan is captured by the interval from 29.9% and 47.0%"
   ]
  },
  {
   "cell_type": "markdown",
   "metadata": {},
   "source": [
    "## 19.11\n",
    "\n",
    "### Answers\n",
    "\n",
    "* a) see below\n",
    "* b) I'm 95% confident that the interval from 79.7% to 86.3% captures the true proportion.  OR I'm 95% confident that between 79.7% and 86.3% of all broiler chicken sold in the United States are contaminated with Campylobacter.\n",
    "* c) assuming the samples were representative of the overall population, then no: randomly selected, sufficient sample size, not greater than 10% of overall population - otherwise, the impact of the size of the sample is captured in the CI itself."
   ]
  },
  {
   "cell_type": "code",
   "execution_count": 2,
   "metadata": {
    "collapsed": true
   },
   "outputs": [],
   "source": [
    "def standard_error(pHat, n):\n",
    "    num = pHat * (1 - pHat)\n",
    "    return math.sqrt(num / n)"
   ]
  },
  {
   "cell_type": "code",
   "execution_count": 3,
   "metadata": {},
   "outputs": [
    {
     "name": "stdout",
     "output_type": "stream",
     "text": [
      "95% CI: (0.7972120812028635, 0.8627879187971365)\n"
     ]
    }
   ],
   "source": [
    "n = 525\n",
    "pHat = 0.83\n",
    "\n",
    "se = standard_error(pHat, n)\n",
    "ci = (pHat - 2 * se, pHat + 2 * se)\n",
    "\n",
    "#a )\n",
    "print(\"95% CI: {}\".format(ci))\n"
   ]
  },
  {
   "cell_type": "markdown",
   "metadata": {},
   "source": [
    "## 19.13\n",
    "\n",
    "### Answers\n",
    "\n",
    "* a) see below: 2.5%\n",
    "* b) We can be 90% confident that the interval from 36% - 2.5% to 36% + 2.5% captures the true proportion of adult baseball fans.\n",
    "* c) Larger - without an increase in sample size, we'd need to decrease the precision of the estimate in order to increase our confidence in the estimate.\n",
    "* d) see below: 3.9%\n",
    "* e) Less confidence\n",
    "* f) Probably not - the difference of 1% could easily be the result of sample variability."
   ]
  },
  {
   "cell_type": "code",
   "execution_count": 20,
   "metadata": {},
   "outputs": [
    {
     "data": {
      "text/plain": [
       "0.024892556629847462"
      ]
     },
     "execution_count": 20,
     "metadata": {},
     "output_type": "execute_result"
    }
   ],
   "source": [
    "n = 1006\n",
    "pHat = 0.36\n",
    "\n",
    "#a)\n",
    "se = standard_error(pHat, n)\n",
    "\n",
    "# approach 1 using z-score * se\n",
    "# norm.ppf(.95, 0, 1) * se\n",
    "\n",
    "# approach 2 using N(pHat, se) - pHat\n",
    "z = norm.ppf(.95, pHat, se)\n",
    "z - pHat"
   ]
  },
  {
   "cell_type": "code",
   "execution_count": 21,
   "metadata": {},
   "outputs": [
    {
     "data": {
      "text/plain": [
       "0.038981570005258107"
      ]
     },
     "execution_count": 21,
     "metadata": {},
     "output_type": "execute_result"
    }
   ],
   "source": [
    "norm.ppf(.995, 0, 1) * se"
   ]
  },
  {
   "cell_type": "markdown",
   "metadata": {},
   "source": [
    "## 19.15\n",
    "\n",
    "### Answers\n",
    "\n",
    "* a) (4.6%, 4.9%)\n",
    "* b) depends on what we mean by \"plausible\" - if we consider the 95% CI our driver of plausibility, then it argues against 5%"
   ]
  },
  {
   "cell_type": "code",
   "execution_count": 27,
   "metadata": {},
   "outputs": [
    {
     "name": "stdout",
     "output_type": "stream",
     "text": [
      "95% CI: (0.046460567468896645, 0.04915943253110335)\n"
     ]
    }
   ],
   "source": [
    "n = 100000\n",
    "pHat = 4781 / n\n",
    "se = standard_error(pHat, n)\n",
    "\n",
    "ci = (pHat - 2 * se, pHat + 2 * se)\n",
    "\n",
    "#a )\n",
    "print(\"95% CI: {}\".format(ci))"
   ]
  },
  {
   "cell_type": "markdown",
   "metadata": {},
   "source": [
    "## 19.17\n",
    "\n",
    "### Answers\n",
    "\n",
    "* a) see below\n",
    "* b) We are 95% confident that between 12.7% and 18.6% of all auto accidents involve teenage drivers.\n",
    "* c) There's a 95% chance that the interval between 12.7% and 18.6% captures the true population proportion.\n",
    "* d) No - closer to 1 in 6 thru 1 in 8"
   ]
  },
  {
   "cell_type": "code",
   "execution_count": 8,
   "metadata": {
    "collapsed": true
   },
   "outputs": [],
   "source": [
    "def ci(pHat, se, alpha):\n",
    "    me = norm.ppf(1 - (alpha / 2), 0, 1) * se\n",
    "    return (pHat - me, pHat + me)"
   ]
  },
  {
   "cell_type": "code",
   "execution_count": 48,
   "metadata": {},
   "outputs": [
    {
     "name": "stdout",
     "output_type": "stream",
     "text": [
      "pHat: 0.1563573883161512\n",
      "se: 0.015054868459122572\n"
     ]
    },
    {
     "data": {
      "text/plain": [
       "(0.12685038834428294, 0.18586438828801946)"
      ]
     },
     "execution_count": 48,
     "metadata": {},
     "output_type": "execute_result"
    }
   ],
   "source": [
    "n = 582\n",
    "pHat = 91 / n\n",
    "print(\"pHat: {}\".format(pHat))\n",
    "se = standard_error(pHat, n)\n",
    "print(\"se: {}\".format(se))\n",
    "\n",
    "#a)\n",
    "ci(pHat, se, 0.05)"
   ]
  },
  {
   "cell_type": "markdown",
   "metadata": {},
   "source": [
    "## 19.19\n",
    "\n",
    "### Answers\n",
    "\n",
    "* Given the selection bias, probably not much.  "
   ]
  },
  {
   "cell_type": "markdown",
   "metadata": {},
   "source": [
    "## 19.21\n",
    "\n",
    "### Answers\n",
    "\n",
    "* a) response bias\n",
    "* b) (53.96%, 60.04%)\n",
    "* c) should have a narrower margin of error, given smaller sample size"
   ]
  },
  {
   "cell_type": "code",
   "execution_count": 9,
   "metadata": {},
   "outputs": [
    {
     "data": {
      "text/plain": [
       "(0.53961776904511116, 0.60038223095488896)"
      ]
     },
     "execution_count": 9,
     "metadata": {},
     "output_type": "execute_result"
    }
   ],
   "source": [
    "#b)\n",
    "\n",
    "yesB = 510 * .6\n",
    "yesA = 510 * .54\n",
    "yes = nA + nB\n",
    "yes\n",
    "\n",
    "n = 1020\n",
    "pHat = yes / n\n",
    "\n",
    "se = standard_error(pHat, n)\n",
    "\n",
    "ci(pHat, se, 0.05)"
   ]
  },
  {
   "cell_type": "markdown",
   "metadata": {},
   "source": [
    "## 19.23\n",
    "\n",
    "### Answers\n",
    "\n",
    "* a) (18.2%, 21.8%)\n",
    "* b) We are 98% confident that between 18.2% and 21.8% of children in England are deficient in vitamin D\n",
    "* c) 98% of randomly drawn samples will capture the true proportion of the overall population."
   ]
  },
  {
   "cell_type": "code",
   "execution_count": 11,
   "metadata": {},
   "outputs": [
    {
     "data": {
      "text/plain": [
       "(0.18209176571591743, 0.2179082342840826)"
      ]
     },
     "execution_count": 11,
     "metadata": {},
     "output_type": "execute_result"
    }
   ],
   "source": [
    "#a)\n",
    "n = 2700\n",
    "pHat = 0.2\n",
    "\n",
    "se = standard_error(pHat, n)\n",
    "ci(pHat, se, 0.02)"
   ]
  },
  {
   "cell_type": "markdown",
   "metadata": {},
   "source": [
    "## 19.25\n",
    "\n",
    "### Answers\n",
    "\n",
    "* a) wider: sample size is smaller given that it's a subset of the larger sample\n",
    "* b) smaller margin of error: it's sample size is larger than the first poll"
   ]
  },
  {
   "cell_type": "markdown",
   "metadata": {},
   "source": [
    "## 19.27\n",
    "\n",
    "### Answers\n",
    "\n",
    "* a) (15.5%, 26.3%)\n",
    "* b) n * 4 = 612\n",
    "* c) The deers taken by hunters may not be representative of the overall population of deer - hunting restrictions, hunter selection, etc."
   ]
  },
  {
   "cell_type": "code",
   "execution_count": 15,
   "metadata": {},
   "outputs": [
    {
     "name": "stdout",
     "output_type": "stream",
     "text": [
      "se: 0.032879903033857905\n"
     ]
    },
    {
     "data": {
      "text/plain": [
       "(0.15506769903833173, 0.26323295455643952)"
      ]
     },
     "execution_count": 15,
     "metadata": {},
     "output_type": "execute_result"
    }
   ],
   "source": [
    "#a) \n",
    "n = 153\n",
    "pHat = 32 / n\n",
    "\n",
    "se = standard_error(pHat, n)\n",
    "print(\"se: {}\".format(se))\n",
    "ci(pHat, se, 0.1)"
   ]
  },
  {
   "cell_type": "code",
   "execution_count": 16,
   "metadata": {},
   "outputs": [
    {
     "data": {
      "text/plain": [
       "612"
      ]
     },
     "execution_count": 16,
     "metadata": {},
     "output_type": "execute_result"
    }
   ],
   "source": [
    "n * 4"
   ]
  },
  {
   "cell_type": "markdown",
   "metadata": {},
   "source": [
    "## 19.29\n",
    "\n",
    "### Answers\n",
    "\n",
    "* a) at least 141\n",
    "* b) at least 317\n",
    "* c) at least 564"
   ]
  },
  {
   "cell_type": "code",
   "execution_count": 26,
   "metadata": {},
   "outputs": [
    {
     "name": "stdout",
     "output_type": "stream",
     "text": [
      "z*: 1.6448536269514722\n"
     ]
    },
    {
     "data": {
      "text/plain": [
       "[(0.06, 140.91372156746942),\n",
       " (0.04, 317.05587352680618),\n",
       " (0.03, 563.65488626987769)]"
      ]
     },
     "execution_count": 26,
     "metadata": {},
     "output_type": "execute_result"
    }
   ],
   "source": [
    "pHat = 0.25\n",
    "me = [0.06, 0.04, 0.03]\n",
    "zStar = norm.ppf(0.95, 0, 1)\n",
    "print(\"z*: {}\".format(zStar))\n",
    "\n",
    "[(margin, pHat * (1 - pHat) * ((zStar / margin) ** 2)) for margin in me]"
   ]
  },
  {
   "cell_type": "markdown",
   "metadata": {},
   "source": [
    "## 19.31\n",
    "\n",
    "### Answers\n",
    "\n",
    "* at least 1801"
   ]
  },
  {
   "cell_type": "code",
   "execution_count": 28,
   "metadata": {},
   "outputs": [
    {
     "name": "stdout",
     "output_type": "stream",
     "text": [
      "z*: 1.959963984540054\n"
     ]
    },
    {
     "data": {
      "text/plain": [
       "[(0.02, 1800.683822200371)]"
      ]
     },
     "execution_count": 28,
     "metadata": {},
     "output_type": "execute_result"
    }
   ],
   "source": [
    "pHat = 0.25\n",
    "me = [0.02]\n",
    "zStar = norm.ppf(0.975, 0, 1)\n",
    "print(\"z*: {}\".format(zStar))\n",
    "\n",
    "[(margin, pHat * (1 - pHat) * ((zStar / margin) ** 2)) for margin in me]"
   ]
  },
  {
   "cell_type": "markdown",
   "metadata": {},
   "source": [
    "## 19.33\n",
    "\n",
    "### Answers\n",
    "\n",
    "* at least 384 "
   ]
  },
  {
   "cell_type": "code",
   "execution_count": 29,
   "metadata": {},
   "outputs": [
    {
     "data": {
      "text/plain": [
       "383.28532266351687"
      ]
     },
     "execution_count": 29,
     "metadata": {},
     "output_type": "execute_result"
    }
   ],
   "source": [
    "pHat = 9 / 60\n",
    "me = 0.03\n",
    "zStar = norm.ppf(0.95, 0, 1)\n",
    "pHat * (1 - pHat) * (zStar / me) ** 2"
   ]
  },
  {
   "cell_type": "markdown",
   "metadata": {},
   "source": [
    "## 19.35\n",
    "\n",
    "### Answers\n",
    "\n",
    "* 90%"
   ]
  },
  {
   "cell_type": "code",
   "execution_count": 34,
   "metadata": {},
   "outputs": [
    {
     "data": {
      "text/plain": [
       "0.89776515526451206"
      ]
     },
     "execution_count": 34,
     "metadata": {},
     "output_type": "execute_result"
    }
   ],
   "source": [
    "pHat = 0.65\n",
    "qHat = 1 - pHat\n",
    "n = 972\n",
    "me = 0.025\n",
    "\n",
    "se = math.sqrt(pHat * qHat / n)\n",
    "\n",
    "zStar = me / se\n",
    "2 * norm.cdf(zStar, 0, 1) - 1"
   ]
  }
 ],
 "metadata": {
  "kernelspec": {
   "display_name": "Python 3",
   "language": "python",
   "name": "python3"
  },
  "language_info": {
   "codemirror_mode": {
    "name": "ipython",
    "version": 3
   },
   "file_extension": ".py",
   "mimetype": "text/x-python",
   "name": "python",
   "nbconvert_exporter": "python",
   "pygments_lexer": "ipython3",
   "version": "3.5.2"
  }
 },
 "nbformat": 4,
 "nbformat_minor": 2
}
