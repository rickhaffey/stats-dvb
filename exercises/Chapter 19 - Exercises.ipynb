{
 "cells": [
  {
   "cell_type": "markdown",
   "metadata": {},
   "source": [
    "# Chapter 19 - Exercises"
   ]
  },
  {
   "cell_type": "markdown",
   "metadata": {},
   "source": [
    "## 19.1 \n",
    "\n",
    "### Answers\n",
    "\n",
    "* It means, the newscaster is confident (to some %) that the interval between {estimate} - 4% and {estimate} + 4% captures the _true_ proportion."
   ]
  },
  {
   "cell_type": "markdown",
   "metadata": {},
   "source": [
    "## 19.3\n",
    "\n",
    "### Answers\n",
    "\n",
    "* a)\n",
    "    * population: all cars (or at least, all cars within their jurisdiction?)\n",
    "    * sample: 134 cars stopped at an auto checkpoint\n",
    "    * $p$: the % of all cars that have at least one safety violation\n",
    "    * $\\hat{p}$: the % of the 134 cars stopped that have at least one safety violation: (14/134): 10.4%\n",
    "    * can use methods of this chapter?: yes - random and appropriate sample size\n",
    "* b)\n",
    "    * population: general public\n",
    "    * sample: 602 viewers of a TV talk show who voluntarily logged onto a website to vote\n",
    "    * $p$: % of general public that favors prayer in schools\n",
    "    * $\\hat{p}$: % of sample described above that favors prayer in schooles: 488 / 602 = 81.6%\n",
    "    * can use methods of this chapter?: No - not randomly selected nor representative of the general population; sample being limited to only viewers of the TV talk show, and self-selection introduce bias.\n",
    "* c)\n",
    "    * population: all parents in the district\n",
    "    * sample: all parents in the district that voluntarily responded to the questionnaire\n",
    "    * $p$: % of parents that favor uniforms\n",
    "    * $\\hat{p}$: % of the responding parents that favor uniforms: 228 / 380: 60%\n",
    "    * can use methods of this chapter?: no - self-selection + high non-response introduces bias\n",
    "* d)\n",
    "    * population: all freshmen admitted to this college\n",
    "    * sample: all freshmen admitted to this college in year $y$\n",
    "    * $p$: % of freshmen who graduate on time\n",
    "    * $\\hat{p}$: % of freshmen admitted in year $y$ that graduate on time: 85.1%\n",
    "    * can use methods of this chapter?: assuming the proportion in year $y$ is representative of other years, then yes\n"
   ]
  },
  {
   "cell_type": "markdown",
   "metadata": {},
   "source": [
    "## 19.5\n",
    "\n",
    "### Answers\n",
    "\n",
    "* a) no: This conclusion is expressing certainty about the interval\n",
    "* b) no: This conclusion is not making a statement about the true proportion, but rather, other samples\n",
    "     also: the % of samples showing 88% will be much lower than 95%, so the statement is just wrong\n",
    "* c) no: similar to the previous one\n",
    "* d) yes: uncertainty is around the _interval_\n",
    "     X: this should be \"no\": it's talking specifically about the _sample_, which we know with certainty\n",
    "* e) no: this implies that the true proportion is changing from day-to-day"
   ]
  },
  {
   "cell_type": "markdown",
   "metadata": {},
   "source": [
    "## 19.7\n",
    "\n",
    "### Answers\n",
    "\n",
    "* a) false\n",
    "* b) true\n",
    "* c) true\n",
    "* d) false: requires a sample 4X larger"
   ]
  },
  {
   "cell_type": "markdown",
   "metadata": {},
   "source": [
    "## 19.9\n",
    "\n",
    "### Answers\n",
    "\n",
    "* The output is 90% confident that the true proportion of cars manufactured in Japan is captured by the interval from 29.9% and 47.0%"
   ]
  },
  {
   "cell_type": "markdown",
   "metadata": {},
   "source": [
    "## 19.11\n",
    "\n",
    "### Answers\n",
    "\n",
    "* "
   ]
  },
  {
   "cell_type": "markdown",
   "metadata": {},
   "source": [
    "## \n",
    "\n",
    "### Answers\n",
    "\n",
    "* "
   ]
  },
  {
   "cell_type": "markdown",
   "metadata": {},
   "source": [
    "## \n",
    "\n",
    "### Answers\n",
    "\n",
    "* "
   ]
  },
  {
   "cell_type": "markdown",
   "metadata": {},
   "source": [
    "## \n",
    "\n",
    "### Answers\n",
    "\n",
    "* "
   ]
  },
  {
   "cell_type": "markdown",
   "metadata": {},
   "source": [
    "## \n",
    "\n",
    "### Answers\n",
    "\n",
    "* "
   ]
  },
  {
   "cell_type": "code",
   "execution_count": null,
   "metadata": {
    "collapsed": true
   },
   "outputs": [],
   "source": []
  }
 ],
 "metadata": {
  "kernelspec": {
   "display_name": "Python 3",
   "language": "python",
   "name": "python3"
  },
  "language_info": {
   "codemirror_mode": {
    "name": "ipython",
    "version": 3
   },
   "file_extension": ".py",
   "mimetype": "text/x-python",
   "name": "python",
   "nbconvert_exporter": "python",
   "pygments_lexer": "ipython3",
   "version": "3.5.2"
  }
 },
 "nbformat": 4,
 "nbformat_minor": 2
}
