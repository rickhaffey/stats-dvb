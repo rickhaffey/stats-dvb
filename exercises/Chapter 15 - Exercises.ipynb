{
 "cells": [
  {
   "cell_type": "markdown",
   "metadata": {},
   "source": [
    "# Chapter 15 - Exercises"
   ]
  },
  {
   "cell_type": "markdown",
   "metadata": {},
   "source": [
    "## 15.1 \n",
    "\n",
    "### Answers\n",
    "\n",
    "* a) 68%\n",
    "* b) 32%\n",
    "* c) 4%"
   ]
  },
  {
   "cell_type": "markdown",
   "metadata": {},
   "source": [
    "## 15.3\n",
    "\n",
    "### Answers\n",
    "\n",
    "* a) 31%\n",
    "* b) 48%\n",
    "* c) 31%"
   ]
  },
  {
   "cell_type": "markdown",
   "metadata": {},
   "source": [
    "## 15.5\n",
    "\n",
    "### Answers\n",
    "\n",
    "* a) 1557 / 7690 =  20.25%\n",
    "* b) (4195 + 1161 + 45) / 7690 = 70.23%\n",
    "* c) (1539 + 379 - 69) / 7690 = 24.04%\n",
    "* d) 309 / 7690 = 4.0%"
   ]
  },
  {
   "cell_type": "markdown",
   "metadata": {},
   "source": [
    "## 15.7\n",
    "\n",
    "### Answers\n",
    "\n",
    "* a) 50%\n",
    "* b) 100%\n",
    "* c) 1/13 = 7.7%\n",
    "* d) 33.3%"
   ]
  },
  {
   "cell_type": "markdown",
   "metadata": {},
   "source": [
    "## 15.9\n",
    "\n",
    "### Answers\n",
    "\n",
    "* a) 11%\n",
    "* b) 28%\n",
    "* c) 40.7%\n",
    "* d) 34.4%"
   ]
  },
  {
   "cell_type": "markdown",
   "metadata": {},
   "source": [
    "## 15.11 \n",
    "\n",
    "### Answers\n",
    "\n",
    "* a) 1.09%\n",
    "* b) 22.2%\n",
    "* c) 5.4%\n",
    "* d) 33.7%\n",
    "* e) 43.6%"
   ]
  },
  {
   "cell_type": "markdown",
   "metadata": {},
   "source": [
    "## 15.13\n",
    "\n",
    "### Answers\n",
    "\n",
    "* 21%"
   ]
  },
  {
   "cell_type": "markdown",
   "metadata": {},
   "source": [
    "## 15.15\n",
    "\n",
    "### Answers\n",
    "\n",
    "* a) 14.5%\n",
    "* b) 11.8%\n",
    "* c) 41.4%\n",
    "* d) 21.7%"
   ]
  },
  {
   "cell_type": "markdown",
   "metadata": {},
   "source": [
    "## 15.17\n",
    "\n",
    "### Answers\n",
    "\n",
    "* a) 31.8%\n",
    "* b) 95.5%\n",
    "* c) 7.1%\n",
    "* d) 0.88%"
   ]
  },
  {
   "cell_type": "markdown",
   "metadata": {},
   "source": [
    "## 15.19\n",
    "\n",
    "### Answers\n",
    "\n",
    "* a) 32%\n",
    "* b) 13.5%\n",
    "* c) No - not mutually exclusive\n",
    "* d) No - Taking one changes the probability of taking the other;  P(stats) = 52% while P(stats|comp) = 30.4%"
   ]
  },
  {
   "cell_type": "markdown",
   "metadata": {},
   "source": [
    "## 15.21\n",
    "\n",
    "### Answers\n",
    "\n",
    "* a) 26.6%\n",
    "* b) No - P(garage) = 64%; P(garage|pool) = 81%\n",
    "* c) No - 17% have both"
   ]
  },
  {
   "cell_type": "markdown",
   "metadata": {},
   "source": [
    "## 15.23\n",
    "\n",
    "### Answers\n",
    "\n",
    "* Yes - P(ace) = 1/4; P(ace|{spades,hearts,diamonds, or clubs}) = 1/4"
   ]
  },
  {
   "cell_type": "markdown",
   "metadata": {},
   "source": [
    "## 15.25\n",
    "\n",
    "### Answers\n",
    "\n",
    "* a) 17%\n",
    "* b) No - some were contaminated with both\n",
    "* c) No - P(S) = 15% while P(S|C) = 16%"
   ]
  },
  {
   "cell_type": "markdown",
   "metadata": {},
   "source": [
    "## 15.27\n",
    "\n",
    "### Answers\n",
    "\n",
    "* No - P(H) = 27%; P(H|C) = 34.4%"
   ]
  },
  {
   "cell_type": "markdown",
   "metadata": {},
   "source": [
    "## 15.29\n",
    "\n",
    "### Answers\n",
    "\n",
    "* a) 95.6%\n",
    "* b) Yes - assuming rounding error: P(L) = 95.6%; P(L|C) = 95.4%"
   ]
  },
  {
   "cell_type": "markdown",
   "metadata": {},
   "source": [
    "## 15.31\n",
    "\n",
    "### Answers\n",
    "\n",
    "* No - P(democrat) = 41.6%; P(democrat|male) = 34.3%"
   ]
  },
  {
   "cell_type": "markdown",
   "metadata": {},
   "source": [
    "## 15.33\n",
    "\n",
    "### Answers\n",
    "\n",
    "* a) no - the probability of the second event changes based on the outcome of the first\n",
    "* b) 69.5%"
   ]
  },
  {
   "cell_type": "markdown",
   "metadata": {},
   "source": [
    "## 15.35\n",
    "\n",
    "### Answers\n",
    "\n",
    "* 97.5%"
   ]
  },
  {
   "cell_type": "markdown",
   "metadata": {},
   "source": [
    "## 15.37\n",
    "\n",
    "### Answers\n",
    "\n",
    "* a) No - P(A) = 1.4%, P(A|D) = 1%; P(A|N) = 2%\n",
    "* b) 1.4%"
   ]
  },
  {
   "cell_type": "markdown",
   "metadata": {},
   "source": [
    "## 15.39\n",
    "\n",
    "### Answers\n",
    "\n",
    "* 57.1%"
   ]
  },
  {
   "cell_type": "markdown",
   "metadata": {},
   "source": [
    "## 15.41\n",
    "\n",
    "### Answers\n",
    "\n",
    "* a) 20%\n",
    "* b) 27.2%\n",
    "* c) 35.3%\n",
    "* d) 3.3%"
   ]
  },
  {
   "cell_type": "markdown",
   "metadata": {},
   "source": [
    "## 15.43\n",
    "\n",
    "### Answers\n",
    "\n",
    "* 56.3%"
   ]
  },
  {
   "cell_type": "markdown",
   "metadata": {},
   "source": [
    "## 15.45\n",
    "\n",
    "### Answers\n",
    "\n",
    "* 99.9%"
   ]
  }
 ],
 "metadata": {
  "kernelspec": {
   "display_name": "Python 3",
   "language": "python",
   "name": "python3"
  },
  "language_info": {
   "codemirror_mode": {
    "name": "ipython",
    "version": 3
   },
   "file_extension": ".py",
   "mimetype": "text/x-python",
   "name": "python",
   "nbconvert_exporter": "python",
   "pygments_lexer": "ipython3",
   "version": "3.5.2"
  }
 },
 "nbformat": 4,
 "nbformat_minor": 2
}
