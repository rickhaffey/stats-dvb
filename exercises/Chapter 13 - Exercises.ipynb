{
 "cells": [
  {
   "cell_type": "markdown",
   "metadata": {},
   "source": [
    "# Chapter 13 - Exercises"
   ]
  },
  {
   "cell_type": "markdown",
   "metadata": {},
   "source": [
    "## 13.1\n",
    "\n",
    "### Answers\n",
    "\n",
    "* a) no - observational; retrospective\n",
    "* b) may be a lurking variable"
   ]
  },
  {
   "cell_type": "markdown",
   "metadata": {},
   "source": [
    "## 13.3 \n",
    "\n",
    "### Answers\n",
    "\n",
    "* a) prospective observational\n",
    "* b) yes - no treatment to apply for experiment\n",
    "* c) military personnel\n",
    "* d) vitamin D levels (before and after) and MS diagnosis (+/-)"
   ]
  },
  {
   "cell_type": "markdown",
   "metadata": {},
   "source": [
    "## 13.5\n",
    "\n",
    "### Answers\n",
    "\n",
    "* a) experiment\n",
    "* b) yes\n",
    "* c) women suffering from hot flashes\n",
    "* d) treatment: medical treatment / advice; response: symptoms"
   ]
  },
  {
   "cell_type": "markdown",
   "metadata": {},
   "source": [
    "## 13.7\n",
    "\n",
    "### Answers\n",
    "\n",
    "* a) experiment\n",
    "* b) 30 people with bipolar disorder\n",
    "* c) factors: medicine -> omega 3 fatty acids or placebo\n",
    "* d) 2 treatments\n",
    "* e) symptom improvement level\n",
    "* f) not specified: completely randomized\n",
    "* g) ?\n",
    "* h) not enough details other than some evidence that fish oils help"
   ]
  },
  {
   "cell_type": "markdown",
   "metadata": {},
   "source": [
    "## 13.9\n",
    "\n",
    "### Answers\n",
    "\n",
    "* a) observational\n",
    "* b) ?\n",
    "* c) 200 men / women, some with high BP\n",
    "* d) memory and reaction time\n",
    "* e) limited"
   ]
  },
  {
   "cell_type": "markdown",
   "metadata": {},
   "source": [
    "## 13.11\n",
    "\n",
    "### Answers\n",
    "\n",
    "* a) experiment\n",
    "* b) post menopausal women - 12 on estrogen replacement therapy, 12 not\n",
    "* c) factors: suplemental estrogen (+/-); alcohol consumption (+/-)\n",
    "* d) 4 treatments\n",
    "* e) estrogen levels\n",
    "* f) blocked\n",
    "* g) not specified\n",
    "* h) alcohol + estrogen supplement may increase estrogen levels"
   ]
  },
  {
   "cell_type": "markdown",
   "metadata": {},
   "source": [
    "## 13.13\n",
    "\n",
    "### Answers\n",
    "\n",
    "* a) observational / retrospective\n",
    "* b) retrospective\n",
    "* c) women in Finland\n",
    "* d) lifespan, # of sons & daughters\n",
    "* e) association between # of boys and girls and lifespan"
   ]
  },
  {
   "cell_type": "markdown",
   "metadata": {},
   "source": [
    "## 13.15\n",
    "\n",
    "### Answers\n",
    "\n",
    "* a) observational\n",
    "* b) --- TODO\n"
   ]
  },
  {
   "cell_type": "markdown",
   "metadata": {},
   "source": [
    "## 13.17\n",
    "\n",
    "### Answers\n",
    "\n",
    "* a) experiment\n",
    "* b) migraine sufferers\n",
    "* c) factors: pain med (+/-); water consumption (+/-)\n",
    "* d) treatments: 4\n",
    "* e) level of pain relief\n",
    "* f) randomized\n",
    "* g) whether water shows different level of improvement in pain when compared against pain medication"
   ]
  },
  {
   "cell_type": "markdown",
   "metadata": {},
   "source": [
    "## \n",
    "\n",
    "### Answers\n",
    "\n",
    "* \n"
   ]
  },
  {
   "cell_type": "markdown",
   "metadata": {},
   "source": [
    "## \n",
    "\n",
    "### Answers\n",
    "\n",
    "* \n"
   ]
  },
  {
   "cell_type": "code",
   "execution_count": null,
   "metadata": {
    "collapsed": true
   },
   "outputs": [],
   "source": []
  }
 ],
 "metadata": {
  "kernelspec": {
   "display_name": "Python 3",
   "language": "python",
   "name": "python3"
  },
  "language_info": {
   "codemirror_mode": {
    "name": "ipython",
    "version": 3
   },
   "file_extension": ".py",
   "mimetype": "text/x-python",
   "name": "python",
   "nbconvert_exporter": "python",
   "pygments_lexer": "ipython3",
   "version": "3.5.2"
  }
 },
 "nbformat": 4,
 "nbformat_minor": 2
}
