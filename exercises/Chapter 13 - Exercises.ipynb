{
 "cells": [
  {
   "cell_type": "markdown",
   "metadata": {},
   "source": [
    "# Chapter 13 - Exercises"
   ]
  },
  {
   "cell_type": "markdown",
   "metadata": {},
   "source": [
    "## 13.1\n",
    "\n",
    "### Answers\n",
    "\n",
    "* a) no - observational; retrospective\n",
    "* b) may be a lurking variable"
   ]
  },
  {
   "cell_type": "markdown",
   "metadata": {},
   "source": [
    "## 13.3 \n",
    "\n",
    "### Answers\n",
    "\n",
    "* a) prospective observational\n",
    "* b) yes - no treatment to apply for experiment\n",
    "* c) military personnel\n",
    "* d) vitamin D levels (before and after) and MS diagnosis (+/-)"
   ]
  },
  {
   "cell_type": "markdown",
   "metadata": {},
   "source": [
    "## 13.5\n",
    "\n",
    "### Answers\n",
    "\n",
    "* a) experiment\n",
    "* b) yes\n",
    "* c) women suffering from hot flashes\n",
    "* d) treatment: medical treatment / advice; response: symptoms"
   ]
  },
  {
   "cell_type": "markdown",
   "metadata": {},
   "source": [
    "## 13.7\n",
    "\n",
    "### Answers\n",
    "\n",
    "* a) experiment\n",
    "* b) 30 people with bipolar disorder\n",
    "* c) factors: medicine -> omega 3 fatty acids or placebo\n",
    "* d) 2 treatments\n",
    "* e) symptom improvement level\n",
    "* f) not specified: completely randomized\n",
    "* g) ?\n",
    "* h) not enough details other than some evidence that fish oils help"
   ]
  },
  {
   "cell_type": "markdown",
   "metadata": {},
   "source": [
    "## 13.9\n",
    "\n",
    "### Answers\n",
    "\n",
    "* a) observational\n",
    "* b) ?\n",
    "* c) 200 men / women, some with high BP\n",
    "* d) memory and reaction time\n",
    "* e) limited"
   ]
  },
  {
   "cell_type": "markdown",
   "metadata": {},
   "source": [
    "## 13.11\n",
    "\n",
    "### Answers\n",
    "\n",
    "* a) experiment\n",
    "* b) post menopausal women - 12 on estrogen replacement therapy, 12 not\n",
    "* c) factors: suplemental estrogen (+/-); alcohol consumption (+/-)\n",
    "* d) 4 treatments\n",
    "* e) estrogen levels\n",
    "* f) blocked\n",
    "* g) not specified\n",
    "* h) alcohol + estrogen supplement may increase estrogen levels"
   ]
  },
  {
   "cell_type": "markdown",
   "metadata": {},
   "source": [
    "## 13.13\n",
    "\n",
    "### Answers\n",
    "\n",
    "* a) observational / retrospective\n",
    "* b) retrospective\n",
    "* c) women in Finland\n",
    "* d) lifespan, # of sons & daughters\n",
    "* e) association between # of boys and girls and lifespan"
   ]
  },
  {
   "cell_type": "markdown",
   "metadata": {},
   "source": [
    "## 13.15\n",
    "\n",
    "### Answers\n",
    "\n",
    "* a) observational\n",
    "* b) --- TODO\n"
   ]
  },
  {
   "cell_type": "markdown",
   "metadata": {},
   "source": [
    "## 13.17\n",
    "\n",
    "### Answers\n",
    "\n",
    "* a) experiment\n",
    "* b) migraine sufferers\n",
    "* c) factors: pain med (+/-); water consumption (+/-)\n",
    "* d) treatments: 4\n",
    "* e) level of pain relief\n",
    "* f) randomized\n",
    "* g) whether water shows different level of improvement in pain when compared against pain medication"
   ]
  },
  {
   "cell_type": "markdown",
   "metadata": {},
   "source": [
    "## 3.19\n",
    "\n",
    "### Answers\n",
    "\n",
    "* a) experiment\n",
    "* b) atheletes who suffered hamstring injuries\n",
    "* c) factor: (treatment) - static stretching or agility and trunk stabilization exercises\n",
    "* d) treatments: 2\n",
    "* e) days to return to sport activity\n",
    "* f) randomized\n",
    "* g) unknown\n",
    "* h) evidences suggests static stretching improves recovery time"
   ]
  },
  {
   "cell_type": "markdown",
   "metadata": {},
   "source": [
    "## 3.21\n",
    "\n",
    "### Answers\n",
    "\n",
    "* It's not clear if the omega-3 is what led to the improvement, or the placebo effect - just the act of giving the people _some_ type of treatment, causing them to _believe_ they'll see improvement, and as a result, show improvement.  The placebo / control cases help answer what role that plays in this situation"
   ]
  },
  {
   "cell_type": "markdown",
   "metadata": {},
   "source": [
    "## 3.23 \n",
    "\n",
    "### Answers\n",
    "\n",
    "* a) to avoid introducing bias into the results as a result of how the subjects are selected\n",
    "* b) when combined with randomization, the larger number of subjects would further ensure that the samples in each treatment (active/placebo) are representative of the population being studied; at the same time, the more subjects there are, the more complicated and costly the experiment becomes"
   ]
  },
  {
   "cell_type": "markdown",
   "metadata": {},
   "source": [
    "## 3.25 \n",
    "\n",
    "### Answers\n",
    "\n",
    "* If there's an assumption that activity level might be a factor affecting the response variable, then blocking subjects based on activity level would help ensure that the _results_ of the experiment aren't biased due to that factor.  Evenly and randomly distributing members of both groups (based on activity level) across all treatments ensures that the effects of each activity level are present in each treatment group."
   ]
  },
  {
   "cell_type": "markdown",
   "metadata": {},
   "source": [
    "## 3.27\n",
    "\n",
    "### Answers\n",
    "\n",
    "* assign sequence of numbers (i.e. 1-24) to the tomato plants\n",
    "* generate a random number in that range; if it corresponds to an un-selected plant, select that plant\n",
    "* place selections 1-4 in treatment group 1, 5-8 in treatment group 2, etc."
   ]
  },
  {
   "cell_type": "markdown",
   "metadata": {},
   "source": [
    "## 3.29\n",
    "\n",
    "### Answers\n",
    "\n",
    "* a) larger sample of runners; randomize the order of treatments; consider more \"typical\" runners than olympic athletes; double blind the experiment; pick subjects that _aren't_ sponsored by the company (to avoid bias); have a third treatment where the runners wear their own, preferred shoe (if different from the other two treatments)\n",
    "* b) the 5 runners selected are clearly not representative of your typical runner, in that they're olympic athletes"
   ]
  },
  {
   "cell_type": "markdown",
   "metadata": {},
   "source": [
    "## 3.31 \n",
    "\n",
    "### Answers\n",
    "\n",
    "* a) to avoid selection bias\n",
    "* b) a control group would provide a means of seeing how the response variable is affected when _no_ treatment is provided -- providing clearer evidence as to whether either treatment is truly responsible for the improvement seen\n",
    "* c) evaluation blinding would be fairly straightforward -- assign ID's to subjects, and only provide ID's (not details about the specific treatment received) when evaluating results; blinding those that can affect the treatments would be more challenging -- but one option might be to _not_ tell the subjects which group they're in."
   ]
  },
  {
   "cell_type": "markdown",
   "metadata": {},
   "source": [
    "## 3.33 \n",
    "\n",
    "### Answers\n",
    "\n",
    "* a) the improvement in scores by those who listened to Mozart music was larger than what would be expected purely as a result of randomization of subjects across the two treatments\n",
    "* b) randomized, controlled experiment; 1 factor (music listened to) => 3 treatments: Mozart, Glass, none;\n",
    "* c) On average, not really.  Results vary, within each group, across all subjects; but the median values across groups were all similar, and fairly small."
   ]
  },
  {
   "cell_type": "markdown",
   "metadata": {},
   "source": [
    "## 3.35 \n",
    "\n",
    "### Answers\n",
    "\n",
    "* a) prospective observational study\n",
    "* b) it suggests that rather than wine => higher HDL / lower AMI, instead education => (better diet) => higher HDL / lower AMI _and_ wine consumption\n",
    "* c) no - they can't control for lurking variables"
   ]
  },
  {
   "cell_type": "markdown",
   "metadata": {},
   "source": [
    "## 3.37 \n",
    "\n",
    "### Answers\n",
    "\n",
    "* a) assign numbers 1-20 to the containers; use random numbers to set the sequence of containers, randomizing the order in which they are evaluated\n",
    "* b) no - this is close to half of all containers, which is roughly what you'd expect based on random selection\n",
    "* c) 16 or more?"
   ]
  },
  {
   "cell_type": "markdown",
   "metadata": {},
   "source": [
    "## 13.39\n",
    "\n",
    "### Answers\n",
    "\n",
    "* randomize: random student selection\n",
    "* control for : school and grades (randomize within each)\n",
    "* 2 factor levels: phonics and whole language\n",
    "* can't double blind\n",
    "* can't introduce a \"placebo\""
   ]
  },
  {
   "cell_type": "markdown",
   "metadata": {},
   "source": [
    "## 13.41\n",
    "\n",
    "### Answers\n",
    "\n",
    "* a) difference is larger than would be expected from randomization alone\n",
    "* b) prospective (?) observational study\n",
    "* c) no. this shows correlation, but not causations; going in on a weekend doesn't increase risk\n",
    "* d) more severe patients (i.e. traumatic injuries) on weekends; pt's that waited longer because dr's offices not open; etc."
   ]
  },
  {
   "cell_type": "markdown",
   "metadata": {},
   "source": [
    "## 13.43 \n",
    "\n",
    "### Answers\n",
    "\n",
    "* factor: different pesticides\n",
    "* experimental unit: single corn plant\n",
    "* response variable: # of beetles on each plant\n",
    "* treatments: pesticide 1, pesticide 2, none / placebo (control)\n",
    "* randomize by plant so that 1/3 fall in each group\n",
    "* control for light, water, location, etc. by randomizing across all plots\n",
    "* double blind: use a placebo pesticide for control, anonymize for the evaluator"
   ]
  },
  {
   "cell_type": "markdown",
   "metadata": {},
   "source": [
    "## 13.45\n",
    "\n",
    "### Answers\n",
    "\n",
    "* control for handedness\n",
    "* paired (L/R) mult. checks\n",
    "* randomly selected workers\n",
    "* treatment: ?\n",
    "* block: (L/R) randomly select within blocks\n",
    "* is this really an experiment, or an observational study?"
   ]
  },
  {
   "cell_type": "markdown",
   "metadata": {},
   "source": [
    "## 13.47\n",
    "\n",
    "### Answers\n",
    "\n",
    "* a) parachute use: true vs. \"placebo\"\n",
    "* b) skydivers\n",
    "* c) a non-functioning parachute\n",
    "* d) apply parachute\n",
    "* e) survival\n",
    "* f) skydiver weight; height of chute engagement; etc.\n",
    "* g) assign good / placebo chute to individuals randomly\n",
    "* h) make assignment to levels random (and hidden); make placebo indistinguishable"
   ]
  }
 ],
 "metadata": {
  "kernelspec": {
   "display_name": "Python 3",
   "language": "python",
   "name": "python3"
  },
  "language_info": {
   "codemirror_mode": {
    "name": "ipython",
    "version": 3
   },
   "file_extension": ".py",
   "mimetype": "text/x-python",
   "name": "python",
   "nbconvert_exporter": "python",
   "pygments_lexer": "ipython3",
   "version": "3.5.2"
  }
 },
 "nbformat": 4,
 "nbformat_minor": 2
}
