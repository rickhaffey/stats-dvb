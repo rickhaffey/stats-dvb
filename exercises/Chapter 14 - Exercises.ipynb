{
 "cells": [
  {
   "cell_type": "markdown",
   "metadata": {},
   "source": [
    "# Chapter 14 - Exercises"
   ]
  },
  {
   "cell_type": "markdown",
   "metadata": {},
   "source": [
    "## 14.1\n",
    "\n",
    "### Answers\n",
    "\n",
    "* a) S = {HH, HT, TH, TT}; yes\n",
    "* b) S = {BBB (3), BBG (2), BGB (2), BGG (1), GBB (2), GBG (1), GGB (1), GGG (0)} => {3,2,1,0}; no\n",
    "* c) S = {H, TH, TTH, TTT}; no\n",
    "* d) S = {(1,1):1, (1,2):2, (1,3):3, ..., (2,1):2, (2,2):,2, (2,3):3, ..., (6,1):6, (6,2):6, ..., (6,6):6)} => {1,2,3,4,5,6}; no"
   ]
  },
  {
   "cell_type": "markdown",
   "metadata": {},
   "source": [
    "## 14.3 \n",
    "\n",
    "### Answers\n",
    "\n",
    "* Over the long run, the frequency of landing on any given number should average out to the same value for all  numbers on the wheel."
   ]
  },
  {
   "cell_type": "markdown",
   "metadata": {},
   "source": [
    "## 14.5 \n",
    "\n",
    "### Answers\n",
    "\n",
    "* This is flawed reasoning.  Assuming winter weather is random, then whether or not recent weathers were \"good\" or \"bad\" has no impact on what this winter will be like."
   ]
  },
  {
   "cell_type": "markdown",
   "metadata": {},
   "source": [
    "## 14.7\n",
    "\n",
    "### Answers\n",
    "\n",
    "* Assuming the player's performance in batting is random (within his \"typical\" performance range), then whether or not he's hit well or poorly over some range of recent at-bats has no impact on his current at-bat.  If he did poorly the last few at bats, that doesn't mean that he's now \"due\" for a hit.  That belief is an implicit statement of the (non-existent) \"Law of Averages\".\n",
    "\n"
   ]
  },
  {
   "cell_type": "markdown",
   "metadata": {},
   "source": [
    "## 14.9 \n",
    "\n",
    "### Answers\n",
    "\n",
    "* a) Although the risk of his house burning down is low, you aren't able to spread the total risk across a large number of payments.  You're basically assuming the same risk as your neighbor (less the \\$300 he payed you).\n",
    "* b) The insurance company _does_ balance this risk across a large number of policy holders.  _Most_ don't make claims in a given year (and their premiums are retained), while a _few_ make claims, collecting on the policy value.  In aggregate, the insurnace company earns money by correctly estimating the probability of a policy holder making a claim, and sets each preimum to factor that in."
   ]
  },
  {
   "cell_type": "markdown",
   "metadata": {},
   "source": [
    "## 14.11 \n",
    "\n",
    "### Answers\n",
    "\n",
    "* a) yes\n",
    "* b) yes\n",
    "* c) no\n",
    "* d) yes\n",
    "* e) no"
   ]
  },
  {
   "cell_type": "markdown",
   "metadata": {},
   "source": [
    "## 14.13 \n",
    "\n",
    "### Answers\n",
    "\n",
    "* It assumes that the events are mutually exclusive -- which is likely untrue across all samples.  Consider a family that owns both a car and an SUV."
   ]
  },
  {
   "cell_type": "markdown",
   "metadata": {},
   "source": [
    "## 14.15 \n",
    "\n",
    "### Answers\n",
    "\n",
    "* The multiplication rule requires events to be independent.  In many cases, the speed of vehicles traveling together would _not_ be independent.  If the leading vehicle is _not_ speeding, then the trailing vehicle, limited by the first vehicle's speed, would be unable to speed as well."
   ]
  },
  {
   "cell_type": "markdown",
   "metadata": {},
   "source": [
    "## 14.17 \n",
    "\n",
    "### Answers\n",
    "\n",
    "* a) It looks like he's using the multiplication rule.\n",
    "* b) He's assuming the events are independent.\n",
    "* c) No - factors about Jorge that might increase his chances at Harvard (say, a higher than avg. GPA) would presumably also affect his chances at Stanford.  The schools base their decision on similar details -- leading the events to _not_ be independent."
   ]
  },
  {
   "cell_type": "markdown",
   "metadata": {},
   "source": [
    "## 14.19 \n",
    "\n",
    "### Answers\n",
    "\n",
    "17% - 1 repair\n",
    "7% - 2 repairs\n",
    "4% - 3+ repairs\n",
    "\n",
    "* a) 72%\n",
    "* b) 89%\n",
    "* c) 28%"
   ]
  },
  {
   "cell_type": "markdown",
   "metadata": {},
   "source": [
    "## 14.21 \n",
    "\n",
    "### Answers\n",
    "\n",
    "* a) 51.8% (72% * 72%)\n",
    "* b) 7.8% (28% * 28%)\n",
    "* c) 48.2% (1 - (a))"
   ]
  },
  {
   "cell_type": "markdown",
   "metadata": {},
   "source": [
    "## 14.23\n",
    "\n",
    "### Answers\n",
    "\n",
    "* a) their need for repairs are independent\n",
    "* b) probably not -- if one needs repair, that will affect the amount the other is driven; also - if the same driver drives both, driving behavior may affect rate of need for repair; etc."
   ]
  },
  {
   "cell_type": "markdown",
   "metadata": {},
   "source": [
    "## 14.25 \n",
    "\n",
    "### Answers\n",
    "\n",
    "* a) 342 / 1005 = 34.3%\n",
    "* b) (30 + 50) / 1005 = 8.0% "
   ]
  },
  {
   "cell_type": "markdown",
   "metadata": {},
   "source": [
    "## 14.27 \n",
    "\n",
    "### Answers\n",
    "\n",
    "* a) 19.5% (583 / 1005 * 582 / 1004 * 581 / 1003)\n",
    "* b) 91.3% (sim.)\n",
    "* c) independence\n",
    "* d) the polling procedure is assumed to ensure that the sampled adults have independent voting patterns"
   ]
  },
  {
   "cell_type": "markdown",
   "metadata": {},
   "source": [
    "## 14.29\n",
    "\n",
    "### Answers\n",
    "\n",
    "* a) 47.12%\n",
    "* b) 24 + 47.12% = 71.12%\n",
    "* c)"
   ]
  },
  {
   "cell_type": "markdown",
   "metadata": {},
   "source": [
    "## 14.31\n",
    "\n",
    "### Answers\n",
    "\n",
    "* a) 1 - 30%, 2 - 30%, 3 - 90%, 4 - 0%\n",
    "* b) 1 - 2.7%, 2 - 12.8%, 3 - 51.2%, 4 - 27.1%"
   ]
  },
  {
   "cell_type": "markdown",
   "metadata": {},
   "source": [
    "## 14.33\n",
    "\n",
    "### Answers\n",
    "\n",
    "* a) disjoint\n",
    "* b) independent\n",
    "* c) no - the occurrence of one determines the probability (0%) of the other occurring"
   ]
  },
  {
   "cell_type": "markdown",
   "metadata": {},
   "source": [
    "## 14.35\n",
    "\n",
    "### Answers\n",
    "\n",
    "* a) 0.0046\n",
    "* b) 0.125\n",
    "* c) 0.296\n",
    "* d) 0.421\n",
    "* e) 0.995"
   ]
  },
  {
   "cell_type": "markdown",
   "metadata": {},
   "source": [
    "## 14.37\n",
    "\n",
    "### Answers\n",
    "\n",
    "* a) 0.027\n",
    "* b) 0.063\n",
    "* c) 0.973\n",
    "* d) 0.014"
   ]
  },
  {
   "cell_type": "markdown",
   "metadata": {},
   "source": [
    "## 14.39\n",
    "\n",
    "### Answers\n",
    "\n",
    "* a) 0.024\n",
    "* b) 0.250\n",
    "* c) 0.543"
   ]
  },
  {
   "cell_type": "markdown",
   "metadata": {},
   "source": [
    "## 14.41\n",
    "\n",
    "### Answers\n",
    "\n",
    "* 0.0776"
   ]
  },
  {
   "cell_type": "markdown",
   "metadata": {},
   "source": [
    "## 14.43\n",
    "\n",
    "### Answers\n",
    "\n",
    "* \n",
    "\n"
   ]
  },
  {
   "cell_type": "markdown",
   "metadata": {},
   "source": [
    "## \n",
    "\n",
    "### Answers\n",
    "\n",
    "* \n",
    "\n"
   ]
  },
  {
   "cell_type": "markdown",
   "metadata": {},
   "source": [
    "## \n",
    "\n",
    "### Answers\n",
    "\n",
    "* \n",
    "\n"
   ]
  },
  {
   "cell_type": "code",
   "execution_count": null,
   "metadata": {
    "collapsed": true
   },
   "outputs": [],
   "source": []
  }
 ],
 "metadata": {
  "kernelspec": {
   "display_name": "Python 3",
   "language": "python",
   "name": "python3"
  },
  "language_info": {
   "codemirror_mode": {
    "name": "ipython",
    "version": 3
   },
   "file_extension": ".py",
   "mimetype": "text/x-python",
   "name": "python",
   "nbconvert_exporter": "python",
   "pygments_lexer": "ipython3",
   "version": "3.5.2"
  }
 },
 "nbformat": 4,
 "nbformat_minor": 2
}
