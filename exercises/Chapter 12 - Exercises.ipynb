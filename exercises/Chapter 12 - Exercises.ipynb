{
 "cells": [
  {
   "cell_type": "markdown",
   "metadata": {},
   "source": [
    "# Chapter 12 - Exercises"
   ]
  },
  {
   "cell_type": "markdown",
   "metadata": {},
   "source": [
    "## 12.1 \n",
    "\n",
    "### Answers\n",
    "\n",
    "* a) no - stratified, because they're stratifying by gender\n",
    "* b) stratified sampling"
   ]
  },
  {
   "cell_type": "markdown",
   "metadata": {},
   "source": [
    "## 12.3 \n",
    "\n",
    "### Answers\n",
    "\n",
    "* convenience sample\n",
    "* little: it only considers visitors of gamefaqs.com, it only considers those willing to respond to the survey, etc; highly biased"
   ]
  },
  {
   "cell_type": "markdown",
   "metadata": {},
   "source": [
    "## 12.5 \n",
    "\n",
    "### Answers\n",
    "\n",
    "* a) u.s. adults, aged 18 and older\n",
    "* b) all individuals with a phone (number)\n",
    "* c) people that don't have a phone, either due to economic or personal reasons that are relevant to the topic of study"
   ]
  },
  {
   "cell_type": "markdown",
   "metadata": {},
   "source": [
    "## 12.7 \n",
    "\n",
    "### Answers\n",
    "\n",
    "* a) population: all potential users of alternative medical treatment\n",
    "* b) population parameter: the percent of users benefited by alternative medical treatment\n",
    "* c) sampling frame: all consumers union subscribers\n",
    "* d) sample: all consumer union subscribers who responded\n",
    "* e) sampling method (randomized?): convenience\n",
    "* f) any source of bias: \n",
    "  * only looks at consumers union members\n",
    "  * only looks at those who opted to responded\n",
    "  * depends on self-report of perceived benefits (not clear what #b is exactly)"
   ]
  },
  {
   "cell_type": "markdown",
   "metadata": {},
   "source": [
    "## 12.9 \n",
    "\n",
    "### Answers\n",
    "\n",
    "* a) population: drinking age adults\n",
    "* b) population parameter: % that feel drinking and driving is a serious problem\n",
    "* c) sampling frame: patrons of the bar they selected\n",
    "* d) sample: every 10th person leaving the bar\n",
    "* e) sampling method (randomized?): simple random sample\n",
    "* f) any source of bias: \n",
    "  * only focuses on adults that patronize bars, and in particular, the bar they selected\n",
    "  * given that the answer may reflect negatively on the person being questions, it may be biased by their unwillingness to answer honestly\n",
    "  * may be biased based on local variations in opinion"
   ]
  },
  {
   "cell_type": "markdown",
   "metadata": {},
   "source": [
    "## 12.11 \n",
    "\n",
    "### Answers\n",
    "\n",
    "* a) population: soil near toxic waste dumps\n",
    "* b) population parameter: amt of elevated levels of harmful substances\n",
    "* c) sampling frame: samples near a former industrial waste dump\n",
    "* d) sample: 16 samples from locations around the dump\n",
    "* e) sampling method (randomized?): ?? \n",
    "* f) any source of bias: depends on how the samples were taken -- it doesn't specify"
   ]
  },
  {
   "cell_type": "markdown",
   "metadata": {},
   "source": [
    "## 12.13 \n",
    "\n",
    "### Answers\n",
    "\n",
    "* a) population: bags of snack food\n",
    "* b) population parameter: quality of bag contents\n",
    "* c) sampling frame: all bags packaged on a given day\n",
    "* d) sample: 10 randomly selected cases, then one (randomly?) selected bag from each case\n",
    "* e) sampling method (randomized?): yes - simple random sample\n",
    "* f) any source of bias: doesn't appear so\n"
   ]
  },
  {
   "cell_type": "markdown",
   "metadata": {},
   "source": [
    "## 12.15\n",
    "\n",
    "### Answers\n",
    "\n",
    "* bias : the sampling frame only consisted of viewers of the news who chose to respond to the survey.  This, likely, isn't representative of the overall voting population."
   ]
  },
  {
   "cell_type": "markdown",
   "metadata": {},
   "source": [
    "## 12.17 \n",
    "\n",
    "### Answers\n",
    "\n",
    "* a) voluntary / convenience; only targets paper readers/subscribers; introduces response bias\n",
    "* b) clustered random sample; the parents at the one school may not reflect the views of the parents across all 20\n",
    "* c) census; is non-response an option - if no, then no bias; if yes -- how would non-response be handled?\n",
    "* d) stratified random sample; no clear bias\n"
   ]
  },
  {
   "cell_type": "markdown",
   "metadata": {},
   "source": [
    "## 12.19 \n",
    "\n",
    "### Answers\n",
    "\n",
    "* a) multistage: each church represents a cluster, selected randomly; then within selected clusters, parishioners selected randomly (SRS)\n",
    "* b) the 3 churches might not be representative of the 17; response rate might be lower than needed; sample size might not be large enough, depending on church size\n"
   ]
  },
  {
   "cell_type": "markdown",
   "metadata": {},
   "source": [
    "## 12.21 \n",
    "\n",
    "### Answers\n",
    "\n",
    "* a) methodology?: SRS\n",
    "* b) sampling frame?: every tenth rider of this particular ride, on the day sampled\n",
    "* c) representative?: maybe - depends on how representative riders of this one ride are of _all_ patrons, with respect to their tolerance for waiting for rides"
   ]
  },
  {
   "cell_type": "markdown",
   "metadata": {},
   "source": [
    "## 12.23 \n",
    "\n",
    "### Answers\n",
    "\n",
    "* a) first is biased to garner sympathy for the students; second is biased to appeal to ideals of accountability and responsibility\n",
    "* b) \"Should students' progress be assessed and factored in before determining whether they should advance to the next grade?\""
   ]
  },
  {
   "cell_type": "markdown",
   "metadata": {},
   "source": [
    "## 12.25\n",
    "\n",
    "### Answers\n",
    "\n",
    "* a) Possibly - the word \"compelled\", although accurate, seems to alter the factual nature of the question.  Replacing it with something like \"required\" might improve that.  Also, the phrasing sounds as though it's attempting to bias the reader against the companies.  Alternate phrasing: \"Should companies be required to pay for the costs of any environmental pollution resulting from their business activities?\"\n",
    "* b) Yes - Appeals to the concept of fairness, almost implying that the current state is unfair.  Instead: \"Given 18 year olds ..., do you think they should also be allowed to purchase and drink alcohol?\""
   ]
  },
  {
   "cell_type": "markdown",
   "metadata": {},
   "source": [
    "## 12.27 \n",
    "\n",
    "### Answers\n",
    "\n",
    "* a) depending on desired population, may exclude unlisted phones; miss peopl not at home during those times\n",
    "* b) random digit dialing (within a specified range of numbers appropriate for desired population)\n",
    "* c) those where _someone_ is home during the day; excludes households where no-one's home during the day, doesn't have a listed number, etc.\n",
    "* d) helps to resolve the concern around people not home during planned call hours\n",
    "* e) helps randomization process; might still exclude people based on time of call; people with cell phones having different area code, etc."
   ]
  },
  {
   "cell_type": "markdown",
   "metadata": {},
   "source": [
    "## 12.29 \n",
    "\n",
    "### Answers\n",
    "\n",
    "* a) 3 hands, 5 fingers\n",
    "* b) estimates the true length of my arm.  population is all measurements of my arm.\n",
    "* c) population is all arm measurements of myself and my 9 friends.  parameter is the average arm measurement\n",
    "* d) no, no - arm length varies widely -- probably more than the measurement of 10 different people would easily represent.  if the 10 people have a wide range of arm lenghts, it might be a better representation\n"
   ]
  },
  {
   "cell_type": "markdown",
   "metadata": {},
   "source": [
    "## 12.31\n",
    "\n",
    "### Answers\n",
    "\n",
    "* a) use a simple random sampling strategy, to select 10 random orders from the 120; \n",
    "* b) perform stratified sampling - divide into wholesale and retail transactions; randomly select from each based on each groups proportion within the entire set."
   ]
  },
  {
   "cell_type": "markdown",
   "metadata": {},
   "source": [
    "## 12.33 \n",
    "\n",
    "### Answers\n",
    "\n",
    "* assign numbers 1 to 20 to the cases, randomly select three numbers and pick the case corrsponding to each; assign numbers 1 to 12 to the jars in each case, randomly select a number, and pick the corresponding jar\n",
    "* assign 1 to 12 to the jars- use a random number generation technique to pick a random number between 1 and 12.  Pick the corresponding jar\n",
    "* yes."
   ]
  },
  {
   "cell_type": "markdown",
   "metadata": {},
   "source": [
    "## 12.35 \n",
    "\n",
    "### Answers\n",
    "\n",
    "* a) It depends on how representative the doctors that advertise in the yellow pages are of _all_ local doctors -- assumption is that it's not representative\n",
    "* b) This is probably a little _more_ representative, in that the % of local businesses that advertise in the yellow pages is probably higher than the % of doctors doing so."
   ]
  }
 ],
 "metadata": {
  "kernelspec": {
   "display_name": "Python 3",
   "language": "python",
   "name": "python3"
  },
  "language_info": {
   "codemirror_mode": {
    "name": "ipython",
    "version": 3
   },
   "file_extension": ".py",
   "mimetype": "text/x-python",
   "name": "python",
   "nbconvert_exporter": "python",
   "pygments_lexer": "ipython3",
   "version": "3.5.2"
  }
 },
 "nbformat": 4,
 "nbformat_minor": 2
}
