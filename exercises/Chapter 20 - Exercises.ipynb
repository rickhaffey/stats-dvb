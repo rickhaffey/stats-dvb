{
 "cells": [
  {
   "cell_type": "markdown",
   "metadata": {},
   "source": [
    "# Chapter 20 - Exercises"
   ]
  },
  {
   "cell_type": "code",
   "execution_count": 2,
   "metadata": {
    "collapsed": true
   },
   "outputs": [],
   "source": [
    "import math\n",
    "from scipy.stats import norm"
   ]
  },
  {
   "cell_type": "markdown",
   "metadata": {},
   "source": [
    "## 20.1\n",
    "\n",
    "### Answers\n",
    "\n",
    "* a)\n",
    "    * H0: p = 30%\n",
    "    * HA: p < 30%\n",
    "* b)\n",
    "    * H0: p = 0.5\n",
    "    * HA: p <> 0.5\n",
    "* c)\n",
    "    * H0: p = 0.2\n",
    "    * HA: p > 0.2"
   ]
  },
  {
   "cell_type": "markdown",
   "metadata": {},
   "source": [
    "## 20.3\n",
    "\n",
    "### Answers\n",
    "\n",
    "* (D)"
   ]
  },
  {
   "cell_type": "markdown",
   "metadata": {},
   "source": [
    "## 20.5\n",
    "\n",
    "### Answers\n",
    "\n",
    "* no - There's a 27% chance that natural sampling variation would lead to the obtained results when the new formula has the same effectiveness as the old formula.  But this doesn't provide evidence that they are the same effectiveness.  We fail to reject H0, but we don't _accept_ it as a result of this."
   ]
  },
  {
   "cell_type": "markdown",
   "metadata": {},
   "source": [
    "## 20.7\n",
    "\n",
    "### Answers\n",
    "\n",
    "* a) No: That particular outcome could happen 25% of the time purely due to chance.\n",
    "* b) 12.5%\n",
    "* c) No: The inability of people to control the outcome of a coin toss is fairly well established -- I'd expect stronger evidence to convince me otherwise.\n",
    "* d) 7 - at this point, the P-value is < 0.01"
   ]
  },
  {
   "cell_type": "markdown",
   "metadata": {},
   "source": [
    "## 20.9\n",
    "\n",
    "### Answers\n",
    "\n",
    "* HA should b: p < 0.96\n",
    "* sd should be calculated using the H0 p (0.96) not 0.94\n",
    "* P-Value of 0.12 isn't \"strong evidence\"\n",
    "* this should use a one-sided alternative: we only care about results 0.96 or greater\n",
    "* failure condition not met: 0.04 * 200 = 8 < 10"
   ]
  },
  {
   "cell_type": "markdown",
   "metadata": {},
   "source": [
    "## 20.11\n",
    "\n",
    "### Answers\n",
    "\n",
    "* a) \n",
    "  * H0: p = 0.3\n",
    "  * HA: p > 0.3\n",
    "* b) \n",
    "  * assume his customers are randomly sampled\n",
    "  * expect 24 successes / 56 failures - ok\n",
    "  * presumably less than 10% of entire population\n",
    "* c) \n",
    "  * sd = 0.0512\n",
    "  * p-value = 0.232\n",
    "* d) \n",
    "  * There's a 23.2% chance that natural sampling variation would produce results these good or better, even if his true success rate were 30% (i.e. no better than that of the typical approach for locating a well).\n",
    "* e)\n",
    "  * We fail to reject the null hypothesis -- the results don't provide enough evidence to support his claim."
   ]
  },
  {
   "cell_type": "code",
   "execution_count": 9,
   "metadata": {},
   "outputs": [
    {
     "name": "stdout",
     "output_type": "stream",
     "text": [
      "p_hat: 0.3375\n",
      "sd: 0.05123475382979799\n",
      "z: 0.7319250547114006\n",
      "p-value: 0.2321071563855155\n"
     ]
    }
   ],
   "source": [
    "n = 80\n",
    "p = 0.3\n",
    "p_hat = 27 / n\n",
    "sd = math.sqrt(p * (1 - p) / n)\n",
    "print(\"p_hat: {}\".format(p_hat))\n",
    "print(\"sd: {}\".format(sd))\n",
    "\n",
    "z = (p_hat - p) / sd\n",
    "print(\"z: {}\".format(z))\n",
    "\n",
    "p_value = 1 - norm.cdf(z, 0, 1)\n",
    "print(\"p-value: {}\".format(p_value))"
   ]
  },
  {
   "cell_type": "markdown",
   "metadata": {},
   "source": [
    "## 20.13\n",
    "\n",
    "### Answers\n",
    "\n",
    "* "
   ]
  },
  {
   "cell_type": "markdown",
   "metadata": {},
   "source": [
    "## \n",
    "\n",
    "### Answers\n",
    "\n",
    "* "
   ]
  },
  {
   "cell_type": "markdown",
   "metadata": {},
   "source": [
    "## \n",
    "\n",
    "### Answers\n",
    "\n",
    "* "
   ]
  },
  {
   "cell_type": "markdown",
   "metadata": {},
   "source": [
    "## \n",
    "\n",
    "### Answers\n",
    "\n",
    "* "
   ]
  },
  {
   "cell_type": "markdown",
   "metadata": {},
   "source": [
    "## \n",
    "\n",
    "### Answers\n",
    "\n",
    "* "
   ]
  }
 ],
 "metadata": {
  "kernelspec": {
   "display_name": "Python 3",
   "language": "python",
   "name": "python3"
  },
  "language_info": {
   "codemirror_mode": {
    "name": "ipython",
    "version": 3
   },
   "file_extension": ".py",
   "mimetype": "text/x-python",
   "name": "python",
   "nbconvert_exporter": "python",
   "pygments_lexer": "ipython3",
   "version": "3.5.2"
  }
 },
 "nbformat": 4,
 "nbformat_minor": 2
}
