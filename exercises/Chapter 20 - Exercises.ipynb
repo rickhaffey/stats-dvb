{
 "cells": [
  {
   "cell_type": "markdown",
   "metadata": {},
   "source": [
    "# Chapter 20 - Exercises"
   ]
  },
  {
   "cell_type": "code",
   "execution_count": 1,
   "metadata": {
    "collapsed": true
   },
   "outputs": [],
   "source": [
    "import math\n",
    "from scipy.stats import norm"
   ]
  },
  {
   "cell_type": "markdown",
   "metadata": {},
   "source": [
    "## 20.1\n",
    "\n",
    "### Answers\n",
    "\n",
    "* a)\n",
    "    * H0: p = 30%\n",
    "    * HA: p < 30%\n",
    "* b)\n",
    "    * H0: p = 0.5\n",
    "    * HA: p <> 0.5\n",
    "* c)\n",
    "    * H0: p = 0.2\n",
    "    * HA: p > 0.2"
   ]
  },
  {
   "cell_type": "markdown",
   "metadata": {},
   "source": [
    "## 20.3\n",
    "\n",
    "### Answers\n",
    "\n",
    "* (D)"
   ]
  },
  {
   "cell_type": "markdown",
   "metadata": {},
   "source": [
    "## 20.5\n",
    "\n",
    "### Answers\n",
    "\n",
    "* no - There's a 27% chance that natural sampling variation would lead to the obtained results when the new formula has the same effectiveness as the old formula.  But this doesn't provide evidence that they are the same effectiveness.  We fail to reject H0, but we don't _accept_ it as a result of this."
   ]
  },
  {
   "cell_type": "markdown",
   "metadata": {},
   "source": [
    "## 20.7\n",
    "\n",
    "### Answers\n",
    "\n",
    "* a) No: That particular outcome could happen 25% of the time purely due to chance.\n",
    "* b) 12.5%\n",
    "* c) No: The inability of people to control the outcome of a coin toss is fairly well established -- I'd expect stronger evidence to convince me otherwise.\n",
    "* d) 7 - at this point, the P-value is < 0.01"
   ]
  },
  {
   "cell_type": "markdown",
   "metadata": {},
   "source": [
    "## 20.9\n",
    "\n",
    "### Answers\n",
    "\n",
    "* HA should b: p < 0.96\n",
    "* sd should be calculated using the H0 p (0.96) not 0.94\n",
    "* P-Value of 0.12 isn't \"strong evidence\"\n",
    "* this should use a one-sided alternative: we only care about results 0.96 or greater\n",
    "* failure condition not met: 0.04 * 200 = 8 < 10"
   ]
  },
  {
   "cell_type": "markdown",
   "metadata": {},
   "source": [
    "## 20.11\n",
    "\n",
    "### Answers\n",
    "\n",
    "* a) \n",
    "  * H0: p = 0.3\n",
    "  * HA: p > 0.3\n",
    "* b) \n",
    "  * assume his customers are randomly sampled\n",
    "  * expect 24 successes / 56 failures - ok\n",
    "  * presumably less than 10% of entire population\n",
    "* c) \n",
    "  * sd = 0.0512\n",
    "  * p-value = 0.232\n",
    "* d) \n",
    "  * There's a 23.2% chance that natural sampling variation would produce results these good or better, even if his true success rate were 30% (i.e. no better than that of the typical approach for locating a well).\n",
    "* e)\n",
    "  * We fail to reject the null hypothesis -- the results don't provide enough evidence to support his claim."
   ]
  },
  {
   "cell_type": "code",
   "execution_count": 9,
   "metadata": {},
   "outputs": [
    {
     "name": "stdout",
     "output_type": "stream",
     "text": [
      "p_hat: 0.3375\n",
      "sd: 0.05123475382979799\n",
      "z: 0.7319250547114006\n",
      "p-value: 0.2321071563855155\n"
     ]
    }
   ],
   "source": [
    "n = 80\n",
    "p = 0.3\n",
    "p_hat = 27 / n\n",
    "sd = math.sqrt(p * (1 - p) / n)\n",
    "print(\"p_hat: {}\".format(p_hat))\n",
    "print(\"sd: {}\".format(sd))\n",
    "\n",
    "z = (p_hat - p) / sd\n",
    "print(\"z: {}\".format(z))\n",
    "\n",
    "p_value = 1 - norm.cdf(z, 0, 1)\n",
    "print(\"p-value: {}\".format(p_value))"
   ]
  },
  {
   "cell_type": "markdown",
   "metadata": {},
   "source": [
    "## 20.13\n",
    "\n",
    "### Answers\n",
    "\n",
    "* a)\n",
    "  * H0: p = 0.34\n",
    "  * HA: p < 0.34\n",
    "* b) we'll assume students are independent wrt attendance; assume they are randomly selected; 8302 should be less than 10% of all students nationally; we can expect >= 10 successes and failures given sample size\n",
    "* c) see below\n",
    "* There's only a 2.7% chance of normal sampling variability leading to results that differ this much (or more) under the conditions of the null hypothesis (i.e. no difference).  As a result, this provides evidence that there _is_ a change in the attendance rate.\n",
    "* Appears to be statistically significant, but it's not clear whether this has practical significance.  The actual change is very low."
   ]
  },
  {
   "cell_type": "code",
   "execution_count": 6,
   "metadata": {},
   "outputs": [
    {
     "name": "stdout",
     "output_type": "stream",
     "text": [
      "sd: 0.005199002924996011\n",
      "z: -1.9234457345506653\n",
      "pValue: 0.027212047670411802\n"
     ]
    }
   ],
   "source": [
    "n = 8302\n",
    "p = 0.34\n",
    "pHat = 0.33\n",
    "\n",
    "sd = math.sqrt(p * (1 - p) / n)\n",
    "z = (pHat - p) / sd\n",
    "pValue = norm.cdf(z, 0, 1)\n",
    "\n",
    "print(\"sd: {}\\nz: {}\\npValue: {}\".format(sd, z, pValue))"
   ]
  },
  {
   "cell_type": "markdown",
   "metadata": {},
   "source": [
    "## 20.15\n",
    "\n",
    "### Answers\n",
    "\n",
    "* a)\n",
    "  * H0: p = 0.05\n",
    "  * HA: p < 0.05\n",
    "* b) \n",
    "  * random sample, 100K - not sure if this is < 10% of entire pop; should have >= 10 success/failures\n",
    "* c) yes - P-Value is < 0.001 => supports claim of a potential drop in rate"
   ]
  },
  {
   "cell_type": "code",
   "execution_count": 11,
   "metadata": {},
   "outputs": [
    {
     "name": "stdout",
     "output_type": "stream",
     "text": [
      "pHat: 0.04781\n",
      "sd: 0.0006892024376045111\n",
      "z: -3.1775859754818576\n",
      "pValue: 0.0007425332600565135\n"
     ]
    }
   ],
   "source": [
    "n = 100000\n",
    "nd = 4781\n",
    "p = 0.05\n",
    "pHat = nd / n\n",
    "\n",
    "sd = math.sqrt(p * (1 - p) / n)\n",
    "z = (pHat - p) / sd\n",
    "pValue = norm.cdf(z, 0, 1)\n",
    "\n",
    "print(\"pHat: {}\\nsd: {}\\nz: {}\\npValue: {}\".format(pHat, sd, z, pValue))"
   ]
  },
  {
   "cell_type": "markdown",
   "metadata": {},
   "source": [
    "## 20.17\n",
    "\n",
    "### Answers\n",
    "\n",
    "* a)\n",
    "  * H0: p = 0.63\n",
    "  * HA: p > 0.63\n",
    "* b) problem states representative (i.e. random vs biased condition met); assume independent; less than 10% of pop.; 240 X .63 and 240 X .37 are both > 10\n",
    "* c) No - P-Value = 0.06; fail to reject the null hypothesis at significance of alpha = 0.05"
   ]
  },
  {
   "cell_type": "code",
   "execution_count": 10,
   "metadata": {},
   "outputs": [
    {
     "name": "stdout",
     "output_type": "stream",
     "text": [
      "pHat: 0.6791666666666667\n",
      "sd: 0.031164884084494842\n",
      "z: 1.5776303397556386\n",
      "pValue: 0.05732527904291429\n"
     ]
    }
   ],
   "source": [
    "p = 0.63\n",
    "n = 240\n",
    "nx = 163\n",
    "pHat = nx / n\n",
    "\n",
    "sd = math.sqrt(p * (1 - p) / n)\n",
    "z = (pHat - p) / sd\n",
    "pValue = 1 - norm.cdf(z, 0, 1)\n",
    "\n",
    "print(\"pHat: {}\\nsd: {}\\nz: {}\\npValue: {}\".format(pHat, sd, z, pValue))"
   ]
  },
  {
   "cell_type": "markdown",
   "metadata": {},
   "source": [
    "## 20.19\n",
    "\n",
    "### Answers\n",
    "\n",
    "* H0: p = 0.20\n",
    "* HA: p > 0.20\n",
    "* conditions aren't met: \n",
    "  * sample size (22) is greater than 10% of entire population (150)\n",
    "  * 22 * .2 = 4.4 < 10"
   ]
  },
  {
   "cell_type": "markdown",
   "metadata": {},
   "source": [
    "## 20.21\n",
    "\n",
    "### Answers\n",
    "\n",
    "* H0: p = 0.03\n",
    "* HA: p <> 0.03\n",
    "* conditions met: self-selected; independent, < 10% of entire pop; at least 10 successes and failures in sample\n",
    "  * since not randomly selected, this may lead to biased results\n",
    "* P-Value (2-alternative test) = 0.0557 => reject null hypothesis; provides evidence that the rate of twins deliveries to teenagers at this hospital is different from the national average for all mothers"
   ]
  },
  {
   "cell_type": "code",
   "execution_count": 19,
   "metadata": {},
   "outputs": [
    {
     "name": "stdout",
     "output_type": "stream",
     "text": [
      "pHat: 0.014925373134328358\n",
      "sd: 0.007876985991835013\n",
      "z: -1.9137557031709123\n",
      "pValue: 0.05565137792171398\n"
     ]
    }
   ],
   "source": [
    "p = 0.03\n",
    "\n",
    "n_samp = 469\n",
    "nx = 7\n",
    "\n",
    "pHat = nx / n_samp\n",
    "\n",
    "sd = math.sqrt(p * (1 - p) / n_samp)\n",
    "z = (pHat - p) / sd\n",
    "pValue = 2 * norm.cdf(z, 0, 1)\n",
    "\n",
    "print(\"pHat: {}\\nsd: {}\\nz: {}\\npValue: {}\".format(pHat, sd, z, pValue))"
   ]
  },
  {
   "cell_type": "markdown",
   "metadata": {},
   "source": [
    "## 20.23\n",
    "\n",
    "### Answers\n",
    "\n",
    "* "
   ]
  },
  {
   "cell_type": "markdown",
   "metadata": {},
   "source": [
    "## \n",
    "\n",
    "### Answers\n",
    "\n",
    "* "
   ]
  },
  {
   "cell_type": "markdown",
   "metadata": {},
   "source": [
    "## \n",
    "\n",
    "### Answers\n",
    "\n",
    "* "
   ]
  },
  {
   "cell_type": "markdown",
   "metadata": {},
   "source": [
    "## \n",
    "\n",
    "### Answers\n",
    "\n",
    "* "
   ]
  },
  {
   "cell_type": "markdown",
   "metadata": {},
   "source": [
    "## \n",
    "\n",
    "### Answers\n",
    "\n",
    "* "
   ]
  },
  {
   "cell_type": "markdown",
   "metadata": {},
   "source": [
    "## \n",
    "\n",
    "### Answers\n",
    "\n",
    "* "
   ]
  }
 ],
 "metadata": {
  "kernelspec": {
   "display_name": "Python 3",
   "language": "python",
   "name": "python3"
  },
  "language_info": {
   "codemirror_mode": {
    "name": "ipython",
    "version": 3
   },
   "file_extension": ".py",
   "mimetype": "text/x-python",
   "name": "python",
   "nbconvert_exporter": "python",
   "pygments_lexer": "ipython3",
   "version": "3.5.2"
  }
 },
 "nbformat": 4,
 "nbformat_minor": 2
}
