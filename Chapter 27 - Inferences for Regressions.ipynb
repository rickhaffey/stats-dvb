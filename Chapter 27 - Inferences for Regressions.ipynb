{
 "cells": [
  {
   "cell_type": "markdown",
   "metadata": {},
   "source": [
    "# Chapter 27 - Inferences for Regressions"
   ]
  },
  {
   "cell_type": "markdown",
   "metadata": {},
   "source": [
    "## The Population and the Sample\n",
    "\n",
    "* imagine an idealized regressions line\n",
    "* model assumes that the _means_ of the distributions of the $y$ variable for each $x$ value fall along the line, even though the individuals are scattered around it\n",
    "* we write the idealized line with Greek letters and consider the coefficients (the slope and intercept) to be _parameters_: $\\beta_0$ is the intercept and $\\beta_1$ is the slope.  Corresponding to our fitted line of $\\hat{y} = \\beta_0 + \\beta_1 x$, we write\n",
    "\n",
    "\\begin{equation}\n",
    "\\mu_y = \\beta_0 + \\beta_1 x\n",
    "\\end{equation}"
   ]
  },
  {
   "cell_type": "markdown",
   "metadata": {},
   "source": [
    "## Assumptions and Conditions\n",
    "\n",
    "1. Linearity Assumption\n",
    "    * **straight enough condition**\n",
    "2. Independence Assumption\n",
    "    * **randomization condition**\n",
    "3. Equal Variance Assumption\n",
    "    * **does the plot thicken? condition**\n",
    "4. Normal Population Assumption\n",
    "    * **nearly normal condition**\n",
    "    * **outlier condition**"
   ]
  },
  {
   "cell_type": "markdown",
   "metadata": {},
   "source": [
    "## Which Come First: The Conditions or the Residuals?\n",
    "\n",
    "* Work through the following steps, moving to the subsequent step only when the prior steps \"pass\":\n",
    "\n",
    "\n",
    "1. make a scatterplot fo the data; check straight enough condition; re-express if needed\n",
    "2. Fit a regression and find the residuals, $e$, and predicted values, $\\hat{y}$\n",
    "3. Make a scatterplot of the residuals against $x$ or against the predicted values\n",
    "4. If data are measured over time, plot the residuals over time to check for evidence of patterns that might suggest they are not independent.\n",
    "5. Make a histogram and Normal probability plot fo the residuals to check the nearly normal condition.\n",
    "6. Continue with inference."
   ]
  },
  {
   "cell_type": "markdown",
   "metadata": {},
   "source": [
    "## Step-by-Step Example : Regression Inference\n",
    "\n",
    "* Plan:\n",
    "  * specify the question of interest\n",
    "  * name the variables and report the W's\n",
    "  * identify the parameters you want to estimate\n",
    "* Model\n",
    "  * think about the assumptions and check the conditions\n",
    "  * make pictures: scatterplot, residuals plot, either histogram or Normal probability plot of the residuals\n",
    "  * choose your method\n",
    "* Mechanics\n",
    "  * use tech to generate the regression\n",
    "  * write the regression equation\n",
    "* Conclusion:\n",
    "  * interpret your results in context"
   ]
  },
  {
   "cell_type": "markdown",
   "metadata": {},
   "source": [
    "## Intuition About Regression Inference\n",
    "\n",
    "What aspects of the data affect how much the slope (and intercept) vary from sample to sample?\n",
    "\n",
    "* the spread around the line is measured with the **residual standard deviation**, $s_e$\n",
    "\n",
    "\\begin{equation}\n",
    "s_e = \\sqrt{\n",
    "  \\frac{\n",
    "    \\sum{\n",
    "    (y - \\hat{y})^2\n",
    "    }\n",
    "  }{n - 2}\n",
    "}\n",
    "\\end{equation}\n",
    "\n",
    "* spread of the x's\n",
    "* sample size"
   ]
  },
  {
   "cell_type": "markdown",
   "metadata": {},
   "source": [
    "## Standard Error for the Slope\n",
    "\n",
    "* formula for standard error:\n",
    "\n",
    "\\begin{equation}\n",
    "SE(b_1) = \\frac{\n",
    "  s_e\n",
    "}{\n",
    "  \\sqrt{n - 1 s_x}\n",
    "}\n",
    "\\end{equation}\n",
    "\n",
    "* when we standardize the slopes by subtracting the model mean and dividing by their standard error, we get a Student's $t$-model, this time with $n-2$ degrees of freedom:\n",
    "\n",
    "\\begin{equation}\n",
    "\\frac{\n",
    "b_1 - \\beta_1 \n",
    "}\n",
    "{\n",
    "SE(b_1)\n",
    "}\n",
    "\\sim t_{n - 2}\n",
    "\\end{equation}\n",
    "\n",
    "### A Sampling Distribution for Regression Slopes\n",
    "\n",
    "When the conditions are met, the standardized estimated regression slope,\n",
    "\n",
    "\\begin{equation}\n",
    "t = \\frac{\n",
    "b_1 - \\beta_1 \n",
    "}\n",
    "{\n",
    "SE(b_1)\n",
    "}\n",
    "\\end{equation}\n",
    "\n",
    "follows a Student's $t$-model with $n-2$ degrees of freedom.  We estimate the stanard error with\n",
    "\n",
    "\\begin{equation}\n",
    "SE(b_1) = \\frac{\n",
    "  s_e\n",
    "}{\n",
    "  \\sqrt{n - 1 s_x}\n",
    "}\n",
    "\\end{equation}\n",
    "\n",
    "where\n",
    "\n",
    "\\begin{equation}\n",
    "s_e = \\sqrt{\n",
    "  \\frac{\n",
    "    \\sum{\n",
    "    (y - \\hat{y})^2\n",
    "    }\n",
    "  }{n - 2}\n",
    "}\n",
    "\\end{equation}\n",
    "\n",
    "$n$ is the number of data values, and $s_x$ is the ordinary standard deviation of the $x$-values."
   ]
  },
  {
   "cell_type": "markdown",
   "metadata": {},
   "source": [
    "## What About the Intercept?"
   ]
  },
  {
   "cell_type": "markdown",
   "metadata": {},
   "source": [
    "## Regression Inference\n",
    "\n",
    "To test $H_0: \\beta_1 = 0$, we find\n",
    "\n",
    "\\begin{equation}\n",
    "t_{n-2} = \\frac {b_1 - 0}  {SE(b_1)}\n",
    "\\end{equation}\n",
    "\n",
    "so a 95% **confidence interval for $\\beta$** is\n",
    "\n",
    "\\begin{equation}\n",
    "b_1 \\pm t^*_{n-2} \\times SE(b_1)\n",
    "\\end{equation}"
   ]
  },
  {
   "cell_type": "markdown",
   "metadata": {},
   "source": [
    "## Another Example"
   ]
  },
  {
   "cell_type": "markdown",
   "metadata": {},
   "source": [
    "## Step-by-Step Example: A Regression Slope $t$-Test\n",
    "\n",
    "* Plan\n",
    "  * state what you want to know\n",
    "  * identify the _parameter_ you wish to estimate \n",
    "  * identify the variables and review the W's\n",
    "* Hypotheses\n",
    "  * write your null and alternative hypotheses\n",
    "* Model\n",
    "  * think about the assumptions and check the conditions\n",
    "  * make pictures; plot the residuals against predicted values; for time series, plot residuals against time\n",
    "  * state the sampling distribution model\n",
    "  * choose your method\n",
    "* Mechanics\n",
    "  * run regression via tech\n",
    "  * get the P-values generated\n",
    "* Conclusion\n",
    "  * link the P-value to your decision and state your concolusion in the proper context\n",
    "* Show\n",
    "  * create a confidence interval for the true slope\n",
    "* Tell\n",
    "  * interpret the interval"
   ]
  },
  {
   "cell_type": "markdown",
   "metadata": {},
   "source": [
    "## Standard Errors for Predicted Values\n",
    "\n",
    "* for predicting mean\n",
    "\n",
    "\\begin{equation}\n",
    "SE(\\hat{\\mu}_{\\nu}) =\n",
    "\\sqrt{\n",
    "SE^2(b_1)\\cdot(x_\\nu - \\bar{x})^2 + \\frac{s^2_e}{n}\n",
    "}\n",
    "\\end{equation}\n",
    "\n",
    "* for predicting values of individuals\n",
    "\n",
    "\\begin{equation}\n",
    "SE(\\hat{y}_{\\nu}) =\n",
    "\\sqrt{\n",
    "SE^2(b_1)\\cdot(x_\\nu - \\bar{x})^2 + \\frac{s^2_e}{n} + s^2_e\n",
    "}\n",
    "\\end{equation}\n"
   ]
  },
  {
   "cell_type": "code",
   "execution_count": null,
   "metadata": {
    "collapsed": true
   },
   "outputs": [],
   "source": []
  }
 ],
 "metadata": {
  "kernelspec": {
   "display_name": "Python 3",
   "language": "python",
   "name": "python3"
  },
  "language_info": {
   "codemirror_mode": {
    "name": "ipython",
    "version": 3
   },
   "file_extension": ".py",
   "mimetype": "text/x-python",
   "name": "python",
   "nbconvert_exporter": "python",
   "pygments_lexer": "ipython3",
   "version": "3.5.2"
  }
 },
 "nbformat": 4,
 "nbformat_minor": 2
}
