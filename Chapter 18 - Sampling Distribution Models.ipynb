{
 "cells": [
  {
   "cell_type": "markdown",
   "metadata": {},
   "source": [
    "# Chapter 18 - Sampling Distribution Models"
   ]
  },
  {
   "cell_type": "markdown",
   "metadata": {},
   "source": [
    "## The Central Limit Theorem for Sample Proportions\n",
    "\n",
    "* **sampling distribution**: a representation of all values of a summary statistic obtained from _all possible samples_ of a population\n",
    "* a **sampling distribution model** for how a proportion (summary statistic) varies from sample to sample allows us to quantify that variation and to talk about how likely it is that we'd observe a sample proportion in any particular interval.\n",
    "* **sampling error**: variability that you would expect to see from one sample to another; aka \"sampling variability\" (not really _error_)"
   ]
  },
  {
   "cell_type": "markdown",
   "metadata": {},
   "source": [
    "## How Good is the Normal Model?\n",
    "\n",
    "* The sampling distribution of a sample proportion can be modeled weel by a Normal model\n",
    "* This representation improves as sample size increases."
   ]
  },
  {
   "cell_type": "markdown",
   "metadata": {},
   "source": [
    "## Assumptions and Conditions\n",
    "\n",
    "* Two assumptions must be made to use the sampling distribution model for sample proportions:\n",
    "    * Independence:  The sample value smust be independent of each other.\n",
    "    * Sample Size: The sample size, $n$, must be large enough.\n",
    "    \n",
    "* Check the following conditions that provide evidence to support the assumptions:\n",
    "    * Randomization Condition:\n",
    "      - for an experiment: random assignment to treatments,\n",
    "      - for a survey: SRS,\n",
    "      - etc.\n",
    "    * 10% Condition: Sample size, $n$, must be no larger than 10% of the population.\n",
    "    * Success / Failure Condition: Sample size must support expectation of at least 10 successes and 10 failures."
   ]
  },
  {
   "cell_type": "markdown",
   "metadata": {},
   "source": [
    "## A Sampling Distribution Model for a Proportion\n",
    "\n",
    "* We can think of the sample proportion as a random variable taking on a different value in each random sample.\n",
    "* We now see it as a random variable quantity that has a probability distribution, with a model for that distribution: the **sampling distribution model** for the proportion:\n",
    "\n",
    "> Provided that the sampled values are independent and the sample size is large enough, the sampling distribution of $\\hat{p}$ is modeled by a Normal model with mean $\\mu(\\hat{p})$ and standard deviation $SD(\\hat{p}) = \\sqrt{\\frac{pq}{n}}$"
   ]
  },
  {
   "cell_type": "markdown",
   "metadata": {},
   "source": [
    "## Step-by-Step Example: Working with Sampling Distribution Models for Proportions\n",
    "\n",
    "* Plan: State what we want to know\n",
    "* Model: Think about the assumptions and check the conditions\n",
    "* State the parameters and the sampling distribution model\n",
    "* Plot: make a picture; sketch the model and shade the area we're interested in\n",
    "* Mechanics: use the standard deviation as a ruler to find the z-score of the cutoff proportion\n",
    "* Find the resulting probability\n",
    "* Conclusion: interpret the probability in the context of the question"
   ]
  },
  {
   "cell_type": "markdown",
   "metadata": {},
   "source": [
    "## What About Quantitative Data?\n",
    "\n",
    "### Simulating the Sampling Distribution of a Mean"
   ]
  },
  {
   "cell_type": "markdown",
   "metadata": {},
   "source": [
    "## The Central Limit Theorem: The Fundamental Theorem of Statistics\n",
    "\n",
    "The sampling distribution of _any_ mean becomes more nearly normal as the sample size grows.  All we need is for the observations to be independent and collected with randomization.  We aren't concerned about the shape of the population distribution.  \n",
    "\n",
    "\n",
    "> **The Central Limit Theorem (CLT)**\n",
    "> The mean of a random sample is a random variable whose sampling distribution can be approximated by a Normal model.  The larger the sample, the better the approximation will be."
   ]
  },
  {
   "cell_type": "markdown",
   "metadata": {},
   "source": [
    "## Assumptions and Conditions\n",
    "\n",
    "Essentially the same as those for modelling proportions:\n",
    "\n",
    "* Independence\n",
    "* Sample Size"
   ]
  },
  {
   "cell_type": "markdown",
   "metadata": {},
   "source": [
    "## But Which Normal?\n",
    "\n",
    "> **The Sampling Distribution Model for a Mean (CLT)**\n",
    "> When a random sample is drawn from any population with mean $\\mu$ and standard deviation $\\sigma$, its sample mean, $\\bar{y}$, has a sampling distribution with the same mean $\\mu$ but whose standard deviation is $\\frac{\\sigma}{\\sqrt{n}}$ (and we write $\\sigma(\\bar{y}) = SD(\\bar{y}) = \\frac{\\sigma}{\\sqrt{n}}$).  No matter what population the random sample comes from, the _shape_ of the sampling distribution is approximately Normal as long as the sample size is large enough.  The larger the sample used, the more closely the Normal approximates the sampling distribution for the mean."
   ]
  },
  {
   "cell_type": "markdown",
   "metadata": {},
   "source": [
    "## Step-by-Step Example: Working with the Sampling Distribution Model for the Mean\n",
    "\n",
    "* Plan: state what we want to know\n",
    "* Model: Think about the assumptions and check the conditions.\n",
    "* State the parameters and the sampling model.\n",
    "* Plot: Make a picture.  Sketch the model and shade the area we're interested in.\n",
    "* Mechanics: Use the standard deviation as a ruler to find the z-score of the cutoff mean.\n",
    "* Find the resulting probability\n",
    "* Conclusion: interpret your result in the proper context"
   ]
  },
  {
   "cell_type": "markdown",
   "metadata": {},
   "source": [
    "## About Variation\n",
    "\n",
    "* The $\\sqrt{n}$ in the denominator highlights the intuition that the variability of sample means will decrease as the sample size increases."
   ]
  },
  {
   "cell_type": "markdown",
   "metadata": {},
   "source": [
    "## The Real World and the Model World\n",
    "\n",
    "* The Central Limit Theorem doesn't talk about the distribution of the data from the sample.  It talks about the sample _means_ and sample _proportions_ of many different random samples drawn from the same population."
   ]
  },
  {
   "cell_type": "markdown",
   "metadata": {},
   "source": [
    "## Sampling Distribution Models"
   ]
  },
  {
   "cell_type": "markdown",
   "metadata": {},
   "source": [
    "## What Can Go Wrong?\n",
    "\n",
    "* Don't confuse the sampling distribution with the distribution of the sample.\n",
    "* Beware of observations that are not independent.\n",
    "* Watch out for small samples from skewed populations."
   ]
  },
  {
   "cell_type": "markdown",
   "metadata": {},
   "source": [
    "## What Have We Learned?\n",
    "\n",
    "* [p. 449]"
   ]
  }
 ],
 "metadata": {
  "kernelspec": {
   "display_name": "Python 3",
   "language": "python",
   "name": "python3"
  },
  "language_info": {
   "codemirror_mode": {
    "name": "ipython",
    "version": 3
   },
   "file_extension": ".py",
   "mimetype": "text/x-python",
   "name": "python",
   "nbconvert_exporter": "python",
   "pygments_lexer": "ipython3",
   "version": "3.5.2"
  }
 },
 "nbformat": 4,
 "nbformat_minor": 2
}
