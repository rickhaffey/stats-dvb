{
 "cells": [
  {
   "cell_type": "markdown",
   "metadata": {},
   "source": [
    "# Chapter 14 - From Randomness to Probability"
   ]
  },
  {
   "cell_type": "markdown",
   "metadata": {},
   "source": [
    "## Dealing with Random Phenomena\n",
    "\n",
    "* **random phenomenon**: when we know what outcomes _could_ happen, but not which particular values _will_ happen\n",
    "* each occasion upon which we observe a random phenomenon is called a **trial**\n",
    "* at each trail, we note the value of the random phenomenon, and call that the trial's **outcome**\n",
    "* an **event** is a resulting combination of outcomes\n",
    "* the collection of all possible outcomes is called the **sample space**"
   ]
  },
  {
   "cell_type": "markdown",
   "metadata": {},
   "source": [
    "## The Law of Large Numbers\n",
    "\n",
    "* as the number of independent trials increases, the long-run _relative frequency_ of repeated events gets closer and closer to a single value\n",
    "* the value they approach is the **probability** of the event\n",
    "* **empirical probability**: a probability based on the repeated, long-run relative frequency of an event's occurrence"
   ]
  },
  {
   "cell_type": "markdown",
   "metadata": {},
   "source": [
    "## The Nonexistent Law of Averages\n",
    "\n",
    "* an incorrect belief that promises short-term compensation for recent deviations from expected behavior"
   ]
  },
  {
   "cell_type": "markdown",
   "metadata": {},
   "source": [
    "## Modeling robability\n",
    "\n",
    "* **theoretical probability**: a probability based on a mathematical model (e.g. using equally likely outcomes)\n",
    "\n",
    "To calculate the probability of an event with several _equally likely_ outcomes:\n",
    "\n",
    "\\begin{equation}\n",
    "P(\\textbf{A}) = \\frac{\\text{# of outcomes in }\\textbf{A}}{\\text{# of possible outcomes}}\n",
    "\\end{equation}"
   ]
  },
  {
   "cell_type": "markdown",
   "metadata": {},
   "source": [
    "## Personal Probability\n",
    "\n",
    "* **personal probability**: a subjective measure of probability based on personal belief"
   ]
  },
  {
   "cell_type": "markdown",
   "metadata": {},
   "source": [
    "When reasoning through probability problems, use diagrams and pictures (e.g. Venn diagrams) to help clarify concepts."
   ]
  },
  {
   "cell_type": "markdown",
   "metadata": {},
   "source": [
    "## Formal Probability\n",
    "\n",
    "### Axioms\n",
    "\n",
    "* A probability is a number between 0 and 1.  \n",
    "\n",
    "\\begin{equation}\n",
    "\\text{For any event }\\textbf{A}\\text{, } \n",
    "0 \\leq P(\\textbf{A}) \\leq 1\n",
    "\\end{equation}\n",
    "\n",
    "* The set of all possible outcomes of a trial ($\\textbf{S}$) must have probability 1.\n",
    "\n",
    "\\begin{equation}\n",
    "P(\\textbf{S}) = 1\n",
    "\\end{equation}\n",
    "\n",
    "* The set of outcomes that are _not_ in the event $textbf{A}$ is called the **complement** of $\\textbf{A}$, and is denoted $\\textbf{A}^C$.  This leads to the **Complement Rule**:  "
   ]
  },
  {
   "cell_type": "code",
   "execution_count": null,
   "metadata": {
    "collapsed": true
   },
   "outputs": [],
   "source": []
  }
 ],
 "metadata": {
  "kernelspec": {
   "display_name": "Python 3",
   "language": "python",
   "name": "python3"
  },
  "language_info": {
   "codemirror_mode": {
    "name": "ipython",
    "version": 3
   },
   "file_extension": ".py",
   "mimetype": "text/x-python",
   "name": "python",
   "nbconvert_exporter": "python",
   "pygments_lexer": "ipython3",
   "version": "3.5.2"
  }
 },
 "nbformat": 4,
 "nbformat_minor": 2
}
