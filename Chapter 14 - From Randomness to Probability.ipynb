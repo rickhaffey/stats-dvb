{
 "cells": [
  {
   "cell_type": "markdown",
   "metadata": {},
   "source": [
    "# Chapter 14 - From Randomness to Probability"
   ]
  },
  {
   "cell_type": "markdown",
   "metadata": {},
   "source": [
    "## Dealing with Random Phenomena\n",
    "\n",
    "* **random phenomenon**: when we know what outcomes _could_ happen, but not which particular values _will_ happen\n",
    "* each occasion upon which we observe a random phenomenon is called a **trial**\n",
    "* at each trail, we note the value of the random phenomenon, and call that the trial's **outcome**\n",
    "* an **event** is a resulting combination of outcomes\n",
    "* the collection of all possible outcomes is called the **sample space**"
   ]
  },
  {
   "cell_type": "markdown",
   "metadata": {},
   "source": [
    "## The Law of Large Numbers\n",
    "\n",
    "* as the number of independent trials increases, the long-run _relative frequency_ of repeated events gets closer and closer to a single value\n",
    "* the value they approach is the **probability** of the event\n",
    "* **empirical probability**: a probability based on the repeated, long-run relative frequency of an event's occurrence"
   ]
  },
  {
   "cell_type": "markdown",
   "metadata": {},
   "source": [
    "## The Nonexistent Law of Averages\n",
    "\n",
    "* an incorrect belief that promises short-term compensation for recent deviations from expected behavior"
   ]
  },
  {
   "cell_type": "markdown",
   "metadata": {},
   "source": [
    "## Modeling robability\n",
    "\n",
    "* **theoretical probability**: a probability based on a mathematical model (e.g. using equally likely outcomes)\n",
    "\n",
    "To calculate the probability of an event with several _equally likely_ outcomes:\n",
    "\n",
    "\\begin{equation}\n",
    "P(\\textbf{A}) = \\frac{\\text{# of outcomes in }\\textbf{A}}{\\text{# of possible outcomes}}\n",
    "\\end{equation}"
   ]
  },
  {
   "cell_type": "markdown",
   "metadata": {},
   "source": [
    "## Personal Probability\n",
    "\n",
    "* **personal probability**: a subjective measure of probability based on personal belief"
   ]
  },
  {
   "cell_type": "markdown",
   "metadata": {},
   "source": [
    "When reasoning through probability problems, use diagrams and pictures (e.g. Venn diagrams) to help clarify concepts."
   ]
  },
  {
   "cell_type": "markdown",
   "metadata": {},
   "source": [
    "## Formal Probability\n",
    "\n",
    "#### Axiom 1\n",
    "\n",
    "_A probability is a number between 0 and 1_\n",
    "\n",
    "\\begin{equation}\n",
    "\\text{For any event }\\textbf{A}\\text{, }0 \\leq P(\\textbf{A}) \\leq 1\n",
    "\\end{equation}\n",
    "\n",
    "#### Axiom 2 - Probability Assignment Rule\n",
    "\n",
    "_The set of all possible outcomes of a trial, $\\textbf{S}$, must have probability 1._\n",
    "\n",
    "\\begin{equation}\n",
    "P(\\textbf{S}) = 1\n",
    "\\end{equation}\n",
    "\n",
    "#### Axiom 3 - Complement Rule\n",
    "\n",
    "The set of outcomes that are _not_ in the event $\\textbf{A}$ is called the **complement** of $\\textbf{A}$, and is denoted $\\textbf{A}^C$.\n",
    "\n",
    "_The probability of an event occurring is 1 minus the probability that it doesn't occur._\n",
    "\n",
    "\\begin{equation}\n",
    "P(\\textbf{A}) = 1 - P(\\textbf{A}^C)\n",
    "\\end{equation}\n",
    "\n",
    "#### Axiom 4 - Addition Rule\n",
    "\n",
    "**Disjoin** (or **mutually exclusive**) events have no outcomes in common.\n",
    "\n",
    "_For two disjoint events $\\textbf{A}$ and $\\textbf{B}$, the probability that one or the other occurs is the sum of the probabilities fo the two events._\n",
    "\n",
    "\\begin{equation}\n",
    "P(\\textbf{A}\\text{ or }\\textbf{B}) = P(\\textbf{A}) + P(\\textbf{B})\\text{, provided that }\\textbf{A}\\text{ and }\\textbf{B}\\text{ are disjoint.} \n",
    "\\end{equation}\n",
    "\n",
    "#### Axiom 5 - Multiplication Rule\n",
    "\n",
    "_For two independent events $\\textbf{A}$ and $\\textbf{B}$, the probability that both $\\textbf{A}$ and $\\textbf{B}$ occur is the product of the probabilities of the two events._\n",
    "\n",
    "\\begin{equation}\n",
    "P(\\textbf{A}\\text{ and }\\textbf{B}) = P(\\textbf{A}) \\times P(\\textbf{B})\\text{, provided that }\\textbf{A}\\text{ and }\\textbf{B}\\text{ are independent.} \n",
    "\\end{equation}\n"
   ]
  },
  {
   "cell_type": "markdown",
   "metadata": {
    "collapsed": true
   },
   "source": [
    "Note that the phrase \"at least\" is often a tip-off to think about the complement.  Somethign that happens _at least once_ does happen.  Happening at least once is the complement of not happening at all, and that's easier to find."
   ]
  },
  {
   "cell_type": "markdown",
   "metadata": {},
   "source": [
    "## Step-by-Step Example\n",
    "\n",
    "### Probability\n",
    "\n",
    "* Think: \n",
    "  * Consider different ways probability can be determined - empirically, theoretically, using additional info, etc.\n",
    "  * Make sure the probabilities are legitimate\n",
    "  \n",
    "* Plan: Decide which rules to use and check the conditions they require.  Look for phrases that can provide clues as to the rule to apply, such as \"both\" (multiplication rule) or \"at least\" (look at the complement), etc.\n",
    "* Mechanics: Show your work\n",
    "* Conclusion: Interpret your results in the proper context"
   ]
  },
  {
   "cell_type": "markdown",
   "metadata": {
    "collapsed": true
   },
   "source": [
    "## What Can Go Wrong\n",
    "\n",
    "* Beware of probabilities that don't add up to 1.\n",
    "* Don't add probabilities of events if they're not disjoint.\n",
    "* Don't multiply probabilities of events if they're independent.\n",
    "* Don't confuse disjoint and independent."
   ]
  },
  {
   "cell_type": "markdown",
   "metadata": {},
   "source": [
    "## What Have We Learned\n",
    "\n",
    "* [p.349]"
   ]
  }
 ],
 "metadata": {
  "kernelspec": {
   "display_name": "Python 3",
   "language": "python",
   "name": "python3"
  },
  "language_info": {
   "codemirror_mode": {
    "name": "ipython",
    "version": 3
   },
   "file_extension": ".py",
   "mimetype": "text/x-python",
   "name": "python",
   "nbconvert_exporter": "python",
   "pygments_lexer": "ipython3",
   "version": "3.5.2"
  }
 },
 "nbformat": 4,
 "nbformat_minor": 2
}
