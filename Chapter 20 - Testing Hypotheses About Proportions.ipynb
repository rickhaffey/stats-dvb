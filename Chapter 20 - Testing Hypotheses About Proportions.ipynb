{
 "cells": [
  {
   "cell_type": "markdown",
   "metadata": {},
   "source": [
    "# Chapter 20 - Testing Hypotheses About Proportions"
   ]
  },
  {
   "cell_type": "markdown",
   "metadata": {},
   "source": [
    "## Hyptotheses\n",
    "\n",
    "* **hypothesis**: a supposition; a proposition or principle which is supposed or taken for granted, in order to draw a conclusion or inference for proof of the point in question; something not proved, but assumed for the purpose of argument\n",
    "* **null hypothesis**: denoted $H_0$, specifies a population model parameter of interest and proposes a value for that parameter; usually written in the form: $H_0: parameter = hypothesized\\_value$\n",
    "* **alternative hypothesis**: denoted $H_A$, contains teh values of the parameter that we consider plausible if we reject the null hypothesis."
   ]
  },
  {
   "cell_type": "markdown",
   "metadata": {},
   "source": [
    "## A Trial as a Hypothesis Test"
   ]
  },
  {
   "cell_type": "markdown",
   "metadata": {},
   "source": [
    "## P-Values\n",
    "\n",
    "* **P-Value**: the probability of seeing data like these (or something even less likely) _given_ that the null hypothesis is true."
   ]
  },
  {
   "cell_type": "markdown",
   "metadata": {},
   "source": [
    "## What to Do with an \"Innocent\" Defendant"
   ]
  },
  {
   "cell_type": "markdown",
   "metadata": {},
   "source": [
    "## The Reasoning of Hypothesis Testing\n",
    "\n",
    "### 1. Hypotheses\n",
    "\n",
    "* State the null hypothesis and alternate hypothesis\n",
    "\n",
    "### 2. Model\n",
    "\n",
    "* Specify the model you will use to test the null hypothesis and the parameter of interest\n",
    "\n",
    "### 3. Mechanics\n",
    "\n",
    "* Calculate the test statistic from the data\n",
    "\n",
    "### 4. Conclusion\n",
    "\n",
    "* State either that we reject or fail to reject the null hypothesis\n",
    "* Make the statement in-context\n",
    "\n",
    "\n",
    "The _size of the effect_ is always a concern when we test hypotheses.  A good way to look at the **effect size** is to examine a confidence interval."
   ]
  },
  {
   "cell_type": "markdown",
   "metadata": {},
   "source": [
    "## Alternative Alternatives\n",
    "\n",
    "* **two-sided alternative** : equally interested in deviations on either side of the null hypothesis value; the P-value is the probability of deviating in _either_ direction from the null hypothesis value.  ($H_A: p \\ne value$)\n",
    "* **one-sided alternative**: an alternative hypothesis that focuses on deviations from the null hypothesis value in only one direction"
   ]
  },
  {
   "cell_type": "markdown",
   "metadata": {},
   "source": [
    "## Step-by-Step Example: Testing a Hypothesis\n",
    "\n",
    "* Plan: state what you want to know\n",
    "  * define the variables and discuss the W's\n",
    "* Hypotheses: state hypotheses\n",
    "* Model: think about the assumptions and check the appropriate conditions\n",
    "  * specify the sampling distribution model\n",
    "  * state what test you plan to use\n",
    "* Mechanics:\n",
    "  * calculate standard deviation\n",
    "  * calculate z-score\n",
    "  * determine p-value\n",
    "* Conclusion: state your conclusion in context"
   ]
  },
  {
   "cell_type": "markdown",
   "metadata": {},
   "source": [
    "## P-Values and Decisions: What to Tell About a Hypothesis Test\n",
    "\n",
    "* Your conclusion about any null hypothesis should be accompanied by the P-value of the test\n",
    "* Follow your test with a confidence interval for the parameter of interest, to report the size of the effect"
   ]
  },
  {
   "cell_type": "markdown",
   "metadata": {},
   "source": [
    "## Step-by-Step Example: Tests and Intervals\n",
    "\n",
    "* sim. \"Testing a Hypothesis\" above"
   ]
  },
  {
   "cell_type": "markdown",
   "metadata": {},
   "source": [
    "## What Can Go Wrong?\n",
    "\n",
    "* Don't base your null hypothesis on what you see in the data.\n",
    "* Don't base your alternative hypothesis on the data, either.\n",
    "* Don't make your null hypothesis what you want to show to be true.\n",
    "* Don't forget to check the conditions.\n",
    "* Don't accept the null hypothesis.\n",
    "* If you fail to reject the null hypothesis, don't think that a bigger sample would be more likely to lead to rejection."
   ]
  },
  {
   "cell_type": "markdown",
   "metadata": {},
   "source": [
    "## What Have We Learned\n",
    "\n",
    "* [p. 492]"
   ]
  }
 ],
 "metadata": {
  "kernelspec": {
   "display_name": "Python 3",
   "language": "python",
   "name": "python3"
  },
  "language_info": {
   "codemirror_mode": {
    "name": "ipython",
    "version": 3
   },
   "file_extension": ".py",
   "mimetype": "text/x-python",
   "name": "python",
   "nbconvert_exporter": "python",
   "pygments_lexer": "ipython3",
   "version": "3.5.2"
  }
 },
 "nbformat": 4,
 "nbformat_minor": 2
}
