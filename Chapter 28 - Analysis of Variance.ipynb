{
 "cells": [
  {
   "cell_type": "markdown",
   "metadata": {},
   "source": [
    "# Chapter 28 - Analysis of Variance"
   ]
  },
  {
   "cell_type": "markdown",
   "metadata": {},
   "source": [
    "## Are the Means of Several Groups Equal?\n",
    "\n",
    "* multiple (more than two) groups\n",
    "* hypothesis test: is the variation in means bigger than would be expected due to just random fluctuations\n",
    "* new sampling distribution model, called the $F$-model"
   ]
  },
  {
   "cell_type": "markdown",
   "metadata": {},
   "source": [
    "## How Different Are They?\n",
    "\n",
    "$H_0: \\mu_1 = \\mu_2 \\dots = \\mu_n = \\mu$\n",
    "\n",
    "$\\mu$ is an overall mean."
   ]
  },
  {
   "cell_type": "markdown",
   "metadata": {},
   "source": [
    "## The Ruler Within\n",
    "\n",
    "* an estimate of $\\sigma^2$ from the variation _within_ groups\n",
    "  - the variance of the $residuals$ pooled across all groups\n",
    "  - could write it as $s_p^2$\n",
    "  - traditionally called **Error Mean Square** or sometimes the _Within Mean Square_\n",
    "  - denoted as $MS_E$\n",
    "* a _separate_ estimate of $\\sigma^2$ from the variation _between_ the groups\n",
    "  - expect this to estimate $\\sigma^2$ too, _as long as we assume the null hypothesis is true_\n",
    "  - called the **Treatment Mean Square**, or sometimes the _Between Mean Square_\n",
    "  - denoted by $MS_T$"
   ]
  },
  {
   "cell_type": "markdown",
   "metadata": {},
   "source": [
    "## The $F$-statistic\n",
    "\n",
    "* when the null hypothesis is true, $MS_E$ and $MS_T$ estimate $\\sigma^2$, and their ratio should be close to 1.0\n",
    "* when the null hypothesis is false, $MS_T$ will be larger, while $MS_E$ will not be inflated\n",
    "* ratio of $MS_T$ / $MS_E$ can be used for testing the null hypothesis\n",
    "* when $H_0$ is true, the ratio should be around 1.0\n",
    "* if the treatment means really are different, the ratio will tend to be bigger than 1.0\n",
    "* the sampling distribution of $MS_T$ / $MS_E$ is called the **$F$-distribution**, and the corresponding statistic, the **$F$-statistic**\n",
    "* we can compare the statistic with the appropriate $F$-distribution to get a P-value\n",
    "* $F$-statistic ($MS_T / MS_E$), has $k - 1$ and $N - k$ degrees of freedom.\n",
    "* entire analysis is acalled Analysis of Variance, or **ANOVA**"
   ]
  },
  {
   "cell_type": "markdown",
   "metadata": {},
   "source": [
    "## Back to Bacteria"
   ]
  },
  {
   "cell_type": "markdown",
   "metadata": {},
   "source": [
    "## The ANOVA Table\n",
    "\n",
    "* mean squares and other information often put into a table called the ANOVA table:\n",
    "\n",
    "\n",
    "\n",
    "|Source|Sum of Squares|DF|Mean Square|F-ratio|P-value|\n",
    "|------|--------------|--|-----------|-------|-------|\n",
    "|Method|29882         | 3|    9960.64|7.0636 |0.0011 |\n",
    "| Error|39484         |28|    1410.14|       |       |\n",
    "| Total|69366         |31|           |       |       |\n",
    "\n",
    "\n"
   ]
  },
  {
   "cell_type": "markdown",
   "metadata": {},
   "source": [
    "## The $F$-table"
   ]
  },
  {
   "cell_type": "markdown",
   "metadata": {},
   "source": [
    "## The ANOVA Model\n",
    "\n",
    "* $y_{ij} = \\mu_j + \\epsilon_{ij}$\n",
    "* $H_0: \\mu_1 = \\mu_2 = \\dots = \\mu_k$\n",
    "* $y_{ij} = \\mu + \\tau_j + \\epsilon{ij}$\n",
    "* $H_0: \\tau_1 = \\tau_2 = \\dot = \\tau_k = 0$\n",
    "* $\\hat{\\tau}_j = \\bar{y}_j - \\bar{\\bar{y}}$\n",
    "* $y_{ij} = \\bar{\\bar{y}} + (\\bar{y}_j - \\bar{\\bar{y}}) + (y_{ij} - \\bar{y}_j)$\n",
    "* _Observations = Grand mean + Treatment effect + Residual_\n",
    "* $MS_T = SS_T / df$\n",
    "* $SS_T = \\sum{\\sum{(\\bar{y}_j - \\bar{\\bar{y}})^2}}$\n",
    "* $MS_T = SS_T / (k - 1)$\n",
    "* $SS_E = \\sum{\\sum{(y_{ij} - \\bar{y}_j)^2}}$\n",
    "* $MS_E = SS_E / (N - k)$\n",
    "* $F_{k-1,N-k} = MS_T / MS_E$\n",
    "* $SS_{Observations} = SS_{Grand Mean} + SS_T + SS_E$\n",
    "* _Observations - Grand mean = Treatment effect + Residual_\n",
    "* $SS_{Total} = SS_T + SS_E$"
   ]
  },
  {
   "cell_type": "markdown",
   "metadata": {
    "collapsed": true
   },
   "source": [
    "## Back to Standard Deviations\n",
    "\n",
    "* to get the **residual standard deviation**, we take the square root of $MS_E$:\n",
    "\n",
    "\\begin{equation}\n",
    "s_p = \\sqrt{MS_E} = \\sqrt{\\frac{\\sum{e^2}}{(N - k)}}\n",
    "\\end{equation}"
   ]
  },
  {
   "cell_type": "markdown",
   "metadata": {},
   "source": [
    "## Plot the Data ..."
   ]
  },
  {
   "cell_type": "markdown",
   "metadata": {},
   "source": [
    "## Assumptions and Conditions\n",
    "\n",
    "### Independence Assumptions\n",
    "\n",
    "* groups must be independent of each other\n",
    "* data _within_ each treatment group must be independent\n",
    "* **randomization condition**: were the data collected with suitable randomization?\n",
    "\n",
    "### Equal Variance Assumption\n",
    "\n",
    "* variances of the treatment groups must be equal\n",
    "* **similar spread condition**: \n",
    "  - side-by-side boxplots of the groups: roughly the same spread?\n",
    "  - original boxplots of the response values: do the spreads change _systematically_ from the centers?\n",
    "  - residuals vs. predicted values: does the plot thicken?\n",
    "  \n",
    "### Normal Population Assumption\n",
    "\n",
    "* **nearly normal condition**\n",
    "* need to assume the Normal model is reasonable for the populations underlying _each_ treatment group\n",
    "* look at side-by-side boxplots for indications of skewness"
   ]
  },
  {
   "cell_type": "markdown",
   "metadata": {},
   "source": [
    "### One-Way ANOVA $F$-Test\n",
    "\n",
    "We test the null hypothesis $H_0: \\mu_1 = \\mu_2 = \\dots = \\mu_k$ against the alternative that the group means are not all equal.  We test the hypothesis with the $F$-statistic, $F = \\frac{MS_T}{MS_E}$, where $MS_T$ is the Treatment Mean Square, found from the variance of the means of the treatment groups, and $MS_E$ is the Error Mean Square, found by pooling hte variances within each of the treatments groups.  If the $F$-statistic is large enough, we reject the null hypothesis."
   ]
  },
  {
   "cell_type": "markdown",
   "metadata": {},
   "source": [
    "## Step-by-Step Example: Analysis of Variance\n",
    "\n",
    "* Think:\n",
    "  - plot the side-by-side boxplots of the data\n",
    "* Plan:\n",
    "  - state what you want to know and the null hypothesis you wish to test\n",
    "  - for ANOVA, the null hypothesis is that all the treatment groups have the same mean;\n",
    "  - the alternative is that at least one mean is different\n",
    "  - think about the assumptions and check the conditions\n",
    "* Mechanics:\n",
    "  - fit the ANOVA model\n",
    "* Show\n",
    "  - show the table of means\n",
    "* Tell\n",
    "  - tell what the $F$-test means\n",
    "* Think\n",
    "  - state your conclusions"
   ]
  },
  {
   "cell_type": "markdown",
   "metadata": {},
   "source": [
    "## The Balancing Act\n",
    "\n",
    "* having equal numbers of cases in each group is called **balance**, and experiments that have equal numbers of experimental units in each treatment are said to be balanced or to have balanced designs"
   ]
  },
  {
   "cell_type": "markdown",
   "metadata": {},
   "source": [
    "## Comparing Means"
   ]
  },
  {
   "cell_type": "markdown",
   "metadata": {},
   "source": [
    "## *Bonferroni Multiple Comparisons\n",
    "\n",
    "* **methods for multiple comparisons**\n",
    "* the margin of error is called the **least significant difference (LSD)**\n",
    "* if two group means differ by more than this amount, then they are significantly different at level $\\alpha$ _for each individual test_\n",
    "\n",
    "* **Bonferroni method**: adjusts the LSD to allow for making many comparisons\n",
    "* the result is a wider margin of error called the **minimum significant difference (MSD)**\n",
    "* MSD is found by replacing $t^*$ with a slightly larger number\n",
    "  * makes the confidence intervals wider for each contrast\n",
    "  * makes corresponding Type I error rates lower for _each_ test\n",
    "  * keeps the _overall_ Type I error rate at or below $\\alpha$"
   ]
  },
  {
   "cell_type": "markdown",
   "metadata": {},
   "source": [
    "## ANOVA on Observational Data"
   ]
  },
  {
   "cell_type": "markdown",
   "metadata": {},
   "source": [
    "## Step-by-Step Example: One More Example\n",
    "\n",
    "(skipped -- similar to previous)"
   ]
  },
  {
   "cell_type": "markdown",
   "metadata": {},
   "source": [
    "## *So Do Male Athletes Watch More TV?"
   ]
  },
  {
   "cell_type": "markdown",
   "metadata": {},
   "source": [
    "## What Can Go Wrong?\n",
    "\n",
    "* watch out for outliers\n",
    "* watch out for changing variances\n",
    "* be wary of drawing conclusions about causality from observational studies\n",
    "* be wary of generalizing\n",
    "* watch for multiple comparisons"
   ]
  },
  {
   "cell_type": "markdown",
   "metadata": {},
   "source": [
    "## What Have We Learned?\n",
    "\n",
    "[p. 739-741]"
   ]
  }
 ],
 "metadata": {
  "kernelspec": {
   "display_name": "Python 3",
   "language": "python",
   "name": "python3"
  },
  "language_info": {
   "codemirror_mode": {
    "name": "ipython",
    "version": 3
   },
   "file_extension": ".py",
   "mimetype": "text/x-python",
   "name": "python",
   "nbconvert_exporter": "python",
   "pygments_lexer": "ipython3",
   "version": "3.5.2"
  }
 },
 "nbformat": 4,
 "nbformat_minor": 2
}
