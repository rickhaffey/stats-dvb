{
 "cells": [
  {
   "cell_type": "markdown",
   "metadata": {},
   "source": [
    "# Chapter 28 - Analysis of Variance"
   ]
  },
  {
   "cell_type": "markdown",
   "metadata": {},
   "source": [
    "## Are the Means of Several Groups Equal?\n",
    "\n",
    "* multiple (more than two) groups\n",
    "* hypothesis test: is the variation in means bigger than would be expected due to just random fluctuations\n",
    "* new sampling distribution model, called the $F$-model"
   ]
  },
  {
   "cell_type": "markdown",
   "metadata": {},
   "source": [
    "## How Different Are They?\n",
    "\n",
    "$H_0: \\mu_1 = \\mu_2 \\dots = \\mu_n = \\mu$\n",
    "\n",
    "$\\mu$ is an overall mean."
   ]
  },
  {
   "cell_type": "markdown",
   "metadata": {},
   "source": [
    "## The Ruler Within\n",
    "\n",
    "* an estimate of $\\sigma^2$ from the variation _within_ groups\n",
    "  - the variance of the $residuals$ pooled across all groups\n",
    "  - could write it as $s_p^2$\n",
    "  - traditionally called **Error Mean Square** or sometimes the _Within Mean Square_\n",
    "  - denoted as $MS_E$\n",
    "* a _separate_ estimate of $\\sigma^2$ from the variation _between_ the groups\n",
    "  - expect this to estimate $\\sigma^2$ too, _as long as we assume the null hypothesis is true_\n",
    "  - called the **Treatment Mean Square**, or sometimes the _Between Mean Square_\n",
    "  - denoted by $MS_T$"
   ]
  },
  {
   "cell_type": "markdown",
   "metadata": {},
   "source": [
    "## The $F$-statistic\n",
    "\n",
    "* when the null hypothesis is true, $MS_E$ and $MS_T$ estimate $\\sigma^2$, and their ratio should be close to 1.0\n",
    "* when the null hypothesis is false, $MS_T$ will be larger, while $MS_E$ will not be inflated\n",
    "* ratio of $MS_T$ / $MS_E$ can be used for testing the null hypothesis\n",
    "* when $H_0$ is true, the ratio should be around 1.0\n",
    "* if the treatment means really are different, the ratio will tend to be bigger than 1.0\n",
    "* the sampling distribution of $MS_T$ / $MS_E$ is called the **$F$-distribution**, and the corresponding statistic, the **$F$-statistic**\n",
    "* we can compare the statistic with the appropriate $F$-distribution to get a P-value\n",
    "* $F$-statistic ($MS_T / MS_E$), has $k - 1$ and $N - k$ degrees of freedom.\n",
    "* entire analysis is acalled Analysis of Variance, or **ANOVA**"
   ]
  },
  {
   "cell_type": "markdown",
   "metadata": {},
   "source": [
    "## Back to Bacteria"
   ]
  },
  {
   "cell_type": "markdown",
   "metadata": {},
   "source": [
    "## The ANOVA Table\n",
    "\n",
    "* mean squares and other information often put into a table called the ANOVA table:\n",
    "\n",
    "\n",
    "\n",
    "|Source|Sum of Squares|DF|Mean Square|F-ratio|P-value|\n",
    "|------|--------------|--|-----------|-------|-------|\n",
    "|Method|29882         | 3|    9960.64|7.0636 |0.0011 |\n",
    "| Error|39484         |28|    1410.14|       |       |\n",
    "| Total|69366         |31|           |       |       |\n",
    "\n",
    "\n"
   ]
  },
  {
   "cell_type": "markdown",
   "metadata": {},
   "source": [
    "## The $F$-table"
   ]
  },
  {
   "cell_type": "markdown",
   "metadata": {},
   "source": [
    "## The ANOVA Model\n",
    "\n",
    "* $y_{ij} = \\mu_j + \\epsilon_{ij}$\n",
    "* $H_0: \\mu_1 = \\mu_2 = \\dots = \\mu_k$\n",
    "* $y_{ij} = \\mu + \\tau_j + \\epsilon{ij}$\n",
    "* $H_0: \\tau_1 = \\tau_2 = \\dot = \\tau_k = 0$\n",
    "* $\\hat{\\tau}_j = \\bar{y}_j - \\bar{\\bar{y}}$\n",
    "* $y_{ij} = \\bar{\\bar{y}} + (\\bar{y}_j - \\bar{\\bar{y}}) + (y_{ij} - \\bar{y}_j)$\n",
    "* _Observations = Grand mean + Treatment effect + Residual_"
   ]
  },
  {
   "cell_type": "code",
   "execution_count": null,
   "metadata": {
    "collapsed": true
   },
   "outputs": [],
   "source": []
  }
 ],
 "metadata": {
  "kernelspec": {
   "display_name": "Python 3",
   "language": "python",
   "name": "python3"
  },
  "language_info": {
   "codemirror_mode": {
    "name": "ipython",
    "version": 3
   },
   "file_extension": ".py",
   "mimetype": "text/x-python",
   "name": "python",
   "nbconvert_exporter": "python",
   "pygments_lexer": "ipython3",
   "version": "3.5.2"
  }
 },
 "nbformat": 4,
 "nbformat_minor": 2
}
