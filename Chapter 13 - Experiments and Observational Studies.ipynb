{
 "cells": [
  {
   "cell_type": "markdown",
   "metadata": {},
   "source": [
    "# Chapter 13 - Experiments and Observational Studies"
   ]
  },
  {
   "cell_type": "markdown",
   "metadata": {},
   "source": [
    "## Observational Studies\n",
    "\n",
    "* **observational studies**: researchers don't assign choices; they simply observe them\n",
    "* **retrospective study**: first identify subjects, then collect data from past events\n",
    "  * this aspect can introduce errors\n",
    "* valuable for discovering trends and possible relationships\n",
    "* **prospective study**: identify subjects first, then collect data as events unfold"
   ]
  },
  {
   "cell_type": "markdown",
   "metadata": {},
   "source": [
    "## Randomized, Comparative Experiments\n",
    "\n",
    "* **experiment**: requires **random assignment** of subjects to treatments\n",
    "* study the relationship between two or more variables\n",
    "* at least one **factor** or explanatory variable\n",
    "* experimenter actively and deliberately manipulates the factors to control the details of the possible treatments, and assigns subjects to treatments at random\n",
    "* **subjects** or **participants**: terms for humans on whom experiments are performed\n",
    "* **experimental unit**:  more generic term for other individuals on which an experiment is performed\n",
    "* **levels**: the specific values chosen in an experiment for a factor\n",
    "* **treatment**: the combination of specific levels for all factors that an experimental unit receives"
   ]
  },
  {
   "cell_type": "markdown",
   "metadata": {},
   "source": [
    "## The Four Principles of Experimental Design\n",
    "\n",
    "1. **Control**: control sources of variation other than the factors we are testing by making conditions as similar as possible for all treatment groups.\n",
    "2. **Randomize**: to allow us to equalize the effects of unknown or uncontrollable sources of variation.  Allows using statistical methods to draw conclusions from an experiment.\n",
    "3. **Replicate**: 2 kinds\n",
    "  * apply each treatment to a number of subjects\n",
    "  * perform the experiment multiple times, under different circumstances\n",
    "4. **Block**: Group individuals that are similar, with respect to some attribute that _may_ affect the outcome, into **blocks**, then randomize within each block.  This can help remove variability due to differences among blocks.\n",
    "  * note: blocking, unlike the previous 3 principles, is not _required_"
   ]
  },
  {
   "cell_type": "markdown",
   "metadata": {},
   "source": [
    "## Step-by-Step Example\n",
    "\n",
    "* Think\n",
    "  * plan: state what you want to know\n",
    "  * response: specify the response variable\n",
    "  * treatments: specify the factor levels and the treatments\n",
    "  * experimental units: specify the experimental units\n",
    "  * experimental design: observe the principles of design\n",
    "    * control: any sources of variability you know of and can control\n",
    "    * replicate: results by placing more than one  experimental unit in each treatment group\n",
    "    * randomly assing: experimental units to treatments, to equalize the effects of unknown or uncontrollable sources of variation; describe how the randomization will be accomplished\n",
    "    * make a picture: a diagram of your design can help you think clearly about it\n",
    "  * specify any other experiment details; particularly to support / allow replication\n",
    "  * specify how to measure the response\n",
    "* Show\n",
    "  * display data and compare results for different treatment groups\n",
    "* Tell\n",
    "  * answer initial question: is the difference across treatment groups meaningful?\n",
    "  * use statistical inference to establish statistical significance of differences"
   ]
  },
  {
   "cell_type": "markdown",
   "metadata": {},
   "source": [
    "## Does the Difference Make a Difference?\n",
    "\n",
    "* Are the differences we observe between treatment groups as big as we might get just from randomization alone?  If the answer is \"No\", then we say the results are **statistically significant**\n",
    "* Use statistical tests to quantify this."
   ]
  },
  {
   "cell_type": "markdown",
   "metadata": {},
   "source": [
    "## Experiments and Samples\n",
    "\n",
    "* sample surveys try to estimate population parameters\n",
    "* experiments try to assess the effects of treatments"
   ]
  },
  {
   "cell_type": "markdown",
   "metadata": {},
   "source": [
    "## Control Treatments\n",
    "\n",
    "* **control treatment**: baseline measurement\n",
    "* **control group**: experimental units that have the control treatment applied"
   ]
  },
  {
   "cell_type": "markdown",
   "metadata": {},
   "source": [
    "## Blinding\n",
    "\n",
    "* **blinding** : disguise the treatments being applied to experimental units\n",
    "* **single-blind**: blinding treatments from either those who _could influence the results_ or those who _evaluate the results_.\n",
    "* **double-blind**: blinding treatments from both of the above groups"
   ]
  },
  {
   "cell_type": "markdown",
   "metadata": {},
   "source": [
    "## Placebos\n",
    "\n",
    "* **placebo**: a 'fake' treatment that looks just like the treatments being tested\n",
    "* **placebo effect**: subjects treated with a placebo sometimes improve; highlights the importance of effective blinding and comparing treatments with a control\n",
    "\n",
    "The best experiments are:\n",
    "\n",
    "* randomized\n",
    "* comparative\n",
    "* double-blind\n",
    "* placebo-controlled"
   ]
  },
  {
   "cell_type": "markdown",
   "metadata": {},
   "source": [
    "## Blocking\n",
    "\n",
    "* when groups of experimental units are similar, it's often a good idea to gather them together into blocks\n",
    "* blocking isolates the variability attributable to the differences between the blocks\n",
    "* allows seeing the difference caused by the treatments more clearly\n",
    "* randomization occurs _within_ blocks => **randomized block design**\n",
    "* **matching**: pairing subjects because they are similar in ways _not_ under study; can reduce variation in much the same way as blocking"
   ]
  },
  {
   "cell_type": "markdown",
   "metadata": {},
   "source": [
    "## Adding More Factors\n",
    "\n",
    "* it's often important to include several factors in the same experiment in order to see what happens when the factor levels are applied in different _combinations_"
   ]
  },
  {
   "cell_type": "markdown",
   "metadata": {},
   "source": [
    "## Confounding\n",
    "\n",
    "* **confounded**: when the levels of one factor are associated with the levels of another factor"
   ]
  },
  {
   "cell_type": "markdown",
   "metadata": {},
   "source": [
    "## Lurking or Confounding?\n",
    "\n",
    "* a _lurking variable_: a variable associated with both _y_ and _x_ that makes it appear that _x_ may be causing _y_\n",
    "* a _confounding variable_: associated in a noncausal way with a factor and affects the response; makes it difficult to tell if an effect was due to an experimental factor/treatment or the confounding variable"
   ]
  },
  {
   "cell_type": "markdown",
   "metadata": {},
   "source": [
    "## What Can Go Wrong?\n",
    "\n",
    "* Don't give up just because you can't run an experiment: consider an observational study\n",
    "* Beware of confounding\n",
    "* Bad things can happen even to good experiments: record additional information; \n",
    "* Don's spend entire budget on first run; consider a pilot experiment"
   ]
  },
  {
   "cell_type": "markdown",
   "metadata": {},
   "source": [
    "## What Have We Learned\n",
    "\n",
    "* [p. 322-325]"
   ]
  }
 ],
 "metadata": {
  "kernelspec": {
   "display_name": "Python 3",
   "language": "python",
   "name": "python3"
  },
  "language_info": {
   "codemirror_mode": {
    "name": "ipython",
    "version": 3
   },
   "file_extension": ".py",
   "mimetype": "text/x-python",
   "name": "python",
   "nbconvert_exporter": "python",
   "pygments_lexer": "ipython3",
   "version": "3.5.2"
  }
 },
 "nbformat": 4,
 "nbformat_minor": 2
}
