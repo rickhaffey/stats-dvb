{
 "cells": [
  {
   "cell_type": "markdown",
   "metadata": {},
   "source": [
    "# Chapter 15 - Probability Rules!"
   ]
  },
  {
   "cell_type": "markdown",
   "metadata": {},
   "source": [
    "## The General Addition Rule\n",
    "\n",
    "* Add the probabilities of two events and then subtract out the probability of their intersection.\n",
    "* (does not require disjoint events)\n",
    "\n",
    "\n",
    "\\begin{equation}\n",
    "\\renewcommand{\\vec}[1]{\\mathbf{#1}}\n",
    "P(\\vec{A}\\text{ or }\\vec{B}) = P(\\vec{A}) + P(\\vec{B}) - P(\\vec{A}\\text{ and }\\vec{B})\n",
    "\\end{equation}"
   ]
  },
  {
   "cell_type": "markdown",
   "metadata": {
    "collapsed": true
   },
   "source": [
    "## Step-by-Step Example: Using the General Addition Rule\n",
    "\n",
    "* Plan: define the event we're interested in.\n",
    "* Plot: make a picture  and use the given probabilities to find the probability for each region.\n",
    "* Mechanics: use the general addition rule or add probabilities seen in the diagram; in some cases, use the complement rule\n",
    "* Conclusion: interpret your results in context"
   ]
  },
  {
   "cell_type": "markdown",
   "metadata": {},
   "source": [
    "## It Depends ...\n",
    "\n",
    "* When we want the probability of an event from a _conditional_ distribution, we write $P(\\textbf{B}|\\textbf{A})$ and pronounce it \"the probability of $\\textbf{B}$ _given_ $\\textbf{A}$.\"\n",
    "* A probability that takes into account a given _condition_ such as this is called a **conditional probability**\n",
    "* To find the probability of the event $\\textbf{B}$ _given_ the event $\\textbf{A}$, we restrict our attention to the outcomes in $\\textbf{A}$.  We then find in what fraction of _those_ outcomes $\\textbf{B}$ also occurred.\n",
    "\n",
    "\\begin{equation}\n",
    "P(\\textbf{B}|\\textbf{A}) = \\frac{P(\\textbf{A}\\text{ and }\\textbf{B})}{P(\\textbf{A})}\n",
    "\\end{equation}"
   ]
  },
  {
   "cell_type": "markdown",
   "metadata": {},
   "source": [
    "## The General Multiplication Rule\n",
    "\n",
    "\\begin{equation}\n",
    "P(\\textbf{A}\\text{ and }\\textbf{B}) = P(\\textbf{A}) \\times P(\\textbf{B}|\\textbf{A})\n",
    "\\end{equation}\n",
    "\n",
    "* Does not require events to be independent"
   ]
  },
  {
   "cell_type": "markdown",
   "metadata": {},
   "source": [
    "## Independence\n",
    "\n",
    "* Events $\\textbf{A}$ and $\\textbf{B}$ are independet whenever:\n",
    "\n",
    "\\begin{equation}\n",
    "P(\\textbf{B}|\\textbf{A}) = P(\\textbf{B})\n",
    "\\end{equation}\n"
   ]
  },
  {
   "cell_type": "markdown",
   "metadata": {},
   "source": [
    "## Independent $\\ne$ Disjoint\n",
    "\n",
    "* Independent: occurrence of one event has no impact on the probability of the occurrence of another\n",
    "* Disjoint: occurrence of one event determines the probability (0%) of the occurrence of the other"
   ]
  },
  {
   "cell_type": "markdown",
   "metadata": {},
   "source": [
    "## Depending on Independence\n",
    "\n",
    "* When using the multiplication rule, confirm that the events being multiplied are truly independent."
   ]
  },
  {
   "cell_type": "markdown",
   "metadata": {},
   "source": [
    "## Tables and Conditional Probability\n",
    "\n",
    "* Contingency tables provide a convenient mechanism for reasoning about conditional probability\n",
    "* marginal probabilities indicate probabilities of events at the row/column level\n",
    "* joint probabilities indicate the probabilities when events $\\textbf{A}$ _and_ $\\textbf{B}$ occur together"
   ]
  },
  {
   "cell_type": "markdown",
   "metadata": {},
   "source": [
    "## Step-by-Step Example: Are the events disjoint? independent?\n",
    "\n",
    "* Plan: define the events we're interested in; state the given probabilities; make a table\n",
    "* Mechanics: \n",
    "  * disjoint events cannot _both_ happen at the same time\n",
    "  * does one event happening change the probability of the other event?\n",
    "* Conclusion: state your results"
   ]
  },
  {
   "cell_type": "markdown",
   "metadata": {},
   "source": [
    "## Drawing Without Replacement\n",
    "\n",
    "* With repeated samples, denominator changes (decreases) to reflect that the number of items available for sampling has decreased."
   ]
  },
  {
   "cell_type": "markdown",
   "metadata": {},
   "source": [
    "## Tree Diagrams\n",
    "\n",
    "* Can use **tree diagrams** to represent a sequence of events, as paths that look like branches on a tree."
   ]
  },
  {
   "cell_type": "markdown",
   "metadata": {},
   "source": [
    "## Reversing the Conditioning"
   ]
  },
  {
   "cell_type": "markdown",
   "metadata": {},
   "source": [
    "## Step-by-Step Example: Reversing the Conditioning\n",
    "\n",
    "* Plan: define the events we're intrested in and their probabilities\n",
    "  * figure out what you want to know in terms of events\n",
    "  * use the notation of conditional probability to write the probability you want to find\n",
    "* Plot: draw the tree diagram\n",
    "* Mechanics: \n",
    "  * multiply along branches to find the probabilities of all outcomes; \n",
    "  * confirm they total to 1\n",
    "  * add up the probabilities corresponding to the condition of interest\n",
    "  * divide by the total probabilitiy of the \"condition\"\n",
    "* Conclusion: interpret your result in context"
   ]
  },
  {
   "cell_type": "markdown",
   "metadata": {},
   "source": [
    "## Bayes' Rule\n",
    "\n",
    "\\begin{equation}\n",
    "P(\\textbf{B}|\\textbf{A}) = \\frac{P(\\textbf{A}|\\textbf{B})P(\\textbf{B})}{P(\\textbf{A}|\\textbf{B})P(\\textbf{B}) + P(\\textbf{A}|\\textbf{B}^C)P(\\textbf{B}^C)}\n",
    "\\end{equation}"
   ]
  },
  {
   "cell_type": "markdown",
   "metadata": {},
   "source": [
    "## What Can Go Wrong?\n",
    "\n",
    "* Don't use a simple probability rule where a general rule is appropriate.\n",
    "* Don't find probabilities for samples drawn without replacement as if they had been drawn with replacement.\n",
    "* Don't reverse conditioning naively.\n",
    "* Don't confuse \"disjoint\" with \"independent\"."
   ]
  },
  {
   "cell_type": "markdown",
   "metadata": {},
   "source": [
    "## What Have We Learned\n",
    "\n",
    "* [p.374]"
   ]
  }
 ],
 "metadata": {
  "kernelspec": {
   "display_name": "Python 3",
   "language": "python",
   "name": "python3"
  },
  "language_info": {
   "codemirror_mode": {
    "name": "ipython",
    "version": 3
   },
   "file_extension": ".py",
   "mimetype": "text/x-python",
   "name": "python",
   "nbconvert_exporter": "python",
   "pygments_lexer": "ipython3",
   "version": "3.5.2"
  }
 },
 "nbformat": 4,
 "nbformat_minor": 2
}
