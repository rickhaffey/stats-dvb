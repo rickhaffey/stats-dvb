{
 "cells": [
  {
   "cell_type": "markdown",
   "metadata": {},
   "source": [
    "# Chapter 29 - Multifactor Analysis of Variance"
   ]
  },
  {
   "cell_type": "markdown",
   "metadata": {},
   "source": [
    "## Two Factors at Once?!"
   ]
  },
  {
   "cell_type": "markdown",
   "metadata": {},
   "source": [
    "## An ANOVA Model\n",
    "\n",
    "* $y_{ij} = \\mu + \\tau_j + \\epsilon_{ij}$\n",
    "* $y_{ijk} = \\mu + \\tau_j + + \\gamma_k + \\epsilon_{ijk}$\n",
    "* $y_{ijk} = \\mu + \\text{factor 1 effect}_j + + \\text{factor 2 effect}_k + \\text{error}_{ijk}$\n",
    "* assuming factor 1 has 2 levels, and factor 2 has 3 levels, we would now have two null hypotheses:\n",
    "  * H0: $\\tau_1 = \\tau_2$  (the 2 levels of factor 1)\n",
    "  * H0: $\\gamma_1 = \\gamma_2 = \\gamma_3$  (the 3 levels of factor 2)\n",
    "* meanwhile, the alternative hypotheses would be:\n",
    "  * HA: not all $\\tau$ are equal\n",
    "  * HA: not all $\\gamma$ are equal"
   ]
  },
  {
   "cell_type": "markdown",
   "metadata": {},
   "source": [
    "## Assumptions and Conditions\n",
    "\n",
    "### Plot the Data...\n",
    "\n",
    "* a boxplot of the residuals for each level of a factor under a 1-way ANOVA for that single factor is called a **partial boxplot**\n",
    "\n",
    "### Additivity\n",
    "\n",
    "* each observation is assigned a treatment that combines two factor levels (one from each factor)\n",
    "* our model assumes we can add the effects of the two factor levels together:\n",
    "  * $y_{ijk} = \\mu + \\text{factor 1 effect}_j + \\text{factor 2 effect}_k + \\text{error}_{ijk}$\n",
    "* **additivity** assumption\n",
    "* can check the assumption with the **Additive Enough Condition**\n",
    "\n",
    "* when the effects of one factor _change_ for different levels of another factor, we say that there's an **interaction**\n",
    "* to show the interaction, we can use an **interaction plot**, showing the averages of the observations at each level of one factor, broken out by the levels of another factor\n",
    "\n",
    "### Independence Assumptions\n",
    "\n",
    "* observations within each treatment group must be independent\n",
    "* randomization condition\n",
    "\n",
    "### Equal Variance Assumption\n",
    "\n",
    "* variances of all treatment groups must be equal\n",
    "* **similar variance condition**\n",
    "* look at residuals plotted against the predicted values\n",
    "* plot residuals grouped by each factor\n",
    "\n",
    "### Normal Error Assumption\n",
    "\n",
    "* underlying errors must follow a Normal model\n",
    "* **Nearly Normal Condition**\n"
   ]
  },
  {
   "cell_type": "markdown",
   "metadata": {},
   "source": [
    "## What Have We Learned so Far?"
   ]
  },
  {
   "cell_type": "markdown",
   "metadata": {},
   "source": [
    "## Step-by-Step Example: Two-Factor Analysis of Variance\n",
    "\n",
    "* Think\n",
    "  * State what we want to know and the null ypotheses we wish to test.\n",
    "  * H0(s): all treatment groups have the same mean for each factor\n",
    "  * HA(s): The means are not equal\n",
    "* Plot\n",
    "  * Examine the side-by-side partial boxplots of the data.\n",
    "* Plan\n",
    "  * Think about the assumptions and check the appropriate conditions\n",
    "  * Show the ANOVA table\n",
    "* Mechanics\n",
    "  * Display the effects for each level of the significant factors\n",
    "  * Remember that significance does not guarantee that the differences are meaningful\n",
    "* Interpretation\n",
    "  * Tell what the $F$-tests mean"
   ]
  },
  {
   "cell_type": "markdown",
   "metadata": {},
   "source": [
    "## *How ANOVA Works - the Gory Details\n",
    "\n",
    "* $y_{ijk} = \\mu + \\text{Brand effect}_j + \\text{Temp Effect}_k + \\text{Error}_{ijk}$\n",
    "\n",
    "* $y_{ijk} = \\bar{\\bar{y}} + \\widehat{\\text{Brand effect}_j} + \\widehat{\\text{Temp effect}_k} + \\text{Residual}_{ijk}$\n",
    "\n",
    "* each Sum of Squares term in the ANOVA is simply the sum of the squares of all the values in its table"
   ]
  },
  {
   "cell_type": "markdown",
   "metadata": {},
   "source": [
    "## Blocks"
   ]
  },
  {
   "cell_type": "markdown",
   "metadata": {},
   "source": [
    "## Interactions\n",
    "\n",
    "* when the effect of one factor _changes_ depending on the levels of the other factor, the factors are said to _interact_\n",
    "* we can model this interaction by adding a term to our model and testing whether the adjustment is worthwhile with an $F$-test\n",
    "\n",
    "* $y_{ijk} = \\mu + \\tau_j + \\gamma_k + \\omega_{jk} + \\epsilon_{ijk}$\n",
    "* $\\omega_{jk}$ represents the interaction effect at level $j$ of factor 1 and level $k$ of factor 2"
   ]
  },
  {
   "cell_type": "markdown",
   "metadata": {},
   "source": [
    "## Inference When Variables are Related\n",
    "\n",
    "* when a significant interaction is present, the best way to display the results is with an interaction plot"
   ]
  },
  {
   "cell_type": "markdown",
   "metadata": {},
   "source": [
    "## Why Not Always Start by Including an Interaction Term?\n",
    "\n",
    "* suppose we run an experiment with only one case at each treatment\n",
    "* a design like that is called an **unreplicated two-factor design**"
   ]
  },
  {
   "cell_type": "markdown",
   "metadata": {},
   "source": [
    "## Step-by-Step Example: Two-Factor ANOVA with Interaction\n",
    "\n",
    "* Think\n",
    "  * State what we want to know and the null hypotheses we wish to test.\n",
    "  * H0(s): all the treatment groups have the same mean for each factor and that the interaction effect is 0\n",
    "  * HA(s): at least one effect is not 0.\n",
    "* Plot\n",
    "  * Examine the side-by-side partial boxplots of the data\n",
    "* Plan\n",
    "  * Think about the assumptions and check the conditions\n",
    "  * Show the ANOVA table\n",
    "* Mechnanics\n",
    "  * Show the table of means\n",
    "* Interpretation\n",
    "  * Tell what the $F$-test means"
   ]
  },
  {
   "cell_type": "markdown",
   "metadata": {},
   "source": [
    "## What Next?"
   ]
  },
  {
   "cell_type": "markdown",
   "metadata": {},
   "source": [
    "## What Can Go Wrong?\n",
    "\n",
    "* Beware of unreplicated designs unless you are sure there is no interaction.\n",
    "* Don't attempt to fit an interaction term to an unreplicated two-factor design.\n",
    "* Be sure to fit an interaction term when it exists.\n",
    "* When the interaction effect is significant, don't interpret the main-effects.\n",
    "* Always check for outliers.\n",
    "* Check for skewness.\n",
    "* Beware of unbalanced designs and designs with empty cells."
   ]
  },
  {
   "cell_type": "markdown",
   "metadata": {},
   "source": [
    "## What Have We Learned?\n",
    "\n",
    "[p. 774-775]"
   ]
  }
 ],
 "metadata": {
  "kernelspec": {
   "display_name": "Python 3",
   "language": "python",
   "name": "python3"
  },
  "language_info": {
   "codemirror_mode": {
    "name": "ipython",
    "version": 3
   },
   "file_extension": ".py",
   "mimetype": "text/x-python",
   "name": "python",
   "nbconvert_exporter": "python",
   "pygments_lexer": "ipython3",
   "version": "3.5.2"
  }
 },
 "nbformat": 4,
 "nbformat_minor": 2
}
