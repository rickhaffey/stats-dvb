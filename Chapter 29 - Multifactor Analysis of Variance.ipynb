{
 "cells": [
  {
   "cell_type": "markdown",
   "metadata": {},
   "source": [
    "# Chapter 29 - Multifactor Analysis of Variance"
   ]
  },
  {
   "cell_type": "markdown",
   "metadata": {},
   "source": [
    "## Two Factors at Once?!"
   ]
  },
  {
   "cell_type": "markdown",
   "metadata": {},
   "source": [
    "## An ANOVA Model\n",
    "\n",
    "* $y_{ij} = \\mu + \\tau_j + \\epsilon_{ij}$\n",
    "* $y_{ijk} = \\mu + \\tau_j + + \\gamma_k + \\epsilon_{ijk}$\n",
    "* $y_{ijk} = \\mu + \\text{factor 1 effect}_j + + \\text{factor 2 effect}_k + \\text{error}_{ijk}$\n",
    "* assuming factor 1 has 2 levels, and factor 2 has 3 levels, we would now have two null hypotheses:\n",
    "  * H0: $\\tau_1 = \\tau_2$  (the 2 levels of factor 1)\n",
    "  * H0: $\\gamma_1 = \\gamma_2 = \\gamma_3$  (the 3 levels of factor 2)\n",
    "* meanwhile, the alternative hypotheses would be:\n",
    "  * HA: not all $\\tau$ are equal\n",
    "  * HA: not all $\\gamma$ are equal"
   ]
  },
  {
   "cell_type": "markdown",
   "metadata": {},
   "source": [
    "## Assumptions and Conditions\n",
    "\n",
    "### Plot the Data...\n",
    "\n",
    "* a boxplot of the residuals for each level of a factor under a 1-way ANOVA for that single factor is called a **partial boxplot**\n",
    "\n",
    "### Additivity\n",
    "\n",
    "* each observation is assigned a treatment that combines two factor levels (one from each factor)\n",
    "* our model assumes we can add the effects of the two factor levels together:\n",
    "  * $y_{ijk} = \\mu + \\text{factor 1 effect}_j + \\text{factor 2 effect}_k + \\text{error}_{ijk}$\n",
    "* **additivity** assumption\n",
    "* can check the assumption with the **Additive Enough Condition**\n",
    "\n",
    "* when the effects of one factor _change_ for different levels of another factor, we say that there's an **interaction**\n",
    "* to show the interaction, we can use an **interaction plot**, showing the averages of the observations at each level of one factor, broken out by the levels of another factor\n",
    "\n",
    "### Independence Assumptions\n",
    "\n",
    "* observations within each treatment group must be independent\n",
    "* randomization condition\n",
    "\n",
    "### Equal Variance Assumption\n",
    "\n",
    "* variances of all treatment groups must be equal\n",
    "* **similar variance condition**\n",
    "* look at residuals plotted against the predicted values\n",
    "* plot residuals grouped by each factor\n",
    "\n",
    "### Normal Error Assumption\n",
    "\n",
    "* underlying errors must follow a Normal model\n",
    "* **Nearly Normal Condition**\n"
   ]
  }
 ],
 "metadata": {
  "kernelspec": {
   "display_name": "Python 3",
   "language": "python",
   "name": "python3"
  },
  "language_info": {
   "codemirror_mode": {
    "name": "ipython",
    "version": 3
   },
   "file_extension": ".py",
   "mimetype": "text/x-python",
   "name": "python",
   "nbconvert_exporter": "python",
   "pygments_lexer": "ipython3",
   "version": "3.5.2"
  }
 },
 "nbformat": 4,
 "nbformat_minor": 2
}
